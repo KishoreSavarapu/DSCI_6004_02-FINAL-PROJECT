{
  "nbformat": 4,
  "nbformat_minor": 0,
  "metadata": {
    "colab": {
      "provenance": []
    },
    "kernelspec": {
      "name": "python3",
      "display_name": "Python 3"
    },
    "language_info": {
      "name": "python"
    }
  },
  "cells": [
    {
      "cell_type": "markdown",
      "source": [
        "# DSCI_6004_02 NATURAL LANGUAGE PROCESSING\n",
        "###            PROJECT BY\n",
        "## AMANI KAMBHAM AND LAKSHMI SAI KISHORE SAVARAPU"
      ],
      "metadata": {
        "id": "yl_kK0j0U37U"
      }
    },
    {
      "cell_type": "markdown",
      "source": [
        "Importing necessary Modules and Libraries"
      ],
      "metadata": {
        "id": "wySRbTfpU8mE"
      }
    },
    {
      "cell_type": "code",
      "execution_count": null,
      "metadata": {
        "id": "EwQqrPk_-BEk"
      },
      "outputs": [],
      "source": [
        "import pandas as pd\n",
        "from pprint import pprint\n",
        "import warnings\n",
        "warnings.filterwarnings('ignore')\n",
        "import gc\n",
        "import seaborn as sns\n",
        "import matplotlib.pyplot as plt\n",
        "from sklearn.utils import resample\n",
        "import string\n",
        "import numpy as np\n",
        "import tensorflow as tf\n",
        "# import tensorflow_addons as tfa\n",
        "#import keras_tuner as kt"
      ]
    },
    {
      "cell_type": "markdown",
      "source": [
        "Importing the Dataset"
      ],
      "metadata": {
        "id": "Ao9lD4trU9--"
      }
    },
    {
      "cell_type": "code",
      "source": [
        "data = pd.read_csv('tweet_emotions.csv')\n",
        "data.head()"
      ],
      "metadata": {
        "colab": {
          "base_uri": "https://localhost:8080/",
          "height": 206
        },
        "id": "HXDiUdSCAr7M",
        "outputId": "a89afd4b-59bc-45e5-f049-bd965dc55939"
      },
      "execution_count": null,
      "outputs": [
        {
          "output_type": "execute_result",
          "data": {
            "text/plain": [
              "     tweet_id   sentiment                                            content\n",
              "0  1956967341       empty  @tiffanylue i know  i was listenin to bad habi...\n",
              "1  1956967666     sadness  Layin n bed with a headache  ughhhh...waitin o...\n",
              "2  1956967696     sadness                Funeral ceremony...gloomy friday...\n",
              "3  1956967789  enthusiasm               wants to hang out with friends SOON!\n",
              "4  1956968416     neutral  @dannycastillo We want to trade with someone w..."
            ],
            "text/html": [
              "\n",
              "  <div id=\"df-661ce261-c676-48a1-8e1b-0c039b66fdc8\" class=\"colab-df-container\">\n",
              "    <div>\n",
              "<style scoped>\n",
              "    .dataframe tbody tr th:only-of-type {\n",
              "        vertical-align: middle;\n",
              "    }\n",
              "\n",
              "    .dataframe tbody tr th {\n",
              "        vertical-align: top;\n",
              "    }\n",
              "\n",
              "    .dataframe thead th {\n",
              "        text-align: right;\n",
              "    }\n",
              "</style>\n",
              "<table border=\"1\" class=\"dataframe\">\n",
              "  <thead>\n",
              "    <tr style=\"text-align: right;\">\n",
              "      <th></th>\n",
              "      <th>tweet_id</th>\n",
              "      <th>sentiment</th>\n",
              "      <th>content</th>\n",
              "    </tr>\n",
              "  </thead>\n",
              "  <tbody>\n",
              "    <tr>\n",
              "      <th>0</th>\n",
              "      <td>1956967341</td>\n",
              "      <td>empty</td>\n",
              "      <td>@tiffanylue i know  i was listenin to bad habi...</td>\n",
              "    </tr>\n",
              "    <tr>\n",
              "      <th>1</th>\n",
              "      <td>1956967666</td>\n",
              "      <td>sadness</td>\n",
              "      <td>Layin n bed with a headache  ughhhh...waitin o...</td>\n",
              "    </tr>\n",
              "    <tr>\n",
              "      <th>2</th>\n",
              "      <td>1956967696</td>\n",
              "      <td>sadness</td>\n",
              "      <td>Funeral ceremony...gloomy friday...</td>\n",
              "    </tr>\n",
              "    <tr>\n",
              "      <th>3</th>\n",
              "      <td>1956967789</td>\n",
              "      <td>enthusiasm</td>\n",
              "      <td>wants to hang out with friends SOON!</td>\n",
              "    </tr>\n",
              "    <tr>\n",
              "      <th>4</th>\n",
              "      <td>1956968416</td>\n",
              "      <td>neutral</td>\n",
              "      <td>@dannycastillo We want to trade with someone w...</td>\n",
              "    </tr>\n",
              "  </tbody>\n",
              "</table>\n",
              "</div>\n",
              "    <div class=\"colab-df-buttons\">\n",
              "\n",
              "  <div class=\"colab-df-container\">\n",
              "    <button class=\"colab-df-convert\" onclick=\"convertToInteractive('df-661ce261-c676-48a1-8e1b-0c039b66fdc8')\"\n",
              "            title=\"Convert this dataframe to an interactive table.\"\n",
              "            style=\"display:none;\">\n",
              "\n",
              "  <svg xmlns=\"http://www.w3.org/2000/svg\" height=\"24px\" viewBox=\"0 -960 960 960\">\n",
              "    <path d=\"M120-120v-720h720v720H120Zm60-500h600v-160H180v160Zm220 220h160v-160H400v160Zm0 220h160v-160H400v160ZM180-400h160v-160H180v160Zm440 0h160v-160H620v160ZM180-180h160v-160H180v160Zm440 0h160v-160H620v160Z\"/>\n",
              "  </svg>\n",
              "    </button>\n",
              "\n",
              "  <style>\n",
              "    .colab-df-container {\n",
              "      display:flex;\n",
              "      gap: 12px;\n",
              "    }\n",
              "\n",
              "    .colab-df-convert {\n",
              "      background-color: #E8F0FE;\n",
              "      border: none;\n",
              "      border-radius: 50%;\n",
              "      cursor: pointer;\n",
              "      display: none;\n",
              "      fill: #1967D2;\n",
              "      height: 32px;\n",
              "      padding: 0 0 0 0;\n",
              "      width: 32px;\n",
              "    }\n",
              "\n",
              "    .colab-df-convert:hover {\n",
              "      background-color: #E2EBFA;\n",
              "      box-shadow: 0px 1px 2px rgba(60, 64, 67, 0.3), 0px 1px 3px 1px rgba(60, 64, 67, 0.15);\n",
              "      fill: #174EA6;\n",
              "    }\n",
              "\n",
              "    .colab-df-buttons div {\n",
              "      margin-bottom: 4px;\n",
              "    }\n",
              "\n",
              "    [theme=dark] .colab-df-convert {\n",
              "      background-color: #3B4455;\n",
              "      fill: #D2E3FC;\n",
              "    }\n",
              "\n",
              "    [theme=dark] .colab-df-convert:hover {\n",
              "      background-color: #434B5C;\n",
              "      box-shadow: 0px 1px 3px 1px rgba(0, 0, 0, 0.15);\n",
              "      filter: drop-shadow(0px 1px 2px rgba(0, 0, 0, 0.3));\n",
              "      fill: #FFFFFF;\n",
              "    }\n",
              "  </style>\n",
              "\n",
              "    <script>\n",
              "      const buttonEl =\n",
              "        document.querySelector('#df-661ce261-c676-48a1-8e1b-0c039b66fdc8 button.colab-df-convert');\n",
              "      buttonEl.style.display =\n",
              "        google.colab.kernel.accessAllowed ? 'block' : 'none';\n",
              "\n",
              "      async function convertToInteractive(key) {\n",
              "        const element = document.querySelector('#df-661ce261-c676-48a1-8e1b-0c039b66fdc8');\n",
              "        const dataTable =\n",
              "          await google.colab.kernel.invokeFunction('convertToInteractive',\n",
              "                                                    [key], {});\n",
              "        if (!dataTable) return;\n",
              "\n",
              "        const docLinkHtml = 'Like what you see? Visit the ' +\n",
              "          '<a target=\"_blank\" href=https://colab.research.google.com/notebooks/data_table.ipynb>data table notebook</a>'\n",
              "          + ' to learn more about interactive tables.';\n",
              "        element.innerHTML = '';\n",
              "        dataTable['output_type'] = 'display_data';\n",
              "        await google.colab.output.renderOutput(dataTable, element);\n",
              "        const docLink = document.createElement('div');\n",
              "        docLink.innerHTML = docLinkHtml;\n",
              "        element.appendChild(docLink);\n",
              "      }\n",
              "    </script>\n",
              "  </div>\n",
              "\n",
              "\n",
              "<div id=\"df-e5d81212-29f5-450d-bf04-7609c11fabe4\">\n",
              "  <button class=\"colab-df-quickchart\" onclick=\"quickchart('df-e5d81212-29f5-450d-bf04-7609c11fabe4')\"\n",
              "            title=\"Suggest charts\"\n",
              "            style=\"display:none;\">\n",
              "\n",
              "<svg xmlns=\"http://www.w3.org/2000/svg\" height=\"24px\"viewBox=\"0 0 24 24\"\n",
              "     width=\"24px\">\n",
              "    <g>\n",
              "        <path d=\"M19 3H5c-1.1 0-2 .9-2 2v14c0 1.1.9 2 2 2h14c1.1 0 2-.9 2-2V5c0-1.1-.9-2-2-2zM9 17H7v-7h2v7zm4 0h-2V7h2v10zm4 0h-2v-4h2v4z\"/>\n",
              "    </g>\n",
              "</svg>\n",
              "  </button>\n",
              "\n",
              "<style>\n",
              "  .colab-df-quickchart {\n",
              "      --bg-color: #E8F0FE;\n",
              "      --fill-color: #1967D2;\n",
              "      --hover-bg-color: #E2EBFA;\n",
              "      --hover-fill-color: #174EA6;\n",
              "      --disabled-fill-color: #AAA;\n",
              "      --disabled-bg-color: #DDD;\n",
              "  }\n",
              "\n",
              "  [theme=dark] .colab-df-quickchart {\n",
              "      --bg-color: #3B4455;\n",
              "      --fill-color: #D2E3FC;\n",
              "      --hover-bg-color: #434B5C;\n",
              "      --hover-fill-color: #FFFFFF;\n",
              "      --disabled-bg-color: #3B4455;\n",
              "      --disabled-fill-color: #666;\n",
              "  }\n",
              "\n",
              "  .colab-df-quickchart {\n",
              "    background-color: var(--bg-color);\n",
              "    border: none;\n",
              "    border-radius: 50%;\n",
              "    cursor: pointer;\n",
              "    display: none;\n",
              "    fill: var(--fill-color);\n",
              "    height: 32px;\n",
              "    padding: 0;\n",
              "    width: 32px;\n",
              "  }\n",
              "\n",
              "  .colab-df-quickchart:hover {\n",
              "    background-color: var(--hover-bg-color);\n",
              "    box-shadow: 0 1px 2px rgba(60, 64, 67, 0.3), 0 1px 3px 1px rgba(60, 64, 67, 0.15);\n",
              "    fill: var(--button-hover-fill-color);\n",
              "  }\n",
              "\n",
              "  .colab-df-quickchart-complete:disabled,\n",
              "  .colab-df-quickchart-complete:disabled:hover {\n",
              "    background-color: var(--disabled-bg-color);\n",
              "    fill: var(--disabled-fill-color);\n",
              "    box-shadow: none;\n",
              "  }\n",
              "\n",
              "  .colab-df-spinner {\n",
              "    border: 2px solid var(--fill-color);\n",
              "    border-color: transparent;\n",
              "    border-bottom-color: var(--fill-color);\n",
              "    animation:\n",
              "      spin 1s steps(1) infinite;\n",
              "  }\n",
              "\n",
              "  @keyframes spin {\n",
              "    0% {\n",
              "      border-color: transparent;\n",
              "      border-bottom-color: var(--fill-color);\n",
              "      border-left-color: var(--fill-color);\n",
              "    }\n",
              "    20% {\n",
              "      border-color: transparent;\n",
              "      border-left-color: var(--fill-color);\n",
              "      border-top-color: var(--fill-color);\n",
              "    }\n",
              "    30% {\n",
              "      border-color: transparent;\n",
              "      border-left-color: var(--fill-color);\n",
              "      border-top-color: var(--fill-color);\n",
              "      border-right-color: var(--fill-color);\n",
              "    }\n",
              "    40% {\n",
              "      border-color: transparent;\n",
              "      border-right-color: var(--fill-color);\n",
              "      border-top-color: var(--fill-color);\n",
              "    }\n",
              "    60% {\n",
              "      border-color: transparent;\n",
              "      border-right-color: var(--fill-color);\n",
              "    }\n",
              "    80% {\n",
              "      border-color: transparent;\n",
              "      border-right-color: var(--fill-color);\n",
              "      border-bottom-color: var(--fill-color);\n",
              "    }\n",
              "    90% {\n",
              "      border-color: transparent;\n",
              "      border-bottom-color: var(--fill-color);\n",
              "    }\n",
              "  }\n",
              "</style>\n",
              "\n",
              "  <script>\n",
              "    async function quickchart(key) {\n",
              "      const quickchartButtonEl =\n",
              "        document.querySelector('#' + key + ' button');\n",
              "      quickchartButtonEl.disabled = true;  // To prevent multiple clicks.\n",
              "      quickchartButtonEl.classList.add('colab-df-spinner');\n",
              "      try {\n",
              "        const charts = await google.colab.kernel.invokeFunction(\n",
              "            'suggestCharts', [key], {});\n",
              "      } catch (error) {\n",
              "        console.error('Error during call to suggestCharts:', error);\n",
              "      }\n",
              "      quickchartButtonEl.classList.remove('colab-df-spinner');\n",
              "      quickchartButtonEl.classList.add('colab-df-quickchart-complete');\n",
              "    }\n",
              "    (() => {\n",
              "      let quickchartButtonEl =\n",
              "        document.querySelector('#df-e5d81212-29f5-450d-bf04-7609c11fabe4 button');\n",
              "      quickchartButtonEl.style.display =\n",
              "        google.colab.kernel.accessAllowed ? 'block' : 'none';\n",
              "    })();\n",
              "  </script>\n",
              "</div>\n",
              "\n",
              "    </div>\n",
              "  </div>\n"
            ],
            "application/vnd.google.colaboratory.intrinsic+json": {
              "type": "dataframe",
              "variable_name": "data",
              "summary": "{\n  \"name\": \"data\",\n  \"rows\": 40000,\n  \"fields\": [\n    {\n      \"column\": \"tweet_id\",\n      \"properties\": {\n        \"dtype\": \"number\",\n        \"std\": 118857896,\n        \"min\": 1693956175,\n        \"max\": 1966441171,\n        \"num_unique_values\": 40000,\n        \"samples\": [\n          1752414968,\n          1965295852,\n          1696219218\n        ],\n        \"semantic_type\": \"\",\n        \"description\": \"\"\n      }\n    },\n    {\n      \"column\": \"sentiment\",\n      \"properties\": {\n        \"dtype\": \"category\",\n        \"num_unique_values\": 13,\n        \"samples\": [\n          \"relief\",\n          \"happiness\",\n          \"empty\"\n        ],\n        \"semantic_type\": \"\",\n        \"description\": \"\"\n      }\n    },\n    {\n      \"column\": \"content\",\n      \"properties\": {\n        \"dtype\": \"string\",\n        \"num_unique_values\": 39827,\n        \"samples\": [\n          \"the sun is shinning! im off out!!\",\n          \"wow i must have been tired. i fell asleep @ exactly the start of the 10pm news &amp; now up as if its 8am.\",\n          \"@knobzie their loss\"\n        ],\n        \"semantic_type\": \"\",\n        \"description\": \"\"\n      }\n    }\n  ]\n}"
            }
          },
          "metadata": {},
          "execution_count": 2
        }
      ]
    },
    {
      "cell_type": "code",
      "source": [
        "len(data)"
      ],
      "metadata": {
        "colab": {
          "base_uri": "https://localhost:8080/"
        },
        "id": "wYZ2z77xErn3",
        "outputId": "393d5b6c-e10e-41c2-d9c0-808f82b489e5"
      },
      "execution_count": null,
      "outputs": [
        {
          "output_type": "execute_result",
          "data": {
            "text/plain": [
              "40000"
            ]
          },
          "metadata": {},
          "execution_count": 3
        }
      ]
    },
    {
      "cell_type": "code",
      "source": [
        "max_length = data['content'].str.len().max()\n",
        "\n",
        "print('The maximum lenght tweet is: ', max_length)"
      ],
      "metadata": {
        "colab": {
          "base_uri": "https://localhost:8080/"
        },
        "id": "v7tX7bUuG5O1",
        "outputId": "551e143e-0410-4458-9665-d21913d5aa3b"
      },
      "execution_count": null,
      "outputs": [
        {
          "output_type": "stream",
          "name": "stdout",
          "text": [
            "The maximum lenght tweet is:  167\n"
          ]
        }
      ]
    },
    {
      "cell_type": "code",
      "source": [
        "data_count = data.sentiment.value_counts()\n",
        "type(data_count)"
      ],
      "metadata": {
        "colab": {
          "base_uri": "https://localhost:8080/",
          "height": 204
        },
        "id": "HzPiBX0DEt6o",
        "outputId": "de70876f-123b-4a58-c293-f9c87139179a"
      },
      "execution_count": null,
      "outputs": [
        {
          "output_type": "execute_result",
          "data": {
            "text/plain": [
              "pandas.core.series.Series"
            ],
            "text/html": [
              "<div style=\"max-width:800px; border: 1px solid var(--colab-border-color);\"><style>\n",
              "      pre.function-repr-contents {\n",
              "        overflow-x: auto;\n",
              "        padding: 8px 12px;\n",
              "        max-height: 500px;\n",
              "      }\n",
              "\n",
              "      pre.function-repr-contents.function-repr-contents-collapsed {\n",
              "        cursor: pointer;\n",
              "        max-height: 100px;\n",
              "      }\n",
              "    </style>\n",
              "    <pre style=\"white-space: initial; background:\n",
              "         var(--colab-secondary-surface-color); padding: 8px 12px;\n",
              "         border-bottom: 1px solid var(--colab-border-color);\"><b>pandas.core.series.Series</b><br/>def __init__(data=None, index=None, dtype: Dtype | None=None, name=None, copy: bool | None=None, fastpath: bool=False) -&gt; None</pre><pre class=\"function-repr-contents function-repr-contents-collapsed\" style=\"\"><a class=\"filepath\" style=\"display:none\" href=\"#\">/usr/local/lib/python3.10/dist-packages/pandas/core/series.py</a>One-dimensional ndarray with axis labels (including time series).\n",
              "\n",
              "Labels need not be unique but must be a hashable type. The object\n",
              "supports both integer- and label-based indexing and provides a host of\n",
              "methods for performing operations involving the index. Statistical\n",
              "methods from ndarray have been overridden to automatically exclude\n",
              "missing data (currently represented as NaN).\n",
              "\n",
              "Operations between Series (+, -, /, \\*, \\*\\*) align values based on their\n",
              "associated index values-- they need not be the same length. The result\n",
              "index will be the sorted union of the two indexes.\n",
              "\n",
              "Parameters\n",
              "----------\n",
              "data : array-like, Iterable, dict, or scalar value\n",
              "    Contains data stored in Series. If data is a dict, argument order is\n",
              "    maintained.\n",
              "index : array-like or Index (1d)\n",
              "    Values must be hashable and have the same length as `data`.\n",
              "    Non-unique index values are allowed. Will default to\n",
              "    RangeIndex (0, 1, 2, ..., n) if not provided. If data is dict-like\n",
              "    and index is None, then the keys in the data are used as the index. If the\n",
              "    index is not None, the resulting Series is reindexed with the index values.\n",
              "dtype : str, numpy.dtype, or ExtensionDtype, optional\n",
              "    Data type for the output Series. If not specified, this will be\n",
              "    inferred from `data`.\n",
              "    See the :ref:`user guide &lt;basics.dtypes&gt;` for more usages.\n",
              "name : Hashable, default None\n",
              "    The name to give to the Series.\n",
              "copy : bool, default False\n",
              "    Copy input data. Only affects Series or 1d ndarray input. See examples.\n",
              "\n",
              "Notes\n",
              "-----\n",
              "Please reference the :ref:`User Guide &lt;basics.series&gt;` for more information.\n",
              "\n",
              "Examples\n",
              "--------\n",
              "Constructing Series from a dictionary with an Index specified\n",
              "\n",
              "&gt;&gt;&gt; d = {&#x27;a&#x27;: 1, &#x27;b&#x27;: 2, &#x27;c&#x27;: 3}\n",
              "&gt;&gt;&gt; ser = pd.Series(data=d, index=[&#x27;a&#x27;, &#x27;b&#x27;, &#x27;c&#x27;])\n",
              "&gt;&gt;&gt; ser\n",
              "a   1\n",
              "b   2\n",
              "c   3\n",
              "dtype: int64\n",
              "\n",
              "The keys of the dictionary match with the Index values, hence the Index\n",
              "values have no effect.\n",
              "\n",
              "&gt;&gt;&gt; d = {&#x27;a&#x27;: 1, &#x27;b&#x27;: 2, &#x27;c&#x27;: 3}\n",
              "&gt;&gt;&gt; ser = pd.Series(data=d, index=[&#x27;x&#x27;, &#x27;y&#x27;, &#x27;z&#x27;])\n",
              "&gt;&gt;&gt; ser\n",
              "x   NaN\n",
              "y   NaN\n",
              "z   NaN\n",
              "dtype: float64\n",
              "\n",
              "Note that the Index is first build with the keys from the dictionary.\n",
              "After this the Series is reindexed with the given Index values, hence we\n",
              "get all NaN as a result.\n",
              "\n",
              "Constructing Series from a list with `copy=False`.\n",
              "\n",
              "&gt;&gt;&gt; r = [1, 2]\n",
              "&gt;&gt;&gt; ser = pd.Series(r, copy=False)\n",
              "&gt;&gt;&gt; ser.iloc[0] = 999\n",
              "&gt;&gt;&gt; r\n",
              "[1, 2]\n",
              "&gt;&gt;&gt; ser\n",
              "0    999\n",
              "1      2\n",
              "dtype: int64\n",
              "\n",
              "Due to input data type the Series has a `copy` of\n",
              "the original data even though `copy=False`, so\n",
              "the data is unchanged.\n",
              "\n",
              "Constructing Series from a 1d ndarray with `copy=False`.\n",
              "\n",
              "&gt;&gt;&gt; r = np.array([1, 2])\n",
              "&gt;&gt;&gt; ser = pd.Series(r, copy=False)\n",
              "&gt;&gt;&gt; ser.iloc[0] = 999\n",
              "&gt;&gt;&gt; r\n",
              "array([999,   2])\n",
              "&gt;&gt;&gt; ser\n",
              "0    999\n",
              "1      2\n",
              "dtype: int64\n",
              "\n",
              "Due to input data type the Series has a `view` on\n",
              "the original data, so\n",
              "the data is changed as well.</pre>\n",
              "      <script>\n",
              "      if (google.colab.kernel.accessAllowed && google.colab.files && google.colab.files.view) {\n",
              "        for (const element of document.querySelectorAll('.filepath')) {\n",
              "          element.style.display = 'block'\n",
              "          element.onclick = (event) => {\n",
              "            event.preventDefault();\n",
              "            event.stopPropagation();\n",
              "            google.colab.files.view(element.textContent, 244);\n",
              "          };\n",
              "        }\n",
              "      }\n",
              "      for (const element of document.querySelectorAll('.function-repr-contents')) {\n",
              "        element.onclick = (event) => {\n",
              "          event.preventDefault();\n",
              "          event.stopPropagation();\n",
              "          element.classList.toggle('function-repr-contents-collapsed');\n",
              "        };\n",
              "      }\n",
              "      </script>\n",
              "      </div>"
            ]
          },
          "metadata": {},
          "execution_count": 5
        }
      ]
    },
    {
      "cell_type": "code",
      "source": [
        "data_count"
      ],
      "metadata": {
        "colab": {
          "base_uri": "https://localhost:8080/"
        },
        "id": "CbzNxb3KEt80",
        "outputId": "4e59af30-444d-4e3b-e5bd-4b1dd5e5a615"
      },
      "execution_count": null,
      "outputs": [
        {
          "output_type": "execute_result",
          "data": {
            "text/plain": [
              "sentiment\n",
              "neutral       8638\n",
              "worry         8459\n",
              "happiness     5209\n",
              "sadness       5165\n",
              "love          3842\n",
              "surprise      2187\n",
              "fun           1776\n",
              "relief        1526\n",
              "hate          1323\n",
              "empty          827\n",
              "enthusiasm     759\n",
              "boredom        179\n",
              "anger          110\n",
              "Name: count, dtype: int64"
            ]
          },
          "metadata": {},
          "execution_count": 6
        }
      ]
    },
    {
      "cell_type": "code",
      "source": [
        "total_unique_sentiments = data['sentiment'].nunique()\n",
        "\n",
        "print(\"Total unique sentiment values: \",total_unique_sentiments)\n"
      ],
      "metadata": {
        "colab": {
          "base_uri": "https://localhost:8080/"
        },
        "id": "Z--w-QoMEt-8",
        "outputId": "94c0fe21-7a19-4e3c-9bcf-fa32aabe43c3"
      },
      "execution_count": null,
      "outputs": [
        {
          "output_type": "stream",
          "name": "stdout",
          "text": [
            "Total unique sentiment values:  13\n"
          ]
        }
      ]
    },
    {
      "cell_type": "markdown",
      "source": [
        "Splitting of Dataset"
      ],
      "metadata": {
        "id": "huely1c1VQIo"
      }
    },
    {
      "cell_type": "code",
      "source": [
        "m = data.shape[0]\n",
        "train_split = 0.80 * m\n",
        "val_split = (1 - 0.80) * m\n",
        "test_split = 0.20 * val_split\n",
        "val_split = (1 - 0.20) * val_split\n",
        "\n",
        "print('Splitting ratio: ')\n",
        "print()\n",
        "print('train_split: ', train_split, ', val_split: ', val_split, ', test-split: ', test_split)\n",
        "\n",
        "train_data = data.iloc[:int(train_split)]\n",
        "val_data = data.iloc[int(train_split) + 1: int(train_split) + int(val_split)]\n",
        "test_data = data.iloc[int(train_split) + int(val_split) + 1 : int(train_split) + int(val_split) + int(test_split)]\n",
        "print()\n",
        "print('All_Shapes: ')\n",
        "print()\n",
        "print(train_data.shape, val_data.shape, test_data.shape)\n",
        "\n",
        "del val_split\n",
        "del train_split\n",
        "del test_split"
      ],
      "metadata": {
        "colab": {
          "base_uri": "https://localhost:8080/"
        },
        "id": "ryKqfHf2EuBC",
        "outputId": "2335ff40-7220-47e4-8d95-5ea228031cf1"
      },
      "execution_count": null,
      "outputs": [
        {
          "output_type": "stream",
          "name": "stdout",
          "text": [
            "Splitting ratio: \n",
            "\n",
            "train_split:  32000.0 , val_split:  6399.999999999999 , test-split:  1599.9999999999998\n",
            "\n",
            "All_Shapes: \n",
            "\n",
            "(32000, 3) (6398, 3) (1598, 3)\n"
          ]
        }
      ]
    },
    {
      "cell_type": "markdown",
      "source": [
        "Text Cleaning and Pre-processing of Dataset"
      ],
      "metadata": {
        "id": "ViFyixwAVV1G"
      }
    },
    {
      "cell_type": "code",
      "source": [
        "content_text = train_data.content.tolist()\n",
        "all_classes = train_data.sentiment.unique().tolist()\n",
        "content_text = train_data.content.tolist()\n",
        "ex_char = string.punctuation\n",
        "ex_char = ex_char.replace('~', '')\n",
        "c_text = '~~~~~~'.join(content_text)\n",
        "\n",
        "x = c_text.translate(str.maketrans('', '', ex_char))\n",
        "c_text = x.split('~~~~~~')\n",
        "\n",
        "#print('Samples: ',len(c_text))\n",
        "\n",
        "token_data = tf.keras.preprocessing.text.Tokenizer(num_words=None,\n",
        "    filters='!\"#$%&()*+,-./:;<=>?@[\\\\]^_`{|}~\\t\\n',lower=True,split=' ')\n",
        "token_data.fit_on_texts(c_text)\n",
        "ind_text = token_data.texts_to_sequences(c_text)\n",
        "\n",
        "print()\n",
        "\n",
        "print('All_samples: ', len(ind_text))\n",
        "word_index = token_data.word_index\n",
        "print('Diff. words: ', len(list(word_index)))"
      ],
      "metadata": {
        "colab": {
          "base_uri": "https://localhost:8080/"
        },
        "id": "4qUutJjjEuEZ",
        "outputId": "983b7445-9f58-4cac-ade3-36d4b59f449c"
      },
      "execution_count": null,
      "outputs": [
        {
          "output_type": "stream",
          "name": "stdout",
          "text": [
            "\n",
            "All_samples:  32000\n",
            "Diff. words:  45300\n"
          ]
        }
      ]
    },
    {
      "cell_type": "code",
      "source": [
        "label_token = tf.keras.preprocessing.text.Tokenizer(num_words=len(all_classes),\n",
        "    filters='!\"#$%&()*+,-./:;<=>?@[\\\\]^_`{|}~\\t\\n',lower=True,split=' ')\n",
        "classes = ' '.join(all_classes)\n",
        "label_token.fit_on_texts([classes])\n",
        "label_index = label_token.word_index\n",
        "print('No. of Labels: ',len(list(label_index)))\n",
        "print()\n",
        "label_index = {key:value-1 for key, value in label_index.items()}\n",
        "inv_label_index = {value:key for key, value in label_index.items()}\n",
        "print()\n",
        "print(inv_label_index)"
      ],
      "metadata": {
        "colab": {
          "base_uri": "https://localhost:8080/"
        },
        "id": "maWE2fifSmwe",
        "outputId": "54f4cbc1-d897-439f-de9d-723b96790365"
      },
      "execution_count": null,
      "outputs": [
        {
          "output_type": "stream",
          "name": "stdout",
          "text": [
            "No. of Labels:  13\n",
            "\n",
            "\n",
            "{0: 'empty', 1: 'sadness', 2: 'enthusiasm', 3: 'neutral', 4: 'worry', 5: 'surprise', 6: 'love', 7: 'fun', 8: 'hate', 9: 'happiness', 10: 'boredom', 11: 'relief', 12: 'anger'}\n"
          ]
        }
      ]
    },
    {
      "cell_type": "code",
      "source": [
        "y_train = []\n",
        "for i in train_data.sentiment:\n",
        "    y_train.append(label_index.get(i))\n",
        "y_train = np.array(y_train)\n",
        "print('Label_shape: ', y_train.shape)\n",
        "pprint(y_train[:10])"
      ],
      "metadata": {
        "colab": {
          "base_uri": "https://localhost:8080/"
        },
        "id": "IvpDrAKUSmyy",
        "outputId": "c23b5b6e-6eb1-483a-e66d-ac7cb6653dea"
      },
      "execution_count": null,
      "outputs": [
        {
          "output_type": "stream",
          "name": "stdout",
          "text": [
            "Label_shape:  (32000,)\n",
            "array([0, 1, 1, 2, 3, 4, 1, 4, 1, 1])\n"
          ]
        }
      ]
    },
    {
      "cell_type": "code",
      "source": [
        "x_train = tf.keras.preprocessing.sequence.pad_sequences(ind_text, padding='post')\n",
        "\n",
        "max_inp_len = x_train.shape[1]\n",
        "print('max_input_length: ', max_inp_len)\n",
        "\n",
        "\n",
        "print('x_train_shape: ', x_train.shape, ', y_train_shape: ', y_train.shape)\n"
      ],
      "metadata": {
        "colab": {
          "base_uri": "https://localhost:8080/"
        },
        "id": "3Kr_V-jFSm2N",
        "outputId": "c69586f2-1e73-4d56-a404-5403d620d199"
      },
      "execution_count": null,
      "outputs": [
        {
          "output_type": "stream",
          "name": "stdout",
          "text": [
            "max_input_length:  33\n",
            "x_train_shape:  (32000, 33) , y_train_shape:  (32000,)\n"
          ]
        }
      ]
    },
    {
      "cell_type": "code",
      "source": [
        "import numpy as np\n",
        "import tensorflow as tf\n",
        "import string\n",
        "\n",
        "def val_preprocess(val_data, token_data, label_index):\n",
        "    content_text = val_data.content.tolist()\n",
        "    ex_char = string.punctuation.replace('~', '')\n",
        "    c_text = '~~~~~~'.join(content_text).translate(str.maketrans('', '', ex_char)).split('~~~~~~')\n",
        "\n",
        "    print('Val_samples: ', len(c_text))\n",
        "\n",
        "    # Tokenize and then pad sequences\n",
        "    ind_text = token_data.texts_to_sequences(c_text)\n",
        "    x_val = tf.keras.preprocessing.sequence.pad_sequences(ind_text, padding='post')\n",
        "\n",
        "    print('All_Val_samples: ', len(ind_text))\n",
        "\n",
        "    # Prepare labels\n",
        "    y_val = np.array([label_index.get(i, -1) for i in val_data.sentiment])\n",
        "    print('Label_shape: ', y_val.shape)\n",
        "\n",
        "    return x_val, y_val\n",
        "\n",
        "\n",
        "def test_preprocess(test_data, token_data, label_index):\n",
        "    content_text = test_data.content.tolist()\n",
        "    # Remove redundant line: all_classes = test_data.sentiment.unique().tolist()\n",
        "    ex_char = string.punctuation.replace('~', '')  # Exclude '~' from being removed\n",
        "    c_text = '~~~~~~'.join(content_text).translate(str.maketrans('', '', ex_char)).split('~~~~~~')\n",
        "\n",
        "    print('Again_Test_samples: ', len(c_text))\n",
        "    ind_text = token_data.texts_to_sequences(c_text)\n",
        "\n",
        "    # Use pad_sequences here, no need to convert to numpy array manually after this\n",
        "    x_test = tf.keras.preprocessing.sequence.pad_sequences(ind_text, padding='post')\n",
        "    print('\\nAll_Test_samples: ', len(ind_text))\n",
        "\n",
        "    y_test = [label_index.get(i, -1) for i in test_data.sentiment]  # Use default value for missing labels\n",
        "    y_test = np.array(y_test)\n",
        "    print('Label_shape: ', y_test.shape)\n",
        "\n",
        "    return x_test, y_test\n",
        "\n",
        "\n",
        "print('Val_Preprocessing:')\n",
        "x_val, y_val = val_preprocess(val_data, token_data, label_index)\n",
        "#print(x_val.shape, y_val.shape)\n",
        "print('--------')\n",
        "print('Test_Preprocessing ...')\n",
        "x_test, y_test = test_preprocess(test_data, token_data, label_index)\n",
        "#print(x_test.shape, y_test.shape)"
      ],
      "metadata": {
        "colab": {
          "base_uri": "https://localhost:8080/"
        },
        "id": "NNDZYrBhKmMa",
        "outputId": "943ebf09-d19b-47d8-8c0a-5e7e24a1f829"
      },
      "execution_count": null,
      "outputs": [
        {
          "output_type": "stream",
          "name": "stdout",
          "text": [
            "Val_Preprocessing:\n",
            "Val_samples:  6398\n",
            "All_Val_samples:  6398\n",
            "Label_shape:  (6398,)\n",
            "--------\n",
            "Test_Preprocessing ...\n",
            "Again_Test_samples:  1598\n",
            "\n",
            "All_Test_samples:  1598\n",
            "Label_shape:  (1598,)\n"
          ]
        }
      ]
    },
    {
      "cell_type": "code",
      "source": [
        "x_val = tf.keras.preprocessing.sequence.pad_sequences(x_val, maxlen = max_inp_len, padding = 'post')\n",
        "print('x_val_shape: ',x_val.shape, ', y_val_shape: ', y_val.shape)\n",
        "x_test = tf.keras.preprocessing.sequence.pad_sequences(x_test, maxlen = max_inp_len, padding = 'post')\n",
        "print('x_test_shape: ',x_test.shape, ', y_test_shape: ', y_test.shape)"
      ],
      "metadata": {
        "colab": {
          "base_uri": "https://localhost:8080/"
        },
        "id": "7DBuFlmQWX94",
        "outputId": "de1c9bf3-36db-48b8-e553-8e8760a68f91"
      },
      "execution_count": null,
      "outputs": [
        {
          "output_type": "stream",
          "name": "stdout",
          "text": [
            "x_val_shape:  (6398, 33) , y_val_shape:  (6398,)\n",
            "x_test_shape:  (1598, 33) , y_test_shape:  (1598,)\n"
          ]
        }
      ]
    },
    {
      "cell_type": "markdown",
      "source": [
        "Model Building and Evaluation"
      ],
      "metadata": {
        "id": "zlCjtmgXVdGi"
      }
    },
    {
      "cell_type": "code",
      "source": [
        "from tensorflow.keras.models import Sequential\n",
        "from tensorflow.keras.layers import SimpleRNN, Dense, Bidirectional\n",
        "\n",
        "# Define the maximum length of your input sequences\n",
        "max_input_length = 33\n",
        "\n",
        "# Define the number of unique sentiment values\n",
        "num_sentiment_values = 13\n",
        "\n",
        "# Define the number of RNN layers and the number of units in each layer\n",
        "num_rnn_layers = 2\n",
        "rnn_units = 128\n",
        "\n",
        "# Create the model\n",
        "model = Sequential()\n",
        "\n",
        "# Add the first Bidirectional RNN layer with input_shape=(max_input_length, 1) if your input is univariate\n",
        "# If your input has multiple features, use input_shape=(max_input_length, num_features)\n",
        "model.add(Bidirectional(SimpleRNN(units=rnn_units, return_sequences=True), input_shape=(max_input_length, 1)))\n",
        "\n",
        "# Add additional Bidirectional RNN layers if needed\n",
        "for _ in range(num_rnn_layers - 1):\n",
        "    model.add(Bidirectional(SimpleRNN(units=rnn_units, return_sequences=True)))\n",
        "\n",
        "# Add a final Bidirectional RNN layer without return_sequences=True if the next layer is not RNN\n",
        "model.add(Bidirectional(SimpleRNN(units=rnn_units)))\n",
        "\n",
        "# Add a Dense layer with the number of unique sentiment values as the number of units\n",
        "model.add(Dense(num_sentiment_values, activation='softmax'))\n",
        "\n",
        "# Compile the model\n",
        "model.compile(optimizer='adam', loss='sparse_categorical_crossentropy', metrics=['accuracy'])\n",
        "\n",
        "# Print the model summary\n",
        "model.summary()\n"
      ],
      "metadata": {
        "colab": {
          "base_uri": "https://localhost:8080/"
        },
        "id": "9xtRcj8DXhcM",
        "outputId": "5a11d145-1d61-434a-8d65-eb247da36457"
      },
      "execution_count": null,
      "outputs": [
        {
          "output_type": "stream",
          "name": "stdout",
          "text": [
            "Model: \"sequential\"\n",
            "_________________________________________________________________\n",
            " Layer (type)                Output Shape              Param #   \n",
            "=================================================================\n",
            " bidirectional (Bidirection  (None, 33, 256)           33280     \n",
            " al)                                                             \n",
            "                                                                 \n",
            " bidirectional_1 (Bidirecti  (None, 33, 256)           98560     \n",
            " onal)                                                           \n",
            "                                                                 \n",
            " bidirectional_2 (Bidirecti  (None, 256)               98560     \n",
            " onal)                                                           \n",
            "                                                                 \n",
            " dense (Dense)               (None, 13)                3341      \n",
            "                                                                 \n",
            "=================================================================\n",
            "Total params: 233741 (913.05 KB)\n",
            "Trainable params: 233741 (913.05 KB)\n",
            "Non-trainable params: 0 (0.00 Byte)\n",
            "_________________________________________________________________\n"
          ]
        }
      ]
    },
    {
      "cell_type": "code",
      "source": [
        "hit = model.fit(x_train, y_train, epochs=25, validation_data=(x_val, y_val), batch_size=32)\n",
        "print()\n",
        "print('-- Evaluation --')\n",
        "model.evaluate(x_test, y_test)\n",
        "print()\n",
        "hit_2 = hit.history\n",
        "\n",
        "fig, axs = plt.subplots(1,2, figsize=(16,8))\n",
        "\n",
        "axs[0].set_title('Loss_Curve')\n",
        "ep = range(len(hit_2['loss']))\n",
        "axs[0].plot(ep, hit_2['loss'],'o--r',label = 'Training_loss')\n",
        "axs[0].plot(ep, hit_2['val_loss'],'o--b',label = 'Val_loss')\n",
        "axs[0].set_xlabel('epoch')\n",
        "axs[0].set_ylabel('Loss')\n",
        "axs[0].legend()\n",
        "\n",
        "axs[1].set_title('Acc_Curve')\n",
        "ep = range(len(hit_2['loss']))\n",
        "axs[1].plot(ep, hit_2['accuracy'],'o--r',label = 'Training_acc')\n",
        "axs[1].plot(ep, hit_2['val_accuracy'],'o--b',label = 'Val_acc')\n",
        "axs[1].set_xlabel('epoch')\n",
        "axs[1].set_ylabel('Accuracy')\n",
        "axs[1].legend()\n",
        "\n",
        "plt.show()"
      ],
      "metadata": {
        "colab": {
          "base_uri": "https://localhost:8080/",
          "height": 1000
        },
        "id": "h-qobD4nbYuT",
        "outputId": "514c36b9-256a-41e3-b5c8-b5e2513ce950"
      },
      "execution_count": null,
      "outputs": [
        {
          "output_type": "stream",
          "name": "stdout",
          "text": [
            "Epoch 1/25\n",
            "1000/1000 [==============================] - 88s 83ms/step - loss: 2.1624 - accuracy: 0.2398 - val_loss: 2.2861 - val_accuracy: 0.2023\n",
            "Epoch 2/25\n",
            "1000/1000 [==============================] - 81s 81ms/step - loss: 2.1476 - accuracy: 0.2373 - val_loss: 2.4307 - val_accuracy: 0.1078\n",
            "Epoch 3/25\n",
            "1000/1000 [==============================] - 81s 81ms/step - loss: 2.1428 - accuracy: 0.2391 - val_loss: 2.2753 - val_accuracy: 0.1858\n",
            "Epoch 4/25\n",
            "1000/1000 [==============================] - 80s 80ms/step - loss: 2.1386 - accuracy: 0.2401 - val_loss: 2.3148 - val_accuracy: 0.2121\n",
            "Epoch 5/25\n",
            "1000/1000 [==============================] - 81s 81ms/step - loss: 2.1391 - accuracy: 0.2402 - val_loss: 2.2829 - val_accuracy: 0.1626\n",
            "Epoch 6/25\n",
            "1000/1000 [==============================] - 83s 83ms/step - loss: 2.1449 - accuracy: 0.2352 - val_loss: 2.3193 - val_accuracy: 0.1996\n",
            "Epoch 7/25\n",
            "1000/1000 [==============================] - 79s 79ms/step - loss: 2.1436 - accuracy: 0.2299 - val_loss: 2.3968 - val_accuracy: 0.1019\n",
            "Epoch 8/25\n",
            "1000/1000 [==============================] - 79s 79ms/step - loss: 2.1440 - accuracy: 0.2304 - val_loss: 2.3952 - val_accuracy: 0.1089\n",
            "Epoch 9/25\n",
            "1000/1000 [==============================] - 80s 80ms/step - loss: 2.1455 - accuracy: 0.2323 - val_loss: 2.4356 - val_accuracy: 0.1093\n",
            "Epoch 10/25\n",
            "1000/1000 [==============================] - 78s 78ms/step - loss: 2.1415 - accuracy: 0.2304 - val_loss: 2.3652 - val_accuracy: 0.1246\n",
            "Epoch 11/25\n",
            "1000/1000 [==============================] - 78s 78ms/step - loss: 2.1410 - accuracy: 0.2398 - val_loss: 2.2103 - val_accuracy: 0.2218\n",
            "Epoch 12/25\n",
            "1000/1000 [==============================] - 79s 79ms/step - loss: 2.1388 - accuracy: 0.2378 - val_loss: 2.2474 - val_accuracy: 0.2138\n",
            "Epoch 13/25\n",
            "1000/1000 [==============================] - 79s 79ms/step - loss: 2.1356 - accuracy: 0.2445 - val_loss: 2.3080 - val_accuracy: 0.1441\n",
            "Epoch 14/25\n",
            "1000/1000 [==============================] - 82s 82ms/step - loss: 2.1352 - accuracy: 0.2427 - val_loss: 2.3472 - val_accuracy: 0.1499\n",
            "Epoch 15/25\n",
            "1000/1000 [==============================] - 80s 80ms/step - loss: 2.1357 - accuracy: 0.2434 - val_loss: 2.3183 - val_accuracy: 0.1518\n",
            "Epoch 16/25\n",
            "1000/1000 [==============================] - 78s 78ms/step - loss: 2.1350 - accuracy: 0.2450 - val_loss: 2.3610 - val_accuracy: 0.2105\n",
            "Epoch 17/25\n",
            "1000/1000 [==============================] - 80s 80ms/step - loss: 2.1384 - accuracy: 0.2428 - val_loss: 2.3985 - val_accuracy: 0.1896\n",
            "Epoch 18/25\n",
            "1000/1000 [==============================] - 79s 79ms/step - loss: 2.1397 - accuracy: 0.2369 - val_loss: 2.3184 - val_accuracy: 0.2026\n",
            "Epoch 19/25\n",
            "1000/1000 [==============================] - 80s 80ms/step - loss: 2.1476 - accuracy: 0.2351 - val_loss: 2.3400 - val_accuracy: 0.1685\n",
            "Epoch 20/25\n",
            "1000/1000 [==============================] - 79s 79ms/step - loss: 2.1390 - accuracy: 0.2396 - val_loss: 2.4726 - val_accuracy: 0.1415\n",
            "Epoch 21/25\n",
            "1000/1000 [==============================] - 78s 78ms/step - loss: 2.1408 - accuracy: 0.2383 - val_loss: 2.3635 - val_accuracy: 0.0997\n",
            "Epoch 22/25\n",
            "1000/1000 [==============================] - 79s 79ms/step - loss: 2.1430 - accuracy: 0.2313 - val_loss: 2.3637 - val_accuracy: 0.1951\n",
            "Epoch 23/25\n",
            "1000/1000 [==============================] - 81s 81ms/step - loss: 2.1424 - accuracy: 0.2292 - val_loss: 2.2862 - val_accuracy: 0.2068\n",
            "Epoch 24/25\n",
            "1000/1000 [==============================] - 79s 79ms/step - loss: 2.1411 - accuracy: 0.2305 - val_loss: 2.3556 - val_accuracy: 0.1019\n",
            "Epoch 25/25\n",
            "1000/1000 [==============================] - 80s 80ms/step - loss: 2.1430 - accuracy: 0.2309 - val_loss: 2.2949 - val_accuracy: 0.2002\n",
            "\n",
            "-- Evaluation --\n",
            "50/50 [==============================] - 1s 20ms/step - loss: 2.2739 - accuracy: 0.1996\n",
            "\n"
          ]
        },
        {
          "output_type": "display_data",
          "data": {
            "text/plain": [
              "<Figure size 1600x800 with 2 Axes>"
            ],
            "image/png": "[encoded data removed]"
          },
          "metadata": {}
        }
      ]
    },
    {
      "cell_type": "code",
      "source": [
        "from sklearn.metrics import confusion_matrix, f1_score, precision_score, recall_score, classification_report\n",
        "import numpy as np\n",
        "\n",
        "# Assuming ypred and y_test are already defined as per your previous code\n",
        "ypred = model.predict(x_test)\n",
        "ypred = np.argmax(ypred, axis=-1)\n",
        "\n",
        "conf_matrix  = confusion_matrix(y_test, ypred)\n",
        "\n",
        "print('--Confusion_Matrix--')\n",
        "print(conf_matrix)\n",
        "print()\n",
        "\n",
        "print('f1_score: ', f1_score(y_test, ypred, average='micro'))\n",
        "print('Precision: ', precision_score(y_test, ypred, average='micro'))\n",
        "print('Recall: ', recall_score(y_test, ypred, average='micro'))\n",
        "\n",
        "# Getting the classification report\n",
        "print('--Classification Report--')\n",
        "print(classification_report(y_test, ypred))\n"
      ],
      "metadata": {
        "colab": {
          "base_uri": "https://localhost:8080/"
        },
        "id": "JACrjxzzpldI",
        "outputId": "ad0eed18-950d-4355-b7eb-14113f9d5939"
      },
      "execution_count": null,
      "outputs": [
        {
          "output_type": "stream",
          "name": "stdout",
          "text": [
            "50/50 [==============================] - 2s 20ms/step\n",
            "--Confusion_Matrix--\n",
            "[[  0   0   0  21   5   0   0   0   0   0   0   0   0]\n",
            " [  0   0   0  45   7   0   0   0   0   0   0   0   0]\n",
            " [  0   0   0  34   5   0   0   0   0   0   0   0   0]\n",
            " [  0   6   0 276  88   0   0   0   0   0   0   0   0]\n",
            " [  0   2   0 134  43   0   0   0   0   0   0   0   0]\n",
            " [  0   0   0  64  21   0   0   0   0   0   0   0   0]\n",
            " [  0   0   0 211  66   0   0   0   0   0   0   0   0]\n",
            " [  0   0   0  70  20   0   0   0   0   0   0   0   0]\n",
            " [  0   0   0  18   5   0   0   0   0   0   0   0   0]\n",
            " [  0   0   0 284  79   0   0   0   0   0   0   0   0]\n",
            " [  0   0   0   3   2   0   0   0   0   0   0   0   0]\n",
            " [  0   0   0  69  19   0   0   0   0   0   0   0   0]\n",
            " [  0   0   0   1   0   0   0   0   0   0   0   0   0]]\n",
            "\n",
            "f1_score:  0.19962453066332914\n",
            "Precision:  0.19962453066332916\n",
            "Recall:  0.19962453066332916\n",
            "--Classification Report--\n",
            "              precision    recall  f1-score   support\n",
            "\n",
            "           0       0.00      0.00      0.00        26\n",
            "           1       0.00      0.00      0.00        52\n",
            "           2       0.00      0.00      0.00        39\n",
            "           3       0.22      0.75      0.34       370\n",
            "           4       0.12      0.24      0.16       179\n",
            "           5       0.00      0.00      0.00        85\n",
            "           6       0.00      0.00      0.00       277\n",
            "           7       0.00      0.00      0.00        90\n",
            "           8       0.00      0.00      0.00        23\n",
            "           9       0.00      0.00      0.00       363\n",
            "          10       0.00      0.00      0.00         5\n",
            "          11       0.00      0.00      0.00        88\n",
            "          12       0.00      0.00      0.00         1\n",
            "\n",
            "    accuracy                           0.20      1598\n",
            "   macro avg       0.03      0.08      0.04      1598\n",
            "weighted avg       0.07      0.20      0.10      1598\n",
            "\n"
          ]
        }
      ]
    },
    {
      "cell_type": "code",
      "source": [
        "import tensorflow as tf\n",
        "\n",
        "input_sentence = \"he is scared about the future!\"\n",
        "\n",
        "sequence = token_data.texts_to_sequences([input_sentence])\n",
        "\n",
        "padded_sequence = tf.keras.preprocessing.sequence.pad_sequences(sequence, maxlen=33, padding='post')\n",
        "\n",
        "prediction = model.predict(padded_sequence)\n",
        "predicted_class = tf.argmax(prediction, axis=1).numpy()\n",
        "\n",
        "sentiment_label = inv_label_index[predicted_class[0]]\n",
        "\n",
        "print(f\"Predicted sentiment: {sentiment_label}\")\n"
      ],
      "metadata": {
        "colab": {
          "base_uri": "https://localhost:8080/"
        },
        "id": "3mOqbaX4fY4x",
        "outputId": "cdd63f08-776d-437d-c715-717679294dcf"
      },
      "execution_count": null,
      "outputs": [
        {
          "output_type": "stream",
          "name": "stdout",
          "text": [
            "1/1 [==============================] - 0s 25ms/step\n",
            "Predicted sentiment: neutral\n"
          ]
        }
      ]
    },
    {
      "cell_type": "markdown",
      "source": [
        "Importing Dataset"
      ],
      "metadata": {
        "id": "MzvwuULJVlYg"
      }
    },
    {
      "cell_type": "code",
      "source": [
        "data1 = pd.read_csv('tweet_emotions.csv')\n",
        "data1.head()"
      ],
      "metadata": {
        "id": "SDIPQpjEkyHp",
        "colab": {
          "base_uri": "https://localhost:8080/",
          "height": 206
        },
        "outputId": "990e736f-9ae1-4754-aec3-3950b52b13f4"
      },
      "execution_count": null,
      "outputs": [
        {
          "output_type": "execute_result",
          "data": {
            "text/plain": [
              "     tweet_id   sentiment                                            content\n",
              "0  1956967341       empty  @tiffanylue i know  i was listenin to bad habi...\n",
              "1  1956967666     sadness  Layin n bed with a headache  ughhhh...waitin o...\n",
              "2  1956967696     sadness                Funeral ceremony...gloomy friday...\n",
              "3  1956967789  enthusiasm               wants to hang out with friends SOON!\n",
              "4  1956968416     neutral  @dannycastillo We want to trade with someone w..."
            ],
            "text/html": [
              "\n",
              "  <div id=\"df-8c1b5d84-18a1-4d4c-99fa-49b468d889f5\" class=\"colab-df-container\">\n",
              "    <div>\n",
              "<style scoped>\n",
              "    .dataframe tbody tr th:only-of-type {\n",
              "        vertical-align: middle;\n",
              "    }\n",
              "\n",
              "    .dataframe tbody tr th {\n",
              "        vertical-align: top;\n",
              "    }\n",
              "\n",
              "    .dataframe thead th {\n",
              "        text-align: right;\n",
              "    }\n",
              "</style>\n",
              "<table border=\"1\" class=\"dataframe\">\n",
              "  <thead>\n",
              "    <tr style=\"text-align: right;\">\n",
              "      <th></th>\n",
              "      <th>tweet_id</th>\n",
              "      <th>sentiment</th>\n",
              "      <th>content</th>\n",
              "    </tr>\n",
              "  </thead>\n",
              "  <tbody>\n",
              "    <tr>\n",
              "      <th>0</th>\n",
              "      <td>1956967341</td>\n",
              "      <td>empty</td>\n",
              "      <td>@tiffanylue i know  i was listenin to bad habi...</td>\n",
              "    </tr>\n",
              "    <tr>\n",
              "      <th>1</th>\n",
              "      <td>1956967666</td>\n",
              "      <td>sadness</td>\n",
              "      <td>Layin n bed with a headache  ughhhh...waitin o...</td>\n",
              "    </tr>\n",
              "    <tr>\n",
              "      <th>2</th>\n",
              "      <td>1956967696</td>\n",
              "      <td>sadness</td>\n",
              "      <td>Funeral ceremony...gloomy friday...</td>\n",
              "    </tr>\n",
              "    <tr>\n",
              "      <th>3</th>\n",
              "      <td>1956967789</td>\n",
              "      <td>enthusiasm</td>\n",
              "      <td>wants to hang out with friends SOON!</td>\n",
              "    </tr>\n",
              "    <tr>\n",
              "      <th>4</th>\n",
              "      <td>1956968416</td>\n",
              "      <td>neutral</td>\n",
              "      <td>@dannycastillo We want to trade with someone w...</td>\n",
              "    </tr>\n",
              "  </tbody>\n",
              "</table>\n",
              "</div>\n",
              "    <div class=\"colab-df-buttons\">\n",
              "\n",
              "  <div class=\"colab-df-container\">\n",
              "    <button class=\"colab-df-convert\" onclick=\"convertToInteractive('df-8c1b5d84-18a1-4d4c-99fa-49b468d889f5')\"\n",
              "            title=\"Convert this dataframe to an interactive table.\"\n",
              "            style=\"display:none;\">\n",
              "\n",
              "  <svg xmlns=\"http://www.w3.org/2000/svg\" height=\"24px\" viewBox=\"0 -960 960 960\">\n",
              "    <path d=\"M120-120v-720h720v720H120Zm60-500h600v-160H180v160Zm220 220h160v-160H400v160Zm0 220h160v-160H400v160ZM180-400h160v-160H180v160Zm440 0h160v-160H620v160ZM180-180h160v-160H180v160Zm440 0h160v-160H620v160Z\"/>\n",
              "  </svg>\n",
              "    </button>\n",
              "\n",
              "  <style>\n",
              "    .colab-df-container {\n",
              "      display:flex;\n",
              "      gap: 12px;\n",
              "    }\n",
              "\n",
              "    .colab-df-convert {\n",
              "      background-color: #E8F0FE;\n",
              "      border: none;\n",
              "      border-radius: 50%;\n",
              "      cursor: pointer;\n",
              "      display: none;\n",
              "      fill: #1967D2;\n",
              "      height: 32px;\n",
              "      padding: 0 0 0 0;\n",
              "      width: 32px;\n",
              "    }\n",
              "\n",
              "    .colab-df-convert:hover {\n",
              "      background-color: #E2EBFA;\n",
              "      box-shadow: 0px 1px 2px rgba(60, 64, 67, 0.3), 0px 1px 3px 1px rgba(60, 64, 67, 0.15);\n",
              "      fill: #174EA6;\n",
              "    }\n",
              "\n",
              "    .colab-df-buttons div {\n",
              "      margin-bottom: 4px;\n",
              "    }\n",
              "\n",
              "    [theme=dark] .colab-df-convert {\n",
              "      background-color: #3B4455;\n",
              "      fill: #D2E3FC;\n",
              "    }\n",
              "\n",
              "    [theme=dark] .colab-df-convert:hover {\n",
              "      background-color: #434B5C;\n",
              "      box-shadow: 0px 1px 3px 1px rgba(0, 0, 0, 0.15);\n",
              "      filter: drop-shadow(0px 1px 2px rgba(0, 0, 0, 0.3));\n",
              "      fill: #FFFFFF;\n",
              "    }\n",
              "  </style>\n",
              "\n",
              "    <script>\n",
              "      const buttonEl =\n",
              "        document.querySelector('#df-8c1b5d84-18a1-4d4c-99fa-49b468d889f5 button.colab-df-convert');\n",
              "      buttonEl.style.display =\n",
              "        google.colab.kernel.accessAllowed ? 'block' : 'none';\n",
              "\n",
              "      async function convertToInteractive(key) {\n",
              "        const element = document.querySelector('#df-8c1b5d84-18a1-4d4c-99fa-49b468d889f5');\n",
              "        const dataTable =\n",
              "          await google.colab.kernel.invokeFunction('convertToInteractive',\n",
              "                                                    [key], {});\n",
              "        if (!dataTable) return;\n",
              "\n",
              "        const docLinkHtml = 'Like what you see? Visit the ' +\n",
              "          '<a target=\"_blank\" href=https://colab.research.google.com/notebooks/data_table.ipynb>data table notebook</a>'\n",
              "          + ' to learn more about interactive tables.';\n",
              "        element.innerHTML = '';\n",
              "        dataTable['output_type'] = 'display_data';\n",
              "        await google.colab.output.renderOutput(dataTable, element);\n",
              "        const docLink = document.createElement('div');\n",
              "        docLink.innerHTML = docLinkHtml;\n",
              "        element.appendChild(docLink);\n",
              "      }\n",
              "    </script>\n",
              "  </div>\n",
              "\n",
              "\n",
              "<div id=\"df-309dbbc1-c1ed-4b4c-854f-c30ac062e885\">\n",
              "  <button class=\"colab-df-quickchart\" onclick=\"quickchart('df-309dbbc1-c1ed-4b4c-854f-c30ac062e885')\"\n",
              "            title=\"Suggest charts\"\n",
              "            style=\"display:none;\">\n",
              "\n",
              "<svg xmlns=\"http://www.w3.org/2000/svg\" height=\"24px\"viewBox=\"0 0 24 24\"\n",
              "     width=\"24px\">\n",
              "    <g>\n",
              "        <path d=\"M19 3H5c-1.1 0-2 .9-2 2v14c0 1.1.9 2 2 2h14c1.1 0 2-.9 2-2V5c0-1.1-.9-2-2-2zM9 17H7v-7h2v7zm4 0h-2V7h2v10zm4 0h-2v-4h2v4z\"/>\n",
              "    </g>\n",
              "</svg>\n",
              "  </button>\n",
              "\n",
              "<style>\n",
              "  .colab-df-quickchart {\n",
              "      --bg-color: #E8F0FE;\n",
              "      --fill-color: #1967D2;\n",
              "      --hover-bg-color: #E2EBFA;\n",
              "      --hover-fill-color: #174EA6;\n",
              "      --disabled-fill-color: #AAA;\n",
              "      --disabled-bg-color: #DDD;\n",
              "  }\n",
              "\n",
              "  [theme=dark] .colab-df-quickchart {\n",
              "      --bg-color: #3B4455;\n",
              "      --fill-color: #D2E3FC;\n",
              "      --hover-bg-color: #434B5C;\n",
              "      --hover-fill-color: #FFFFFF;\n",
              "      --disabled-bg-color: #3B4455;\n",
              "      --disabled-fill-color: #666;\n",
              "  }\n",
              "\n",
              "  .colab-df-quickchart {\n",
              "    background-color: var(--bg-color);\n",
              "    border: none;\n",
              "    border-radius: 50%;\n",
              "    cursor: pointer;\n",
              "    display: none;\n",
              "    fill: var(--fill-color);\n",
              "    height: 32px;\n",
              "    padding: 0;\n",
              "    width: 32px;\n",
              "  }\n",
              "\n",
              "  .colab-df-quickchart:hover {\n",
              "    background-color: var(--hover-bg-color);\n",
              "    box-shadow: 0 1px 2px rgba(60, 64, 67, 0.3), 0 1px 3px 1px rgba(60, 64, 67, 0.15);\n",
              "    fill: var(--button-hover-fill-color);\n",
              "  }\n",
              "\n",
              "  .colab-df-quickchart-complete:disabled,\n",
              "  .colab-df-quickchart-complete:disabled:hover {\n",
              "    background-color: var(--disabled-bg-color);\n",
              "    fill: var(--disabled-fill-color);\n",
              "    box-shadow: none;\n",
              "  }\n",
              "\n",
              "  .colab-df-spinner {\n",
              "    border: 2px solid var(--fill-color);\n",
              "    border-color: transparent;\n",
              "    border-bottom-color: var(--fill-color);\n",
              "    animation:\n",
              "      spin 1s steps(1) infinite;\n",
              "  }\n",
              "\n",
              "  @keyframes spin {\n",
              "    0% {\n",
              "      border-color: transparent;\n",
              "      border-bottom-color: var(--fill-color);\n",
              "      border-left-color: var(--fill-color);\n",
              "    }\n",
              "    20% {\n",
              "      border-color: transparent;\n",
              "      border-left-color: var(--fill-color);\n",
              "      border-top-color: var(--fill-color);\n",
              "    }\n",
              "    30% {\n",
              "      border-color: transparent;\n",
              "      border-left-color: var(--fill-color);\n",
              "      border-top-color: var(--fill-color);\n",
              "      border-right-color: var(--fill-color);\n",
              "    }\n",
              "    40% {\n",
              "      border-color: transparent;\n",
              "      border-right-color: var(--fill-color);\n",
              "      border-top-color: var(--fill-color);\n",
              "    }\n",
              "    60% {\n",
              "      border-color: transparent;\n",
              "      border-right-color: var(--fill-color);\n",
              "    }\n",
              "    80% {\n",
              "      border-color: transparent;\n",
              "      border-right-color: var(--fill-color);\n",
              "      border-bottom-color: var(--fill-color);\n",
              "    }\n",
              "    90% {\n",
              "      border-color: transparent;\n",
              "      border-bottom-color: var(--fill-color);\n",
              "    }\n",
              "  }\n",
              "</style>\n",
              "\n",
              "  <script>\n",
              "    async function quickchart(key) {\n",
              "      const quickchartButtonEl =\n",
              "        document.querySelector('#' + key + ' button');\n",
              "      quickchartButtonEl.disabled = true;  // To prevent multiple clicks.\n",
              "      quickchartButtonEl.classList.add('colab-df-spinner');\n",
              "      try {\n",
              "        const charts = await google.colab.kernel.invokeFunction(\n",
              "            'suggestCharts', [key], {});\n",
              "      } catch (error) {\n",
              "        console.error('Error during call to suggestCharts:', error);\n",
              "      }\n",
              "      quickchartButtonEl.classList.remove('colab-df-spinner');\n",
              "      quickchartButtonEl.classList.add('colab-df-quickchart-complete');\n",
              "    }\n",
              "    (() => {\n",
              "      let quickchartButtonEl =\n",
              "        document.querySelector('#df-309dbbc1-c1ed-4b4c-854f-c30ac062e885 button');\n",
              "      quickchartButtonEl.style.display =\n",
              "        google.colab.kernel.accessAllowed ? 'block' : 'none';\n",
              "    })();\n",
              "  </script>\n",
              "</div>\n",
              "\n",
              "    </div>\n",
              "  </div>\n"
            ],
            "application/vnd.google.colaboratory.intrinsic+json": {
              "type": "dataframe",
              "variable_name": "data1",
              "summary": "{\n  \"name\": \"data1\",\n  \"rows\": 40000,\n  \"fields\": [\n    {\n      \"column\": \"tweet_id\",\n      \"properties\": {\n        \"dtype\": \"number\",\n        \"std\": 118857896,\n        \"min\": 1693956175,\n        \"max\": 1966441171,\n        \"num_unique_values\": 40000,\n        \"samples\": [\n          1752414968,\n          1965295852,\n          1696219218\n        ],\n        \"semantic_type\": \"\",\n        \"description\": \"\"\n      }\n    },\n    {\n      \"column\": \"sentiment\",\n      \"properties\": {\n        \"dtype\": \"category\",\n        \"num_unique_values\": 13,\n        \"samples\": [\n          \"relief\",\n          \"happiness\",\n          \"empty\"\n        ],\n        \"semantic_type\": \"\",\n        \"description\": \"\"\n      }\n    },\n    {\n      \"column\": \"content\",\n      \"properties\": {\n        \"dtype\": \"string\",\n        \"num_unique_values\": 39827,\n        \"samples\": [\n          \"the sun is shinning! im off out!!\",\n          \"wow i must have been tired. i fell asleep @ exactly the start of the 10pm news &amp; now up as if its 8am.\",\n          \"@knobzie their loss\"\n        ],\n        \"semantic_type\": \"\",\n        \"description\": \"\"\n      }\n    }\n  ]\n}"
            }
          },
          "metadata": {},
          "execution_count": 19
        }
      ]
    },
    {
      "cell_type": "markdown",
      "source": [
        "Reversing of the Tweet Contents"
      ],
      "metadata": {
        "id": "i8cAylPYVoy6"
      }
    },
    {
      "cell_type": "code",
      "source": [
        "import pandas as pd\n",
        "\n",
        "# Function to reverse the sentence\n",
        "def reverse_sentence(sentence):\n",
        "    return ' '.join(sentence.split()[::-1])\n",
        "\n",
        "# Applying the function to the 'content' column and updating the same column with reversed sentences\n",
        "data1['content'] = data1['content'].apply(reverse_sentence)\n",
        "\n",
        "# The 'content' column now contains the reversed sentences\n",
        "data1.head()"
      ],
      "metadata": {
        "colab": {
          "base_uri": "https://localhost:8080/",
          "height": 206
        },
        "id": "3QzPwahxjfvC",
        "outputId": "c2e6c378-049f-4e54-c859-8242be320dea"
      },
      "execution_count": null,
      "outputs": [
        {
          "output_type": "execute_result",
          "data": {
            "text/plain": [
              "     tweet_id   sentiment                                            content\n",
              "0  1956967341       empty  =[ part his at freakin started i and earlier h...\n",
              "1  1956967666     sadness  call... your on ughhhh...waitin headache a wit...\n",
              "2  1956967696     sadness                friday... ceremony...gloomy Funeral\n",
              "3  1956967789  enthusiasm               SOON! friends with out hang to wants\n",
              "4  1956968416     neutral  will. one no but tickets, Houston has who some..."
            ],
            "text/html": [
              "\n",
              "  <div id=\"df-46463b33-5279-4f82-a586-5fe7d06c08c7\" class=\"colab-df-container\">\n",
              "    <div>\n",
              "<style scoped>\n",
              "    .dataframe tbody tr th:only-of-type {\n",
              "        vertical-align: middle;\n",
              "    }\n",
              "\n",
              "    .dataframe tbody tr th {\n",
              "        vertical-align: top;\n",
              "    }\n",
              "\n",
              "    .dataframe thead th {\n",
              "        text-align: right;\n",
              "    }\n",
              "</style>\n",
              "<table border=\"1\" class=\"dataframe\">\n",
              "  <thead>\n",
              "    <tr style=\"text-align: right;\">\n",
              "      <th></th>\n",
              "      <th>tweet_id</th>\n",
              "      <th>sentiment</th>\n",
              "      <th>content</th>\n",
              "    </tr>\n",
              "  </thead>\n",
              "  <tbody>\n",
              "    <tr>\n",
              "      <th>0</th>\n",
              "      <td>1956967341</td>\n",
              "      <td>empty</td>\n",
              "      <td>=[ part his at freakin started i and earlier h...</td>\n",
              "    </tr>\n",
              "    <tr>\n",
              "      <th>1</th>\n",
              "      <td>1956967666</td>\n",
              "      <td>sadness</td>\n",
              "      <td>call... your on ughhhh...waitin headache a wit...</td>\n",
              "    </tr>\n",
              "    <tr>\n",
              "      <th>2</th>\n",
              "      <td>1956967696</td>\n",
              "      <td>sadness</td>\n",
              "      <td>friday... ceremony...gloomy Funeral</td>\n",
              "    </tr>\n",
              "    <tr>\n",
              "      <th>3</th>\n",
              "      <td>1956967789</td>\n",
              "      <td>enthusiasm</td>\n",
              "      <td>SOON! friends with out hang to wants</td>\n",
              "    </tr>\n",
              "    <tr>\n",
              "      <th>4</th>\n",
              "      <td>1956968416</td>\n",
              "      <td>neutral</td>\n",
              "      <td>will. one no but tickets, Houston has who some...</td>\n",
              "    </tr>\n",
              "  </tbody>\n",
              "</table>\n",
              "</div>\n",
              "    <div class=\"colab-df-buttons\">\n",
              "\n",
              "  <div class=\"colab-df-container\">\n",
              "    <button class=\"colab-df-convert\" onclick=\"convertToInteractive('df-46463b33-5279-4f82-a586-5fe7d06c08c7')\"\n",
              "            title=\"Convert this dataframe to an interactive table.\"\n",
              "            style=\"display:none;\">\n",
              "\n",
              "  <svg xmlns=\"http://www.w3.org/2000/svg\" height=\"24px\" viewBox=\"0 -960 960 960\">\n",
              "    <path d=\"M120-120v-720h720v720H120Zm60-500h600v-160H180v160Zm220 220h160v-160H400v160Zm0 220h160v-160H400v160ZM180-400h160v-160H180v160Zm440 0h160v-160H620v160ZM180-180h160v-160H180v160Zm440 0h160v-160H620v160Z\"/>\n",
              "  </svg>\n",
              "    </button>\n",
              "\n",
              "  <style>\n",
              "    .colab-df-container {\n",
              "      display:flex;\n",
              "      gap: 12px;\n",
              "    }\n",
              "\n",
              "    .colab-df-convert {\n",
              "      background-color: #E8F0FE;\n",
              "      border: none;\n",
              "      border-radius: 50%;\n",
              "      cursor: pointer;\n",
              "      display: none;\n",
              "      fill: #1967D2;\n",
              "      height: 32px;\n",
              "      padding: 0 0 0 0;\n",
              "      width: 32px;\n",
              "    }\n",
              "\n",
              "    .colab-df-convert:hover {\n",
              "      background-color: #E2EBFA;\n",
              "      box-shadow: 0px 1px 2px rgba(60, 64, 67, 0.3), 0px 1px 3px 1px rgba(60, 64, 67, 0.15);\n",
              "      fill: #174EA6;\n",
              "    }\n",
              "\n",
              "    .colab-df-buttons div {\n",
              "      margin-bottom: 4px;\n",
              "    }\n",
              "\n",
              "    [theme=dark] .colab-df-convert {\n",
              "      background-color: #3B4455;\n",
              "      fill: #D2E3FC;\n",
              "    }\n",
              "\n",
              "    [theme=dark] .colab-df-convert:hover {\n",
              "      background-color: #434B5C;\n",
              "      box-shadow: 0px 1px 3px 1px rgba(0, 0, 0, 0.15);\n",
              "      filter: drop-shadow(0px 1px 2px rgba(0, 0, 0, 0.3));\n",
              "      fill: #FFFFFF;\n",
              "    }\n",
              "  </style>\n",
              "\n",
              "    <script>\n",
              "      const buttonEl =\n",
              "        document.querySelector('#df-46463b33-5279-4f82-a586-5fe7d06c08c7 button.colab-df-convert');\n",
              "      buttonEl.style.display =\n",
              "        google.colab.kernel.accessAllowed ? 'block' : 'none';\n",
              "\n",
              "      async function convertToInteractive(key) {\n",
              "        const element = document.querySelector('#df-46463b33-5279-4f82-a586-5fe7d06c08c7');\n",
              "        const dataTable =\n",
              "          await google.colab.kernel.invokeFunction('convertToInteractive',\n",
              "                                                    [key], {});\n",
              "        if (!dataTable) return;\n",
              "\n",
              "        const docLinkHtml = 'Like what you see? Visit the ' +\n",
              "          '<a target=\"_blank\" href=https://colab.research.google.com/notebooks/data_table.ipynb>data table notebook</a>'\n",
              "          + ' to learn more about interactive tables.';\n",
              "        element.innerHTML = '';\n",
              "        dataTable['output_type'] = 'display_data';\n",
              "        await google.colab.output.renderOutput(dataTable, element);\n",
              "        const docLink = document.createElement('div');\n",
              "        docLink.innerHTML = docLinkHtml;\n",
              "        element.appendChild(docLink);\n",
              "      }\n",
              "    </script>\n",
              "  </div>\n",
              "\n",
              "\n",
              "<div id=\"df-b31a46c4-457b-46ce-bd04-ff9ef425b380\">\n",
              "  <button class=\"colab-df-quickchart\" onclick=\"quickchart('df-b31a46c4-457b-46ce-bd04-ff9ef425b380')\"\n",
              "            title=\"Suggest charts\"\n",
              "            style=\"display:none;\">\n",
              "\n",
              "<svg xmlns=\"http://www.w3.org/2000/svg\" height=\"24px\"viewBox=\"0 0 24 24\"\n",
              "     width=\"24px\">\n",
              "    <g>\n",
              "        <path d=\"M19 3H5c-1.1 0-2 .9-2 2v14c0 1.1.9 2 2 2h14c1.1 0 2-.9 2-2V5c0-1.1-.9-2-2-2zM9 17H7v-7h2v7zm4 0h-2V7h2v10zm4 0h-2v-4h2v4z\"/>\n",
              "    </g>\n",
              "</svg>\n",
              "  </button>\n",
              "\n",
              "<style>\n",
              "  .colab-df-quickchart {\n",
              "      --bg-color: #E8F0FE;\n",
              "      --fill-color: #1967D2;\n",
              "      --hover-bg-color: #E2EBFA;\n",
              "      --hover-fill-color: #174EA6;\n",
              "      --disabled-fill-color: #AAA;\n",
              "      --disabled-bg-color: #DDD;\n",
              "  }\n",
              "\n",
              "  [theme=dark] .colab-df-quickchart {\n",
              "      --bg-color: #3B4455;\n",
              "      --fill-color: #D2E3FC;\n",
              "      --hover-bg-color: #434B5C;\n",
              "      --hover-fill-color: #FFFFFF;\n",
              "      --disabled-bg-color: #3B4455;\n",
              "      --disabled-fill-color: #666;\n",
              "  }\n",
              "\n",
              "  .colab-df-quickchart {\n",
              "    background-color: var(--bg-color);\n",
              "    border: none;\n",
              "    border-radius: 50%;\n",
              "    cursor: pointer;\n",
              "    display: none;\n",
              "    fill: var(--fill-color);\n",
              "    height: 32px;\n",
              "    padding: 0;\n",
              "    width: 32px;\n",
              "  }\n",
              "\n",
              "  .colab-df-quickchart:hover {\n",
              "    background-color: var(--hover-bg-color);\n",
              "    box-shadow: 0 1px 2px rgba(60, 64, 67, 0.3), 0 1px 3px 1px rgba(60, 64, 67, 0.15);\n",
              "    fill: var(--button-hover-fill-color);\n",
              "  }\n",
              "\n",
              "  .colab-df-quickchart-complete:disabled,\n",
              "  .colab-df-quickchart-complete:disabled:hover {\n",
              "    background-color: var(--disabled-bg-color);\n",
              "    fill: var(--disabled-fill-color);\n",
              "    box-shadow: none;\n",
              "  }\n",
              "\n",
              "  .colab-df-spinner {\n",
              "    border: 2px solid var(--fill-color);\n",
              "    border-color: transparent;\n",
              "    border-bottom-color: var(--fill-color);\n",
              "    animation:\n",
              "      spin 1s steps(1) infinite;\n",
              "  }\n",
              "\n",
              "  @keyframes spin {\n",
              "    0% {\n",
              "      border-color: transparent;\n",
              "      border-bottom-color: var(--fill-color);\n",
              "      border-left-color: var(--fill-color);\n",
              "    }\n",
              "    20% {\n",
              "      border-color: transparent;\n",
              "      border-left-color: var(--fill-color);\n",
              "      border-top-color: var(--fill-color);\n",
              "    }\n",
              "    30% {\n",
              "      border-color: transparent;\n",
              "      border-left-color: var(--fill-color);\n",
              "      border-top-color: var(--fill-color);\n",
              "      border-right-color: var(--fill-color);\n",
              "    }\n",
              "    40% {\n",
              "      border-color: transparent;\n",
              "      border-right-color: var(--fill-color);\n",
              "      border-top-color: var(--fill-color);\n",
              "    }\n",
              "    60% {\n",
              "      border-color: transparent;\n",
              "      border-right-color: var(--fill-color);\n",
              "    }\n",
              "    80% {\n",
              "      border-color: transparent;\n",
              "      border-right-color: var(--fill-color);\n",
              "      border-bottom-color: var(--fill-color);\n",
              "    }\n",
              "    90% {\n",
              "      border-color: transparent;\n",
              "      border-bottom-color: var(--fill-color);\n",
              "    }\n",
              "  }\n",
              "</style>\n",
              "\n",
              "  <script>\n",
              "    async function quickchart(key) {\n",
              "      const quickchartButtonEl =\n",
              "        document.querySelector('#' + key + ' button');\n",
              "      quickchartButtonEl.disabled = true;  // To prevent multiple clicks.\n",
              "      quickchartButtonEl.classList.add('colab-df-spinner');\n",
              "      try {\n",
              "        const charts = await google.colab.kernel.invokeFunction(\n",
              "            'suggestCharts', [key], {});\n",
              "      } catch (error) {\n",
              "        console.error('Error during call to suggestCharts:', error);\n",
              "      }\n",
              "      quickchartButtonEl.classList.remove('colab-df-spinner');\n",
              "      quickchartButtonEl.classList.add('colab-df-quickchart-complete');\n",
              "    }\n",
              "    (() => {\n",
              "      let quickchartButtonEl =\n",
              "        document.querySelector('#df-b31a46c4-457b-46ce-bd04-ff9ef425b380 button');\n",
              "      quickchartButtonEl.style.display =\n",
              "        google.colab.kernel.accessAllowed ? 'block' : 'none';\n",
              "    })();\n",
              "  </script>\n",
              "</div>\n",
              "\n",
              "    </div>\n",
              "  </div>\n"
            ],
            "application/vnd.google.colaboratory.intrinsic+json": {
              "type": "dataframe",
              "variable_name": "data1",
              "summary": "{\n  \"name\": \"data1\",\n  \"rows\": 40000,\n  \"fields\": [\n    {\n      \"column\": \"tweet_id\",\n      \"properties\": {\n        \"dtype\": \"number\",\n        \"std\": 118857896,\n        \"min\": 1693956175,\n        \"max\": 1966441171,\n        \"num_unique_values\": 40000,\n        \"samples\": [\n          1752414968,\n          1965295852,\n          1696219218\n        ],\n        \"semantic_type\": \"\",\n        \"description\": \"\"\n      }\n    },\n    {\n      \"column\": \"sentiment\",\n      \"properties\": {\n        \"dtype\": \"category\",\n        \"num_unique_values\": 13,\n        \"samples\": [\n          \"relief\",\n          \"happiness\",\n          \"empty\"\n        ],\n        \"semantic_type\": \"\",\n        \"description\": \"\"\n      }\n    },\n    {\n      \"column\": \"content\",\n      \"properties\": {\n        \"dtype\": \"string\",\n        \"num_unique_values\": 39826,\n        \"samples\": [\n          \"stunned was i voice amazing an have you and songs, your of one heard i @davedays\",\n          \"8am. its if as up now &amp; news 10pm the of start the exactly @ asleep fell i tired. been have must i wow\",\n          \"sad? you are why @misssammibaby\"\n        ],\n        \"semantic_type\": \"\",\n        \"description\": \"\"\n      }\n    }\n  ]\n}"
            }
          },
          "metadata": {},
          "execution_count": 20
        }
      ]
    },
    {
      "cell_type": "markdown",
      "source": [
        "Splitting of the Dataset"
      ],
      "metadata": {
        "id": "0UO6ol5LVtrs"
      }
    },
    {
      "cell_type": "code",
      "source": [
        "m1 = data1.shape[0]\n",
        "train_split_1 = 0.80 * m1\n",
        "val_split_1 = (1 - 0.80) * m1\n",
        "test_split_1 = 0.20 * val_split_1\n",
        "val_split_1 = (1 - 0.20) * val_split_1\n",
        "\n",
        "print('Splitting ratio: ')\n",
        "print()\n",
        "print('train_split: ', train_split_1, ', val_split: ', val_split_1, ', test-split: ', test_split_1)\n",
        "\n",
        "train_data1 = data1.iloc[:int(train_split_1)]\n",
        "val_data1 = data1.iloc[int(train_split_1) + 1: int(train_split_1) + int(val_split_1)]\n",
        "test_data1 = data1.iloc[int(train_split_1) + int(val_split_1) + 1 : int(train_split_1) + int(val_split_1) + int(test_split_1)]\n",
        "print()\n",
        "print('All_Shapes: ')\n",
        "print()\n",
        "print(train_data1.shape, val_data1.shape, test_data1.shape)\n",
        "\n",
        "del val_split_1\n",
        "del train_split_1\n",
        "del test_split_1"
      ],
      "metadata": {
        "colab": {
          "base_uri": "https://localhost:8080/"
        },
        "id": "SWGES_4SjidK",
        "outputId": "32beb6d5-d917-4f39-978d-6a8423707d21"
      },
      "execution_count": null,
      "outputs": [
        {
          "output_type": "stream",
          "name": "stdout",
          "text": [
            "Splitting ratio: \n",
            "\n",
            "train_split:  32000.0 , val_split:  6399.999999999999 , test-split:  1599.9999999999998\n",
            "\n",
            "All_Shapes: \n",
            "\n",
            "(32000, 3) (6398, 3) (1598, 3)\n"
          ]
        }
      ]
    },
    {
      "cell_type": "markdown",
      "source": [
        "Text Cleaning and Pre-processing"
      ],
      "metadata": {
        "id": "up_t6d3cVxC2"
      }
    },
    {
      "cell_type": "code",
      "source": [
        "content_text1 = train_data1.content.tolist()\n",
        "all_classes1 = train_data1.sentiment.unique().tolist()\n",
        "content_text1 = train_data1.content.tolist()\n",
        "ex_char1 = string.punctuation\n",
        "ex_char1 = ex_char1.replace('~', '')\n",
        "c_text1 = '~~~~~~'.join(content_text1)\n",
        "\n",
        "x1 = c_text1.translate(str.maketrans('', '', ex_char1))\n",
        "c_text1 = x1.split('~~~~~~')\n",
        "\n",
        "#print('Samples: ',len(c_text))\n",
        "\n",
        "token_data1 = tf.keras.preprocessing.text.Tokenizer(num_words=None,\n",
        "    filters='!\"#$%&()*+,-./:;<=>?@[\\\\]^_`{|}~\\t\\n',lower=True,split=' ')\n",
        "token_data1.fit_on_texts(c_text1)\n",
        "ind_text1 = token_data1.texts_to_sequences(c_text1)\n",
        "\n",
        "print()\n",
        "\n",
        "print('All_samples: ', len(ind_text1))\n",
        "word_index1 = token_data1.word_index\n",
        "print('Diff. words: ', len(list(word_index1)))"
      ],
      "metadata": {
        "colab": {
          "base_uri": "https://localhost:8080/"
        },
        "id": "sWVwGeikjkiH",
        "outputId": "f3c56295-0c5f-43ad-cec4-46bdfcd6e401"
      },
      "execution_count": null,
      "outputs": [
        {
          "output_type": "stream",
          "name": "stdout",
          "text": [
            "\n",
            "All_samples:  32000\n",
            "Diff. words:  45303\n"
          ]
        }
      ]
    },
    {
      "cell_type": "code",
      "source": [
        "label_token1 = tf.keras.preprocessing.text.Tokenizer(num_words=len(all_classes1),\n",
        "    filters='!\"#$%&()*+,-./:;<=>?@[\\\\]^_`{|}~\\t\\n',lower=True,split=' ')\n",
        "classes1 = ' '.join(all_classes1)\n",
        "label_token1.fit_on_texts([classes1])\n",
        "label_index1 = label_token1.word_index\n",
        "print('No. of Labels: ',len(list(label_index1)))\n",
        "print()\n",
        "label_index1 = {key:value-1 for key, value in label_index1.items()}\n",
        "inv_label_index1 = {value:key for key, value in label_index1.items()}\n",
        "print()\n",
        "print(inv_label_index1)"
      ],
      "metadata": {
        "colab": {
          "base_uri": "https://localhost:8080/"
        },
        "id": "WKi285OojmiB",
        "outputId": "52f37873-eeb1-4d50-d980-4c728d2bf07f"
      },
      "execution_count": null,
      "outputs": [
        {
          "output_type": "stream",
          "name": "stdout",
          "text": [
            "No. of Labels:  13\n",
            "\n",
            "\n",
            "{0: 'empty', 1: 'sadness', 2: 'enthusiasm', 3: 'neutral', 4: 'worry', 5: 'surprise', 6: 'love', 7: 'fun', 8: 'hate', 9: 'happiness', 10: 'boredom', 11: 'relief', 12: 'anger'}\n"
          ]
        }
      ]
    },
    {
      "cell_type": "code",
      "source": [
        "y_train1 = []\n",
        "for i in train_data1.sentiment:\n",
        "    y_train1.append(label_index1.get(i))\n",
        "y_train1 = np.array(y_train1)\n",
        "print('Label_shape: ', y_train1.shape)\n",
        "pprint(y_train1[:10])"
      ],
      "metadata": {
        "colab": {
          "base_uri": "https://localhost:8080/"
        },
        "id": "43gzzfiYjoQy",
        "outputId": "3407dcd5-639a-4540-b413-47fc7c899b12"
      },
      "execution_count": null,
      "outputs": [
        {
          "output_type": "stream",
          "name": "stdout",
          "text": [
            "Label_shape:  (32000,)\n",
            "array([0, 1, 1, 2, 3, 4, 1, 4, 1, 1])\n"
          ]
        }
      ]
    },
    {
      "cell_type": "code",
      "source": [
        "x_train1 = tf.keras.preprocessing.sequence.pad_sequences(ind_text1, padding='post')\n",
        "\n",
        "max_inp_len1 = x_train1.shape[1]\n",
        "print('max_input_length: ', max_inp_len1)\n",
        "\n",
        "\n",
        "print('x_train_shape: ', x_train1.shape, ', y_train_shape: ', y_train1.shape)\n"
      ],
      "metadata": {
        "colab": {
          "base_uri": "https://localhost:8080/"
        },
        "id": "lVAe8HCAjqY6",
        "outputId": "3ca38f5b-4190-4afc-e4cd-c271e8c0591a"
      },
      "execution_count": null,
      "outputs": [
        {
          "output_type": "stream",
          "name": "stdout",
          "text": [
            "max_input_length:  33\n",
            "x_train_shape:  (32000, 33) , y_train_shape:  (32000,)\n"
          ]
        }
      ]
    },
    {
      "cell_type": "code",
      "source": [
        "import numpy as np\n",
        "import tensorflow as tf\n",
        "import string\n",
        "\n",
        "def val_preprocess(val_data, token_data, label_index):\n",
        "    content_text = val_data.content.tolist()\n",
        "    ex_char = string.punctuation.replace('~', '')\n",
        "    c_text = '~~~~~~'.join(content_text).translate(str.maketrans('', '', ex_char)).split('~~~~~~')\n",
        "\n",
        "    print('Val_samples: ', len(c_text))\n",
        "\n",
        "    # Tokenize and then pad sequences\n",
        "    ind_text = token_data.texts_to_sequences(c_text)\n",
        "    x_val = tf.keras.preprocessing.sequence.pad_sequences(ind_text, padding='post')\n",
        "\n",
        "    print('All_Val_samples: ', len(ind_text))\n",
        "\n",
        "    # Prepare labels\n",
        "    y_val = np.array([label_index.get(i, -1) for i in val_data.sentiment])\n",
        "    print('Label_shape: ', y_val.shape)\n",
        "\n",
        "    return x_val, y_val\n",
        "\n",
        "\n",
        "def test_preprocess(test_data, token_data, label_index):\n",
        "    content_text = test_data.content.tolist()\n",
        "    # Remove redundant line: all_classes = test_data.sentiment.unique().tolist()\n",
        "    ex_char = string.punctuation.replace('~', '')  # Exclude '~' from being removed\n",
        "    c_text = '~~~~~~'.join(content_text).translate(str.maketrans('', '', ex_char)).split('~~~~~~')\n",
        "\n",
        "    print('Again_Test_samples: ', len(c_text))\n",
        "    ind_text = token_data.texts_to_sequences(c_text)\n",
        "\n",
        "    # Use pad_sequences here, no need to convert to numpy array manually after this\n",
        "    x_test = tf.keras.preprocessing.sequence.pad_sequences(ind_text, padding='post')\n",
        "    print('\\nAll_Test_samples: ', len(ind_text))\n",
        "\n",
        "    y_test = [label_index.get(i, -1) for i in test_data.sentiment]  # Use default value for missing labels\n",
        "    y_test = np.array(y_test)\n",
        "    print('Label_shape: ', y_test.shape)\n",
        "\n",
        "    return x_test, y_test\n",
        "\n",
        "\n",
        "print('Val_Preprocessing:')\n",
        "x_val1, y_val1 = val_preprocess(val_data1, token_data1, label_index1)\n",
        "#print(x_val1.shape, y_val1.shape)\n",
        "print('--------')\n",
        "print('Test_Preprocessing ...')\n",
        "x_test1, y_test1 = test_preprocess(test_data1, token_data1, label_index1)\n",
        "#print(x_test1.shape, y_test1.shape)"
      ],
      "metadata": {
        "colab": {
          "base_uri": "https://localhost:8080/"
        },
        "id": "JnH3B5bLjsZA",
        "outputId": "d6f6d61e-ce93-4ef8-8366-a82f6e8246ba"
      },
      "execution_count": null,
      "outputs": [
        {
          "output_type": "stream",
          "name": "stdout",
          "text": [
            "Val_Preprocessing:\n",
            "Val_samples:  6398\n",
            "All_Val_samples:  6398\n",
            "Label_shape:  (6398,)\n",
            "--------\n",
            "Test_Preprocessing ...\n",
            "Again_Test_samples:  1598\n",
            "\n",
            "All_Test_samples:  1598\n",
            "Label_shape:  (1598,)\n"
          ]
        }
      ]
    },
    {
      "cell_type": "code",
      "source": [
        "x_val1 = tf.keras.preprocessing.sequence.pad_sequences(x_val1, maxlen = max_inp_len1, padding = 'post')\n",
        "print('x_val_shape: ',x_val1.shape, ', y_val_shape: ', y_val1.shape)\n",
        "x_test1 = tf.keras.preprocessing.sequence.pad_sequences(x_test1, maxlen = max_inp_len1, padding = 'post')\n",
        "print('x_test_shape: ',x_test1.shape, ', y_test_shape: ', y_test1.shape)"
      ],
      "metadata": {
        "colab": {
          "base_uri": "https://localhost:8080/"
        },
        "id": "csdoYVM2juYX",
        "outputId": "208dc318-37ec-41e0-e0ec-c6d24b1d0551"
      },
      "execution_count": null,
      "outputs": [
        {
          "output_type": "stream",
          "name": "stdout",
          "text": [
            "x_val_shape:  (6398, 33) , y_val_shape:  (6398,)\n",
            "x_test_shape:  (1598, 33) , y_test_shape:  (1598,)\n"
          ]
        }
      ]
    },
    {
      "cell_type": "markdown",
      "source": [
        "Model Building and Evaluation"
      ],
      "metadata": {
        "id": "f4oTt4deV62H"
      }
    },
    {
      "cell_type": "code",
      "source": [
        "from tensorflow.keras.models import Sequential\n",
        "from tensorflow.keras.layers import SimpleRNN, Dense, Bidirectional\n",
        "\n",
        "# Define the maximum length of your input sequences\n",
        "max_input_length = 33\n",
        "\n",
        "# Define the number of unique sentiment values\n",
        "num_sentiment_values = 13\n",
        "\n",
        "# Define the number of RNN layers and the number of units in each layer\n",
        "num_rnn_layers = 2\n",
        "rnn_units = 128\n",
        "\n",
        "# Create the model\n",
        "model1 = Sequential()\n",
        "\n",
        "# Add the first Bidirectional RNN layer with input_shape=(max_input_length, 1) if your input is univariate\n",
        "# If your input has multiple features, use input_shape=(max_input_length, num_features)\n",
        "model1.add(Bidirectional(SimpleRNN(units=rnn_units, return_sequences=True), input_shape=(max_input_length, 1)))\n",
        "\n",
        "# Add additional Bidirectional RNN layers if needed\n",
        "for _ in range(num_rnn_layers - 1):\n",
        "    model1.add(Bidirectional(SimpleRNN(units=rnn_units, return_sequences=True)))\n",
        "\n",
        "# Add a final Bidirectional RNN layer without return_sequences=True if the next layer is not RNN\n",
        "model1.add(Bidirectional(SimpleRNN(units=rnn_units)))\n",
        "\n",
        "# Add a Dense layer with the number of unique sentiment values as the number of units\n",
        "model1.add(Dense(num_sentiment_values, activation='softmax'))\n",
        "\n",
        "# Compile the model\n",
        "model1.compile(optimizer='adam', loss='sparse_categorical_crossentropy', metrics=['accuracy'])\n",
        "\n",
        "# Print the model summary\n",
        "model1.summary()\n"
      ],
      "metadata": {
        "colab": {
          "base_uri": "https://localhost:8080/"
        },
        "id": "vbNpbHj_jwmH",
        "outputId": "0704e6ac-fe32-4b6e-ea12-7884ef65ba0a"
      },
      "execution_count": null,
      "outputs": [
        {
          "output_type": "stream",
          "name": "stdout",
          "text": [
            "Model: \"sequential_1\"\n",
            "_________________________________________________________________\n",
            " Layer (type)                Output Shape              Param #   \n",
            "=================================================================\n",
            " bidirectional_3 (Bidirecti  (None, 33, 256)           33280     \n",
            " onal)                                                           \n",
            "                                                                 \n",
            " bidirectional_4 (Bidirecti  (None, 33, 256)           98560     \n",
            " onal)                                                           \n",
            "                                                                 \n",
            " bidirectional_5 (Bidirecti  (None, 256)               98560     \n",
            " onal)                                                           \n",
            "                                                                 \n",
            " dense_1 (Dense)             (None, 13)                3341      \n",
            "                                                                 \n",
            "=================================================================\n",
            "Total params: 233741 (913.05 KB)\n",
            "Trainable params: 233741 (913.05 KB)\n",
            "Non-trainable params: 0 (0.00 Byte)\n",
            "_________________________________________________________________\n"
          ]
        }
      ]
    },
    {
      "cell_type": "code",
      "source": [
        "hit1 = model1.fit(x_train1, y_train1, epochs=25, validation_data=(x_val1, y_val1), batch_size=32)\n",
        "print()\n",
        "print('-- Evaluation --')\n",
        "model1.evaluate(x_test1, y_test1)\n",
        "print()\n",
        "hit_1 = hit1.history\n",
        "\n",
        "fig, axs = plt.subplots(1,2, figsize=(16,8))\n",
        "\n",
        "axs[0].set_title('Loss_Curve')\n",
        "ep = range(len(hit_2['loss']))\n",
        "axs[0].plot(ep, hit_2['loss'],'o--r',label = 'Training_loss')\n",
        "axs[0].plot(ep, hit_2['val_loss'],'o--b',label = 'Val_loss')\n",
        "axs[0].set_xlabel('epoch')\n",
        "axs[0].set_ylabel('Loss')\n",
        "axs[0].legend()\n",
        "\n",
        "axs[1].set_title('Acc_Curve')\n",
        "ep = range(len(hit_2['loss']))\n",
        "axs[1].plot(ep, hit_2['accuracy'],'o--r',label = 'Training_acc')\n",
        "axs[1].plot(ep, hit_2['val_accuracy'],'o--b',label = 'Val_acc')\n",
        "axs[1].set_xlabel('epoch')\n",
        "axs[1].set_ylabel('Accuracy')\n",
        "axs[1].legend()\n",
        "\n",
        "plt.show()"
      ],
      "metadata": {
        "colab": {
          "base_uri": "https://localhost:8080/",
          "height": 1000
        },
        "id": "mXUhXH2wj9cE",
        "outputId": "bda3be4e-17c5-4cab-b9ff-0d8dcbcfb37b"
      },
      "execution_count": null,
      "outputs": [
        {
          "output_type": "stream",
          "name": "stdout",
          "text": [
            "Epoch 1/25\n",
            "1000/1000 [==============================] - 87s 82ms/step - loss: 2.1640 - accuracy: 0.2348 - val_loss: 2.2707 - val_accuracy: 0.2285\n",
            "Epoch 2/25\n",
            "1000/1000 [==============================] - 82s 82ms/step - loss: 2.1416 - accuracy: 0.2403 - val_loss: 2.3432 - val_accuracy: 0.1885\n",
            "Epoch 3/25\n",
            "1000/1000 [==============================] - 82s 82ms/step - loss: 2.1507 - accuracy: 0.2270 - val_loss: 2.3311 - val_accuracy: 0.1804\n",
            "Epoch 4/25\n",
            "1000/1000 [==============================] - 82s 82ms/step - loss: 2.1462 - accuracy: 0.2328 - val_loss: 2.3047 - val_accuracy: 0.1218\n",
            "Epoch 5/25\n",
            "1000/1000 [==============================] - 81s 81ms/step - loss: 2.1463 - accuracy: 0.2303 - val_loss: 2.3846 - val_accuracy: 0.0808\n",
            "Epoch 6/25\n",
            "1000/1000 [==============================] - 82s 82ms/step - loss: 2.1464 - accuracy: 0.2331 - val_loss: 2.3403 - val_accuracy: 0.1214\n",
            "Epoch 7/25\n",
            "1000/1000 [==============================] - 81s 81ms/step - loss: 2.1460 - accuracy: 0.2283 - val_loss: 2.3341 - val_accuracy: 0.1100\n",
            "Epoch 8/25\n",
            "1000/1000 [==============================] - 81s 81ms/step - loss: 2.1472 - accuracy: 0.2313 - val_loss: 2.3458 - val_accuracy: 0.1972\n",
            "Epoch 9/25\n",
            "1000/1000 [==============================] - 80s 80ms/step - loss: 2.1518 - accuracy: 0.2292 - val_loss: 2.3320 - val_accuracy: 0.1735\n",
            "Epoch 10/25\n",
            "1000/1000 [==============================] - 80s 80ms/step - loss: 2.1476 - accuracy: 0.2363 - val_loss: 2.2598 - val_accuracy: 0.1869\n",
            "Epoch 11/25\n",
            "1000/1000 [==============================] - 81s 81ms/step - loss: 2.1456 - accuracy: 0.2306 - val_loss: 2.2905 - val_accuracy: 0.1755\n",
            "Epoch 12/25\n",
            "1000/1000 [==============================] - 83s 83ms/step - loss: 2.1448 - accuracy: 0.2336 - val_loss: 2.4712 - val_accuracy: 0.1466\n",
            "Epoch 13/25\n",
            "1000/1000 [==============================] - 81s 81ms/step - loss: 2.1450 - accuracy: 0.2351 - val_loss: 2.3238 - val_accuracy: 0.1466\n",
            "Epoch 14/25\n",
            "1000/1000 [==============================] - 82s 82ms/step - loss: 2.1480 - accuracy: 0.2380 - val_loss: 2.3279 - val_accuracy: 0.2287\n",
            "Epoch 15/25\n",
            "1000/1000 [==============================] - 82s 82ms/step - loss: 2.1476 - accuracy: 0.2363 - val_loss: 2.3037 - val_accuracy: 0.1808\n",
            "Epoch 16/25\n",
            "1000/1000 [==============================] - 81s 81ms/step - loss: 2.1465 - accuracy: 0.2373 - val_loss: 2.3078 - val_accuracy: 0.1532\n",
            "Epoch 17/25\n",
            "1000/1000 [==============================] - 81s 81ms/step - loss: 2.1430 - accuracy: 0.2409 - val_loss: 2.3053 - val_accuracy: 0.1330\n",
            "Epoch 18/25\n",
            "1000/1000 [==============================] - 80s 80ms/step - loss: 2.1435 - accuracy: 0.2380 - val_loss: 2.3944 - val_accuracy: 0.1308\n",
            "Epoch 19/25\n",
            "1000/1000 [==============================] - 81s 81ms/step - loss: 2.1518 - accuracy: 0.2341 - val_loss: 2.3566 - val_accuracy: 0.1621\n",
            "Epoch 20/25\n",
            "1000/1000 [==============================] - 82s 82ms/step - loss: 2.1456 - accuracy: 0.2376 - val_loss: 2.4051 - val_accuracy: 0.1707\n",
            "Epoch 21/25\n",
            "1000/1000 [==============================] - 82s 82ms/step - loss: 2.1416 - accuracy: 0.2429 - val_loss: 2.3295 - val_accuracy: 0.1726\n",
            "Epoch 22/25\n",
            "1000/1000 [==============================] - 80s 80ms/step - loss: 2.1423 - accuracy: 0.2408 - val_loss: 2.3702 - val_accuracy: 0.1189\n",
            "Epoch 23/25\n",
            "1000/1000 [==============================] - 82s 82ms/step - loss: 2.1435 - accuracy: 0.2388 - val_loss: 2.2525 - val_accuracy: 0.1596\n",
            "Epoch 24/25\n",
            "1000/1000 [==============================] - 80s 80ms/step - loss: 2.1423 - accuracy: 0.2403 - val_loss: 2.3698 - val_accuracy: 0.1407\n",
            "Epoch 25/25\n",
            "1000/1000 [==============================] - 82s 82ms/step - loss: 2.1450 - accuracy: 0.2414 - val_loss: 2.2992 - val_accuracy: 0.1566\n",
            "\n",
            "-- Evaluation --\n",
            "50/50 [==============================] - 1s 21ms/step - loss: 2.3002 - accuracy: 0.1527\n",
            "\n"
          ]
        },
        {
          "output_type": "display_data",
          "data": {
            "text/plain": [
              "<Figure size 1600x800 with 2 Axes>"
            ],
            "image/png": "[encoded data removed]"
          },
          "metadata": {}
        }
      ]
    },
    {
      "cell_type": "code",
      "source": [
        "from sklearn.metrics import confusion_matrix, f1_score, precision_score, recall_score, classification_report\n",
        "import numpy as np\n",
        "\n",
        "# Assuming ypred and y_test are already defined as per your previous code\n",
        "ypred1 = model1.predict(x_test1)\n",
        "ypred1 = np.argmax(ypred1, axis=-1)\n",
        "\n",
        "confuse_matrix  = confusion_matrix(y_test1, ypred1)\n",
        "\n",
        "print('--Confusion_Matrix--')\n",
        "print(confuse_matrix)\n",
        "print()\n",
        "\n",
        "print('f1_score: ', f1_score(y_test1, ypred1, average='micro'))\n",
        "print('Precision: ', precision_score(y_test1, ypred1, average='micro'))\n",
        "print('Recall: ', recall_score(y_test1, ypred1, average='micro'))\n",
        "\n",
        "# Getting the classification report\n",
        "print('--Classification Report--')\n",
        "print(classification_report(y_test1, ypred1))"
      ],
      "metadata": {
        "colab": {
          "base_uri": "https://localhost:8080/"
        },
        "id": "wyMP3GAakC4b",
        "outputId": "bb35e18b-5051-4636-bbb6-c0e07f42d980"
      },
      "execution_count": null,
      "outputs": [
        {
          "output_type": "stream",
          "name": "stdout",
          "text": [
            "50/50 [==============================] - 2s 20ms/step\n",
            "--Confusion_Matrix--\n",
            "[[  0   3   0  11  12   0   0   0   0   0   0   0   0]\n",
            " [  0   6   0   9  37   0   0   0   0   0   0   0   0]\n",
            " [  0   6   0  14  19   0   0   0   0   0   0   0   0]\n",
            " [  0  33   0 123 209   0   0   0   0   0   0   0   5]\n",
            " [  0  21   0  41 115   0   0   0   0   0   0   0   2]\n",
            " [  0  11   0  26  48   0   0   0   0   0   0   0   0]\n",
            " [  0  32   0  64 181   0   0   0   0   0   0   0   0]\n",
            " [  0   7   0  21  62   0   0   0   0   0   0   0   0]\n",
            " [  0   2   0   5  16   0   0   0   0   0   0   0   0]\n",
            " [  0  33   0  84 246   0   0   0   0   0   0   0   0]\n",
            " [  0   0   0   1   4   0   0   0   0   0   0   0   0]\n",
            " [  0   6   0  21  61   0   0   0   0   0   0   0   0]\n",
            " [  0   0   0   0   1   0   0   0   0   0   0   0   0]]\n",
            "\n",
            "f1_score:  0.15269086357947434\n",
            "Precision:  0.15269086357947434\n",
            "Recall:  0.15269086357947434\n",
            "--Classification Report--\n",
            "              precision    recall  f1-score   support\n",
            "\n",
            "           0       0.00      0.00      0.00        26\n",
            "           1       0.04      0.12      0.06        52\n",
            "           2       0.00      0.00      0.00        39\n",
            "           3       0.29      0.33      0.31       370\n",
            "           4       0.11      0.64      0.19       179\n",
            "           5       0.00      0.00      0.00        85\n",
            "           6       0.00      0.00      0.00       277\n",
            "           7       0.00      0.00      0.00        90\n",
            "           8       0.00      0.00      0.00        23\n",
            "           9       0.00      0.00      0.00       363\n",
            "          10       0.00      0.00      0.00         5\n",
            "          11       0.00      0.00      0.00        88\n",
            "          12       0.00      0.00      0.00         1\n",
            "\n",
            "    accuracy                           0.15      1598\n",
            "   macro avg       0.03      0.08      0.04      1598\n",
            "weighted avg       0.08      0.15      0.10      1598\n",
            "\n"
          ]
        }
      ]
    },
    {
      "cell_type": "code",
      "source": [
        "import tensorflow as tf\n",
        "\n",
        "input_sentence1 = \"success his celebrating are They\"\n",
        "\n",
        "sequence1 = token_data1.texts_to_sequences([input_sentence1])\n",
        "\n",
        "padded_sequence1 = tf.keras.preprocessing.sequence.pad_sequences(sequence1, maxlen=33, padding='post')\n",
        "\n",
        "prediction1 = model1.predict(padded_sequence1)\n",
        "predicted_class1 = tf.argmax(prediction1, axis=1).numpy()\n",
        "\n",
        "sentiment_label1 = inv_label_index1[predicted_class1[0]]\n",
        "\n",
        "print(f\"Predicted sentiment: {sentiment_label1}\")"
      ],
      "metadata": {
        "colab": {
          "base_uri": "https://localhost:8080/"
        },
        "id": "4KyZfwiikFZn",
        "outputId": "880ca57f-77d2-4708-c4ef-8d7c9c10f48d"
      },
      "execution_count": null,
      "outputs": [
        {
          "output_type": "stream",
          "name": "stdout",
          "text": [
            "1/1 [==============================] - 0s 26ms/step\n",
            "Predicted sentiment: neutral\n"
          ]
        }
      ]
    },
    {
      "cell_type": "code",
      "source": [],
      "metadata": {
        "id": "yaZJj9OakHih"
      },
      "execution_count": null,
      "outputs": []
    }
  ]
}