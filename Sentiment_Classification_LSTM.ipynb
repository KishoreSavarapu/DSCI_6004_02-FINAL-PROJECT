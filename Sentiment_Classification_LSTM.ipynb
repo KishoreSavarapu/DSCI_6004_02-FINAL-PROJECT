{
  "nbformat": 4,
  "nbformat_minor": 0,
  "metadata": {
    "colab": {
      "provenance": []
    },
    "kernelspec": {
      "name": "python3",
      "display_name": "Python 3"
    },
    "language_info": {
      "name": "python"
    }
  },
  "cells": [
    {
      "cell_type": "markdown",
      "source": [
        "# DSCI_6004_02 NATURAL LANGUAGE PROCESSING\n",
        "###            PROJECT BY\n",
        "## AMANI KAMBHAM AND LAKSHMI SAI KISHORE SAVARAPU"
      ],
      "metadata": {
        "id": "fUr0PFQd1nHu"
      }
    },
    {
      "cell_type": "markdown",
      "source": [
        "### TITLE:EMOTION CLASSIFICATION OF TWEETS USING NATURAL LANGUAGE PROCESSING"
      ],
      "metadata": {
        "id": "POGKAP_L1nAp"
      }
    },
    {
      "cell_type": "markdown",
      "source": [
        "Importing necessary Modules and Libraries"
      ],
      "metadata": {
        "id": "8mjr7HbB1m40"
      }
    },
    {
      "cell_type": "code",
      "execution_count": null,
      "metadata": {
        "id": "EwQqrPk_-BEk"
      },
      "outputs": [],
      "source": [
        "import pandas as pd\n",
        "from pprint import pprint\n",
        "import warnings\n",
        "warnings.filterwarnings('ignore')\n",
        "import gc\n",
        "import seaborn as sns\n",
        "import matplotlib.pyplot as plt\n",
        "from sklearn.utils import resample\n",
        "import string\n",
        "import numpy as np\n",
        "import tensorflow as tf\n",
        "# import tensorflow_addons as tfa\n",
        "#import keras_tuner as kt"
      ]
    },
    {
      "cell_type": "markdown",
      "source": [
        "Importing the Dataset"
      ],
      "metadata": {
        "id": "sCdXRfyZ1wnk"
      }
    },
    {
      "cell_type": "code",
      "source": [
        "data = pd.read_csv('tweet_emotions.csv')\n",
        "data.head()"
      ],
      "metadata": {
        "colab": {
          "base_uri": "https://localhost:8080/",
          "height": 206
        },
        "id": "HXDiUdSCAr7M",
        "outputId": "9bd19d0b-b488-4f8b-b7a2-76317de4e64c"
      },
      "execution_count": null,
      "outputs": [
        {
          "output_type": "execute_result",
          "data": {
            "text/plain": [
              "     tweet_id   sentiment                                            content\n",
              "0  1956967341       empty  @tiffanylue i know  i was listenin to bad habi...\n",
              "1  1956967666     sadness  Layin n bed with a headache  ughhhh...waitin o...\n",
              "2  1956967696     sadness                Funeral ceremony...gloomy friday...\n",
              "3  1956967789  enthusiasm               wants to hang out with friends SOON!\n",
              "4  1956968416     neutral  @dannycastillo We want to trade with someone w..."
            ],
            "text/html": [
              "\n",
              "  <div id=\"df-6006a2e4-9383-4b2a-a6b8-82a744502d48\" class=\"colab-df-container\">\n",
              "    <div>\n",
              "<style scoped>\n",
              "    .dataframe tbody tr th:only-of-type {\n",
              "        vertical-align: middle;\n",
              "    }\n",
              "\n",
              "    .dataframe tbody tr th {\n",
              "        vertical-align: top;\n",
              "    }\n",
              "\n",
              "    .dataframe thead th {\n",
              "        text-align: right;\n",
              "    }\n",
              "</style>\n",
              "<table border=\"1\" class=\"dataframe\">\n",
              "  <thead>\n",
              "    <tr style=\"text-align: right;\">\n",
              "      <th></th>\n",
              "      <th>tweet_id</th>\n",
              "      <th>sentiment</th>\n",
              "      <th>content</th>\n",
              "    </tr>\n",
              "  </thead>\n",
              "  <tbody>\n",
              "    <tr>\n",
              "      <th>0</th>\n",
              "      <td>1956967341</td>\n",
              "      <td>empty</td>\n",
              "      <td>@tiffanylue i know  i was listenin to bad habi...</td>\n",
              "    </tr>\n",
              "    <tr>\n",
              "      <th>1</th>\n",
              "      <td>1956967666</td>\n",
              "      <td>sadness</td>\n",
              "      <td>Layin n bed with a headache  ughhhh...waitin o...</td>\n",
              "    </tr>\n",
              "    <tr>\n",
              "      <th>2</th>\n",
              "      <td>1956967696</td>\n",
              "      <td>sadness</td>\n",
              "      <td>Funeral ceremony...gloomy friday...</td>\n",
              "    </tr>\n",
              "    <tr>\n",
              "      <th>3</th>\n",
              "      <td>1956967789</td>\n",
              "      <td>enthusiasm</td>\n",
              "      <td>wants to hang out with friends SOON!</td>\n",
              "    </tr>\n",
              "    <tr>\n",
              "      <th>4</th>\n",
              "      <td>1956968416</td>\n",
              "      <td>neutral</td>\n",
              "      <td>@dannycastillo We want to trade with someone w...</td>\n",
              "    </tr>\n",
              "  </tbody>\n",
              "</table>\n",
              "</div>\n",
              "    <div class=\"colab-df-buttons\">\n",
              "\n",
              "  <div class=\"colab-df-container\">\n",
              "    <button class=\"colab-df-convert\" onclick=\"convertToInteractive('df-6006a2e4-9383-4b2a-a6b8-82a744502d48')\"\n",
              "            title=\"Convert this dataframe to an interactive table.\"\n",
              "            style=\"display:none;\">\n",
              "\n",
              "  <svg xmlns=\"http://www.w3.org/2000/svg\" height=\"24px\" viewBox=\"0 -960 960 960\">\n",
              "    <path d=\"M120-120v-720h720v720H120Zm60-500h600v-160H180v160Zm220 220h160v-160H400v160Zm0 220h160v-160H400v160ZM180-400h160v-160H180v160Zm440 0h160v-160H620v160ZM180-180h160v-160H180v160Zm440 0h160v-160H620v160Z\"/>\n",
              "  </svg>\n",
              "    </button>\n",
              "\n",
              "  <style>\n",
              "    .colab-df-container {\n",
              "      display:flex;\n",
              "      gap: 12px;\n",
              "    }\n",
              "\n",
              "    .colab-df-convert {\n",
              "      background-color: #E8F0FE;\n",
              "      border: none;\n",
              "      border-radius: 50%;\n",
              "      cursor: pointer;\n",
              "      display: none;\n",
              "      fill: #1967D2;\n",
              "      height: 32px;\n",
              "      padding: 0 0 0 0;\n",
              "      width: 32px;\n",
              "    }\n",
              "\n",
              "    .colab-df-convert:hover {\n",
              "      background-color: #E2EBFA;\n",
              "      box-shadow: 0px 1px 2px rgba(60, 64, 67, 0.3), 0px 1px 3px 1px rgba(60, 64, 67, 0.15);\n",
              "      fill: #174EA6;\n",
              "    }\n",
              "\n",
              "    .colab-df-buttons div {\n",
              "      margin-bottom: 4px;\n",
              "    }\n",
              "\n",
              "    [theme=dark] .colab-df-convert {\n",
              "      background-color: #3B4455;\n",
              "      fill: #D2E3FC;\n",
              "    }\n",
              "\n",
              "    [theme=dark] .colab-df-convert:hover {\n",
              "      background-color: #434B5C;\n",
              "      box-shadow: 0px 1px 3px 1px rgba(0, 0, 0, 0.15);\n",
              "      filter: drop-shadow(0px 1px 2px rgba(0, 0, 0, 0.3));\n",
              "      fill: #FFFFFF;\n",
              "    }\n",
              "  </style>\n",
              "\n",
              "    <script>\n",
              "      const buttonEl =\n",
              "        document.querySelector('#df-6006a2e4-9383-4b2a-a6b8-82a744502d48 button.colab-df-convert');\n",
              "      buttonEl.style.display =\n",
              "        google.colab.kernel.accessAllowed ? 'block' : 'none';\n",
              "\n",
              "      async function convertToInteractive(key) {\n",
              "        const element = document.querySelector('#df-6006a2e4-9383-4b2a-a6b8-82a744502d48');\n",
              "        const dataTable =\n",
              "          await google.colab.kernel.invokeFunction('convertToInteractive',\n",
              "                                                    [key], {});\n",
              "        if (!dataTable) return;\n",
              "\n",
              "        const docLinkHtml = 'Like what you see? Visit the ' +\n",
              "          '<a target=\"_blank\" href=https://colab.research.google.com/notebooks/data_table.ipynb>data table notebook</a>'\n",
              "          + ' to learn more about interactive tables.';\n",
              "        element.innerHTML = '';\n",
              "        dataTable['output_type'] = 'display_data';\n",
              "        await google.colab.output.renderOutput(dataTable, element);\n",
              "        const docLink = document.createElement('div');\n",
              "        docLink.innerHTML = docLinkHtml;\n",
              "        element.appendChild(docLink);\n",
              "      }\n",
              "    </script>\n",
              "  </div>\n",
              "\n",
              "\n",
              "<div id=\"df-0b02b1d0-dbe6-4719-b04e-48be10dbb7c6\">\n",
              "  <button class=\"colab-df-quickchart\" onclick=\"quickchart('df-0b02b1d0-dbe6-4719-b04e-48be10dbb7c6')\"\n",
              "            title=\"Suggest charts\"\n",
              "            style=\"display:none;\">\n",
              "\n",
              "<svg xmlns=\"http://www.w3.org/2000/svg\" height=\"24px\"viewBox=\"0 0 24 24\"\n",
              "     width=\"24px\">\n",
              "    <g>\n",
              "        <path d=\"M19 3H5c-1.1 0-2 .9-2 2v14c0 1.1.9 2 2 2h14c1.1 0 2-.9 2-2V5c0-1.1-.9-2-2-2zM9 17H7v-7h2v7zm4 0h-2V7h2v10zm4 0h-2v-4h2v4z\"/>\n",
              "    </g>\n",
              "</svg>\n",
              "  </button>\n",
              "\n",
              "<style>\n",
              "  .colab-df-quickchart {\n",
              "      --bg-color: #E8F0FE;\n",
              "      --fill-color: #1967D2;\n",
              "      --hover-bg-color: #E2EBFA;\n",
              "      --hover-fill-color: #174EA6;\n",
              "      --disabled-fill-color: #AAA;\n",
              "      --disabled-bg-color: #DDD;\n",
              "  }\n",
              "\n",
              "  [theme=dark] .colab-df-quickchart {\n",
              "      --bg-color: #3B4455;\n",
              "      --fill-color: #D2E3FC;\n",
              "      --hover-bg-color: #434B5C;\n",
              "      --hover-fill-color: #FFFFFF;\n",
              "      --disabled-bg-color: #3B4455;\n",
              "      --disabled-fill-color: #666;\n",
              "  }\n",
              "\n",
              "  .colab-df-quickchart {\n",
              "    background-color: var(--bg-color);\n",
              "    border: none;\n",
              "    border-radius: 50%;\n",
              "    cursor: pointer;\n",
              "    display: none;\n",
              "    fill: var(--fill-color);\n",
              "    height: 32px;\n",
              "    padding: 0;\n",
              "    width: 32px;\n",
              "  }\n",
              "\n",
              "  .colab-df-quickchart:hover {\n",
              "    background-color: var(--hover-bg-color);\n",
              "    box-shadow: 0 1px 2px rgba(60, 64, 67, 0.3), 0 1px 3px 1px rgba(60, 64, 67, 0.15);\n",
              "    fill: var(--button-hover-fill-color);\n",
              "  }\n",
              "\n",
              "  .colab-df-quickchart-complete:disabled,\n",
              "  .colab-df-quickchart-complete:disabled:hover {\n",
              "    background-color: var(--disabled-bg-color);\n",
              "    fill: var(--disabled-fill-color);\n",
              "    box-shadow: none;\n",
              "  }\n",
              "\n",
              "  .colab-df-spinner {\n",
              "    border: 2px solid var(--fill-color);\n",
              "    border-color: transparent;\n",
              "    border-bottom-color: var(--fill-color);\n",
              "    animation:\n",
              "      spin 1s steps(1) infinite;\n",
              "  }\n",
              "\n",
              "  @keyframes spin {\n",
              "    0% {\n",
              "      border-color: transparent;\n",
              "      border-bottom-color: var(--fill-color);\n",
              "      border-left-color: var(--fill-color);\n",
              "    }\n",
              "    20% {\n",
              "      border-color: transparent;\n",
              "      border-left-color: var(--fill-color);\n",
              "      border-top-color: var(--fill-color);\n",
              "    }\n",
              "    30% {\n",
              "      border-color: transparent;\n",
              "      border-left-color: var(--fill-color);\n",
              "      border-top-color: var(--fill-color);\n",
              "      border-right-color: var(--fill-color);\n",
              "    }\n",
              "    40% {\n",
              "      border-color: transparent;\n",
              "      border-right-color: var(--fill-color);\n",
              "      border-top-color: var(--fill-color);\n",
              "    }\n",
              "    60% {\n",
              "      border-color: transparent;\n",
              "      border-right-color: var(--fill-color);\n",
              "    }\n",
              "    80% {\n",
              "      border-color: transparent;\n",
              "      border-right-color: var(--fill-color);\n",
              "      border-bottom-color: var(--fill-color);\n",
              "    }\n",
              "    90% {\n",
              "      border-color: transparent;\n",
              "      border-bottom-color: var(--fill-color);\n",
              "    }\n",
              "  }\n",
              "</style>\n",
              "\n",
              "  <script>\n",
              "    async function quickchart(key) {\n",
              "      const quickchartButtonEl =\n",
              "        document.querySelector('#' + key + ' button');\n",
              "      quickchartButtonEl.disabled = true;  // To prevent multiple clicks.\n",
              "      quickchartButtonEl.classList.add('colab-df-spinner');\n",
              "      try {\n",
              "        const charts = await google.colab.kernel.invokeFunction(\n",
              "            'suggestCharts', [key], {});\n",
              "      } catch (error) {\n",
              "        console.error('Error during call to suggestCharts:', error);\n",
              "      }\n",
              "      quickchartButtonEl.classList.remove('colab-df-spinner');\n",
              "      quickchartButtonEl.classList.add('colab-df-quickchart-complete');\n",
              "    }\n",
              "    (() => {\n",
              "      let quickchartButtonEl =\n",
              "        document.querySelector('#df-0b02b1d0-dbe6-4719-b04e-48be10dbb7c6 button');\n",
              "      quickchartButtonEl.style.display =\n",
              "        google.colab.kernel.accessAllowed ? 'block' : 'none';\n",
              "    })();\n",
              "  </script>\n",
              "</div>\n",
              "\n",
              "    </div>\n",
              "  </div>\n"
            ],
            "application/vnd.google.colaboratory.intrinsic+json": {
              "type": "dataframe",
              "variable_name": "data",
              "summary": "{\n  \"name\": \"data\",\n  \"rows\": 40000,\n  \"fields\": [\n    {\n      \"column\": \"tweet_id\",\n      \"properties\": {\n        \"dtype\": \"number\",\n        \"std\": 118857896,\n        \"min\": 1693956175,\n        \"max\": 1966441171,\n        \"num_unique_values\": 40000,\n        \"samples\": [\n          1752414968,\n          1965295852,\n          1696219218\n        ],\n        \"semantic_type\": \"\",\n        \"description\": \"\"\n      }\n    },\n    {\n      \"column\": \"sentiment\",\n      \"properties\": {\n        \"dtype\": \"category\",\n        \"num_unique_values\": 13,\n        \"samples\": [\n          \"relief\",\n          \"happiness\",\n          \"empty\"\n        ],\n        \"semantic_type\": \"\",\n        \"description\": \"\"\n      }\n    },\n    {\n      \"column\": \"content\",\n      \"properties\": {\n        \"dtype\": \"string\",\n        \"num_unique_values\": 39827,\n        \"samples\": [\n          \"the sun is shinning! im off out!!\",\n          \"wow i must have been tired. i fell asleep @ exactly the start of the 10pm news &amp; now up as if its 8am.\",\n          \"@knobzie their loss\"\n        ],\n        \"semantic_type\": \"\",\n        \"description\": \"\"\n      }\n    }\n  ]\n}"
            }
          },
          "metadata": {},
          "execution_count": 2
        }
      ]
    },
    {
      "cell_type": "markdown",
      "source": [
        "Exploratory Data Analysis"
      ],
      "metadata": {
        "id": "L8I_llCE10ff"
      }
    },
    {
      "cell_type": "code",
      "source": [
        "len(data)"
      ],
      "metadata": {
        "colab": {
          "base_uri": "https://localhost:8080/"
        },
        "id": "wYZ2z77xErn3",
        "outputId": "d7428375-38a9-4213-a479-c9ef1fcb824f"
      },
      "execution_count": null,
      "outputs": [
        {
          "output_type": "execute_result",
          "data": {
            "text/plain": [
              "40000"
            ]
          },
          "metadata": {},
          "execution_count": 3
        }
      ]
    },
    {
      "cell_type": "code",
      "source": [
        "max_length = data['content'].str.len().max()\n",
        "\n",
        "print('The maximum lenght tweet is: ', max_length)"
      ],
      "metadata": {
        "colab": {
          "base_uri": "https://localhost:8080/"
        },
        "id": "v7tX7bUuG5O1",
        "outputId": "3b7ef79b-06b7-4a26-96f7-a9e38f775fa0"
      },
      "execution_count": null,
      "outputs": [
        {
          "output_type": "stream",
          "name": "stdout",
          "text": [
            "The maximum lenght tweet is:  167\n"
          ]
        }
      ]
    },
    {
      "cell_type": "code",
      "source": [
        "data_count = data.sentiment.value_counts()\n",
        "type(data_count)"
      ],
      "metadata": {
        "colab": {
          "base_uri": "https://localhost:8080/",
          "height": 203
        },
        "id": "HzPiBX0DEt6o",
        "outputId": "d5316b76-6d87-4c8b-cefd-4b6cc300b551"
      },
      "execution_count": null,
      "outputs": [
        {
          "output_type": "execute_result",
          "data": {
            "text/plain": [
              "pandas.core.series.Series"
            ],
            "text/html": [
              "<div style=\"max-width:800px; border: 1px solid var(--colab-border-color);\"><style>\n",
              "      pre.function-repr-contents {\n",
              "        overflow-x: auto;\n",
              "        padding: 8px 12px;\n",
              "        max-height: 500px;\n",
              "      }\n",
              "\n",
              "      pre.function-repr-contents.function-repr-contents-collapsed {\n",
              "        cursor: pointer;\n",
              "        max-height: 100px;\n",
              "      }\n",
              "    </style>\n",
              "    <pre style=\"white-space: initial; background:\n",
              "         var(--colab-secondary-surface-color); padding: 8px 12px;\n",
              "         border-bottom: 1px solid var(--colab-border-color);\"><b>pandas.core.series.Series</b><br/>def __init__(data=None, index=None, dtype: Dtype | None=None, name=None, copy: bool | None=None, fastpath: bool=False) -&gt; None</pre><pre class=\"function-repr-contents function-repr-contents-collapsed\" style=\"\"><a class=\"filepath\" style=\"display:none\" href=\"#\">/usr/local/lib/python3.10/dist-packages/pandas/core/series.py</a>One-dimensional ndarray with axis labels (including time series).\n",
              "\n",
              "Labels need not be unique but must be a hashable type. The object\n",
              "supports both integer- and label-based indexing and provides a host of\n",
              "methods for performing operations involving the index. Statistical\n",
              "methods from ndarray have been overridden to automatically exclude\n",
              "missing data (currently represented as NaN).\n",
              "\n",
              "Operations between Series (+, -, /, \\*, \\*\\*) align values based on their\n",
              "associated index values-- they need not be the same length. The result\n",
              "index will be the sorted union of the two indexes.\n",
              "\n",
              "Parameters\n",
              "----------\n",
              "data : array-like, Iterable, dict, or scalar value\n",
              "    Contains data stored in Series. If data is a dict, argument order is\n",
              "    maintained.\n",
              "index : array-like or Index (1d)\n",
              "    Values must be hashable and have the same length as `data`.\n",
              "    Non-unique index values are allowed. Will default to\n",
              "    RangeIndex (0, 1, 2, ..., n) if not provided. If data is dict-like\n",
              "    and index is None, then the keys in the data are used as the index. If the\n",
              "    index is not None, the resulting Series is reindexed with the index values.\n",
              "dtype : str, numpy.dtype, or ExtensionDtype, optional\n",
              "    Data type for the output Series. If not specified, this will be\n",
              "    inferred from `data`.\n",
              "    See the :ref:`user guide &lt;basics.dtypes&gt;` for more usages.\n",
              "name : Hashable, default None\n",
              "    The name to give to the Series.\n",
              "copy : bool, default False\n",
              "    Copy input data. Only affects Series or 1d ndarray input. See examples.\n",
              "\n",
              "Notes\n",
              "-----\n",
              "Please reference the :ref:`User Guide &lt;basics.series&gt;` for more information.\n",
              "\n",
              "Examples\n",
              "--------\n",
              "Constructing Series from a dictionary with an Index specified\n",
              "\n",
              "&gt;&gt;&gt; d = {&#x27;a&#x27;: 1, &#x27;b&#x27;: 2, &#x27;c&#x27;: 3}\n",
              "&gt;&gt;&gt; ser = pd.Series(data=d, index=[&#x27;a&#x27;, &#x27;b&#x27;, &#x27;c&#x27;])\n",
              "&gt;&gt;&gt; ser\n",
              "a   1\n",
              "b   2\n",
              "c   3\n",
              "dtype: int64\n",
              "\n",
              "The keys of the dictionary match with the Index values, hence the Index\n",
              "values have no effect.\n",
              "\n",
              "&gt;&gt;&gt; d = {&#x27;a&#x27;: 1, &#x27;b&#x27;: 2, &#x27;c&#x27;: 3}\n",
              "&gt;&gt;&gt; ser = pd.Series(data=d, index=[&#x27;x&#x27;, &#x27;y&#x27;, &#x27;z&#x27;])\n",
              "&gt;&gt;&gt; ser\n",
              "x   NaN\n",
              "y   NaN\n",
              "z   NaN\n",
              "dtype: float64\n",
              "\n",
              "Note that the Index is first build with the keys from the dictionary.\n",
              "After this the Series is reindexed with the given Index values, hence we\n",
              "get all NaN as a result.\n",
              "\n",
              "Constructing Series from a list with `copy=False`.\n",
              "\n",
              "&gt;&gt;&gt; r = [1, 2]\n",
              "&gt;&gt;&gt; ser = pd.Series(r, copy=False)\n",
              "&gt;&gt;&gt; ser.iloc[0] = 999\n",
              "&gt;&gt;&gt; r\n",
              "[1, 2]\n",
              "&gt;&gt;&gt; ser\n",
              "0    999\n",
              "1      2\n",
              "dtype: int64\n",
              "\n",
              "Due to input data type the Series has a `copy` of\n",
              "the original data even though `copy=False`, so\n",
              "the data is unchanged.\n",
              "\n",
              "Constructing Series from a 1d ndarray with `copy=False`.\n",
              "\n",
              "&gt;&gt;&gt; r = np.array([1, 2])\n",
              "&gt;&gt;&gt; ser = pd.Series(r, copy=False)\n",
              "&gt;&gt;&gt; ser.iloc[0] = 999\n",
              "&gt;&gt;&gt; r\n",
              "array([999,   2])\n",
              "&gt;&gt;&gt; ser\n",
              "0    999\n",
              "1      2\n",
              "dtype: int64\n",
              "\n",
              "Due to input data type the Series has a `view` on\n",
              "the original data, so\n",
              "the data is changed as well.</pre>\n",
              "      <script>\n",
              "      if (google.colab.kernel.accessAllowed && google.colab.files && google.colab.files.view) {\n",
              "        for (const element of document.querySelectorAll('.filepath')) {\n",
              "          element.style.display = 'block'\n",
              "          element.onclick = (event) => {\n",
              "            event.preventDefault();\n",
              "            event.stopPropagation();\n",
              "            google.colab.files.view(element.textContent, 244);\n",
              "          };\n",
              "        }\n",
              "      }\n",
              "      for (const element of document.querySelectorAll('.function-repr-contents')) {\n",
              "        element.onclick = (event) => {\n",
              "          event.preventDefault();\n",
              "          event.stopPropagation();\n",
              "          element.classList.toggle('function-repr-contents-collapsed');\n",
              "        };\n",
              "      }\n",
              "      </script>\n",
              "      </div>"
            ]
          },
          "metadata": {},
          "execution_count": 5
        }
      ]
    },
    {
      "cell_type": "code",
      "source": [
        "data_count"
      ],
      "metadata": {
        "colab": {
          "base_uri": "https://localhost:8080/"
        },
        "id": "CbzNxb3KEt80",
        "outputId": "f5e70e3d-3f42-499f-9bdb-b5c9e36ad692"
      },
      "execution_count": null,
      "outputs": [
        {
          "output_type": "execute_result",
          "data": {
            "text/plain": [
              "sentiment\n",
              "neutral       8638\n",
              "worry         8459\n",
              "happiness     5209\n",
              "sadness       5165\n",
              "love          3842\n",
              "surprise      2187\n",
              "fun           1776\n",
              "relief        1526\n",
              "hate          1323\n",
              "empty          827\n",
              "enthusiasm     759\n",
              "boredom        179\n",
              "anger          110\n",
              "Name: count, dtype: int64"
            ]
          },
          "metadata": {},
          "execution_count": 6
        }
      ]
    },
    {
      "cell_type": "code",
      "source": [
        "total_unique_sentiments = data['sentiment'].nunique()\n",
        "\n",
        "print(\"Total unique sentiment values: \",total_unique_sentiments)\n"
      ],
      "metadata": {
        "colab": {
          "base_uri": "https://localhost:8080/"
        },
        "id": "Z--w-QoMEt-8",
        "outputId": "cbe37fdb-94c2-4656-854f-0a726772ebb9"
      },
      "execution_count": null,
      "outputs": [
        {
          "output_type": "stream",
          "name": "stdout",
          "text": [
            "Total unique sentiment values:  13\n"
          ]
        }
      ]
    },
    {
      "cell_type": "markdown",
      "source": [
        "Splitting of Dataset"
      ],
      "metadata": {
        "id": "uM0mKGSl15K-"
      }
    },
    {
      "cell_type": "code",
      "source": [
        "m = data.shape[0]\n",
        "train_split = 0.80 * m\n",
        "val_split = (1 - 0.80) * m\n",
        "test_split = 0.20 * val_split\n",
        "val_split = (1 - 0.20) * val_split\n",
        "\n",
        "print('Splitting ratio: ')\n",
        "print()\n",
        "print('train_split: ', train_split, ', val_split: ', val_split, ', test-split: ', test_split)\n",
        "\n",
        "train_data = data.iloc[:int(train_split)]\n",
        "val_data = data.iloc[int(train_split) + 1: int(train_split) + int(val_split)]\n",
        "test_data = data.iloc[int(train_split) + int(val_split) + 1 : int(train_split) + int(val_split) + int(test_split)]\n",
        "print()\n",
        "print('All_Shapes: ')\n",
        "print()\n",
        "print(train_data.shape, val_data.shape, test_data.shape)\n",
        "\n",
        "del val_split\n",
        "del train_split\n",
        "del test_split"
      ],
      "metadata": {
        "colab": {
          "base_uri": "https://localhost:8080/"
        },
        "id": "ryKqfHf2EuBC",
        "outputId": "a6c30017-e7a2-4691-dc1f-47ec927ed152"
      },
      "execution_count": null,
      "outputs": [
        {
          "output_type": "stream",
          "name": "stdout",
          "text": [
            "Splitting ratio: \n",
            "\n",
            "train_split:  32000.0 , val_split:  6399.999999999999 , test-split:  1599.9999999999998\n",
            "\n",
            "All_Shapes: \n",
            "\n",
            "(32000, 3) (6398, 3) (1598, 3)\n"
          ]
        }
      ]
    },
    {
      "cell_type": "code",
      "source": [
        "content_text = train_data.content.tolist()\n",
        "all_classes = train_data.sentiment.unique().tolist()\n",
        "content_text = train_data.content.tolist()\n",
        "ex_char = string.punctuation\n",
        "ex_char = ex_char.replace('~', '')\n",
        "c_text = '~~~~~~'.join(content_text)\n",
        "\n",
        "x = c_text.translate(str.maketrans('', '', ex_char))\n",
        "c_text = x.split('~~~~~~')\n",
        "\n",
        "#print('Samples: ',len(c_text))\n",
        "\n",
        "token_data = tf.keras.preprocessing.text.Tokenizer(num_words=None,\n",
        "    filters='!\"#$%&()*+,-./:;<=>?@[\\\\]^_`{|}~\\t\\n',lower=True,split=' ')\n",
        "token_data.fit_on_texts(c_text)\n",
        "ind_text = token_data.texts_to_sequences(c_text)\n",
        "\n",
        "print()\n",
        "\n",
        "print('All_samples: ', len(ind_text))\n",
        "word_index = token_data.word_index\n",
        "print('Diff. words: ', len(list(word_index)))"
      ],
      "metadata": {
        "colab": {
          "base_uri": "https://localhost:8080/"
        },
        "id": "4qUutJjjEuEZ",
        "outputId": "d35c5ed4-2ac0-40af-a38b-0997920e3bee"
      },
      "execution_count": null,
      "outputs": [
        {
          "output_type": "stream",
          "name": "stdout",
          "text": [
            "\n",
            "All_samples:  32000\n",
            "Diff. words:  45300\n"
          ]
        }
      ]
    },
    {
      "cell_type": "markdown",
      "source": [
        "Text Cleaning and Pre-processing of Dataset"
      ],
      "metadata": {
        "id": "4J7ecXt41-ce"
      }
    },
    {
      "cell_type": "code",
      "source": [
        "label_token = tf.keras.preprocessing.text.Tokenizer(num_words=len(all_classes),\n",
        "    filters='!\"#$%&()*+,-./:;<=>?@[\\\\]^_`{|}~\\t\\n',lower=True,split=' ')\n",
        "classes = ' '.join(all_classes)\n",
        "label_token.fit_on_texts([classes])\n",
        "label_index = label_token.word_index\n",
        "print('No. of Labels: ',len(list(label_index)))\n",
        "print()\n",
        "label_index = {key:value-1 for key, value in label_index.items()}\n",
        "inv_label_index = {value:key for key, value in label_index.items()}\n",
        "print()\n",
        "print(inv_label_index)"
      ],
      "metadata": {
        "colab": {
          "base_uri": "https://localhost:8080/"
        },
        "id": "maWE2fifSmwe",
        "outputId": "2fbcc82e-ac18-4f6c-a3e6-30935de24344"
      },
      "execution_count": null,
      "outputs": [
        {
          "output_type": "stream",
          "name": "stdout",
          "text": [
            "No. of Labels:  13\n",
            "\n",
            "\n",
            "{0: 'empty', 1: 'sadness', 2: 'enthusiasm', 3: 'neutral', 4: 'worry', 5: 'surprise', 6: 'love', 7: 'fun', 8: 'hate', 9: 'happiness', 10: 'boredom', 11: 'relief', 12: 'anger'}\n"
          ]
        }
      ]
    },
    {
      "cell_type": "code",
      "source": [
        "y_train = []\n",
        "for i in train_data.sentiment:\n",
        "    y_train.append(label_index.get(i))\n",
        "y_train = np.array(y_train)\n",
        "print('Label_shape: ', y_train.shape)\n",
        "pprint(y_train[:10])"
      ],
      "metadata": {
        "colab": {
          "base_uri": "https://localhost:8080/"
        },
        "id": "IvpDrAKUSmyy",
        "outputId": "29e4a63a-bdca-4302-c7b4-5876fd24dd4a"
      },
      "execution_count": null,
      "outputs": [
        {
          "output_type": "stream",
          "name": "stdout",
          "text": [
            "Label_shape:  (32000,)\n",
            "array([0, 1, 1, 2, 3, 4, 1, 4, 1, 1])\n"
          ]
        }
      ]
    },
    {
      "cell_type": "code",
      "source": [
        "x_train = tf.keras.preprocessing.sequence.pad_sequences(ind_text, padding='post')\n",
        "\n",
        "max_inp_len = x_train.shape[1]\n",
        "print('max_input_length: ', max_inp_len)\n",
        "\n",
        "\n",
        "print('x_train_shape: ', x_train.shape, ', y_train_shape: ', y_train.shape)\n"
      ],
      "metadata": {
        "colab": {
          "base_uri": "https://localhost:8080/"
        },
        "id": "3Kr_V-jFSm2N",
        "outputId": "4922f5d0-1b67-46cc-dcf3-96a05f12e104"
      },
      "execution_count": null,
      "outputs": [
        {
          "output_type": "stream",
          "name": "stdout",
          "text": [
            "max_input_length:  33\n",
            "x_train_shape:  (32000, 33) , y_train_shape:  (32000,)\n"
          ]
        }
      ]
    },
    {
      "cell_type": "code",
      "source": [
        "import numpy as np\n",
        "import tensorflow as tf\n",
        "import string\n",
        "\n",
        "def val_preprocess(val_data, token_data, label_index):\n",
        "    content_text = val_data.content.tolist()\n",
        "    ex_char = string.punctuation.replace('~', '')\n",
        "    c_text = '~~~~~~'.join(content_text).translate(str.maketrans('', '', ex_char)).split('~~~~~~')\n",
        "\n",
        "    print('Val_samples: ', len(c_text))\n",
        "\n",
        "    # Tokenize and then pad sequences\n",
        "    ind_text = token_data.texts_to_sequences(c_text)\n",
        "    x_val = tf.keras.preprocessing.sequence.pad_sequences(ind_text, padding='post')\n",
        "\n",
        "    print('All_Val_samples: ', len(ind_text))\n",
        "\n",
        "    # Prepare labels\n",
        "    y_val = np.array([label_index.get(i, -1) for i in val_data.sentiment])\n",
        "    print('Label_shape: ', y_val.shape)\n",
        "\n",
        "    return x_val, y_val\n",
        "\n",
        "\n",
        "def test_preprocess(test_data, token_data, label_index):\n",
        "    content_text = test_data.content.tolist()\n",
        "    # Remove redundant line: all_classes = test_data.sentiment.unique().tolist()\n",
        "    ex_char = string.punctuation.replace('~', '')  # Exclude '~' from being removed\n",
        "    c_text = '~~~~~~'.join(content_text).translate(str.maketrans('', '', ex_char)).split('~~~~~~')\n",
        "\n",
        "    print('Again_Test_samples: ', len(c_text))\n",
        "    ind_text = token_data.texts_to_sequences(c_text)\n",
        "\n",
        "    # Use pad_sequences here, no need to convert to numpy array manually after this\n",
        "    x_test = tf.keras.preprocessing.sequence.pad_sequences(ind_text, padding='post')\n",
        "    print('\\nAll_Test_samples: ', len(ind_text))\n",
        "\n",
        "    y_test = [label_index.get(i, -1) for i in test_data.sentiment]  # Use default value for missing labels\n",
        "    y_test = np.array(y_test)\n",
        "    print('Label_shape: ', y_test.shape)\n",
        "\n",
        "    return x_test, y_test\n",
        "\n",
        "\n",
        "print('Val_Preprocessing:')\n",
        "x_val, y_val = val_preprocess(val_data, token_data, label_index)\n",
        "#print(x_val.shape, y_val.shape)\n",
        "print('--------')\n",
        "print('Test_Preprocessing ...')\n",
        "x_test, y_test = test_preprocess(test_data, token_data, label_index)\n",
        "#print(x_test.shape, y_test.shape)"
      ],
      "metadata": {
        "colab": {
          "base_uri": "https://localhost:8080/"
        },
        "id": "NNDZYrBhKmMa",
        "outputId": "ece1a2f9-328e-412a-c2cf-74781dacd557"
      },
      "execution_count": null,
      "outputs": [
        {
          "output_type": "stream",
          "name": "stdout",
          "text": [
            "Val_Preprocessing:\n",
            "Val_samples:  6398\n",
            "All_Val_samples:  6398\n",
            "Label_shape:  (6398,)\n",
            "--------\n",
            "Test_Preprocessing ...\n",
            "Again_Test_samples:  1598\n",
            "\n",
            "All_Test_samples:  1598\n",
            "Label_shape:  (1598,)\n"
          ]
        }
      ]
    },
    {
      "cell_type": "code",
      "source": [
        "x_val = tf.keras.preprocessing.sequence.pad_sequences(x_val, maxlen = max_inp_len, padding = 'post')\n",
        "print('x_val_shape: ',x_val.shape, ', y_val_shape: ', y_val.shape)\n",
        "x_test = tf.keras.preprocessing.sequence.pad_sequences(x_test, maxlen = max_inp_len, padding = 'post')\n",
        "print('x_test_shape: ',x_test.shape, ', y_test_shape: ', y_test.shape)"
      ],
      "metadata": {
        "colab": {
          "base_uri": "https://localhost:8080/"
        },
        "id": "7DBuFlmQWX94",
        "outputId": "824d1e01-21a2-49f8-b2d3-e30c8e5770e3"
      },
      "execution_count": null,
      "outputs": [
        {
          "output_type": "stream",
          "name": "stdout",
          "text": [
            "x_val_shape:  (6398, 33) , y_val_shape:  (6398,)\n",
            "x_test_shape:  (1598, 33) , y_test_shape:  (1598,)\n"
          ]
        }
      ]
    },
    {
      "cell_type": "markdown",
      "source": [
        "Model Building and Evaluation"
      ],
      "metadata": {
        "id": "egdcl5Px2G20"
      }
    },
    {
      "cell_type": "code",
      "source": [
        "import tensorflow as tf\n",
        "from tensorflow.keras.models import Sequential\n",
        "from tensorflow.keras.layers import Embedding, LSTM, Dense\n",
        "\n",
        "# Model configuration\n",
        "VOCABULARY_SIZE = 45300 + 1  # Adding 1 because index 0 is reserved\n",
        "EMBEDDING_DIM = 100  # Dimensionality of the embedding vectors\n",
        "LSTM_UNITS = 64  # Number of units in the LSTM layer\n",
        "NUM_CLASSES = 13  # The number of sentiment labels\n",
        "\n",
        "# Define the model\n",
        "model = Sequential([\n",
        "    Embedding(input_dim=VOCABULARY_SIZE, output_dim=EMBEDDING_DIM, input_length=33),\n",
        "    LSTM(LSTM_UNITS),\n",
        "    Dense(NUM_CLASSES, activation='softmax')\n",
        "])\n",
        "\n",
        "# Compile the model\n",
        "model.compile(optimizer='adam',\n",
        "              loss='sparse_categorical_crossentropy',\n",
        "              metrics=['accuracy'])\n",
        "\n",
        "# Print the model summary\n",
        "model.summary()\n"
      ],
      "metadata": {
        "colab": {
          "base_uri": "https://localhost:8080/"
        },
        "id": "9xtRcj8DXhcM",
        "outputId": "cf3f43ab-374c-4923-faf2-45c0a6637d4a"
      },
      "execution_count": null,
      "outputs": [
        {
          "output_type": "stream",
          "name": "stdout",
          "text": [
            "Model: \"sequential\"\n",
            "_________________________________________________________________\n",
            " Layer (type)                Output Shape              Param #   \n",
            "=================================================================\n",
            " embedding (Embedding)       (None, 33, 100)           4530100   \n",
            "                                                                 \n",
            " lstm (LSTM)                 (None, 64)                42240     \n",
            "                                                                 \n",
            " dense (Dense)               (None, 13)                845       \n",
            "                                                                 \n",
            "=================================================================\n",
            "Total params: 4573185 (17.45 MB)\n",
            "Trainable params: 4573185 (17.45 MB)\n",
            "Non-trainable params: 0 (0.00 Byte)\n",
            "_________________________________________________________________\n"
          ]
        }
      ]
    },
    {
      "cell_type": "code",
      "source": [
        "hit = model.fit(x_train, y_train, epochs=25, validation_data=(x_val, y_val), batch_size=32)\n",
        "print()\n",
        "print('-- Evaluation --')\n",
        "model.evaluate(x_test, y_test)\n",
        "print()\n",
        "hit_2 = hit.history\n",
        "\n",
        "fig, axs = plt.subplots(1,2, figsize=(16,8))\n",
        "\n",
        "axs[0].set_title('Loss_Curve')\n",
        "ep = range(len(hit_2['loss']))\n",
        "axs[0].plot(ep, hit_2['loss'],'o--r',label = 'Training_loss')\n",
        "axs[0].plot(ep, hit_2['val_loss'],'o--b',label = 'Val_loss')\n",
        "axs[0].set_xlabel('epoch')\n",
        "axs[0].set_ylabel('Loss')\n",
        "axs[0].legend()\n",
        "\n",
        "axs[1].set_title('Acc_Curve')\n",
        "ep = range(len(hit_2['loss']))\n",
        "axs[1].plot(ep, hit_2['accuracy'],'o--r',label = 'Training_acc')\n",
        "axs[1].plot(ep, hit_2['val_accuracy'],'o--b',label = 'Val_acc')\n",
        "axs[1].set_xlabel('epoch')\n",
        "axs[1].set_ylabel('Accuracy')\n",
        "axs[1].legend()\n",
        "\n",
        "plt.show()"
      ],
      "metadata": {
        "colab": {
          "base_uri": "https://localhost:8080/",
          "height": 1000
        },
        "id": "h-qobD4nbYuT",
        "outputId": "e2471e09-271f-4975-c9ba-a90f702bc037"
      },
      "execution_count": null,
      "outputs": [
        {
          "output_type": "stream",
          "name": "stdout",
          "text": [
            "Epoch 1/25\n",
            "1000/1000 [==============================] - 93s 91ms/step - loss: 2.0989 - accuracy: 0.2610 - val_loss: 2.1521 - val_accuracy: 0.2091\n",
            "Epoch 2/25\n",
            "1000/1000 [==============================] - 89s 89ms/step - loss: 1.8775 - accuracy: 0.3575 - val_loss: 2.0068 - val_accuracy: 0.3260\n",
            "Epoch 3/25\n",
            "1000/1000 [==============================] - 91s 91ms/step - loss: 1.5897 - accuracy: 0.4621 - val_loss: 2.1359 - val_accuracy: 0.3295\n",
            "Epoch 4/25\n",
            "1000/1000 [==============================] - 91s 91ms/step - loss: 1.3016 - accuracy: 0.5637 - val_loss: 2.3774 - val_accuracy: 0.3126\n",
            "Epoch 5/25\n",
            "1000/1000 [==============================] - 88s 88ms/step - loss: 1.0699 - accuracy: 0.6486 - val_loss: 2.6854 - val_accuracy: 0.2920\n",
            "Epoch 6/25\n",
            "1000/1000 [==============================] - 87s 87ms/step - loss: 0.8690 - accuracy: 0.7195 - val_loss: 2.8529 - val_accuracy: 0.2770\n",
            "Epoch 7/25\n",
            "1000/1000 [==============================] - 86s 86ms/step - loss: 0.7011 - accuracy: 0.7810 - val_loss: 3.1908 - val_accuracy: 0.2524\n",
            "Epoch 8/25\n",
            "1000/1000 [==============================] - 84s 84ms/step - loss: 0.5689 - accuracy: 0.8228 - val_loss: 3.1528 - val_accuracy: 0.2749\n",
            "Epoch 9/25\n",
            "1000/1000 [==============================] - 93s 93ms/step - loss: 0.4682 - accuracy: 0.8547 - val_loss: 3.2034 - val_accuracy: 0.2768\n",
            "Epoch 10/25\n",
            "1000/1000 [==============================] - 96s 96ms/step - loss: 0.3889 - accuracy: 0.8794 - val_loss: 3.3137 - val_accuracy: 0.2677\n",
            "Epoch 11/25\n",
            "1000/1000 [==============================] - 95s 95ms/step - loss: 0.3333 - accuracy: 0.8952 - val_loss: 3.7513 - val_accuracy: 0.2446\n",
            "Epoch 12/25\n",
            "1000/1000 [==============================] - 97s 97ms/step - loss: 0.2927 - accuracy: 0.9077 - val_loss: 3.6281 - val_accuracy: 0.2552\n",
            "Epoch 13/25\n",
            "1000/1000 [==============================] - 103s 103ms/step - loss: 0.2510 - accuracy: 0.9212 - val_loss: 3.8289 - val_accuracy: 0.2554\n",
            "Epoch 14/25\n",
            "1000/1000 [==============================] - 100s 100ms/step - loss: 0.2264 - accuracy: 0.9289 - val_loss: 3.8602 - val_accuracy: 0.2610\n",
            "Epoch 15/25\n",
            "1000/1000 [==============================] - 91s 91ms/step - loss: 0.1957 - accuracy: 0.9386 - val_loss: 4.2639 - val_accuracy: 0.2418\n",
            "Epoch 16/25\n",
            "1000/1000 [==============================] - 100s 100ms/step - loss: 0.1703 - accuracy: 0.9452 - val_loss: 4.3950 - val_accuracy: 0.2629\n",
            "Epoch 17/25\n",
            "1000/1000 [==============================] - 93s 93ms/step - loss: 0.1493 - accuracy: 0.9528 - val_loss: 4.5956 - val_accuracy: 0.2537\n",
            "Epoch 18/25\n",
            "1000/1000 [==============================] - 91s 91ms/step - loss: 0.1287 - accuracy: 0.9588 - val_loss: 4.7431 - val_accuracy: 0.2498\n",
            "Epoch 19/25\n",
            "1000/1000 [==============================] - 89s 89ms/step - loss: 0.1216 - accuracy: 0.9619 - val_loss: 4.6982 - val_accuracy: 0.2521\n",
            "Epoch 20/25\n",
            "1000/1000 [==============================] - 89s 89ms/step - loss: 0.1130 - accuracy: 0.9643 - val_loss: 4.7254 - val_accuracy: 0.2566\n",
            "Epoch 21/25\n",
            "1000/1000 [==============================] - 90s 90ms/step - loss: 0.0977 - accuracy: 0.9685 - val_loss: 4.9698 - val_accuracy: 0.2445\n",
            "Epoch 22/25\n",
            "1000/1000 [==============================] - 92s 92ms/step - loss: 0.0890 - accuracy: 0.9709 - val_loss: 5.0852 - val_accuracy: 0.2380\n",
            "Epoch 23/25\n",
            "1000/1000 [==============================] - 91s 91ms/step - loss: 0.0820 - accuracy: 0.9733 - val_loss: 5.5233 - val_accuracy: 0.2243\n",
            "Epoch 24/25\n",
            "1000/1000 [==============================] - 91s 91ms/step - loss: 0.0705 - accuracy: 0.9775 - val_loss: 5.5089 - val_accuracy: 0.2460\n",
            "Epoch 25/25\n",
            "1000/1000 [==============================] - 91s 91ms/step - loss: 0.0698 - accuracy: 0.9773 - val_loss: 5.5293 - val_accuracy: 0.2309\n",
            "\n",
            "-- Evaluation --\n",
            "50/50 [==============================] - 0s 7ms/step - loss: 5.5388 - accuracy: 0.2441\n",
            "\n"
          ]
        },
        {
          "output_type": "display_data",
          "data": {
            "text/plain": [
              "<Figure size 1600x800 with 2 Axes>"
            ],
            "image/png": "[encoded data removed]"
          },
          "metadata": {}
        }
      ]
    },
    {
      "cell_type": "code",
      "source": [
        "from sklearn.metrics import confusion_matrix, f1_score, precision_score, recall_score, classification_report\n",
        "import numpy as np\n",
        "\n",
        "# Assuming ypred and y_test are already defined as per your previous code\n",
        "ypred = model.predict(x_test)\n",
        "ypred = np.argmax(ypred, axis=-1)\n",
        "\n",
        "conf_matrix  = confusion_matrix(y_test, ypred)\n",
        "\n",
        "print('--Confusion_Matrix--')\n",
        "print(conf_matrix)\n",
        "print()\n",
        "\n",
        "print('f1_score: ', f1_score(y_test, ypred, average='micro'))\n",
        "print('Precision: ', precision_score(y_test, ypred, average='micro'))\n",
        "print('Recall: ', recall_score(y_test, ypred, average='micro'))\n",
        "\n",
        "# Getting the classification report\n",
        "print('--Classification Report--')\n",
        "print(classification_report(y_test, ypred))\n"
      ],
      "metadata": {
        "colab": {
          "base_uri": "https://localhost:8080/"
        },
        "id": "JACrjxzzpldI",
        "outputId": "b63446d5-b297-4e0c-c4ae-839fe1467803"
      },
      "execution_count": null,
      "outputs": [
        {
          "output_type": "stream",
          "name": "stdout",
          "text": [
            "50/50 [==============================] - 1s 6ms/step\n",
            "--Confusion_Matrix--\n",
            "[[  3   4   1  10   2   0   1   0   0   3   0   2   0]\n",
            " [  0   8   3  11  11   4   4   1   1   7   0   2   0]\n",
            " [  1   3   2   9   9   1   4   4   0   5   0   1   0]\n",
            " [  9  30  14 128  57  24  31  14   2  40   0  21   0]\n",
            " [  5  22  11  43  45   9  12   4   2  19   0   7   0]\n",
            " [  2   7   2  18   7  10  10   6   1  17   0   5   0]\n",
            " [  5  13   6  39  15  13  77  12   2  83   0  12   0]\n",
            " [  1   7   4  18  13   4   9   5   1  26   1   1   0]\n",
            " [  0   3   0   8   8   1   0   0   1   1   1   0   0]\n",
            " [  6  18  12  58  44  21  45  39   0 104   0  15   1]\n",
            " [  0   0   1   2   1   1   0   0   0   0   0   0   0]\n",
            " [  3   8   7   9  16   8  12   5   0  13   0   7   0]\n",
            " [  0   0   0   1   0   0   0   0   0   0   0   0   0]]\n",
            "\n",
            "f1_score:  0.24405506883604505\n",
            "Precision:  0.24405506883604505\n",
            "Recall:  0.24405506883604505\n",
            "--Classification Report--\n",
            "              precision    recall  f1-score   support\n",
            "\n",
            "           0       0.09      0.12      0.10        26\n",
            "           1       0.07      0.15      0.09        52\n",
            "           2       0.03      0.05      0.04        39\n",
            "           3       0.36      0.35      0.35       370\n",
            "           4       0.20      0.25      0.22       179\n",
            "           5       0.10      0.12      0.11        85\n",
            "           6       0.38      0.28      0.32       277\n",
            "           7       0.06      0.06      0.06        90\n",
            "           8       0.10      0.04      0.06        23\n",
            "           9       0.33      0.29      0.31       363\n",
            "          10       0.00      0.00      0.00         5\n",
            "          11       0.10      0.08      0.09        88\n",
            "          12       0.00      0.00      0.00         1\n",
            "\n",
            "    accuracy                           0.24      1598\n",
            "   macro avg       0.14      0.14      0.13      1598\n",
            "weighted avg       0.26      0.24      0.25      1598\n",
            "\n"
          ]
        }
      ]
    },
    {
      "cell_type": "code",
      "source": [
        "import tensorflow as tf\n",
        "\n",
        "input_sentence = \"The movie is very good!\"\n",
        "\n",
        "sequence = token_data.texts_to_sequences([input_sentence])\n",
        "\n",
        "padded_sequence = tf.keras.preprocessing.sequence.pad_sequences(sequence, maxlen=33, padding='post')\n",
        "\n",
        "prediction = model.predict(padded_sequence)\n",
        "predicted_class = tf.argmax(prediction, axis=1).numpy()\n",
        "\n",
        "sentiment_label = inv_label_index[predicted_class[0]]\n",
        "\n",
        "print(f\"Predicted sentiment: {sentiment_label}\")\n"
      ],
      "metadata": {
        "colab": {
          "base_uri": "https://localhost:8080/"
        },
        "id": "3mOqbaX4fY4x",
        "outputId": "3b3dff70-f737-4449-fb40-eb6894a7c64d"
      },
      "execution_count": null,
      "outputs": [
        {
          "output_type": "stream",
          "name": "stdout",
          "text": [
            "1/1 [==============================] - 0s 20ms/step\n",
            "Predicted sentiment: love\n"
          ]
        }
      ]
    },
    {
      "cell_type": "markdown",
      "source": [
        "Importing Dataset"
      ],
      "metadata": {
        "id": "BLKWYZcn2OHm"
      }
    },
    {
      "cell_type": "code",
      "source": [
        "data1 = pd.read_csv('tweet_emotions.csv')\n",
        "data1.head()"
      ],
      "metadata": {
        "id": "SDIPQpjEkyHp",
        "colab": {
          "base_uri": "https://localhost:8080/",
          "height": 206
        },
        "outputId": "b7b7021b-79cb-4a45-ca55-3f5b6e3a72a3"
      },
      "execution_count": null,
      "outputs": [
        {
          "output_type": "execute_result",
          "data": {
            "text/plain": [
              "     tweet_id   sentiment                                            content\n",
              "0  1956967341       empty  @tiffanylue i know  i was listenin to bad habi...\n",
              "1  1956967666     sadness  Layin n bed with a headache  ughhhh...waitin o...\n",
              "2  1956967696     sadness                Funeral ceremony...gloomy friday...\n",
              "3  1956967789  enthusiasm               wants to hang out with friends SOON!\n",
              "4  1956968416     neutral  @dannycastillo We want to trade with someone w..."
            ],
            "text/html": [
              "\n",
              "  <div id=\"df-c929aaa9-ec5d-425e-8010-f99bfc084187\" class=\"colab-df-container\">\n",
              "    <div>\n",
              "<style scoped>\n",
              "    .dataframe tbody tr th:only-of-type {\n",
              "        vertical-align: middle;\n",
              "    }\n",
              "\n",
              "    .dataframe tbody tr th {\n",
              "        vertical-align: top;\n",
              "    }\n",
              "\n",
              "    .dataframe thead th {\n",
              "        text-align: right;\n",
              "    }\n",
              "</style>\n",
              "<table border=\"1\" class=\"dataframe\">\n",
              "  <thead>\n",
              "    <tr style=\"text-align: right;\">\n",
              "      <th></th>\n",
              "      <th>tweet_id</th>\n",
              "      <th>sentiment</th>\n",
              "      <th>content</th>\n",
              "    </tr>\n",
              "  </thead>\n",
              "  <tbody>\n",
              "    <tr>\n",
              "      <th>0</th>\n",
              "      <td>1956967341</td>\n",
              "      <td>empty</td>\n",
              "      <td>@tiffanylue i know  i was listenin to bad habi...</td>\n",
              "    </tr>\n",
              "    <tr>\n",
              "      <th>1</th>\n",
              "      <td>1956967666</td>\n",
              "      <td>sadness</td>\n",
              "      <td>Layin n bed with a headache  ughhhh...waitin o...</td>\n",
              "    </tr>\n",
              "    <tr>\n",
              "      <th>2</th>\n",
              "      <td>1956967696</td>\n",
              "      <td>sadness</td>\n",
              "      <td>Funeral ceremony...gloomy friday...</td>\n",
              "    </tr>\n",
              "    <tr>\n",
              "      <th>3</th>\n",
              "      <td>1956967789</td>\n",
              "      <td>enthusiasm</td>\n",
              "      <td>wants to hang out with friends SOON!</td>\n",
              "    </tr>\n",
              "    <tr>\n",
              "      <th>4</th>\n",
              "      <td>1956968416</td>\n",
              "      <td>neutral</td>\n",
              "      <td>@dannycastillo We want to trade with someone w...</td>\n",
              "    </tr>\n",
              "  </tbody>\n",
              "</table>\n",
              "</div>\n",
              "    <div class=\"colab-df-buttons\">\n",
              "\n",
              "  <div class=\"colab-df-container\">\n",
              "    <button class=\"colab-df-convert\" onclick=\"convertToInteractive('df-c929aaa9-ec5d-425e-8010-f99bfc084187')\"\n",
              "            title=\"Convert this dataframe to an interactive table.\"\n",
              "            style=\"display:none;\">\n",
              "\n",
              "  <svg xmlns=\"http://www.w3.org/2000/svg\" height=\"24px\" viewBox=\"0 -960 960 960\">\n",
              "    <path d=\"M120-120v-720h720v720H120Zm60-500h600v-160H180v160Zm220 220h160v-160H400v160Zm0 220h160v-160H400v160ZM180-400h160v-160H180v160Zm440 0h160v-160H620v160ZM180-180h160v-160H180v160Zm440 0h160v-160H620v160Z\"/>\n",
              "  </svg>\n",
              "    </button>\n",
              "\n",
              "  <style>\n",
              "    .colab-df-container {\n",
              "      display:flex;\n",
              "      gap: 12px;\n",
              "    }\n",
              "\n",
              "    .colab-df-convert {\n",
              "      background-color: #E8F0FE;\n",
              "      border: none;\n",
              "      border-radius: 50%;\n",
              "      cursor: pointer;\n",
              "      display: none;\n",
              "      fill: #1967D2;\n",
              "      height: 32px;\n",
              "      padding: 0 0 0 0;\n",
              "      width: 32px;\n",
              "    }\n",
              "\n",
              "    .colab-df-convert:hover {\n",
              "      background-color: #E2EBFA;\n",
              "      box-shadow: 0px 1px 2px rgba(60, 64, 67, 0.3), 0px 1px 3px 1px rgba(60, 64, 67, 0.15);\n",
              "      fill: #174EA6;\n",
              "    }\n",
              "\n",
              "    .colab-df-buttons div {\n",
              "      margin-bottom: 4px;\n",
              "    }\n",
              "\n",
              "    [theme=dark] .colab-df-convert {\n",
              "      background-color: #3B4455;\n",
              "      fill: #D2E3FC;\n",
              "    }\n",
              "\n",
              "    [theme=dark] .colab-df-convert:hover {\n",
              "      background-color: #434B5C;\n",
              "      box-shadow: 0px 1px 3px 1px rgba(0, 0, 0, 0.15);\n",
              "      filter: drop-shadow(0px 1px 2px rgba(0, 0, 0, 0.3));\n",
              "      fill: #FFFFFF;\n",
              "    }\n",
              "  </style>\n",
              "\n",
              "    <script>\n",
              "      const buttonEl =\n",
              "        document.querySelector('#df-c929aaa9-ec5d-425e-8010-f99bfc084187 button.colab-df-convert');\n",
              "      buttonEl.style.display =\n",
              "        google.colab.kernel.accessAllowed ? 'block' : 'none';\n",
              "\n",
              "      async function convertToInteractive(key) {\n",
              "        const element = document.querySelector('#df-c929aaa9-ec5d-425e-8010-f99bfc084187');\n",
              "        const dataTable =\n",
              "          await google.colab.kernel.invokeFunction('convertToInteractive',\n",
              "                                                    [key], {});\n",
              "        if (!dataTable) return;\n",
              "\n",
              "        const docLinkHtml = 'Like what you see? Visit the ' +\n",
              "          '<a target=\"_blank\" href=https://colab.research.google.com/notebooks/data_table.ipynb>data table notebook</a>'\n",
              "          + ' to learn more about interactive tables.';\n",
              "        element.innerHTML = '';\n",
              "        dataTable['output_type'] = 'display_data';\n",
              "        await google.colab.output.renderOutput(dataTable, element);\n",
              "        const docLink = document.createElement('div');\n",
              "        docLink.innerHTML = docLinkHtml;\n",
              "        element.appendChild(docLink);\n",
              "      }\n",
              "    </script>\n",
              "  </div>\n",
              "\n",
              "\n",
              "<div id=\"df-6f920e3d-d897-4625-857c-15e8ec46feca\">\n",
              "  <button class=\"colab-df-quickchart\" onclick=\"quickchart('df-6f920e3d-d897-4625-857c-15e8ec46feca')\"\n",
              "            title=\"Suggest charts\"\n",
              "            style=\"display:none;\">\n",
              "\n",
              "<svg xmlns=\"http://www.w3.org/2000/svg\" height=\"24px\"viewBox=\"0 0 24 24\"\n",
              "     width=\"24px\">\n",
              "    <g>\n",
              "        <path d=\"M19 3H5c-1.1 0-2 .9-2 2v14c0 1.1.9 2 2 2h14c1.1 0 2-.9 2-2V5c0-1.1-.9-2-2-2zM9 17H7v-7h2v7zm4 0h-2V7h2v10zm4 0h-2v-4h2v4z\"/>\n",
              "    </g>\n",
              "</svg>\n",
              "  </button>\n",
              "\n",
              "<style>\n",
              "  .colab-df-quickchart {\n",
              "      --bg-color: #E8F0FE;\n",
              "      --fill-color: #1967D2;\n",
              "      --hover-bg-color: #E2EBFA;\n",
              "      --hover-fill-color: #174EA6;\n",
              "      --disabled-fill-color: #AAA;\n",
              "      --disabled-bg-color: #DDD;\n",
              "  }\n",
              "\n",
              "  [theme=dark] .colab-df-quickchart {\n",
              "      --bg-color: #3B4455;\n",
              "      --fill-color: #D2E3FC;\n",
              "      --hover-bg-color: #434B5C;\n",
              "      --hover-fill-color: #FFFFFF;\n",
              "      --disabled-bg-color: #3B4455;\n",
              "      --disabled-fill-color: #666;\n",
              "  }\n",
              "\n",
              "  .colab-df-quickchart {\n",
              "    background-color: var(--bg-color);\n",
              "    border: none;\n",
              "    border-radius: 50%;\n",
              "    cursor: pointer;\n",
              "    display: none;\n",
              "    fill: var(--fill-color);\n",
              "    height: 32px;\n",
              "    padding: 0;\n",
              "    width: 32px;\n",
              "  }\n",
              "\n",
              "  .colab-df-quickchart:hover {\n",
              "    background-color: var(--hover-bg-color);\n",
              "    box-shadow: 0 1px 2px rgba(60, 64, 67, 0.3), 0 1px 3px 1px rgba(60, 64, 67, 0.15);\n",
              "    fill: var(--button-hover-fill-color);\n",
              "  }\n",
              "\n",
              "  .colab-df-quickchart-complete:disabled,\n",
              "  .colab-df-quickchart-complete:disabled:hover {\n",
              "    background-color: var(--disabled-bg-color);\n",
              "    fill: var(--disabled-fill-color);\n",
              "    box-shadow: none;\n",
              "  }\n",
              "\n",
              "  .colab-df-spinner {\n",
              "    border: 2px solid var(--fill-color);\n",
              "    border-color: transparent;\n",
              "    border-bottom-color: var(--fill-color);\n",
              "    animation:\n",
              "      spin 1s steps(1) infinite;\n",
              "  }\n",
              "\n",
              "  @keyframes spin {\n",
              "    0% {\n",
              "      border-color: transparent;\n",
              "      border-bottom-color: var(--fill-color);\n",
              "      border-left-color: var(--fill-color);\n",
              "    }\n",
              "    20% {\n",
              "      border-color: transparent;\n",
              "      border-left-color: var(--fill-color);\n",
              "      border-top-color: var(--fill-color);\n",
              "    }\n",
              "    30% {\n",
              "      border-color: transparent;\n",
              "      border-left-color: var(--fill-color);\n",
              "      border-top-color: var(--fill-color);\n",
              "      border-right-color: var(--fill-color);\n",
              "    }\n",
              "    40% {\n",
              "      border-color: transparent;\n",
              "      border-right-color: var(--fill-color);\n",
              "      border-top-color: var(--fill-color);\n",
              "    }\n",
              "    60% {\n",
              "      border-color: transparent;\n",
              "      border-right-color: var(--fill-color);\n",
              "    }\n",
              "    80% {\n",
              "      border-color: transparent;\n",
              "      border-right-color: var(--fill-color);\n",
              "      border-bottom-color: var(--fill-color);\n",
              "    }\n",
              "    90% {\n",
              "      border-color: transparent;\n",
              "      border-bottom-color: var(--fill-color);\n",
              "    }\n",
              "  }\n",
              "</style>\n",
              "\n",
              "  <script>\n",
              "    async function quickchart(key) {\n",
              "      const quickchartButtonEl =\n",
              "        document.querySelector('#' + key + ' button');\n",
              "      quickchartButtonEl.disabled = true;  // To prevent multiple clicks.\n",
              "      quickchartButtonEl.classList.add('colab-df-spinner');\n",
              "      try {\n",
              "        const charts = await google.colab.kernel.invokeFunction(\n",
              "            'suggestCharts', [key], {});\n",
              "      } catch (error) {\n",
              "        console.error('Error during call to suggestCharts:', error);\n",
              "      }\n",
              "      quickchartButtonEl.classList.remove('colab-df-spinner');\n",
              "      quickchartButtonEl.classList.add('colab-df-quickchart-complete');\n",
              "    }\n",
              "    (() => {\n",
              "      let quickchartButtonEl =\n",
              "        document.querySelector('#df-6f920e3d-d897-4625-857c-15e8ec46feca button');\n",
              "      quickchartButtonEl.style.display =\n",
              "        google.colab.kernel.accessAllowed ? 'block' : 'none';\n",
              "    })();\n",
              "  </script>\n",
              "</div>\n",
              "\n",
              "    </div>\n",
              "  </div>\n"
            ],
            "application/vnd.google.colaboratory.intrinsic+json": {
              "type": "dataframe",
              "variable_name": "data1",
              "summary": "{\n  \"name\": \"data1\",\n  \"rows\": 40000,\n  \"fields\": [\n    {\n      \"column\": \"tweet_id\",\n      \"properties\": {\n        \"dtype\": \"number\",\n        \"std\": 118857896,\n        \"min\": 1693956175,\n        \"max\": 1966441171,\n        \"num_unique_values\": 40000,\n        \"samples\": [\n          1752414968,\n          1965295852,\n          1696219218\n        ],\n        \"semantic_type\": \"\",\n        \"description\": \"\"\n      }\n    },\n    {\n      \"column\": \"sentiment\",\n      \"properties\": {\n        \"dtype\": \"category\",\n        \"num_unique_values\": 13,\n        \"samples\": [\n          \"relief\",\n          \"happiness\",\n          \"empty\"\n        ],\n        \"semantic_type\": \"\",\n        \"description\": \"\"\n      }\n    },\n    {\n      \"column\": \"content\",\n      \"properties\": {\n        \"dtype\": \"string\",\n        \"num_unique_values\": 39827,\n        \"samples\": [\n          \"the sun is shinning! im off out!!\",\n          \"wow i must have been tired. i fell asleep @ exactly the start of the 10pm news &amp; now up as if its 8am.\",\n          \"@knobzie their loss\"\n        ],\n        \"semantic_type\": \"\",\n        \"description\": \"\"\n      }\n    }\n  ]\n}"
            }
          },
          "metadata": {},
          "execution_count": 19
        }
      ]
    },
    {
      "cell_type": "markdown",
      "source": [
        "Reversing of the Tweet Contents"
      ],
      "metadata": {
        "id": "MpT8m9Fz2Rnz"
      }
    },
    {
      "cell_type": "code",
      "source": [
        "import pandas as pd\n",
        "\n",
        "# Function to reverse the sentence\n",
        "def reverse_sentence(sentence):\n",
        "    return ' '.join(sentence.split()[::-1])\n",
        "\n",
        "# Applying the function to the 'content' column and updating the same column with reversed sentences\n",
        "data1['content'] = data1['content'].apply(reverse_sentence)\n",
        "\n",
        "# The 'content' column now contains the reversed sentences\n",
        "data1.head()"
      ],
      "metadata": {
        "colab": {
          "base_uri": "https://localhost:8080/",
          "height": 206
        },
        "id": "9_qzkvgLS9ve",
        "outputId": "ec8db23a-01ac-4e27-8af9-bcd44bcf8f58"
      },
      "execution_count": null,
      "outputs": [
        {
          "output_type": "execute_result",
          "data": {
            "text/plain": [
              "     tweet_id   sentiment                                            content\n",
              "0  1956967341       empty  =[ part his at freakin started i and earlier h...\n",
              "1  1956967666     sadness  call... your on ughhhh...waitin headache a wit...\n",
              "2  1956967696     sadness                friday... ceremony...gloomy Funeral\n",
              "3  1956967789  enthusiasm               SOON! friends with out hang to wants\n",
              "4  1956968416     neutral  will. one no but tickets, Houston has who some..."
            ],
            "text/html": [
              "\n",
              "  <div id=\"df-b8a5f23a-34f6-4975-b9ba-871cef6494f5\" class=\"colab-df-container\">\n",
              "    <div>\n",
              "<style scoped>\n",
              "    .dataframe tbody tr th:only-of-type {\n",
              "        vertical-align: middle;\n",
              "    }\n",
              "\n",
              "    .dataframe tbody tr th {\n",
              "        vertical-align: top;\n",
              "    }\n",
              "\n",
              "    .dataframe thead th {\n",
              "        text-align: right;\n",
              "    }\n",
              "</style>\n",
              "<table border=\"1\" class=\"dataframe\">\n",
              "  <thead>\n",
              "    <tr style=\"text-align: right;\">\n",
              "      <th></th>\n",
              "      <th>tweet_id</th>\n",
              "      <th>sentiment</th>\n",
              "      <th>content</th>\n",
              "    </tr>\n",
              "  </thead>\n",
              "  <tbody>\n",
              "    <tr>\n",
              "      <th>0</th>\n",
              "      <td>1956967341</td>\n",
              "      <td>empty</td>\n",
              "      <td>=[ part his at freakin started i and earlier h...</td>\n",
              "    </tr>\n",
              "    <tr>\n",
              "      <th>1</th>\n",
              "      <td>1956967666</td>\n",
              "      <td>sadness</td>\n",
              "      <td>call... your on ughhhh...waitin headache a wit...</td>\n",
              "    </tr>\n",
              "    <tr>\n",
              "      <th>2</th>\n",
              "      <td>1956967696</td>\n",
              "      <td>sadness</td>\n",
              "      <td>friday... ceremony...gloomy Funeral</td>\n",
              "    </tr>\n",
              "    <tr>\n",
              "      <th>3</th>\n",
              "      <td>1956967789</td>\n",
              "      <td>enthusiasm</td>\n",
              "      <td>SOON! friends with out hang to wants</td>\n",
              "    </tr>\n",
              "    <tr>\n",
              "      <th>4</th>\n",
              "      <td>1956968416</td>\n",
              "      <td>neutral</td>\n",
              "      <td>will. one no but tickets, Houston has who some...</td>\n",
              "    </tr>\n",
              "  </tbody>\n",
              "</table>\n",
              "</div>\n",
              "    <div class=\"colab-df-buttons\">\n",
              "\n",
              "  <div class=\"colab-df-container\">\n",
              "    <button class=\"colab-df-convert\" onclick=\"convertToInteractive('df-b8a5f23a-34f6-4975-b9ba-871cef6494f5')\"\n",
              "            title=\"Convert this dataframe to an interactive table.\"\n",
              "            style=\"display:none;\">\n",
              "\n",
              "  <svg xmlns=\"http://www.w3.org/2000/svg\" height=\"24px\" viewBox=\"0 -960 960 960\">\n",
              "    <path d=\"M120-120v-720h720v720H120Zm60-500h600v-160H180v160Zm220 220h160v-160H400v160Zm0 220h160v-160H400v160ZM180-400h160v-160H180v160Zm440 0h160v-160H620v160ZM180-180h160v-160H180v160Zm440 0h160v-160H620v160Z\"/>\n",
              "  </svg>\n",
              "    </button>\n",
              "\n",
              "  <style>\n",
              "    .colab-df-container {\n",
              "      display:flex;\n",
              "      gap: 12px;\n",
              "    }\n",
              "\n",
              "    .colab-df-convert {\n",
              "      background-color: #E8F0FE;\n",
              "      border: none;\n",
              "      border-radius: 50%;\n",
              "      cursor: pointer;\n",
              "      display: none;\n",
              "      fill: #1967D2;\n",
              "      height: 32px;\n",
              "      padding: 0 0 0 0;\n",
              "      width: 32px;\n",
              "    }\n",
              "\n",
              "    .colab-df-convert:hover {\n",
              "      background-color: #E2EBFA;\n",
              "      box-shadow: 0px 1px 2px rgba(60, 64, 67, 0.3), 0px 1px 3px 1px rgba(60, 64, 67, 0.15);\n",
              "      fill: #174EA6;\n",
              "    }\n",
              "\n",
              "    .colab-df-buttons div {\n",
              "      margin-bottom: 4px;\n",
              "    }\n",
              "\n",
              "    [theme=dark] .colab-df-convert {\n",
              "      background-color: #3B4455;\n",
              "      fill: #D2E3FC;\n",
              "    }\n",
              "\n",
              "    [theme=dark] .colab-df-convert:hover {\n",
              "      background-color: #434B5C;\n",
              "      box-shadow: 0px 1px 3px 1px rgba(0, 0, 0, 0.15);\n",
              "      filter: drop-shadow(0px 1px 2px rgba(0, 0, 0, 0.3));\n",
              "      fill: #FFFFFF;\n",
              "    }\n",
              "  </style>\n",
              "\n",
              "    <script>\n",
              "      const buttonEl =\n",
              "        document.querySelector('#df-b8a5f23a-34f6-4975-b9ba-871cef6494f5 button.colab-df-convert');\n",
              "      buttonEl.style.display =\n",
              "        google.colab.kernel.accessAllowed ? 'block' : 'none';\n",
              "\n",
              "      async function convertToInteractive(key) {\n",
              "        const element = document.querySelector('#df-b8a5f23a-34f6-4975-b9ba-871cef6494f5');\n",
              "        const dataTable =\n",
              "          await google.colab.kernel.invokeFunction('convertToInteractive',\n",
              "                                                    [key], {});\n",
              "        if (!dataTable) return;\n",
              "\n",
              "        const docLinkHtml = 'Like what you see? Visit the ' +\n",
              "          '<a target=\"_blank\" href=https://colab.research.google.com/notebooks/data_table.ipynb>data table notebook</a>'\n",
              "          + ' to learn more about interactive tables.';\n",
              "        element.innerHTML = '';\n",
              "        dataTable['output_type'] = 'display_data';\n",
              "        await google.colab.output.renderOutput(dataTable, element);\n",
              "        const docLink = document.createElement('div');\n",
              "        docLink.innerHTML = docLinkHtml;\n",
              "        element.appendChild(docLink);\n",
              "      }\n",
              "    </script>\n",
              "  </div>\n",
              "\n",
              "\n",
              "<div id=\"df-b3b12ec1-cef6-46fb-a797-190fed99b22d\">\n",
              "  <button class=\"colab-df-quickchart\" onclick=\"quickchart('df-b3b12ec1-cef6-46fb-a797-190fed99b22d')\"\n",
              "            title=\"Suggest charts\"\n",
              "            style=\"display:none;\">\n",
              "\n",
              "<svg xmlns=\"http://www.w3.org/2000/svg\" height=\"24px\"viewBox=\"0 0 24 24\"\n",
              "     width=\"24px\">\n",
              "    <g>\n",
              "        <path d=\"M19 3H5c-1.1 0-2 .9-2 2v14c0 1.1.9 2 2 2h14c1.1 0 2-.9 2-2V5c0-1.1-.9-2-2-2zM9 17H7v-7h2v7zm4 0h-2V7h2v10zm4 0h-2v-4h2v4z\"/>\n",
              "    </g>\n",
              "</svg>\n",
              "  </button>\n",
              "\n",
              "<style>\n",
              "  .colab-df-quickchart {\n",
              "      --bg-color: #E8F0FE;\n",
              "      --fill-color: #1967D2;\n",
              "      --hover-bg-color: #E2EBFA;\n",
              "      --hover-fill-color: #174EA6;\n",
              "      --disabled-fill-color: #AAA;\n",
              "      --disabled-bg-color: #DDD;\n",
              "  }\n",
              "\n",
              "  [theme=dark] .colab-df-quickchart {\n",
              "      --bg-color: #3B4455;\n",
              "      --fill-color: #D2E3FC;\n",
              "      --hover-bg-color: #434B5C;\n",
              "      --hover-fill-color: #FFFFFF;\n",
              "      --disabled-bg-color: #3B4455;\n",
              "      --disabled-fill-color: #666;\n",
              "  }\n",
              "\n",
              "  .colab-df-quickchart {\n",
              "    background-color: var(--bg-color);\n",
              "    border: none;\n",
              "    border-radius: 50%;\n",
              "    cursor: pointer;\n",
              "    display: none;\n",
              "    fill: var(--fill-color);\n",
              "    height: 32px;\n",
              "    padding: 0;\n",
              "    width: 32px;\n",
              "  }\n",
              "\n",
              "  .colab-df-quickchart:hover {\n",
              "    background-color: var(--hover-bg-color);\n",
              "    box-shadow: 0 1px 2px rgba(60, 64, 67, 0.3), 0 1px 3px 1px rgba(60, 64, 67, 0.15);\n",
              "    fill: var(--button-hover-fill-color);\n",
              "  }\n",
              "\n",
              "  .colab-df-quickchart-complete:disabled,\n",
              "  .colab-df-quickchart-complete:disabled:hover {\n",
              "    background-color: var(--disabled-bg-color);\n",
              "    fill: var(--disabled-fill-color);\n",
              "    box-shadow: none;\n",
              "  }\n",
              "\n",
              "  .colab-df-spinner {\n",
              "    border: 2px solid var(--fill-color);\n",
              "    border-color: transparent;\n",
              "    border-bottom-color: var(--fill-color);\n",
              "    animation:\n",
              "      spin 1s steps(1) infinite;\n",
              "  }\n",
              "\n",
              "  @keyframes spin {\n",
              "    0% {\n",
              "      border-color: transparent;\n",
              "      border-bottom-color: var(--fill-color);\n",
              "      border-left-color: var(--fill-color);\n",
              "    }\n",
              "    20% {\n",
              "      border-color: transparent;\n",
              "      border-left-color: var(--fill-color);\n",
              "      border-top-color: var(--fill-color);\n",
              "    }\n",
              "    30% {\n",
              "      border-color: transparent;\n",
              "      border-left-color: var(--fill-color);\n",
              "      border-top-color: var(--fill-color);\n",
              "      border-right-color: var(--fill-color);\n",
              "    }\n",
              "    40% {\n",
              "      border-color: transparent;\n",
              "      border-right-color: var(--fill-color);\n",
              "      border-top-color: var(--fill-color);\n",
              "    }\n",
              "    60% {\n",
              "      border-color: transparent;\n",
              "      border-right-color: var(--fill-color);\n",
              "    }\n",
              "    80% {\n",
              "      border-color: transparent;\n",
              "      border-right-color: var(--fill-color);\n",
              "      border-bottom-color: var(--fill-color);\n",
              "    }\n",
              "    90% {\n",
              "      border-color: transparent;\n",
              "      border-bottom-color: var(--fill-color);\n",
              "    }\n",
              "  }\n",
              "</style>\n",
              "\n",
              "  <script>\n",
              "    async function quickchart(key) {\n",
              "      const quickchartButtonEl =\n",
              "        document.querySelector('#' + key + ' button');\n",
              "      quickchartButtonEl.disabled = true;  // To prevent multiple clicks.\n",
              "      quickchartButtonEl.classList.add('colab-df-spinner');\n",
              "      try {\n",
              "        const charts = await google.colab.kernel.invokeFunction(\n",
              "            'suggestCharts', [key], {});\n",
              "      } catch (error) {\n",
              "        console.error('Error during call to suggestCharts:', error);\n",
              "      }\n",
              "      quickchartButtonEl.classList.remove('colab-df-spinner');\n",
              "      quickchartButtonEl.classList.add('colab-df-quickchart-complete');\n",
              "    }\n",
              "    (() => {\n",
              "      let quickchartButtonEl =\n",
              "        document.querySelector('#df-b3b12ec1-cef6-46fb-a797-190fed99b22d button');\n",
              "      quickchartButtonEl.style.display =\n",
              "        google.colab.kernel.accessAllowed ? 'block' : 'none';\n",
              "    })();\n",
              "  </script>\n",
              "</div>\n",
              "\n",
              "    </div>\n",
              "  </div>\n"
            ],
            "application/vnd.google.colaboratory.intrinsic+json": {
              "type": "dataframe",
              "variable_name": "data1",
              "summary": "{\n  \"name\": \"data1\",\n  \"rows\": 40000,\n  \"fields\": [\n    {\n      \"column\": \"tweet_id\",\n      \"properties\": {\n        \"dtype\": \"number\",\n        \"std\": 118857896,\n        \"min\": 1693956175,\n        \"max\": 1966441171,\n        \"num_unique_values\": 40000,\n        \"samples\": [\n          1752414968,\n          1965295852,\n          1696219218\n        ],\n        \"semantic_type\": \"\",\n        \"description\": \"\"\n      }\n    },\n    {\n      \"column\": \"sentiment\",\n      \"properties\": {\n        \"dtype\": \"category\",\n        \"num_unique_values\": 13,\n        \"samples\": [\n          \"relief\",\n          \"happiness\",\n          \"empty\"\n        ],\n        \"semantic_type\": \"\",\n        \"description\": \"\"\n      }\n    },\n    {\n      \"column\": \"content\",\n      \"properties\": {\n        \"dtype\": \"string\",\n        \"num_unique_values\": 39826,\n        \"samples\": [\n          \"stunned was i voice amazing an have you and songs, your of one heard i @davedays\",\n          \"8am. its if as up now &amp; news 10pm the of start the exactly @ asleep fell i tired. been have must i wow\",\n          \"sad? you are why @misssammibaby\"\n        ],\n        \"semantic_type\": \"\",\n        \"description\": \"\"\n      }\n    }\n  ]\n}"
            }
          },
          "metadata": {},
          "execution_count": 20
        }
      ]
    },
    {
      "cell_type": "markdown",
      "source": [
        "Splitting of the Dataset"
      ],
      "metadata": {
        "id": "0vcJTeYh2ULp"
      }
    },
    {
      "cell_type": "code",
      "source": [
        "m1 = data1.shape[0]\n",
        "train_split_1 = 0.80 * m1\n",
        "val_split_1 = (1 - 0.80) * m1\n",
        "test_split_1 = 0.20 * val_split_1\n",
        "val_split_1 = (1 - 0.20) * val_split_1\n",
        "\n",
        "print('Splitting ratio: ')\n",
        "print()\n",
        "print('train_split: ', train_split_1, ', val_split: ', val_split_1, ', test-split: ', test_split_1)\n",
        "\n",
        "train_data1 = data1.iloc[:int(train_split_1)]\n",
        "val_data1 = data1.iloc[int(train_split_1) + 1: int(train_split_1) + int(val_split_1)]\n",
        "test_data1 = data1.iloc[int(train_split_1) + int(val_split_1) + 1 : int(train_split_1) + int(val_split_1) + int(test_split_1)]\n",
        "print()\n",
        "print('All_Shapes: ')\n",
        "print()\n",
        "print(train_data1.shape, val_data1.shape, test_data1.shape)\n",
        "\n",
        "del val_split_1\n",
        "del train_split_1\n",
        "del test_split_1"
      ],
      "metadata": {
        "colab": {
          "base_uri": "https://localhost:8080/"
        },
        "id": "E80QVa6jUD9m",
        "outputId": "4b78eedf-46bf-47d8-89bb-4f8bb6e01e97"
      },
      "execution_count": null,
      "outputs": [
        {
          "output_type": "stream",
          "name": "stdout",
          "text": [
            "Splitting ratio: \n",
            "\n",
            "train_split:  32000.0 , val_split:  6399.999999999999 , test-split:  1599.9999999999998\n",
            "\n",
            "All_Shapes: \n",
            "\n",
            "(32000, 3) (6398, 3) (1598, 3)\n"
          ]
        }
      ]
    },
    {
      "cell_type": "markdown",
      "source": [
        "Text Cleaning and Pre-processing"
      ],
      "metadata": {
        "id": "7x7n4Rst2cBu"
      }
    },
    {
      "cell_type": "code",
      "source": [
        "content_text1 = train_data1.content.tolist()\n",
        "all_classes1 = train_data1.sentiment.unique().tolist()\n",
        "content_text1 = train_data1.content.tolist()\n",
        "ex_char1 = string.punctuation\n",
        "ex_char1 = ex_char1.replace('~', '')\n",
        "c_text1 = '~~~~~~'.join(content_text1)\n",
        "\n",
        "x1 = c_text1.translate(str.maketrans('', '', ex_char1))\n",
        "c_text1 = x1.split('~~~~~~')\n",
        "\n",
        "#print('Samples: ',len(c_text))\n",
        "\n",
        "token_data1 = tf.keras.preprocessing.text.Tokenizer(num_words=None,\n",
        "    filters='!\"#$%&()*+,-./:;<=>?@[\\\\]^_`{|}~\\t\\n',lower=True,split=' ')\n",
        "token_data1.fit_on_texts(c_text1)\n",
        "ind_text1 = token_data1.texts_to_sequences(c_text1)\n",
        "\n",
        "print()\n",
        "\n",
        "print('All_samples: ', len(ind_text1))\n",
        "word_index1 = token_data1.word_index\n",
        "print('Diff. words: ', len(list(word_index1)))"
      ],
      "metadata": {
        "colab": {
          "base_uri": "https://localhost:8080/"
        },
        "id": "vHFgXlJjUGUK",
        "outputId": "6cf2a3e5-e440-4870-a643-1cfcf44abbdc"
      },
      "execution_count": null,
      "outputs": [
        {
          "output_type": "stream",
          "name": "stdout",
          "text": [
            "\n",
            "All_samples:  32000\n",
            "Diff. words:  45303\n"
          ]
        }
      ]
    },
    {
      "cell_type": "code",
      "source": [
        "label_token1 = tf.keras.preprocessing.text.Tokenizer(num_words=len(all_classes1),\n",
        "    filters='!\"#$%&()*+,-./:;<=>?@[\\\\]^_`{|}~\\t\\n',lower=True,split=' ')\n",
        "classes1 = ' '.join(all_classes1)\n",
        "label_token1.fit_on_texts([classes1])\n",
        "label_index1 = label_token1.word_index\n",
        "print('No. of Labels: ',len(list(label_index1)))\n",
        "print()\n",
        "label_index1 = {key:value-1 for key, value in label_index1.items()}\n",
        "inv_label_index1 = {value:key for key, value in label_index1.items()}\n",
        "print()\n",
        "print(inv_label_index1)"
      ],
      "metadata": {
        "colab": {
          "base_uri": "https://localhost:8080/"
        },
        "id": "RrcbySGMUI8T",
        "outputId": "0b398921-39f2-4209-9342-641fd738ff64"
      },
      "execution_count": null,
      "outputs": [
        {
          "output_type": "stream",
          "name": "stdout",
          "text": [
            "No. of Labels:  13\n",
            "\n",
            "\n",
            "{0: 'empty', 1: 'sadness', 2: 'enthusiasm', 3: 'neutral', 4: 'worry', 5: 'surprise', 6: 'love', 7: 'fun', 8: 'hate', 9: 'happiness', 10: 'boredom', 11: 'relief', 12: 'anger'}\n"
          ]
        }
      ]
    },
    {
      "cell_type": "code",
      "source": [
        "y_train1 = []\n",
        "for i in train_data1.sentiment:\n",
        "    y_train1.append(label_index1.get(i))\n",
        "y_train1 = np.array(y_train1)\n",
        "print('Label_shape: ', y_train1.shape)\n",
        "pprint(y_train1[:10])"
      ],
      "metadata": {
        "colab": {
          "base_uri": "https://localhost:8080/"
        },
        "id": "QzA5QrCvULan",
        "outputId": "b3f6d522-026f-4331-9d10-a9f8534b83fb"
      },
      "execution_count": null,
      "outputs": [
        {
          "output_type": "stream",
          "name": "stdout",
          "text": [
            "Label_shape:  (32000,)\n",
            "array([0, 1, 1, 2, 3, 4, 1, 4, 1, 1])\n"
          ]
        }
      ]
    },
    {
      "cell_type": "code",
      "source": [
        "x_train1 = tf.keras.preprocessing.sequence.pad_sequences(ind_text1, padding='post')\n",
        "\n",
        "max_inp_len1 = x_train1.shape[1]\n",
        "print('max_input_length: ', max_inp_len1)\n",
        "\n",
        "\n",
        "print('x_train_shape: ', x_train1.shape, ', y_train_shape: ', y_train1.shape)\n"
      ],
      "metadata": {
        "colab": {
          "base_uri": "https://localhost:8080/"
        },
        "id": "jqnKxgt-UNYE",
        "outputId": "49e5cb26-f936-4796-969f-c208be04549f"
      },
      "execution_count": null,
      "outputs": [
        {
          "output_type": "stream",
          "name": "stdout",
          "text": [
            "max_input_length:  33\n",
            "x_train_shape:  (32000, 33) , y_train_shape:  (32000,)\n"
          ]
        }
      ]
    },
    {
      "cell_type": "code",
      "source": [
        "import numpy as np\n",
        "import tensorflow as tf\n",
        "import string\n",
        "\n",
        "def val_preprocess(val_data, token_data, label_index):\n",
        "    content_text = val_data.content.tolist()\n",
        "    ex_char = string.punctuation.replace('~', '')\n",
        "    c_text = '~~~~~~'.join(content_text).translate(str.maketrans('', '', ex_char)).split('~~~~~~')\n",
        "\n",
        "    print('Val_samples: ', len(c_text))\n",
        "\n",
        "    # Tokenize and then pad sequences\n",
        "    ind_text = token_data.texts_to_sequences(c_text)\n",
        "    x_val = tf.keras.preprocessing.sequence.pad_sequences(ind_text, padding='post')\n",
        "\n",
        "    print('All_Val_samples: ', len(ind_text))\n",
        "\n",
        "    # Prepare labels\n",
        "    y_val = np.array([label_index.get(i, -1) for i in val_data.sentiment])\n",
        "    print('Label_shape: ', y_val.shape)\n",
        "\n",
        "    return x_val, y_val\n",
        "\n",
        "\n",
        "def test_preprocess(test_data, token_data, label_index):\n",
        "    content_text = test_data.content.tolist()\n",
        "    # Remove redundant line: all_classes = test_data.sentiment.unique().tolist()\n",
        "    ex_char = string.punctuation.replace('~', '')  # Exclude '~' from being removed\n",
        "    c_text = '~~~~~~'.join(content_text).translate(str.maketrans('', '', ex_char)).split('~~~~~~')\n",
        "\n",
        "    print('Again_Test_samples: ', len(c_text))\n",
        "    ind_text = token_data.texts_to_sequences(c_text)\n",
        "\n",
        "    # Use pad_sequences here, no need to convert to numpy array manually after this\n",
        "    x_test = tf.keras.preprocessing.sequence.pad_sequences(ind_text, padding='post')\n",
        "    print('\\nAll_Test_samples: ', len(ind_text))\n",
        "\n",
        "    y_test = [label_index.get(i, -1) for i in test_data.sentiment]  # Use default value for missing labels\n",
        "    y_test = np.array(y_test)\n",
        "    print('Label_shape: ', y_test.shape)\n",
        "\n",
        "    return x_test, y_test\n",
        "\n",
        "\n",
        "print('Val_Preprocessing:')\n",
        "x_val1, y_val1 = val_preprocess(val_data1, token_data1, label_index1)\n",
        "#print(x_val1.shape, y_val1.shape)\n",
        "print('--------')\n",
        "print('Test_Preprocessing ...')\n",
        "x_test1, y_test1 = test_preprocess(test_data1, token_data1, label_index1)\n",
        "#print(x_test1.shape, y_test1.shape)"
      ],
      "metadata": {
        "colab": {
          "base_uri": "https://localhost:8080/"
        },
        "id": "r0ejqgpLUPon",
        "outputId": "970ffc6f-76fd-4a60-d877-493901d5b852"
      },
      "execution_count": null,
      "outputs": [
        {
          "output_type": "stream",
          "name": "stdout",
          "text": [
            "Val_Preprocessing:\n",
            "Val_samples:  6398\n",
            "All_Val_samples:  6398\n",
            "Label_shape:  (6398,)\n",
            "--------\n",
            "Test_Preprocessing ...\n",
            "Again_Test_samples:  1598\n",
            "\n",
            "All_Test_samples:  1598\n",
            "Label_shape:  (1598,)\n"
          ]
        }
      ]
    },
    {
      "cell_type": "code",
      "source": [
        "x_val1 = tf.keras.preprocessing.sequence.pad_sequences(x_val1, maxlen = max_inp_len1, padding = 'post')\n",
        "print('x_val_shape: ',x_val1.shape, ', y_val_shape: ', y_val1.shape)\n",
        "x_test1 = tf.keras.preprocessing.sequence.pad_sequences(x_test1, maxlen = max_inp_len1, padding = 'post')\n",
        "print('x_test_shape: ',x_test1.shape, ', y_test_shape: ', y_test1.shape)"
      ],
      "metadata": {
        "colab": {
          "base_uri": "https://localhost:8080/"
        },
        "id": "s0ltCeZkUS2x",
        "outputId": "6317b4ef-dd84-431a-eb50-7701e739465c"
      },
      "execution_count": null,
      "outputs": [
        {
          "output_type": "stream",
          "name": "stdout",
          "text": [
            "x_val_shape:  (6398, 33) , y_val_shape:  (6398,)\n",
            "x_test_shape:  (1598, 33) , y_test_shape:  (1598,)\n"
          ]
        }
      ]
    },
    {
      "cell_type": "markdown",
      "source": [
        "Model Building and Evaluation"
      ],
      "metadata": {
        "id": "JCfUwfmp2fei"
      }
    },
    {
      "cell_type": "code",
      "source": [
        "import tensorflow as tf\n",
        "from tensorflow.keras.models import Sequential\n",
        "from tensorflow.keras.layers import Embedding, LSTM, Dense\n",
        "\n",
        "# Model configuration\n",
        "VOCABULARY_SIZE = 45303 + 1  # Adding 1 because index 0 is reserved\n",
        "EMBEDDING_DIM = 100  # Dimensionality of the embedding vectors\n",
        "LSTM_UNITS = 64  # Number of units in the LSTM layer\n",
        "NUM_CLASSES = 13  # The number of sentiment labels\n",
        "\n",
        "# Define the model\n",
        "model1 = Sequential([\n",
        "    Embedding(input_dim=VOCABULARY_SIZE, output_dim=EMBEDDING_DIM, input_length=33),\n",
        "    LSTM(LSTM_UNITS),\n",
        "    Dense(NUM_CLASSES, activation='softmax')\n",
        "])\n",
        "\n",
        "# Compile the model\n",
        "model1.compile(optimizer='adam',\n",
        "              loss='sparse_categorical_crossentropy',\n",
        "              metrics=['accuracy'])\n",
        "\n",
        "# Print the model summary\n",
        "model1.summary()\n"
      ],
      "metadata": {
        "colab": {
          "base_uri": "https://localhost:8080/"
        },
        "id": "caLqA-JoUU_Q",
        "outputId": "a5d901c3-96e8-485b-c734-a4f99cd96a64"
      },
      "execution_count": null,
      "outputs": [
        {
          "output_type": "stream",
          "name": "stdout",
          "text": [
            "Model: \"sequential_1\"\n",
            "_________________________________________________________________\n",
            " Layer (type)                Output Shape              Param #   \n",
            "=================================================================\n",
            " embedding_1 (Embedding)     (None, 33, 100)           4530400   \n",
            "                                                                 \n",
            " lstm_1 (LSTM)               (None, 64)                42240     \n",
            "                                                                 \n",
            " dense_1 (Dense)             (None, 13)                845       \n",
            "                                                                 \n",
            "=================================================================\n",
            "Total params: 4573485 (17.45 MB)\n",
            "Trainable params: 4573485 (17.45 MB)\n",
            "Non-trainable params: 0 (0.00 Byte)\n",
            "_________________________________________________________________\n"
          ]
        }
      ]
    },
    {
      "cell_type": "code",
      "source": [
        "hit1 = model1.fit(x_train1, y_train1, epochs=25, validation_data=(x_val1, y_val1), batch_size=32)\n",
        "print()\n",
        "print('-- Evaluation --')\n",
        "model1.evaluate(x_test1, y_test1)\n",
        "print()\n",
        "hit_1 = hit1.history\n",
        "\n",
        "fig, axs = plt.subplots(1,2, figsize=(16,8))\n",
        "\n",
        "axs[0].set_title('Loss_Curve')\n",
        "ep = range(len(hit_2['loss']))\n",
        "axs[0].plot(ep, hit_2['loss'],'o--r',label = 'Training_loss')\n",
        "axs[0].plot(ep, hit_2['val_loss'],'o--b',label = 'Val_loss')\n",
        "axs[0].set_xlabel('epoch')\n",
        "axs[0].set_ylabel('Loss')\n",
        "axs[0].legend()\n",
        "\n",
        "axs[1].set_title('Acc_Curve')\n",
        "ep = range(len(hit_2['loss']))\n",
        "axs[1].plot(ep, hit_2['accuracy'],'o--r',label = 'Training_acc')\n",
        "axs[1].plot(ep, hit_2['val_accuracy'],'o--b',label = 'Val_acc')\n",
        "axs[1].set_xlabel('epoch')\n",
        "axs[1].set_ylabel('Accuracy')\n",
        "axs[1].legend()\n",
        "\n",
        "plt.show()"
      ],
      "metadata": {
        "colab": {
          "base_uri": "https://localhost:8080/",
          "height": 1000
        },
        "id": "9sbqQ_Z8UuTl",
        "outputId": "9cc0ab32-474c-4aa8-a27e-04ed062c77a3"
      },
      "execution_count": null,
      "outputs": [
        {
          "output_type": "stream",
          "name": "stdout",
          "text": [
            "Epoch 1/25\n",
            "1000/1000 [==============================] - 78s 76ms/step - loss: 2.1131 - accuracy: 0.2408 - val_loss: 2.0857 - val_accuracy: 0.2396\n",
            "Epoch 2/25\n",
            "1000/1000 [==============================] - 74s 74ms/step - loss: 1.9165 - accuracy: 0.3294 - val_loss: 2.0110 - val_accuracy: 0.3392\n",
            "Epoch 3/25\n",
            "1000/1000 [==============================] - 78s 78ms/step - loss: 1.6315 - accuracy: 0.4448 - val_loss: 2.0947 - val_accuracy: 0.3274\n",
            "Epoch 4/25\n",
            "1000/1000 [==============================] - 76s 76ms/step - loss: 1.2892 - accuracy: 0.5790 - val_loss: 2.3390 - val_accuracy: 0.3132\n",
            "Epoch 5/25\n",
            "1000/1000 [==============================] - 76s 76ms/step - loss: 0.9858 - accuracy: 0.6852 - val_loss: 2.5468 - val_accuracy: 0.3007\n",
            "Epoch 6/25\n",
            "1000/1000 [==============================] - 76s 76ms/step - loss: 0.7483 - accuracy: 0.7627 - val_loss: 2.7591 - val_accuracy: 0.3024\n",
            "Epoch 7/25\n",
            "1000/1000 [==============================] - 73s 73ms/step - loss: 0.5862 - accuracy: 0.8137 - val_loss: 2.9284 - val_accuracy: 0.2982\n",
            "Epoch 8/25\n",
            "1000/1000 [==============================] - 72s 72ms/step - loss: 0.4717 - accuracy: 0.8502 - val_loss: 3.1233 - val_accuracy: 0.2721\n",
            "Epoch 9/25\n",
            "1000/1000 [==============================] - 76s 76ms/step - loss: 0.3914 - accuracy: 0.8763 - val_loss: 3.4833 - val_accuracy: 0.2832\n",
            "Epoch 10/25\n",
            "1000/1000 [==============================] - 74s 74ms/step - loss: 0.3210 - accuracy: 0.8978 - val_loss: 3.6373 - val_accuracy: 0.2585\n",
            "Epoch 11/25\n",
            "1000/1000 [==============================] - 75s 75ms/step - loss: 0.2789 - accuracy: 0.9118 - val_loss: 3.6745 - val_accuracy: 0.2854\n",
            "Epoch 12/25\n",
            "1000/1000 [==============================] - 76s 76ms/step - loss: 0.2413 - accuracy: 0.9227 - val_loss: 3.8318 - val_accuracy: 0.2860\n",
            "Epoch 13/25\n",
            "1000/1000 [==============================] - 75s 75ms/step - loss: 0.2140 - accuracy: 0.9313 - val_loss: 3.9827 - val_accuracy: 0.2801\n",
            "Epoch 14/25\n",
            "1000/1000 [==============================] - 76s 76ms/step - loss: 0.1872 - accuracy: 0.9399 - val_loss: 4.3158 - val_accuracy: 0.2656\n",
            "Epoch 15/25\n",
            "1000/1000 [==============================] - 75s 75ms/step - loss: 0.1704 - accuracy: 0.9439 - val_loss: 4.1900 - val_accuracy: 0.2640\n",
            "Epoch 16/25\n",
            "1000/1000 [==============================] - 75s 75ms/step - loss: 0.1517 - accuracy: 0.9512 - val_loss: 4.4802 - val_accuracy: 0.2596\n",
            "Epoch 17/25\n",
            "1000/1000 [==============================] - 75s 76ms/step - loss: 0.1340 - accuracy: 0.9560 - val_loss: 4.7930 - val_accuracy: 0.2712\n",
            "Epoch 18/25\n",
            "1000/1000 [==============================] - 79s 79ms/step - loss: 0.1205 - accuracy: 0.9602 - val_loss: 5.0255 - val_accuracy: 0.2595\n",
            "Epoch 19/25\n",
            "1000/1000 [==============================] - 75s 75ms/step - loss: 0.1125 - accuracy: 0.9633 - val_loss: 4.9398 - val_accuracy: 0.2609\n",
            "Epoch 20/25\n",
            "1000/1000 [==============================] - 74s 74ms/step - loss: 0.1026 - accuracy: 0.9659 - val_loss: 4.9048 - val_accuracy: 0.2663\n",
            "Epoch 21/25\n",
            "1000/1000 [==============================] - 76s 76ms/step - loss: 0.0909 - accuracy: 0.9697 - val_loss: 5.3603 - val_accuracy: 0.2565\n",
            "Epoch 22/25\n",
            "1000/1000 [==============================] - 77s 77ms/step - loss: 0.0809 - accuracy: 0.9735 - val_loss: 5.2179 - val_accuracy: 0.2651\n",
            "Epoch 23/25\n",
            "1000/1000 [==============================] - 75s 75ms/step - loss: 0.0759 - accuracy: 0.9746 - val_loss: 5.4857 - val_accuracy: 0.2463\n",
            "Epoch 24/25\n",
            "1000/1000 [==============================] - 75s 75ms/step - loss: 0.0704 - accuracy: 0.9757 - val_loss: 5.3550 - val_accuracy: 0.2509\n",
            "Epoch 25/25\n",
            "1000/1000 [==============================] - 74s 74ms/step - loss: 0.0643 - accuracy: 0.9783 - val_loss: 5.3431 - val_accuracy: 0.2549\n",
            "\n",
            "-- Evaluation --\n",
            "50/50 [==============================] - 0s 6ms/step - loss: 5.2473 - accuracy: 0.2528\n",
            "\n"
          ]
        },
        {
          "output_type": "display_data",
          "data": {
            "text/plain": [
              "<Figure size 1600x800 with 2 Axes>"
            ],
            "image/png": "[encoded data removed]"
          },
          "metadata": {}
        }
      ]
    },
    {
      "cell_type": "code",
      "source": [
        "from sklearn.metrics import confusion_matrix, f1_score, precision_score, recall_score, classification_report\n",
        "import numpy as np\n",
        "\n",
        "# Assuming ypred and y_test are already defined as per your previous code\n",
        "ypred1 = model1.predict(x_test1)\n",
        "ypred1 = np.argmax(ypred1, axis=-1)\n",
        "\n",
        "confuse_matrix  = confusion_matrix(y_test1, ypred1)\n",
        "\n",
        "print('--Confusion_Matrix--')\n",
        "print(confuse_matrix)\n",
        "print()\n",
        "\n",
        "print('f1_score: ', f1_score(y_test1, ypred1, average='micro'))\n",
        "print('Precision: ', precision_score(y_test1, ypred1, average='micro'))\n",
        "print('Recall: ', recall_score(y_test1, ypred1, average='micro'))\n",
        "\n",
        "# Getting the classification report\n",
        "print('--Classification Report--')\n",
        "print(classification_report(y_test1, ypred1))"
      ],
      "metadata": {
        "colab": {
          "base_uri": "https://localhost:8080/"
        },
        "id": "NYUynEJiU2td",
        "outputId": "4f285212-9c2c-450d-cb86-4db76e371384"
      },
      "execution_count": null,
      "outputs": [
        {
          "output_type": "stream",
          "name": "stdout",
          "text": [
            "50/50 [==============================] - 1s 6ms/step\n",
            "--Confusion_Matrix--\n",
            "[[  0   1   0   8   6   4   2   0   0   3   0   2   0]\n",
            " [  0   8   1  13  10   6   4   0   1   5   1   3   0]\n",
            " [  1   2   2  11   8   4   4   1   0   3   0   3   0]\n",
            " [  6  22   8 142  78  30  31  11   3  25   1  12   1]\n",
            " [  6  17   1  40  43  14  11   4   3  22   0  17   1]\n",
            " [  2   6   0  12  16  11  15   4   1  15   0   3   0]\n",
            " [  2   8   3  38  27  20  97  13   2  58   1   8   0]\n",
            " [  5   3   1  15  17   6   7   7   5  20   0   4   0]\n",
            " [  0   4   0   8   7   3   0   0   0   1   0   0   0]\n",
            " [  3  17   9  69  39  36  60  17   0  86   0  26   1]\n",
            " [  2   0   0   2   0   1   0   0   0   0   0   0   0]\n",
            " [  0   3   1  19  18   9  10   3   0  17   0   8   0]\n",
            " [  0   0   0   0   0   0   0   0   0   1   0   0   0]]\n",
            "\n",
            "f1_score:  0.2528160200250313\n",
            "Precision:  0.2528160200250313\n",
            "Recall:  0.2528160200250313\n",
            "--Classification Report--\n",
            "              precision    recall  f1-score   support\n",
            "\n",
            "           0       0.00      0.00      0.00        26\n",
            "           1       0.09      0.15      0.11        52\n",
            "           2       0.08      0.05      0.06        39\n",
            "           3       0.38      0.38      0.38       370\n",
            "           4       0.16      0.24      0.19       179\n",
            "           5       0.08      0.13      0.10        85\n",
            "           6       0.40      0.35      0.37       277\n",
            "           7       0.12      0.08      0.09        90\n",
            "           8       0.00      0.00      0.00        23\n",
            "           9       0.34      0.24      0.28       363\n",
            "          10       0.00      0.00      0.00         5\n",
            "          11       0.09      0.09      0.09        88\n",
            "          12       0.00      0.00      0.00         1\n",
            "\n",
            "    accuracy                           0.25      1598\n",
            "   macro avg       0.13      0.13      0.13      1598\n",
            "weighted avg       0.27      0.25      0.26      1598\n",
            "\n"
          ]
        }
      ]
    },
    {
      "cell_type": "code",
      "source": [
        "import tensorflow as tf\n",
        "\n",
        "input_sentence1 = \"success his celebrating are They\"\n",
        "\n",
        "sequence1 = token_data1.texts_to_sequences([input_sentence1])\n",
        "\n",
        "padded_sequence1 = tf.keras.preprocessing.sequence.pad_sequences(sequence1, maxlen=33, padding='post')\n",
        "\n",
        "prediction1 = model1.predict(padded_sequence1)\n",
        "predicted_class1 = tf.argmax(prediction1, axis=1).numpy()\n",
        "\n",
        "sentiment_label1 = inv_label_index1[predicted_class1[0]]\n",
        "\n",
        "print(f\"Predicted sentiment: {sentiment_label1}\")"
      ],
      "metadata": {
        "colab": {
          "base_uri": "https://localhost:8080/"
        },
        "id": "plu-EfEoU8OV",
        "outputId": "51b497c3-2dcd-49b4-ac80-5646ffc575dc"
      },
      "execution_count": null,
      "outputs": [
        {
          "output_type": "stream",
          "name": "stdout",
          "text": [
            "1/1 [==============================] - 0s 21ms/step\n",
            "Predicted sentiment: love\n"
          ]
        }
      ]
    },
    {
      "cell_type": "code",
      "source": [],
      "metadata": {
        "id": "nAivhGKtVB5N"
      },
      "execution_count": null,
      "outputs": []
    }
  ]
}