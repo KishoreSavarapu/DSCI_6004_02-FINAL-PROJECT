{
  "nbformat": 4,
  "nbformat_minor": 0,
  "metadata": {
    "colab": {
      "provenance": []
    },
    "kernelspec": {
      "name": "python3",
      "display_name": "Python 3"
    },
    "language_info": {
      "name": "python"
    }
  },
  "cells": [
    {
      "cell_type": "markdown",
      "source": [
        "# DSCI_6004_02 NATURAL LANGUAGE PROCESSING\n",
        "###            PROJECT BY\n",
        "## AMANI KAMBHAM AND LAKSHMI SAI KISHORE SAVARAPU"
      ],
      "metadata": {
        "id": "mNlIyRTl2-so"
      }
    },
    {
      "cell_type": "markdown",
      "source": [
        "### TITLE:EMOTION CLASSIFICATION OF TWEETS USING NATURAL LANGUAGE PROCESSING"
      ],
      "metadata": {
        "id": "bKOpWLtv2-qd"
      }
    },
    {
      "cell_type": "markdown",
      "source": [
        "Importing necessary Modules and Libraries"
      ],
      "metadata": {
        "id": "sOq-69RW2-m_"
      }
    },
    {
      "cell_type": "code",
      "execution_count": null,
      "metadata": {
        "id": "EwQqrPk_-BEk"
      },
      "outputs": [],
      "source": [
        "import pandas as pd\n",
        "from pprint import pprint\n",
        "import warnings\n",
        "warnings.filterwarnings('ignore')\n",
        "import gc\n",
        "import seaborn as sns\n",
        "import matplotlib.pyplot as plt\n",
        "from sklearn.utils import resample\n",
        "import string\n",
        "import numpy as np\n",
        "import tensorflow as tf\n",
        "# import tensorflow_addons as tfa\n",
        "#import keras_tuner as kt"
      ]
    },
    {
      "cell_type": "markdown",
      "source": [
        "Importing the Dataset"
      ],
      "metadata": {
        "id": "v8B3VkKL3PiY"
      }
    },
    {
      "cell_type": "code",
      "source": [
        "data = pd.read_csv('tweet_emotions.csv')\n",
        "data.head()"
      ],
      "metadata": {
        "colab": {
          "base_uri": "https://localhost:8080/",
          "height": 206
        },
        "id": "HXDiUdSCAr7M",
        "outputId": "9533a94c-4bca-4f91-d36b-18591ffe5a3f"
      },
      "execution_count": null,
      "outputs": [
        {
          "output_type": "execute_result",
          "data": {
            "text/plain": [
              "     tweet_id   sentiment                                            content\n",
              "0  1956967341       empty  @tiffanylue i know  i was listenin to bad habi...\n",
              "1  1956967666     sadness  Layin n bed with a headache  ughhhh...waitin o...\n",
              "2  1956967696     sadness                Funeral ceremony...gloomy friday...\n",
              "3  1956967789  enthusiasm               wants to hang out with friends SOON!\n",
              "4  1956968416     neutral  @dannycastillo We want to trade with someone w..."
            ],
            "text/html": [
              "\n",
              "  <div id=\"df-cbc1f80c-9c43-4126-a087-3d8acc362979\" class=\"colab-df-container\">\n",
              "    <div>\n",
              "<style scoped>\n",
              "    .dataframe tbody tr th:only-of-type {\n",
              "        vertical-align: middle;\n",
              "    }\n",
              "\n",
              "    .dataframe tbody tr th {\n",
              "        vertical-align: top;\n",
              "    }\n",
              "\n",
              "    .dataframe thead th {\n",
              "        text-align: right;\n",
              "    }\n",
              "</style>\n",
              "<table border=\"1\" class=\"dataframe\">\n",
              "  <thead>\n",
              "    <tr style=\"text-align: right;\">\n",
              "      <th></th>\n",
              "      <th>tweet_id</th>\n",
              "      <th>sentiment</th>\n",
              "      <th>content</th>\n",
              "    </tr>\n",
              "  </thead>\n",
              "  <tbody>\n",
              "    <tr>\n",
              "      <th>0</th>\n",
              "      <td>1956967341</td>\n",
              "      <td>empty</td>\n",
              "      <td>@tiffanylue i know  i was listenin to bad habi...</td>\n",
              "    </tr>\n",
              "    <tr>\n",
              "      <th>1</th>\n",
              "      <td>1956967666</td>\n",
              "      <td>sadness</td>\n",
              "      <td>Layin n bed with a headache  ughhhh...waitin o...</td>\n",
              "    </tr>\n",
              "    <tr>\n",
              "      <th>2</th>\n",
              "      <td>1956967696</td>\n",
              "      <td>sadness</td>\n",
              "      <td>Funeral ceremony...gloomy friday...</td>\n",
              "    </tr>\n",
              "    <tr>\n",
              "      <th>3</th>\n",
              "      <td>1956967789</td>\n",
              "      <td>enthusiasm</td>\n",
              "      <td>wants to hang out with friends SOON!</td>\n",
              "    </tr>\n",
              "    <tr>\n",
              "      <th>4</th>\n",
              "      <td>1956968416</td>\n",
              "      <td>neutral</td>\n",
              "      <td>@dannycastillo We want to trade with someone w...</td>\n",
              "    </tr>\n",
              "  </tbody>\n",
              "</table>\n",
              "</div>\n",
              "    <div class=\"colab-df-buttons\">\n",
              "\n",
              "  <div class=\"colab-df-container\">\n",
              "    <button class=\"colab-df-convert\" onclick=\"convertToInteractive('df-cbc1f80c-9c43-4126-a087-3d8acc362979')\"\n",
              "            title=\"Convert this dataframe to an interactive table.\"\n",
              "            style=\"display:none;\">\n",
              "\n",
              "  <svg xmlns=\"http://www.w3.org/2000/svg\" height=\"24px\" viewBox=\"0 -960 960 960\">\n",
              "    <path d=\"M120-120v-720h720v720H120Zm60-500h600v-160H180v160Zm220 220h160v-160H400v160Zm0 220h160v-160H400v160ZM180-400h160v-160H180v160Zm440 0h160v-160H620v160ZM180-180h160v-160H180v160Zm440 0h160v-160H620v160Z\"/>\n",
              "  </svg>\n",
              "    </button>\n",
              "\n",
              "  <style>\n",
              "    .colab-df-container {\n",
              "      display:flex;\n",
              "      gap: 12px;\n",
              "    }\n",
              "\n",
              "    .colab-df-convert {\n",
              "      background-color: #E8F0FE;\n",
              "      border: none;\n",
              "      border-radius: 50%;\n",
              "      cursor: pointer;\n",
              "      display: none;\n",
              "      fill: #1967D2;\n",
              "      height: 32px;\n",
              "      padding: 0 0 0 0;\n",
              "      width: 32px;\n",
              "    }\n",
              "\n",
              "    .colab-df-convert:hover {\n",
              "      background-color: #E2EBFA;\n",
              "      box-shadow: 0px 1px 2px rgba(60, 64, 67, 0.3), 0px 1px 3px 1px rgba(60, 64, 67, 0.15);\n",
              "      fill: #174EA6;\n",
              "    }\n",
              "\n",
              "    .colab-df-buttons div {\n",
              "      margin-bottom: 4px;\n",
              "    }\n",
              "\n",
              "    [theme=dark] .colab-df-convert {\n",
              "      background-color: #3B4455;\n",
              "      fill: #D2E3FC;\n",
              "    }\n",
              "\n",
              "    [theme=dark] .colab-df-convert:hover {\n",
              "      background-color: #434B5C;\n",
              "      box-shadow: 0px 1px 3px 1px rgba(0, 0, 0, 0.15);\n",
              "      filter: drop-shadow(0px 1px 2px rgba(0, 0, 0, 0.3));\n",
              "      fill: #FFFFFF;\n",
              "    }\n",
              "  </style>\n",
              "\n",
              "    <script>\n",
              "      const buttonEl =\n",
              "        document.querySelector('#df-cbc1f80c-9c43-4126-a087-3d8acc362979 button.colab-df-convert');\n",
              "      buttonEl.style.display =\n",
              "        google.colab.kernel.accessAllowed ? 'block' : 'none';\n",
              "\n",
              "      async function convertToInteractive(key) {\n",
              "        const element = document.querySelector('#df-cbc1f80c-9c43-4126-a087-3d8acc362979');\n",
              "        const dataTable =\n",
              "          await google.colab.kernel.invokeFunction('convertToInteractive',\n",
              "                                                    [key], {});\n",
              "        if (!dataTable) return;\n",
              "\n",
              "        const docLinkHtml = 'Like what you see? Visit the ' +\n",
              "          '<a target=\"_blank\" href=https://colab.research.google.com/notebooks/data_table.ipynb>data table notebook</a>'\n",
              "          + ' to learn more about interactive tables.';\n",
              "        element.innerHTML = '';\n",
              "        dataTable['output_type'] = 'display_data';\n",
              "        await google.colab.output.renderOutput(dataTable, element);\n",
              "        const docLink = document.createElement('div');\n",
              "        docLink.innerHTML = docLinkHtml;\n",
              "        element.appendChild(docLink);\n",
              "      }\n",
              "    </script>\n",
              "  </div>\n",
              "\n",
              "\n",
              "<div id=\"df-144f716f-5635-4772-81ee-62321c7c8788\">\n",
              "  <button class=\"colab-df-quickchart\" onclick=\"quickchart('df-144f716f-5635-4772-81ee-62321c7c8788')\"\n",
              "            title=\"Suggest charts\"\n",
              "            style=\"display:none;\">\n",
              "\n",
              "<svg xmlns=\"http://www.w3.org/2000/svg\" height=\"24px\"viewBox=\"0 0 24 24\"\n",
              "     width=\"24px\">\n",
              "    <g>\n",
              "        <path d=\"M19 3H5c-1.1 0-2 .9-2 2v14c0 1.1.9 2 2 2h14c1.1 0 2-.9 2-2V5c0-1.1-.9-2-2-2zM9 17H7v-7h2v7zm4 0h-2V7h2v10zm4 0h-2v-4h2v4z\"/>\n",
              "    </g>\n",
              "</svg>\n",
              "  </button>\n",
              "\n",
              "<style>\n",
              "  .colab-df-quickchart {\n",
              "      --bg-color: #E8F0FE;\n",
              "      --fill-color: #1967D2;\n",
              "      --hover-bg-color: #E2EBFA;\n",
              "      --hover-fill-color: #174EA6;\n",
              "      --disabled-fill-color: #AAA;\n",
              "      --disabled-bg-color: #DDD;\n",
              "  }\n",
              "\n",
              "  [theme=dark] .colab-df-quickchart {\n",
              "      --bg-color: #3B4455;\n",
              "      --fill-color: #D2E3FC;\n",
              "      --hover-bg-color: #434B5C;\n",
              "      --hover-fill-color: #FFFFFF;\n",
              "      --disabled-bg-color: #3B4455;\n",
              "      --disabled-fill-color: #666;\n",
              "  }\n",
              "\n",
              "  .colab-df-quickchart {\n",
              "    background-color: var(--bg-color);\n",
              "    border: none;\n",
              "    border-radius: 50%;\n",
              "    cursor: pointer;\n",
              "    display: none;\n",
              "    fill: var(--fill-color);\n",
              "    height: 32px;\n",
              "    padding: 0;\n",
              "    width: 32px;\n",
              "  }\n",
              "\n",
              "  .colab-df-quickchart:hover {\n",
              "    background-color: var(--hover-bg-color);\n",
              "    box-shadow: 0 1px 2px rgba(60, 64, 67, 0.3), 0 1px 3px 1px rgba(60, 64, 67, 0.15);\n",
              "    fill: var(--button-hover-fill-color);\n",
              "  }\n",
              "\n",
              "  .colab-df-quickchart-complete:disabled,\n",
              "  .colab-df-quickchart-complete:disabled:hover {\n",
              "    background-color: var(--disabled-bg-color);\n",
              "    fill: var(--disabled-fill-color);\n",
              "    box-shadow: none;\n",
              "  }\n",
              "\n",
              "  .colab-df-spinner {\n",
              "    border: 2px solid var(--fill-color);\n",
              "    border-color: transparent;\n",
              "    border-bottom-color: var(--fill-color);\n",
              "    animation:\n",
              "      spin 1s steps(1) infinite;\n",
              "  }\n",
              "\n",
              "  @keyframes spin {\n",
              "    0% {\n",
              "      border-color: transparent;\n",
              "      border-bottom-color: var(--fill-color);\n",
              "      border-left-color: var(--fill-color);\n",
              "    }\n",
              "    20% {\n",
              "      border-color: transparent;\n",
              "      border-left-color: var(--fill-color);\n",
              "      border-top-color: var(--fill-color);\n",
              "    }\n",
              "    30% {\n",
              "      border-color: transparent;\n",
              "      border-left-color: var(--fill-color);\n",
              "      border-top-color: var(--fill-color);\n",
              "      border-right-color: var(--fill-color);\n",
              "    }\n",
              "    40% {\n",
              "      border-color: transparent;\n",
              "      border-right-color: var(--fill-color);\n",
              "      border-top-color: var(--fill-color);\n",
              "    }\n",
              "    60% {\n",
              "      border-color: transparent;\n",
              "      border-right-color: var(--fill-color);\n",
              "    }\n",
              "    80% {\n",
              "      border-color: transparent;\n",
              "      border-right-color: var(--fill-color);\n",
              "      border-bottom-color: var(--fill-color);\n",
              "    }\n",
              "    90% {\n",
              "      border-color: transparent;\n",
              "      border-bottom-color: var(--fill-color);\n",
              "    }\n",
              "  }\n",
              "</style>\n",
              "\n",
              "  <script>\n",
              "    async function quickchart(key) {\n",
              "      const quickchartButtonEl =\n",
              "        document.querySelector('#' + key + ' button');\n",
              "      quickchartButtonEl.disabled = true;  // To prevent multiple clicks.\n",
              "      quickchartButtonEl.classList.add('colab-df-spinner');\n",
              "      try {\n",
              "        const charts = await google.colab.kernel.invokeFunction(\n",
              "            'suggestCharts', [key], {});\n",
              "      } catch (error) {\n",
              "        console.error('Error during call to suggestCharts:', error);\n",
              "      }\n",
              "      quickchartButtonEl.classList.remove('colab-df-spinner');\n",
              "      quickchartButtonEl.classList.add('colab-df-quickchart-complete');\n",
              "    }\n",
              "    (() => {\n",
              "      let quickchartButtonEl =\n",
              "        document.querySelector('#df-144f716f-5635-4772-81ee-62321c7c8788 button');\n",
              "      quickchartButtonEl.style.display =\n",
              "        google.colab.kernel.accessAllowed ? 'block' : 'none';\n",
              "    })();\n",
              "  </script>\n",
              "</div>\n",
              "\n",
              "    </div>\n",
              "  </div>\n"
            ],
            "application/vnd.google.colaboratory.intrinsic+json": {
              "type": "dataframe",
              "variable_name": "data",
              "summary": "{\n  \"name\": \"data\",\n  \"rows\": 40000,\n  \"fields\": [\n    {\n      \"column\": \"tweet_id\",\n      \"properties\": {\n        \"dtype\": \"number\",\n        \"std\": 118857896,\n        \"min\": 1693956175,\n        \"max\": 1966441171,\n        \"num_unique_values\": 40000,\n        \"samples\": [\n          1752414968,\n          1965295852,\n          1696219218\n        ],\n        \"semantic_type\": \"\",\n        \"description\": \"\"\n      }\n    },\n    {\n      \"column\": \"sentiment\",\n      \"properties\": {\n        \"dtype\": \"category\",\n        \"num_unique_values\": 13,\n        \"samples\": [\n          \"relief\",\n          \"happiness\",\n          \"empty\"\n        ],\n        \"semantic_type\": \"\",\n        \"description\": \"\"\n      }\n    },\n    {\n      \"column\": \"content\",\n      \"properties\": {\n        \"dtype\": \"string\",\n        \"num_unique_values\": 39827,\n        \"samples\": [\n          \"the sun is shinning! im off out!!\",\n          \"wow i must have been tired. i fell asleep @ exactly the start of the 10pm news &amp; now up as if its 8am.\",\n          \"@knobzie their loss\"\n        ],\n        \"semantic_type\": \"\",\n        \"description\": \"\"\n      }\n    }\n  ]\n}"
            }
          },
          "metadata": {},
          "execution_count": 4
        }
      ]
    },
    {
      "cell_type": "markdown",
      "source": [
        "Exploratory Data Analysis"
      ],
      "metadata": {
        "id": "Mmg2b82G3Uv7"
      }
    },
    {
      "cell_type": "code",
      "source": [
        "len(data)"
      ],
      "metadata": {
        "id": "wYZ2z77xErn3",
        "colab": {
          "base_uri": "https://localhost:8080/"
        },
        "outputId": "3c60e29b-cc2d-4531-89aa-4a215e365f9b"
      },
      "execution_count": null,
      "outputs": [
        {
          "output_type": "execute_result",
          "data": {
            "text/plain": [
              "40000"
            ]
          },
          "metadata": {},
          "execution_count": 5
        }
      ]
    },
    {
      "cell_type": "code",
      "source": [
        "max_length = data['content'].str.len().max()\n",
        "\n",
        "print('The maximum lenght tweet is: ', max_length)"
      ],
      "metadata": {
        "id": "v7tX7bUuG5O1",
        "colab": {
          "base_uri": "https://localhost:8080/"
        },
        "outputId": "ed44dc2f-daee-468e-d8a7-d87295ed3793"
      },
      "execution_count": null,
      "outputs": [
        {
          "output_type": "stream",
          "name": "stdout",
          "text": [
            "The maximum lenght tweet is:  167\n"
          ]
        }
      ]
    },
    {
      "cell_type": "code",
      "source": [
        "data_count = data.sentiment.value_counts()\n",
        "type(data_count)"
      ],
      "metadata": {
        "id": "HzPiBX0DEt6o",
        "colab": {
          "base_uri": "https://localhost:8080/",
          "height": 204
        },
        "outputId": "87ea9ed1-67cf-438a-d5d7-4ffed9ac6939"
      },
      "execution_count": null,
      "outputs": [
        {
          "output_type": "execute_result",
          "data": {
            "text/plain": [
              "pandas.core.series.Series"
            ],
            "text/html": [
              "<div style=\"max-width:800px; border: 1px solid var(--colab-border-color);\"><style>\n",
              "      pre.function-repr-contents {\n",
              "        overflow-x: auto;\n",
              "        padding: 8px 12px;\n",
              "        max-height: 500px;\n",
              "      }\n",
              "\n",
              "      pre.function-repr-contents.function-repr-contents-collapsed {\n",
              "        cursor: pointer;\n",
              "        max-height: 100px;\n",
              "      }\n",
              "    </style>\n",
              "    <pre style=\"white-space: initial; background:\n",
              "         var(--colab-secondary-surface-color); padding: 8px 12px;\n",
              "         border-bottom: 1px solid var(--colab-border-color);\"><b>pandas.core.series.Series</b><br/>def __init__(data=None, index=None, dtype: Dtype | None=None, name=None, copy: bool | None=None, fastpath: bool=False) -&gt; None</pre><pre class=\"function-repr-contents function-repr-contents-collapsed\" style=\"\"><a class=\"filepath\" style=\"display:none\" href=\"#\">/usr/local/lib/python3.10/dist-packages/pandas/core/series.py</a>One-dimensional ndarray with axis labels (including time series).\n",
              "\n",
              "Labels need not be unique but must be a hashable type. The object\n",
              "supports both integer- and label-based indexing and provides a host of\n",
              "methods for performing operations involving the index. Statistical\n",
              "methods from ndarray have been overridden to automatically exclude\n",
              "missing data (currently represented as NaN).\n",
              "\n",
              "Operations between Series (+, -, /, \\*, \\*\\*) align values based on their\n",
              "associated index values-- they need not be the same length. The result\n",
              "index will be the sorted union of the two indexes.\n",
              "\n",
              "Parameters\n",
              "----------\n",
              "data : array-like, Iterable, dict, or scalar value\n",
              "    Contains data stored in Series. If data is a dict, argument order is\n",
              "    maintained.\n",
              "index : array-like or Index (1d)\n",
              "    Values must be hashable and have the same length as `data`.\n",
              "    Non-unique index values are allowed. Will default to\n",
              "    RangeIndex (0, 1, 2, ..., n) if not provided. If data is dict-like\n",
              "    and index is None, then the keys in the data are used as the index. If the\n",
              "    index is not None, the resulting Series is reindexed with the index values.\n",
              "dtype : str, numpy.dtype, or ExtensionDtype, optional\n",
              "    Data type for the output Series. If not specified, this will be\n",
              "    inferred from `data`.\n",
              "    See the :ref:`user guide &lt;basics.dtypes&gt;` for more usages.\n",
              "name : Hashable, default None\n",
              "    The name to give to the Series.\n",
              "copy : bool, default False\n",
              "    Copy input data. Only affects Series or 1d ndarray input. See examples.\n",
              "\n",
              "Notes\n",
              "-----\n",
              "Please reference the :ref:`User Guide &lt;basics.series&gt;` for more information.\n",
              "\n",
              "Examples\n",
              "--------\n",
              "Constructing Series from a dictionary with an Index specified\n",
              "\n",
              "&gt;&gt;&gt; d = {&#x27;a&#x27;: 1, &#x27;b&#x27;: 2, &#x27;c&#x27;: 3}\n",
              "&gt;&gt;&gt; ser = pd.Series(data=d, index=[&#x27;a&#x27;, &#x27;b&#x27;, &#x27;c&#x27;])\n",
              "&gt;&gt;&gt; ser\n",
              "a   1\n",
              "b   2\n",
              "c   3\n",
              "dtype: int64\n",
              "\n",
              "The keys of the dictionary match with the Index values, hence the Index\n",
              "values have no effect.\n",
              "\n",
              "&gt;&gt;&gt; d = {&#x27;a&#x27;: 1, &#x27;b&#x27;: 2, &#x27;c&#x27;: 3}\n",
              "&gt;&gt;&gt; ser = pd.Series(data=d, index=[&#x27;x&#x27;, &#x27;y&#x27;, &#x27;z&#x27;])\n",
              "&gt;&gt;&gt; ser\n",
              "x   NaN\n",
              "y   NaN\n",
              "z   NaN\n",
              "dtype: float64\n",
              "\n",
              "Note that the Index is first build with the keys from the dictionary.\n",
              "After this the Series is reindexed with the given Index values, hence we\n",
              "get all NaN as a result.\n",
              "\n",
              "Constructing Series from a list with `copy=False`.\n",
              "\n",
              "&gt;&gt;&gt; r = [1, 2]\n",
              "&gt;&gt;&gt; ser = pd.Series(r, copy=False)\n",
              "&gt;&gt;&gt; ser.iloc[0] = 999\n",
              "&gt;&gt;&gt; r\n",
              "[1, 2]\n",
              "&gt;&gt;&gt; ser\n",
              "0    999\n",
              "1      2\n",
              "dtype: int64\n",
              "\n",
              "Due to input data type the Series has a `copy` of\n",
              "the original data even though `copy=False`, so\n",
              "the data is unchanged.\n",
              "\n",
              "Constructing Series from a 1d ndarray with `copy=False`.\n",
              "\n",
              "&gt;&gt;&gt; r = np.array([1, 2])\n",
              "&gt;&gt;&gt; ser = pd.Series(r, copy=False)\n",
              "&gt;&gt;&gt; ser.iloc[0] = 999\n",
              "&gt;&gt;&gt; r\n",
              "array([999,   2])\n",
              "&gt;&gt;&gt; ser\n",
              "0    999\n",
              "1      2\n",
              "dtype: int64\n",
              "\n",
              "Due to input data type the Series has a `view` on\n",
              "the original data, so\n",
              "the data is changed as well.</pre>\n",
              "      <script>\n",
              "      if (google.colab.kernel.accessAllowed && google.colab.files && google.colab.files.view) {\n",
              "        for (const element of document.querySelectorAll('.filepath')) {\n",
              "          element.style.display = 'block'\n",
              "          element.onclick = (event) => {\n",
              "            event.preventDefault();\n",
              "            event.stopPropagation();\n",
              "            google.colab.files.view(element.textContent, 244);\n",
              "          };\n",
              "        }\n",
              "      }\n",
              "      for (const element of document.querySelectorAll('.function-repr-contents')) {\n",
              "        element.onclick = (event) => {\n",
              "          event.preventDefault();\n",
              "          event.stopPropagation();\n",
              "          element.classList.toggle('function-repr-contents-collapsed');\n",
              "        };\n",
              "      }\n",
              "      </script>\n",
              "      </div>"
            ]
          },
          "metadata": {},
          "execution_count": 7
        }
      ]
    },
    {
      "cell_type": "code",
      "source": [
        "data_count"
      ],
      "metadata": {
        "colab": {
          "base_uri": "https://localhost:8080/"
        },
        "id": "CbzNxb3KEt80",
        "outputId": "4f6697da-cc06-41ee-c90c-c1a719bac1f1"
      },
      "execution_count": null,
      "outputs": [
        {
          "output_type": "execute_result",
          "data": {
            "text/plain": [
              "sentiment\n",
              "neutral       8638\n",
              "worry         8459\n",
              "happiness     5209\n",
              "sadness       5165\n",
              "love          3842\n",
              "surprise      2187\n",
              "fun           1776\n",
              "relief        1526\n",
              "hate          1323\n",
              "empty          827\n",
              "enthusiasm     759\n",
              "boredom        179\n",
              "anger          110\n",
              "Name: count, dtype: int64"
            ]
          },
          "metadata": {},
          "execution_count": 8
        }
      ]
    },
    {
      "cell_type": "code",
      "source": [
        "total_unique_sentiments = data['sentiment'].nunique()\n",
        "\n",
        "print(\"Total unique sentiment values: \",total_unique_sentiments)\n"
      ],
      "metadata": {
        "colab": {
          "base_uri": "https://localhost:8080/"
        },
        "id": "Z--w-QoMEt-8",
        "outputId": "15a42330-1475-495b-f922-68c3cbd09e18"
      },
      "execution_count": null,
      "outputs": [
        {
          "output_type": "stream",
          "name": "stdout",
          "text": [
            "Total unique sentiment values:  13\n"
          ]
        }
      ]
    },
    {
      "cell_type": "markdown",
      "source": [
        "Splitting of Dataset"
      ],
      "metadata": {
        "id": "u-ZxI77b3acA"
      }
    },
    {
      "cell_type": "code",
      "source": [
        "m = data.shape[0]\n",
        "train_split = 0.80 * m\n",
        "val_split = (1 - 0.80) * m\n",
        "test_split = 0.20 * val_split\n",
        "val_split = (1 - 0.20) * val_split\n",
        "\n",
        "print('Splitting ratio: ')\n",
        "print()\n",
        "print('train_split: ', train_split, ', val_split: ', val_split, ', test-split: ', test_split)\n",
        "\n",
        "train_data = data.iloc[:int(train_split)]\n",
        "val_data = data.iloc[int(train_split) + 1: int(train_split) + int(val_split)]\n",
        "test_data = data.iloc[int(train_split) + int(val_split) + 1 : int(train_split) + int(val_split) + int(test_split)]\n",
        "print()\n",
        "print('All_Shapes: ')\n",
        "print()\n",
        "print(train_data.shape, val_data.shape, test_data.shape)\n",
        "\n",
        "del val_split\n",
        "del train_split\n",
        "del test_split"
      ],
      "metadata": {
        "colab": {
          "base_uri": "https://localhost:8080/"
        },
        "id": "ryKqfHf2EuBC",
        "outputId": "8899fcba-aaa9-4aa5-fb21-7e6663d1fa15"
      },
      "execution_count": null,
      "outputs": [
        {
          "output_type": "stream",
          "name": "stdout",
          "text": [
            "Splitting ratio: \n",
            "\n",
            "train_split:  32000.0 , val_split:  6399.999999999999 , test-split:  1599.9999999999998\n",
            "\n",
            "All_Shapes: \n",
            "\n",
            "(32000, 3) (6398, 3) (1598, 3)\n"
          ]
        }
      ]
    },
    {
      "cell_type": "code",
      "source": [
        "content_text = train_data.content.tolist()\n",
        "all_classes = train_data.sentiment.unique().tolist()\n",
        "content_text = train_data.content.tolist()\n",
        "ex_char = string.punctuation\n",
        "ex_char = ex_char.replace('~', '')\n",
        "c_text = '~~~~~~'.join(content_text)\n",
        "\n",
        "x = c_text.translate(str.maketrans('', '', ex_char))\n",
        "c_text = x.split('~~~~~~')\n",
        "\n",
        "#print('Samples: ',len(c_text))\n",
        "\n",
        "token_data = tf.keras.preprocessing.text.Tokenizer(num_words=None,\n",
        "    filters='!\"#$%&()*+,-./:;<=>?@[\\\\]^_`{|}~\\t\\n',lower=True,split=' ')\n",
        "token_data.fit_on_texts(c_text)\n",
        "ind_text = token_data.texts_to_sequences(c_text)\n",
        "\n",
        "print()\n",
        "\n",
        "print('All_samples: ', len(ind_text))\n",
        "word_index = token_data.word_index\n",
        "print('Diff. words: ', len(list(word_index)))"
      ],
      "metadata": {
        "colab": {
          "base_uri": "https://localhost:8080/"
        },
        "id": "4qUutJjjEuEZ",
        "outputId": "76f6a9dc-5cfc-4590-84d1-c6ae94764f58"
      },
      "execution_count": null,
      "outputs": [
        {
          "output_type": "stream",
          "name": "stdout",
          "text": [
            "\n",
            "All_samples:  32000\n",
            "Diff. words:  45300\n"
          ]
        }
      ]
    },
    {
      "cell_type": "markdown",
      "source": [
        "Text Cleaning and Pre-processing of Dataset"
      ],
      "metadata": {
        "id": "0PVaQJfN3iWl"
      }
    },
    {
      "cell_type": "code",
      "source": [
        "label_token = tf.keras.preprocessing.text.Tokenizer(num_words=len(all_classes),\n",
        "    filters='!\"#$%&()*+,-./:;<=>?@[\\\\]^_`{|}~\\t\\n',lower=True,split=' ')\n",
        "classes = ' '.join(all_classes)\n",
        "label_token.fit_on_texts([classes])\n",
        "label_index = label_token.word_index\n",
        "print('No. of Labels: ',len(list(label_index)))\n",
        "print()\n",
        "label_index = {key:value-1 for key, value in label_index.items()}\n",
        "inv_label_index = {value:key for key, value in label_index.items()}\n",
        "print()\n",
        "print(inv_label_index)"
      ],
      "metadata": {
        "colab": {
          "base_uri": "https://localhost:8080/"
        },
        "id": "maWE2fifSmwe",
        "outputId": "ca678448-d280-4bb5-8441-89be23ae137c"
      },
      "execution_count": null,
      "outputs": [
        {
          "output_type": "stream",
          "name": "stdout",
          "text": [
            "No. of Labels:  13\n",
            "\n",
            "\n",
            "{0: 'empty', 1: 'sadness', 2: 'enthusiasm', 3: 'neutral', 4: 'worry', 5: 'surprise', 6: 'love', 7: 'fun', 8: 'hate', 9: 'happiness', 10: 'boredom', 11: 'relief', 12: 'anger'}\n"
          ]
        }
      ]
    },
    {
      "cell_type": "code",
      "source": [
        "y_train = []\n",
        "for i in train_data.sentiment:\n",
        "    y_train.append(label_index.get(i))\n",
        "y_train = np.array(y_train)\n",
        "print('Label_shape: ', y_train.shape)\n",
        "pprint(y_train[:10])"
      ],
      "metadata": {
        "colab": {
          "base_uri": "https://localhost:8080/"
        },
        "id": "IvpDrAKUSmyy",
        "outputId": "a005afb9-cbe9-4234-b6c4-1bbf5b36f26d"
      },
      "execution_count": null,
      "outputs": [
        {
          "output_type": "stream",
          "name": "stdout",
          "text": [
            "Label_shape:  (32000,)\n",
            "array([0, 1, 1, 2, 3, 4, 1, 4, 1, 1])\n"
          ]
        }
      ]
    },
    {
      "cell_type": "code",
      "source": [
        "x_train = tf.keras.preprocessing.sequence.pad_sequences(ind_text, padding='post')\n",
        "\n",
        "max_inp_len = x_train.shape[1]\n",
        "print('max_input_length: ', max_inp_len)\n",
        "\n",
        "\n",
        "print('x_train_shape: ', x_train.shape, ', y_train_shape: ', y_train.shape)\n"
      ],
      "metadata": {
        "colab": {
          "base_uri": "https://localhost:8080/"
        },
        "id": "3Kr_V-jFSm2N",
        "outputId": "20480b0d-9484-41e6-e0f4-6296b7181944"
      },
      "execution_count": null,
      "outputs": [
        {
          "output_type": "stream",
          "name": "stdout",
          "text": [
            "max_input_length:  33\n",
            "x_train_shape:  (32000, 33) , y_train_shape:  (32000,)\n"
          ]
        }
      ]
    },
    {
      "cell_type": "code",
      "source": [
        "import numpy as np\n",
        "import tensorflow as tf\n",
        "import string\n",
        "\n",
        "def val_preprocess(val_data, token_data, label_index):\n",
        "    content_text = val_data.content.tolist()\n",
        "    ex_char = string.punctuation.replace('~', '')\n",
        "    c_text = '~~~~~~'.join(content_text).translate(str.maketrans('', '', ex_char)).split('~~~~~~')\n",
        "\n",
        "    print('Val_samples: ', len(c_text))\n",
        "\n",
        "    # Tokenize and then pad sequences\n",
        "    ind_text = token_data.texts_to_sequences(c_text)\n",
        "    x_val = tf.keras.preprocessing.sequence.pad_sequences(ind_text, padding='post')\n",
        "\n",
        "    print('All_Val_samples: ', len(ind_text))\n",
        "\n",
        "    # Prepare labels\n",
        "    y_val = np.array([label_index.get(i, -1) for i in val_data.sentiment])\n",
        "    print('Label_shape: ', y_val.shape)\n",
        "\n",
        "    return x_val, y_val\n",
        "\n",
        "\n",
        "def test_preprocess(test_data, token_data, label_index):\n",
        "    content_text = test_data.content.tolist()\n",
        "    # Remove redundant line: all_classes = test_data.sentiment.unique().tolist()\n",
        "    ex_char = string.punctuation.replace('~', '')  # Exclude '~' from being removed\n",
        "    c_text = '~~~~~~'.join(content_text).translate(str.maketrans('', '', ex_char)).split('~~~~~~')\n",
        "\n",
        "    print('Again_Test_samples: ', len(c_text))\n",
        "    ind_text = token_data.texts_to_sequences(c_text)\n",
        "\n",
        "    # Use pad_sequences here, no need to convert to numpy array manually after this\n",
        "    x_test = tf.keras.preprocessing.sequence.pad_sequences(ind_text, padding='post')\n",
        "    print('\\nAll_Test_samples: ', len(ind_text))\n",
        "\n",
        "    y_test = [label_index.get(i, -1) for i in test_data.sentiment]  # Use default value for missing labels\n",
        "    y_test = np.array(y_test)\n",
        "    print('Label_shape: ', y_test.shape)\n",
        "\n",
        "    return x_test, y_test\n",
        "\n",
        "\n",
        "print('Val_Preprocessing:')\n",
        "x_val, y_val = val_preprocess(val_data, token_data, label_index)\n",
        "#print(x_val.shape, y_val.shape)\n",
        "print('--------')\n",
        "print('Test_Preprocessing ...')\n",
        "x_test, y_test = test_preprocess(test_data, token_data, label_index)\n",
        "#print(x_test.shape, y_test.shape)"
      ],
      "metadata": {
        "colab": {
          "base_uri": "https://localhost:8080/"
        },
        "id": "NNDZYrBhKmMa",
        "outputId": "23920270-9a4f-4169-e917-dc6f0b1fbb9a"
      },
      "execution_count": null,
      "outputs": [
        {
          "output_type": "stream",
          "name": "stdout",
          "text": [
            "Val_Preprocessing:\n",
            "Val_samples:  6398\n",
            "All_Val_samples:  6398\n",
            "Label_shape:  (6398,)\n",
            "--------\n",
            "Test_Preprocessing ...\n",
            "Again_Test_samples:  1598\n",
            "\n",
            "All_Test_samples:  1598\n",
            "Label_shape:  (1598,)\n"
          ]
        }
      ]
    },
    {
      "cell_type": "code",
      "source": [
        "x_val = tf.keras.preprocessing.sequence.pad_sequences(x_val, maxlen = max_inp_len, padding = 'post')\n",
        "print('x_val_shape: ',x_val.shape, ', y_val_shape: ', y_val.shape)\n",
        "x_test = tf.keras.preprocessing.sequence.pad_sequences(x_test, maxlen = max_inp_len, padding = 'post')\n",
        "print('x_test_shape: ',x_test.shape, ', y_test_shape: ', y_test.shape)"
      ],
      "metadata": {
        "colab": {
          "base_uri": "https://localhost:8080/"
        },
        "id": "7DBuFlmQWX94",
        "outputId": "5abb9be2-bdd9-496f-91b4-9e92a09f5ec0"
      },
      "execution_count": null,
      "outputs": [
        {
          "output_type": "stream",
          "name": "stdout",
          "text": [
            "x_val_shape:  (6398, 33) , y_val_shape:  (6398,)\n",
            "x_test_shape:  (1598, 33) , y_test_shape:  (1598,)\n"
          ]
        }
      ]
    },
    {
      "cell_type": "markdown",
      "source": [
        "Model Building and Evaluation"
      ],
      "metadata": {
        "id": "5zzw7Tl83qSl"
      }
    },
    {
      "cell_type": "code",
      "source": [
        "from tensorflow.keras.models import Sequential\n",
        "from tensorflow.keras.layers import Bidirectional, SimpleRNN, Dense\n",
        "\n",
        "# Define the maximum length of your input sequences\n",
        "max_input_length = 33\n",
        "\n",
        "# Define the number of unique sentiment values\n",
        "num_sentiment_values = 13\n",
        "\n",
        "# Define the number of RNN layers and the number of units in each layer\n",
        "num_rnn_layers = 2\n",
        "rnn_units = 128\n",
        "\n",
        "# Create the model\n",
        "model = Sequential()\n",
        "\n",
        "# Add the first Bidirectional RNN layer with input_shape=(max_input_length, 1) if your input is univariate\n",
        "# If your input has multiple features, use input_shape=(max_input_length, num_features)\n",
        "model.add(Bidirectional(SimpleRNN(units=rnn_units, return_sequences=True), input_shape=(max_input_length, 1)))\n",
        "\n",
        "# Add additional Bidirectional RNN layers if needed\n",
        "for _ in range(num_rnn_layers - 1):\n",
        "    model.add(Bidirectional(SimpleRNN(units=rnn_units, return_sequences=True)))\n",
        "\n",
        "# Add a final Bidirectional RNN layer without return_sequences=True if the next layer is not RNN\n",
        "model.add(Bidirectional(SimpleRNN(units=rnn_units)))\n",
        "\n",
        "# Add a Dense layer with the number of unique sentiment values as the number of units\n",
        "model.add(Dense(num_sentiment_values, activation='softmax'))\n",
        "\n",
        "# Compile the model\n",
        "model.compile(optimizer='adam', loss='sparse_categorical_crossentropy', metrics=['accuracy'])\n",
        "\n",
        "# Print the model summary\n",
        "model.summary()\n"
      ],
      "metadata": {
        "colab": {
          "base_uri": "https://localhost:8080/"
        },
        "id": "9xtRcj8DXhcM",
        "outputId": "f488769f-bd2d-493d-e664-6a0a1c3306f6"
      },
      "execution_count": null,
      "outputs": [
        {
          "output_type": "stream",
          "name": "stdout",
          "text": [
            "Model: \"sequential\"\n",
            "_________________________________________________________________\n",
            " Layer (type)                Output Shape              Param #   \n",
            "=================================================================\n",
            " bidirectional (Bidirection  (None, 33, 256)           33280     \n",
            " al)                                                             \n",
            "                                                                 \n",
            " bidirectional_1 (Bidirecti  (None, 33, 256)           98560     \n",
            " onal)                                                           \n",
            "                                                                 \n",
            " bidirectional_2 (Bidirecti  (None, 256)               98560     \n",
            " onal)                                                           \n",
            "                                                                 \n",
            " dense (Dense)               (None, 13)                3341      \n",
            "                                                                 \n",
            "=================================================================\n",
            "Total params: 233741 (913.05 KB)\n",
            "Trainable params: 233741 (913.05 KB)\n",
            "Non-trainable params: 0 (0.00 Byte)\n",
            "_________________________________________________________________\n"
          ]
        }
      ]
    },
    {
      "cell_type": "code",
      "source": [
        "hit = model.fit(x_train, y_train, epochs=25, validation_data=(x_val, y_val), batch_size=32)\n",
        "print()\n",
        "print('-- Evaluation --')\n",
        "model.evaluate(x_test, y_test)\n",
        "print()\n",
        "hit_2 = hit.history\n",
        "\n",
        "fig, axs = plt.subplots(1,2, figsize=(16,8))\n",
        "\n",
        "axs[0].set_title('Loss_Curve')\n",
        "ep = range(len(hit_2['loss']))\n",
        "axs[0].plot(ep, hit_2['loss'],'o--r',label = 'Training_loss')\n",
        "axs[0].plot(ep, hit_2['val_loss'],'o--b',label = 'Val_loss')\n",
        "axs[0].set_xlabel('epoch')\n",
        "axs[0].set_ylabel('Loss')\n",
        "axs[0].legend()\n",
        "\n",
        "axs[1].set_title('Acc_Curve')\n",
        "ep = range(len(hit_2['loss']))\n",
        "axs[1].plot(ep, hit_2['accuracy'],'o--r',label = 'Training_acc')\n",
        "axs[1].plot(ep, hit_2['val_accuracy'],'o--b',label = 'Val_acc')\n",
        "axs[1].set_xlabel('epoch')\n",
        "axs[1].set_ylabel('Accuracy')\n",
        "axs[1].legend()\n",
        "\n",
        "plt.show()"
      ],
      "metadata": {
        "colab": {
          "base_uri": "https://localhost:8080/",
          "height": 1000
        },
        "id": "h-qobD4nbYuT",
        "outputId": "cace89d9-f21e-4f69-ec24-f32ee952b54e"
      },
      "execution_count": null,
      "outputs": [
        {
          "output_type": "stream",
          "name": "stdout",
          "text": [
            "Epoch 1/25\n",
            "1000/1000 [==============================] - 109s 103ms/step - loss: 2.1548 - accuracy: 0.2369 - val_loss: 2.4074 - val_accuracy: 0.1897\n",
            "Epoch 2/25\n",
            "1000/1000 [==============================] - 90s 90ms/step - loss: 2.1479 - accuracy: 0.2358 - val_loss: 2.4519 - val_accuracy: 0.1327\n",
            "Epoch 3/25\n",
            "1000/1000 [==============================] - 90s 90ms/step - loss: 2.1433 - accuracy: 0.2388 - val_loss: 2.2683 - val_accuracy: 0.2071\n",
            "Epoch 4/25\n",
            "1000/1000 [==============================] - 92s 92ms/step - loss: 2.1419 - accuracy: 0.2385 - val_loss: 2.2088 - val_accuracy: 0.1771\n",
            "Epoch 5/25\n",
            "1000/1000 [==============================] - 103s 103ms/step - loss: 2.1397 - accuracy: 0.2392 - val_loss: 2.3075 - val_accuracy: 0.1857\n",
            "Epoch 6/25\n",
            "1000/1000 [==============================] - 92s 92ms/step - loss: 2.1389 - accuracy: 0.2401 - val_loss: 2.3515 - val_accuracy: 0.1211\n",
            "Epoch 7/25\n",
            "1000/1000 [==============================] - 91s 91ms/step - loss: 2.1390 - accuracy: 0.2403 - val_loss: 2.3927 - val_accuracy: 0.2098\n",
            "Epoch 8/25\n",
            "1000/1000 [==============================] - 92s 92ms/step - loss: 2.1426 - accuracy: 0.2349 - val_loss: 2.3380 - val_accuracy: 0.1072\n",
            "Epoch 9/25\n",
            "1000/1000 [==============================] - 91s 91ms/step - loss: 2.1455 - accuracy: 0.2344 - val_loss: 2.3916 - val_accuracy: 0.1080\n",
            "Epoch 10/25\n",
            "1000/1000 [==============================] - 91s 91ms/step - loss: 2.1484 - accuracy: 0.2282 - val_loss: 2.4667 - val_accuracy: 0.1072\n",
            "Epoch 11/25\n",
            "1000/1000 [==============================] - 91s 91ms/step - loss: 2.1475 - accuracy: 0.2313 - val_loss: 2.3531 - val_accuracy: 0.2063\n",
            "Epoch 12/25\n",
            "1000/1000 [==============================] - 90s 90ms/step - loss: 2.1452 - accuracy: 0.2312 - val_loss: 2.3959 - val_accuracy: 0.1647\n",
            "Epoch 13/25\n",
            "1000/1000 [==============================] - 90s 90ms/step - loss: 2.1493 - accuracy: 0.2259 - val_loss: 2.3676 - val_accuracy: 0.2098\n",
            "Epoch 14/25\n",
            "1000/1000 [==============================] - 95s 95ms/step - loss: 2.1463 - accuracy: 0.2333 - val_loss: 2.2849 - val_accuracy: 0.1016\n",
            "Epoch 15/25\n",
            "1000/1000 [==============================] - 92s 92ms/step - loss: 2.1454 - accuracy: 0.2309 - val_loss: 2.3225 - val_accuracy: 0.1100\n",
            "Epoch 16/25\n",
            "1000/1000 [==============================] - 91s 91ms/step - loss: 2.1465 - accuracy: 0.2319 - val_loss: 2.3175 - val_accuracy: 0.1019\n",
            "Epoch 17/25\n",
            "1000/1000 [==============================] - 92s 92ms/step - loss: 2.1428 - accuracy: 0.2356 - val_loss: 2.4137 - val_accuracy: 0.1586\n",
            "Epoch 18/25\n",
            "1000/1000 [==============================] - 91s 91ms/step - loss: 2.1437 - accuracy: 0.2338 - val_loss: 2.3827 - val_accuracy: 0.0986\n",
            "Epoch 19/25\n",
            "1000/1000 [==============================] - 91s 91ms/step - loss: 2.1446 - accuracy: 0.2325 - val_loss: 2.3970 - val_accuracy: 0.0999\n",
            "Epoch 20/25\n",
            "1000/1000 [==============================] - 95s 95ms/step - loss: 2.1458 - accuracy: 0.2282 - val_loss: 2.4564 - val_accuracy: 0.0999\n",
            "Epoch 21/25\n",
            "1000/1000 [==============================] - 91s 91ms/step - loss: 2.1470 - accuracy: 0.2274 - val_loss: 2.3902 - val_accuracy: 0.2048\n",
            "Epoch 22/25\n",
            "1000/1000 [==============================] - 92s 92ms/step - loss: 2.1463 - accuracy: 0.2275 - val_loss: 2.3446 - val_accuracy: 0.2043\n",
            "Epoch 23/25\n",
            "1000/1000 [==============================] - 91s 91ms/step - loss: 2.1450 - accuracy: 0.2285 - val_loss: 2.3768 - val_accuracy: 0.2307\n",
            "Epoch 24/25\n",
            "1000/1000 [==============================] - 90s 90ms/step - loss: 2.1478 - accuracy: 0.2241 - val_loss: 2.2815 - val_accuracy: 0.2290\n",
            "Epoch 25/25\n",
            "1000/1000 [==============================] - 91s 91ms/step - loss: 2.1489 - accuracy: 0.2280 - val_loss: 2.3405 - val_accuracy: 0.1016\n",
            "\n",
            "-- Evaluation --\n",
            "50/50 [==============================] - 2s 38ms/step - loss: 2.3263 - accuracy: 0.1139\n",
            "\n"
          ]
        },
        {
          "output_type": "display_data",
          "data": {
            "text/plain": [
              "<Figure size 1600x800 with 2 Axes>"
            ],
            "image/png": "[encoded data removed]"
          },
          "metadata": {}
        }
      ]
    },
    {
      "cell_type": "code",
      "source": [
        "from sklearn.metrics import confusion_matrix, f1_score, precision_score, recall_score, classification_report\n",
        "import numpy as np\n",
        "\n",
        "# Assuming ypred and y_test are already defined as per your previous code\n",
        "ypred = model.predict(x_test)\n",
        "ypred = np.argmax(ypred, axis=-1)\n",
        "\n",
        "conf_matrix  = confusion_matrix(y_test, ypred)\n",
        "\n",
        "print('--Confusion_Matrix--')\n",
        "print(conf_matrix)\n",
        "print()\n",
        "\n",
        "print('f1_score: ', f1_score(y_test, ypred, average='micro'))\n",
        "print('Precision: ', precision_score(y_test, ypred, average='micro'))\n",
        "print('Recall: ', recall_score(y_test, ypred, average='micro'))\n",
        "\n",
        "# Getting the classification report\n",
        "print('--Classification Report--')\n",
        "print(classification_report(y_test, ypred))\n"
      ],
      "metadata": {
        "colab": {
          "base_uri": "https://localhost:8080/"
        },
        "id": "JACrjxzzpldI",
        "outputId": "fa410eee-8077-41c4-e962-1a793abfb3aa"
      },
      "execution_count": null,
      "outputs": [
        {
          "output_type": "stream",
          "name": "stdout",
          "text": [
            "50/50 [==============================] - 2s 23ms/step\n",
            "--Confusion_Matrix--\n",
            "[[  0   0   0   0  26   0   0   0   0   0   0   0   0]\n",
            " [  0   0   0   0  52   0   0   0   0   0   0   0   0]\n",
            " [  0   0   0   0  39   0   0   0   0   0   0   0   0]\n",
            " [  0   0   0   5 365   0   0   0   0   0   0   0   0]\n",
            " [  0   0   0   2 177   0   0   0   0   0   0   0   0]\n",
            " [  0   0   0   0  85   0   0   0   0   0   0   0   0]\n",
            " [  0   0   0   0 277   0   0   0   0   0   0   0   0]\n",
            " [  0   0   0   0  90   0   0   0   0   0   0   0   0]\n",
            " [  0   0   0   0  23   0   0   0   0   0   0   0   0]\n",
            " [  0   0   0   0 363   0   0   0   0   0   0   0   0]\n",
            " [  0   0   0   0   5   0   0   0   0   0   0   0   0]\n",
            " [  0   0   0   0  88   0   0   0   0   0   0   0   0]\n",
            " [  0   0   0   0   1   0   0   0   0   0   0   0   0]]\n",
            "\n",
            "f1_score:  0.11389236545682102\n",
            "Precision:  0.11389236545682102\n",
            "Recall:  0.11389236545682102\n",
            "--Classification Report--\n",
            "              precision    recall  f1-score   support\n",
            "\n",
            "           0       0.00      0.00      0.00        26\n",
            "           1       0.00      0.00      0.00        52\n",
            "           2       0.00      0.00      0.00        39\n",
            "           3       0.71      0.01      0.03       370\n",
            "           4       0.11      0.99      0.20       179\n",
            "           5       0.00      0.00      0.00        85\n",
            "           6       0.00      0.00      0.00       277\n",
            "           7       0.00      0.00      0.00        90\n",
            "           8       0.00      0.00      0.00        23\n",
            "           9       0.00      0.00      0.00       363\n",
            "          10       0.00      0.00      0.00         5\n",
            "          11       0.00      0.00      0.00        88\n",
            "          12       0.00      0.00      0.00         1\n",
            "\n",
            "    accuracy                           0.11      1598\n",
            "   macro avg       0.06      0.08      0.02      1598\n",
            "weighted avg       0.18      0.11      0.03      1598\n",
            "\n"
          ]
        }
      ]
    },
    {
      "cell_type": "code",
      "source": [
        "import tensorflow as tf\n",
        "\n",
        "input_sentence = \"he is scared about the future!\"\n",
        "\n",
        "sequence = token_data.texts_to_sequences([input_sentence])\n",
        "\n",
        "padded_sequence = tf.keras.preprocessing.sequence.pad_sequences(sequence, maxlen=33, padding='post')\n",
        "\n",
        "prediction = model.predict(padded_sequence)\n",
        "predicted_class = tf.argmax(prediction, axis=1).numpy()\n",
        "\n",
        "sentiment_label = inv_label_index[predicted_class[0]]\n",
        "\n",
        "print(f\"Predicted sentiment: {sentiment_label}\")\n"
      ],
      "metadata": {
        "colab": {
          "base_uri": "https://localhost:8080/"
        },
        "id": "3mOqbaX4fY4x",
        "outputId": "eaa2494e-2478-40f9-90c3-c620a5c02355"
      },
      "execution_count": null,
      "outputs": [
        {
          "output_type": "stream",
          "name": "stdout",
          "text": [
            "1/1 [==============================] - 0s 27ms/step\n",
            "Predicted sentiment: worry\n"
          ]
        }
      ]
    },
    {
      "cell_type": "markdown",
      "source": [
        "Importing Dataset"
      ],
      "metadata": {
        "id": "JTUfy-G1300v"
      }
    },
    {
      "cell_type": "code",
      "source": [
        "data1 = pd.read_csv('tweet_emotions.csv')\n",
        "data1.head()"
      ],
      "metadata": {
        "id": "SDIPQpjEkyHp",
        "colab": {
          "base_uri": "https://localhost:8080/",
          "height": 206
        },
        "outputId": "ad336618-fb19-4d82-f53c-cf6ad1ac48e6"
      },
      "execution_count": null,
      "outputs": [
        {
          "output_type": "execute_result",
          "data": {
            "text/plain": [
              "     tweet_id   sentiment                                            content\n",
              "0  1956967341       empty  @tiffanylue i know  i was listenin to bad habi...\n",
              "1  1956967666     sadness  Layin n bed with a headache  ughhhh...waitin o...\n",
              "2  1956967696     sadness                Funeral ceremony...gloomy friday...\n",
              "3  1956967789  enthusiasm               wants to hang out with friends SOON!\n",
              "4  1956968416     neutral  @dannycastillo We want to trade with someone w..."
            ],
            "text/html": [
              "\n",
              "  <div id=\"df-df6cc35b-0310-4232-a700-088f18787732\" class=\"colab-df-container\">\n",
              "    <div>\n",
              "<style scoped>\n",
              "    .dataframe tbody tr th:only-of-type {\n",
              "        vertical-align: middle;\n",
              "    }\n",
              "\n",
              "    .dataframe tbody tr th {\n",
              "        vertical-align: top;\n",
              "    }\n",
              "\n",
              "    .dataframe thead th {\n",
              "        text-align: right;\n",
              "    }\n",
              "</style>\n",
              "<table border=\"1\" class=\"dataframe\">\n",
              "  <thead>\n",
              "    <tr style=\"text-align: right;\">\n",
              "      <th></th>\n",
              "      <th>tweet_id</th>\n",
              "      <th>sentiment</th>\n",
              "      <th>content</th>\n",
              "    </tr>\n",
              "  </thead>\n",
              "  <tbody>\n",
              "    <tr>\n",
              "      <th>0</th>\n",
              "      <td>1956967341</td>\n",
              "      <td>empty</td>\n",
              "      <td>@tiffanylue i know  i was listenin to bad habi...</td>\n",
              "    </tr>\n",
              "    <tr>\n",
              "      <th>1</th>\n",
              "      <td>1956967666</td>\n",
              "      <td>sadness</td>\n",
              "      <td>Layin n bed with a headache  ughhhh...waitin o...</td>\n",
              "    </tr>\n",
              "    <tr>\n",
              "      <th>2</th>\n",
              "      <td>1956967696</td>\n",
              "      <td>sadness</td>\n",
              "      <td>Funeral ceremony...gloomy friday...</td>\n",
              "    </tr>\n",
              "    <tr>\n",
              "      <th>3</th>\n",
              "      <td>1956967789</td>\n",
              "      <td>enthusiasm</td>\n",
              "      <td>wants to hang out with friends SOON!</td>\n",
              "    </tr>\n",
              "    <tr>\n",
              "      <th>4</th>\n",
              "      <td>1956968416</td>\n",
              "      <td>neutral</td>\n",
              "      <td>@dannycastillo We want to trade with someone w...</td>\n",
              "    </tr>\n",
              "  </tbody>\n",
              "</table>\n",
              "</div>\n",
              "    <div class=\"colab-df-buttons\">\n",
              "\n",
              "  <div class=\"colab-df-container\">\n",
              "    <button class=\"colab-df-convert\" onclick=\"convertToInteractive('df-df6cc35b-0310-4232-a700-088f18787732')\"\n",
              "            title=\"Convert this dataframe to an interactive table.\"\n",
              "            style=\"display:none;\">\n",
              "\n",
              "  <svg xmlns=\"http://www.w3.org/2000/svg\" height=\"24px\" viewBox=\"0 -960 960 960\">\n",
              "    <path d=\"M120-120v-720h720v720H120Zm60-500h600v-160H180v160Zm220 220h160v-160H400v160Zm0 220h160v-160H400v160ZM180-400h160v-160H180v160Zm440 0h160v-160H620v160ZM180-180h160v-160H180v160Zm440 0h160v-160H620v160Z\"/>\n",
              "  </svg>\n",
              "    </button>\n",
              "\n",
              "  <style>\n",
              "    .colab-df-container {\n",
              "      display:flex;\n",
              "      gap: 12px;\n",
              "    }\n",
              "\n",
              "    .colab-df-convert {\n",
              "      background-color: #E8F0FE;\n",
              "      border: none;\n",
              "      border-radius: 50%;\n",
              "      cursor: pointer;\n",
              "      display: none;\n",
              "      fill: #1967D2;\n",
              "      height: 32px;\n",
              "      padding: 0 0 0 0;\n",
              "      width: 32px;\n",
              "    }\n",
              "\n",
              "    .colab-df-convert:hover {\n",
              "      background-color: #E2EBFA;\n",
              "      box-shadow: 0px 1px 2px rgba(60, 64, 67, 0.3), 0px 1px 3px 1px rgba(60, 64, 67, 0.15);\n",
              "      fill: #174EA6;\n",
              "    }\n",
              "\n",
              "    .colab-df-buttons div {\n",
              "      margin-bottom: 4px;\n",
              "    }\n",
              "\n",
              "    [theme=dark] .colab-df-convert {\n",
              "      background-color: #3B4455;\n",
              "      fill: #D2E3FC;\n",
              "    }\n",
              "\n",
              "    [theme=dark] .colab-df-convert:hover {\n",
              "      background-color: #434B5C;\n",
              "      box-shadow: 0px 1px 3px 1px rgba(0, 0, 0, 0.15);\n",
              "      filter: drop-shadow(0px 1px 2px rgba(0, 0, 0, 0.3));\n",
              "      fill: #FFFFFF;\n",
              "    }\n",
              "  </style>\n",
              "\n",
              "    <script>\n",
              "      const buttonEl =\n",
              "        document.querySelector('#df-df6cc35b-0310-4232-a700-088f18787732 button.colab-df-convert');\n",
              "      buttonEl.style.display =\n",
              "        google.colab.kernel.accessAllowed ? 'block' : 'none';\n",
              "\n",
              "      async function convertToInteractive(key) {\n",
              "        const element = document.querySelector('#df-df6cc35b-0310-4232-a700-088f18787732');\n",
              "        const dataTable =\n",
              "          await google.colab.kernel.invokeFunction('convertToInteractive',\n",
              "                                                    [key], {});\n",
              "        if (!dataTable) return;\n",
              "\n",
              "        const docLinkHtml = 'Like what you see? Visit the ' +\n",
              "          '<a target=\"_blank\" href=https://colab.research.google.com/notebooks/data_table.ipynb>data table notebook</a>'\n",
              "          + ' to learn more about interactive tables.';\n",
              "        element.innerHTML = '';\n",
              "        dataTable['output_type'] = 'display_data';\n",
              "        await google.colab.output.renderOutput(dataTable, element);\n",
              "        const docLink = document.createElement('div');\n",
              "        docLink.innerHTML = docLinkHtml;\n",
              "        element.appendChild(docLink);\n",
              "      }\n",
              "    </script>\n",
              "  </div>\n",
              "\n",
              "\n",
              "<div id=\"df-f5adb0f2-02ca-45bc-8ac7-d017c5442ba3\">\n",
              "  <button class=\"colab-df-quickchart\" onclick=\"quickchart('df-f5adb0f2-02ca-45bc-8ac7-d017c5442ba3')\"\n",
              "            title=\"Suggest charts\"\n",
              "            style=\"display:none;\">\n",
              "\n",
              "<svg xmlns=\"http://www.w3.org/2000/svg\" height=\"24px\"viewBox=\"0 0 24 24\"\n",
              "     width=\"24px\">\n",
              "    <g>\n",
              "        <path d=\"M19 3H5c-1.1 0-2 .9-2 2v14c0 1.1.9 2 2 2h14c1.1 0 2-.9 2-2V5c0-1.1-.9-2-2-2zM9 17H7v-7h2v7zm4 0h-2V7h2v10zm4 0h-2v-4h2v4z\"/>\n",
              "    </g>\n",
              "</svg>\n",
              "  </button>\n",
              "\n",
              "<style>\n",
              "  .colab-df-quickchart {\n",
              "      --bg-color: #E8F0FE;\n",
              "      --fill-color: #1967D2;\n",
              "      --hover-bg-color: #E2EBFA;\n",
              "      --hover-fill-color: #174EA6;\n",
              "      --disabled-fill-color: #AAA;\n",
              "      --disabled-bg-color: #DDD;\n",
              "  }\n",
              "\n",
              "  [theme=dark] .colab-df-quickchart {\n",
              "      --bg-color: #3B4455;\n",
              "      --fill-color: #D2E3FC;\n",
              "      --hover-bg-color: #434B5C;\n",
              "      --hover-fill-color: #FFFFFF;\n",
              "      --disabled-bg-color: #3B4455;\n",
              "      --disabled-fill-color: #666;\n",
              "  }\n",
              "\n",
              "  .colab-df-quickchart {\n",
              "    background-color: var(--bg-color);\n",
              "    border: none;\n",
              "    border-radius: 50%;\n",
              "    cursor: pointer;\n",
              "    display: none;\n",
              "    fill: var(--fill-color);\n",
              "    height: 32px;\n",
              "    padding: 0;\n",
              "    width: 32px;\n",
              "  }\n",
              "\n",
              "  .colab-df-quickchart:hover {\n",
              "    background-color: var(--hover-bg-color);\n",
              "    box-shadow: 0 1px 2px rgba(60, 64, 67, 0.3), 0 1px 3px 1px rgba(60, 64, 67, 0.15);\n",
              "    fill: var(--button-hover-fill-color);\n",
              "  }\n",
              "\n",
              "  .colab-df-quickchart-complete:disabled,\n",
              "  .colab-df-quickchart-complete:disabled:hover {\n",
              "    background-color: var(--disabled-bg-color);\n",
              "    fill: var(--disabled-fill-color);\n",
              "    box-shadow: none;\n",
              "  }\n",
              "\n",
              "  .colab-df-spinner {\n",
              "    border: 2px solid var(--fill-color);\n",
              "    border-color: transparent;\n",
              "    border-bottom-color: var(--fill-color);\n",
              "    animation:\n",
              "      spin 1s steps(1) infinite;\n",
              "  }\n",
              "\n",
              "  @keyframes spin {\n",
              "    0% {\n",
              "      border-color: transparent;\n",
              "      border-bottom-color: var(--fill-color);\n",
              "      border-left-color: var(--fill-color);\n",
              "    }\n",
              "    20% {\n",
              "      border-color: transparent;\n",
              "      border-left-color: var(--fill-color);\n",
              "      border-top-color: var(--fill-color);\n",
              "    }\n",
              "    30% {\n",
              "      border-color: transparent;\n",
              "      border-left-color: var(--fill-color);\n",
              "      border-top-color: var(--fill-color);\n",
              "      border-right-color: var(--fill-color);\n",
              "    }\n",
              "    40% {\n",
              "      border-color: transparent;\n",
              "      border-right-color: var(--fill-color);\n",
              "      border-top-color: var(--fill-color);\n",
              "    }\n",
              "    60% {\n",
              "      border-color: transparent;\n",
              "      border-right-color: var(--fill-color);\n",
              "    }\n",
              "    80% {\n",
              "      border-color: transparent;\n",
              "      border-right-color: var(--fill-color);\n",
              "      border-bottom-color: var(--fill-color);\n",
              "    }\n",
              "    90% {\n",
              "      border-color: transparent;\n",
              "      border-bottom-color: var(--fill-color);\n",
              "    }\n",
              "  }\n",
              "</style>\n",
              "\n",
              "  <script>\n",
              "    async function quickchart(key) {\n",
              "      const quickchartButtonEl =\n",
              "        document.querySelector('#' + key + ' button');\n",
              "      quickchartButtonEl.disabled = true;  // To prevent multiple clicks.\n",
              "      quickchartButtonEl.classList.add('colab-df-spinner');\n",
              "      try {\n",
              "        const charts = await google.colab.kernel.invokeFunction(\n",
              "            'suggestCharts', [key], {});\n",
              "      } catch (error) {\n",
              "        console.error('Error during call to suggestCharts:', error);\n",
              "      }\n",
              "      quickchartButtonEl.classList.remove('colab-df-spinner');\n",
              "      quickchartButtonEl.classList.add('colab-df-quickchart-complete');\n",
              "    }\n",
              "    (() => {\n",
              "      let quickchartButtonEl =\n",
              "        document.querySelector('#df-f5adb0f2-02ca-45bc-8ac7-d017c5442ba3 button');\n",
              "      quickchartButtonEl.style.display =\n",
              "        google.colab.kernel.accessAllowed ? 'block' : 'none';\n",
              "    })();\n",
              "  </script>\n",
              "</div>\n",
              "\n",
              "    </div>\n",
              "  </div>\n"
            ],
            "application/vnd.google.colaboratory.intrinsic+json": {
              "type": "dataframe",
              "variable_name": "data1",
              "summary": "{\n  \"name\": \"data1\",\n  \"rows\": 40000,\n  \"fields\": [\n    {\n      \"column\": \"tweet_id\",\n      \"properties\": {\n        \"dtype\": \"number\",\n        \"std\": 118857896,\n        \"min\": 1693956175,\n        \"max\": 1966441171,\n        \"num_unique_values\": 40000,\n        \"samples\": [\n          1752414968,\n          1965295852,\n          1696219218\n        ],\n        \"semantic_type\": \"\",\n        \"description\": \"\"\n      }\n    },\n    {\n      \"column\": \"sentiment\",\n      \"properties\": {\n        \"dtype\": \"category\",\n        \"num_unique_values\": 13,\n        \"samples\": [\n          \"relief\",\n          \"happiness\",\n          \"empty\"\n        ],\n        \"semantic_type\": \"\",\n        \"description\": \"\"\n      }\n    },\n    {\n      \"column\": \"content\",\n      \"properties\": {\n        \"dtype\": \"string\",\n        \"num_unique_values\": 39827,\n        \"samples\": [\n          \"the sun is shinning! im off out!!\",\n          \"wow i must have been tired. i fell asleep @ exactly the start of the 10pm news &amp; now up as if its 8am.\",\n          \"@knobzie their loss\"\n        ],\n        \"semantic_type\": \"\",\n        \"description\": \"\"\n      }\n    }\n  ]\n}"
            }
          },
          "metadata": {},
          "execution_count": 21
        }
      ]
    },
    {
      "cell_type": "markdown",
      "source": [
        "Reversing of the Tweet Contents"
      ],
      "metadata": {
        "id": "f_W0TXkn37Ln"
      }
    },
    {
      "cell_type": "code",
      "source": [
        "import pandas as pd\n",
        "\n",
        "# Function to reverse the sentence\n",
        "def reverse_sentence(sentence):\n",
        "    return ' '.join(sentence.split()[::-1])\n",
        "\n",
        "# Applying the function to the 'content' column and updating the same column with reversed sentences\n",
        "data1['content'] = data1['content'].apply(reverse_sentence)\n",
        "\n",
        "# The 'content' column now contains the reversed sentences\n",
        "data1.head()"
      ],
      "metadata": {
        "colab": {
          "base_uri": "https://localhost:8080/",
          "height": 206
        },
        "id": "UjWDovP6muVE",
        "outputId": "7daad2d3-0dec-4920-f8ef-aa929df3f7ec"
      },
      "execution_count": null,
      "outputs": [
        {
          "output_type": "execute_result",
          "data": {
            "text/plain": [
              "     tweet_id   sentiment                                            content\n",
              "0  1956967341       empty  =[ part his at freakin started i and earlier h...\n",
              "1  1956967666     sadness  call... your on ughhhh...waitin headache a wit...\n",
              "2  1956967696     sadness                friday... ceremony...gloomy Funeral\n",
              "3  1956967789  enthusiasm               SOON! friends with out hang to wants\n",
              "4  1956968416     neutral  will. one no but tickets, Houston has who some..."
            ],
            "text/html": [
              "\n",
              "  <div id=\"df-65daeca5-82ce-4db1-ad59-b841adfa5a71\" class=\"colab-df-container\">\n",
              "    <div>\n",
              "<style scoped>\n",
              "    .dataframe tbody tr th:only-of-type {\n",
              "        vertical-align: middle;\n",
              "    }\n",
              "\n",
              "    .dataframe tbody tr th {\n",
              "        vertical-align: top;\n",
              "    }\n",
              "\n",
              "    .dataframe thead th {\n",
              "        text-align: right;\n",
              "    }\n",
              "</style>\n",
              "<table border=\"1\" class=\"dataframe\">\n",
              "  <thead>\n",
              "    <tr style=\"text-align: right;\">\n",
              "      <th></th>\n",
              "      <th>tweet_id</th>\n",
              "      <th>sentiment</th>\n",
              "      <th>content</th>\n",
              "    </tr>\n",
              "  </thead>\n",
              "  <tbody>\n",
              "    <tr>\n",
              "      <th>0</th>\n",
              "      <td>1956967341</td>\n",
              "      <td>empty</td>\n",
              "      <td>=[ part his at freakin started i and earlier h...</td>\n",
              "    </tr>\n",
              "    <tr>\n",
              "      <th>1</th>\n",
              "      <td>1956967666</td>\n",
              "      <td>sadness</td>\n",
              "      <td>call... your on ughhhh...waitin headache a wit...</td>\n",
              "    </tr>\n",
              "    <tr>\n",
              "      <th>2</th>\n",
              "      <td>1956967696</td>\n",
              "      <td>sadness</td>\n",
              "      <td>friday... ceremony...gloomy Funeral</td>\n",
              "    </tr>\n",
              "    <tr>\n",
              "      <th>3</th>\n",
              "      <td>1956967789</td>\n",
              "      <td>enthusiasm</td>\n",
              "      <td>SOON! friends with out hang to wants</td>\n",
              "    </tr>\n",
              "    <tr>\n",
              "      <th>4</th>\n",
              "      <td>1956968416</td>\n",
              "      <td>neutral</td>\n",
              "      <td>will. one no but tickets, Houston has who some...</td>\n",
              "    </tr>\n",
              "  </tbody>\n",
              "</table>\n",
              "</div>\n",
              "    <div class=\"colab-df-buttons\">\n",
              "\n",
              "  <div class=\"colab-df-container\">\n",
              "    <button class=\"colab-df-convert\" onclick=\"convertToInteractive('df-65daeca5-82ce-4db1-ad59-b841adfa5a71')\"\n",
              "            title=\"Convert this dataframe to an interactive table.\"\n",
              "            style=\"display:none;\">\n",
              "\n",
              "  <svg xmlns=\"http://www.w3.org/2000/svg\" height=\"24px\" viewBox=\"0 -960 960 960\">\n",
              "    <path d=\"M120-120v-720h720v720H120Zm60-500h600v-160H180v160Zm220 220h160v-160H400v160Zm0 220h160v-160H400v160ZM180-400h160v-160H180v160Zm440 0h160v-160H620v160ZM180-180h160v-160H180v160Zm440 0h160v-160H620v160Z\"/>\n",
              "  </svg>\n",
              "    </button>\n",
              "\n",
              "  <style>\n",
              "    .colab-df-container {\n",
              "      display:flex;\n",
              "      gap: 12px;\n",
              "    }\n",
              "\n",
              "    .colab-df-convert {\n",
              "      background-color: #E8F0FE;\n",
              "      border: none;\n",
              "      border-radius: 50%;\n",
              "      cursor: pointer;\n",
              "      display: none;\n",
              "      fill: #1967D2;\n",
              "      height: 32px;\n",
              "      padding: 0 0 0 0;\n",
              "      width: 32px;\n",
              "    }\n",
              "\n",
              "    .colab-df-convert:hover {\n",
              "      background-color: #E2EBFA;\n",
              "      box-shadow: 0px 1px 2px rgba(60, 64, 67, 0.3), 0px 1px 3px 1px rgba(60, 64, 67, 0.15);\n",
              "      fill: #174EA6;\n",
              "    }\n",
              "\n",
              "    .colab-df-buttons div {\n",
              "      margin-bottom: 4px;\n",
              "    }\n",
              "\n",
              "    [theme=dark] .colab-df-convert {\n",
              "      background-color: #3B4455;\n",
              "      fill: #D2E3FC;\n",
              "    }\n",
              "\n",
              "    [theme=dark] .colab-df-convert:hover {\n",
              "      background-color: #434B5C;\n",
              "      box-shadow: 0px 1px 3px 1px rgba(0, 0, 0, 0.15);\n",
              "      filter: drop-shadow(0px 1px 2px rgba(0, 0, 0, 0.3));\n",
              "      fill: #FFFFFF;\n",
              "    }\n",
              "  </style>\n",
              "\n",
              "    <script>\n",
              "      const buttonEl =\n",
              "        document.querySelector('#df-65daeca5-82ce-4db1-ad59-b841adfa5a71 button.colab-df-convert');\n",
              "      buttonEl.style.display =\n",
              "        google.colab.kernel.accessAllowed ? 'block' : 'none';\n",
              "\n",
              "      async function convertToInteractive(key) {\n",
              "        const element = document.querySelector('#df-65daeca5-82ce-4db1-ad59-b841adfa5a71');\n",
              "        const dataTable =\n",
              "          await google.colab.kernel.invokeFunction('convertToInteractive',\n",
              "                                                    [key], {});\n",
              "        if (!dataTable) return;\n",
              "\n",
              "        const docLinkHtml = 'Like what you see? Visit the ' +\n",
              "          '<a target=\"_blank\" href=https://colab.research.google.com/notebooks/data_table.ipynb>data table notebook</a>'\n",
              "          + ' to learn more about interactive tables.';\n",
              "        element.innerHTML = '';\n",
              "        dataTable['output_type'] = 'display_data';\n",
              "        await google.colab.output.renderOutput(dataTable, element);\n",
              "        const docLink = document.createElement('div');\n",
              "        docLink.innerHTML = docLinkHtml;\n",
              "        element.appendChild(docLink);\n",
              "      }\n",
              "    </script>\n",
              "  </div>\n",
              "\n",
              "\n",
              "<div id=\"df-d457198f-f652-4d8e-a8e2-c3b8e8bb75d6\">\n",
              "  <button class=\"colab-df-quickchart\" onclick=\"quickchart('df-d457198f-f652-4d8e-a8e2-c3b8e8bb75d6')\"\n",
              "            title=\"Suggest charts\"\n",
              "            style=\"display:none;\">\n",
              "\n",
              "<svg xmlns=\"http://www.w3.org/2000/svg\" height=\"24px\"viewBox=\"0 0 24 24\"\n",
              "     width=\"24px\">\n",
              "    <g>\n",
              "        <path d=\"M19 3H5c-1.1 0-2 .9-2 2v14c0 1.1.9 2 2 2h14c1.1 0 2-.9 2-2V5c0-1.1-.9-2-2-2zM9 17H7v-7h2v7zm4 0h-2V7h2v10zm4 0h-2v-4h2v4z\"/>\n",
              "    </g>\n",
              "</svg>\n",
              "  </button>\n",
              "\n",
              "<style>\n",
              "  .colab-df-quickchart {\n",
              "      --bg-color: #E8F0FE;\n",
              "      --fill-color: #1967D2;\n",
              "      --hover-bg-color: #E2EBFA;\n",
              "      --hover-fill-color: #174EA6;\n",
              "      --disabled-fill-color: #AAA;\n",
              "      --disabled-bg-color: #DDD;\n",
              "  }\n",
              "\n",
              "  [theme=dark] .colab-df-quickchart {\n",
              "      --bg-color: #3B4455;\n",
              "      --fill-color: #D2E3FC;\n",
              "      --hover-bg-color: #434B5C;\n",
              "      --hover-fill-color: #FFFFFF;\n",
              "      --disabled-bg-color: #3B4455;\n",
              "      --disabled-fill-color: #666;\n",
              "  }\n",
              "\n",
              "  .colab-df-quickchart {\n",
              "    background-color: var(--bg-color);\n",
              "    border: none;\n",
              "    border-radius: 50%;\n",
              "    cursor: pointer;\n",
              "    display: none;\n",
              "    fill: var(--fill-color);\n",
              "    height: 32px;\n",
              "    padding: 0;\n",
              "    width: 32px;\n",
              "  }\n",
              "\n",
              "  .colab-df-quickchart:hover {\n",
              "    background-color: var(--hover-bg-color);\n",
              "    box-shadow: 0 1px 2px rgba(60, 64, 67, 0.3), 0 1px 3px 1px rgba(60, 64, 67, 0.15);\n",
              "    fill: var(--button-hover-fill-color);\n",
              "  }\n",
              "\n",
              "  .colab-df-quickchart-complete:disabled,\n",
              "  .colab-df-quickchart-complete:disabled:hover {\n",
              "    background-color: var(--disabled-bg-color);\n",
              "    fill: var(--disabled-fill-color);\n",
              "    box-shadow: none;\n",
              "  }\n",
              "\n",
              "  .colab-df-spinner {\n",
              "    border: 2px solid var(--fill-color);\n",
              "    border-color: transparent;\n",
              "    border-bottom-color: var(--fill-color);\n",
              "    animation:\n",
              "      spin 1s steps(1) infinite;\n",
              "  }\n",
              "\n",
              "  @keyframes spin {\n",
              "    0% {\n",
              "      border-color: transparent;\n",
              "      border-bottom-color: var(--fill-color);\n",
              "      border-left-color: var(--fill-color);\n",
              "    }\n",
              "    20% {\n",
              "      border-color: transparent;\n",
              "      border-left-color: var(--fill-color);\n",
              "      border-top-color: var(--fill-color);\n",
              "    }\n",
              "    30% {\n",
              "      border-color: transparent;\n",
              "      border-left-color: var(--fill-color);\n",
              "      border-top-color: var(--fill-color);\n",
              "      border-right-color: var(--fill-color);\n",
              "    }\n",
              "    40% {\n",
              "      border-color: transparent;\n",
              "      border-right-color: var(--fill-color);\n",
              "      border-top-color: var(--fill-color);\n",
              "    }\n",
              "    60% {\n",
              "      border-color: transparent;\n",
              "      border-right-color: var(--fill-color);\n",
              "    }\n",
              "    80% {\n",
              "      border-color: transparent;\n",
              "      border-right-color: var(--fill-color);\n",
              "      border-bottom-color: var(--fill-color);\n",
              "    }\n",
              "    90% {\n",
              "      border-color: transparent;\n",
              "      border-bottom-color: var(--fill-color);\n",
              "    }\n",
              "  }\n",
              "</style>\n",
              "\n",
              "  <script>\n",
              "    async function quickchart(key) {\n",
              "      const quickchartButtonEl =\n",
              "        document.querySelector('#' + key + ' button');\n",
              "      quickchartButtonEl.disabled = true;  // To prevent multiple clicks.\n",
              "      quickchartButtonEl.classList.add('colab-df-spinner');\n",
              "      try {\n",
              "        const charts = await google.colab.kernel.invokeFunction(\n",
              "            'suggestCharts', [key], {});\n",
              "      } catch (error) {\n",
              "        console.error('Error during call to suggestCharts:', error);\n",
              "      }\n",
              "      quickchartButtonEl.classList.remove('colab-df-spinner');\n",
              "      quickchartButtonEl.classList.add('colab-df-quickchart-complete');\n",
              "    }\n",
              "    (() => {\n",
              "      let quickchartButtonEl =\n",
              "        document.querySelector('#df-d457198f-f652-4d8e-a8e2-c3b8e8bb75d6 button');\n",
              "      quickchartButtonEl.style.display =\n",
              "        google.colab.kernel.accessAllowed ? 'block' : 'none';\n",
              "    })();\n",
              "  </script>\n",
              "</div>\n",
              "\n",
              "    </div>\n",
              "  </div>\n"
            ],
            "application/vnd.google.colaboratory.intrinsic+json": {
              "type": "dataframe",
              "variable_name": "data1",
              "summary": "{\n  \"name\": \"data1\",\n  \"rows\": 40000,\n  \"fields\": [\n    {\n      \"column\": \"tweet_id\",\n      \"properties\": {\n        \"dtype\": \"number\",\n        \"std\": 118857896,\n        \"min\": 1693956175,\n        \"max\": 1966441171,\n        \"num_unique_values\": 40000,\n        \"samples\": [\n          1752414968,\n          1965295852,\n          1696219218\n        ],\n        \"semantic_type\": \"\",\n        \"description\": \"\"\n      }\n    },\n    {\n      \"column\": \"sentiment\",\n      \"properties\": {\n        \"dtype\": \"category\",\n        \"num_unique_values\": 13,\n        \"samples\": [\n          \"relief\",\n          \"happiness\",\n          \"empty\"\n        ],\n        \"semantic_type\": \"\",\n        \"description\": \"\"\n      }\n    },\n    {\n      \"column\": \"content\",\n      \"properties\": {\n        \"dtype\": \"string\",\n        \"num_unique_values\": 39826,\n        \"samples\": [\n          \"stunned was i voice amazing an have you and songs, your of one heard i @davedays\",\n          \"8am. its if as up now &amp; news 10pm the of start the exactly @ asleep fell i tired. been have must i wow\",\n          \"sad? you are why @misssammibaby\"\n        ],\n        \"semantic_type\": \"\",\n        \"description\": \"\"\n      }\n    }\n  ]\n}"
            }
          },
          "metadata": {},
          "execution_count": 22
        }
      ]
    },
    {
      "cell_type": "markdown",
      "source": [
        "Splitting of the Dataset"
      ],
      "metadata": {
        "id": "UXYzg65y3_dz"
      }
    },
    {
      "cell_type": "code",
      "source": [
        "m1 = data1.shape[0]\n",
        "train_split_1 = 0.80 * m1\n",
        "val_split_1 = (1 - 0.80) * m1\n",
        "test_split_1 = 0.20 * val_split_1\n",
        "val_split_1 = (1 - 0.20) * val_split_1\n",
        "\n",
        "print('Splitting ratio: ')\n",
        "print()\n",
        "print('train_split: ', train_split_1, ', val_split: ', val_split_1, ', test-split: ', test_split_1)\n",
        "\n",
        "train_data1 = data1.iloc[:int(train_split_1)]\n",
        "val_data1 = data1.iloc[int(train_split_1) + 1: int(train_split_1) + int(val_split_1)]\n",
        "test_data1 = data1.iloc[int(train_split_1) + int(val_split_1) + 1 : int(train_split_1) + int(val_split_1) + int(test_split_1)]\n",
        "print()\n",
        "print('All_Shapes: ')\n",
        "print()\n",
        "print(train_data1.shape, val_data1.shape, test_data1.shape)\n",
        "\n",
        "del val_split_1\n",
        "del train_split_1\n",
        "del test_split_1"
      ],
      "metadata": {
        "colab": {
          "base_uri": "https://localhost:8080/"
        },
        "id": "2sdA9GxxmwB_",
        "outputId": "d18befc6-7f69-475f-caad-1ccefb493559"
      },
      "execution_count": null,
      "outputs": [
        {
          "output_type": "stream",
          "name": "stdout",
          "text": [
            "Splitting ratio: \n",
            "\n",
            "train_split:  32000.0 , val_split:  6399.999999999999 , test-split:  1599.9999999999998\n",
            "\n",
            "All_Shapes: \n",
            "\n",
            "(32000, 3) (6398, 3) (1598, 3)\n"
          ]
        }
      ]
    },
    {
      "cell_type": "markdown",
      "source": [
        "Text Cleaning and Pre-processing"
      ],
      "metadata": {
        "id": "ZPc9zbkk4ETb"
      }
    },
    {
      "cell_type": "code",
      "source": [
        "content_text1 = train_data1.content.tolist()\n",
        "all_classes1 = train_data1.sentiment.unique().tolist()\n",
        "content_text1 = train_data1.content.tolist()\n",
        "ex_char1 = string.punctuation\n",
        "ex_char1 = ex_char1.replace('~', '')\n",
        "c_text1 = '~~~~~~'.join(content_text1)\n",
        "\n",
        "x1 = c_text1.translate(str.maketrans('', '', ex_char1))\n",
        "c_text1 = x1.split('~~~~~~')\n",
        "\n",
        "#print('Samples: ',len(c_text))\n",
        "\n",
        "token_data1 = tf.keras.preprocessing.text.Tokenizer(num_words=None,\n",
        "    filters='!\"#$%&()*+,-./:;<=>?@[\\\\]^_`{|}~\\t\\n',lower=True,split=' ')\n",
        "token_data1.fit_on_texts(c_text1)\n",
        "ind_text1 = token_data1.texts_to_sequences(c_text1)\n",
        "\n",
        "print()\n",
        "\n",
        "print('All_samples: ', len(ind_text1))\n",
        "word_index1 = token_data1.word_index\n",
        "print('Diff. words: ', len(list(word_index1)))"
      ],
      "metadata": {
        "colab": {
          "base_uri": "https://localhost:8080/"
        },
        "id": "vUQk0vRKmx9_",
        "outputId": "758406f5-4ba9-43b3-843a-85b596d3b5e9"
      },
      "execution_count": null,
      "outputs": [
        {
          "output_type": "stream",
          "name": "stdout",
          "text": [
            "\n",
            "All_samples:  32000\n",
            "Diff. words:  45303\n"
          ]
        }
      ]
    },
    {
      "cell_type": "code",
      "source": [
        "label_token1 = tf.keras.preprocessing.text.Tokenizer(num_words=len(all_classes1),\n",
        "    filters='!\"#$%&()*+,-./:;<=>?@[\\\\]^_`{|}~\\t\\n',lower=True,split=' ')\n",
        "classes1 = ' '.join(all_classes1)\n",
        "label_token1.fit_on_texts([classes1])\n",
        "label_index1 = label_token1.word_index\n",
        "print('No. of Labels: ',len(list(label_index1)))\n",
        "print()\n",
        "label_index1 = {key:value-1 for key, value in label_index1.items()}\n",
        "inv_label_index1 = {value:key for key, value in label_index1.items()}\n",
        "print()\n",
        "print(inv_label_index1)"
      ],
      "metadata": {
        "colab": {
          "base_uri": "https://localhost:8080/"
        },
        "id": "VtGZUisXmzlX",
        "outputId": "a21dc55a-f44d-40bf-ad04-03552af3cbdd"
      },
      "execution_count": null,
      "outputs": [
        {
          "output_type": "stream",
          "name": "stdout",
          "text": [
            "No. of Labels:  13\n",
            "\n",
            "\n",
            "{0: 'empty', 1: 'sadness', 2: 'enthusiasm', 3: 'neutral', 4: 'worry', 5: 'surprise', 6: 'love', 7: 'fun', 8: 'hate', 9: 'happiness', 10: 'boredom', 11: 'relief', 12: 'anger'}\n"
          ]
        }
      ]
    },
    {
      "cell_type": "code",
      "source": [
        "y_train1 = []\n",
        "for i in train_data1.sentiment:\n",
        "    y_train1.append(label_index1.get(i))\n",
        "y_train1 = np.array(y_train1)\n",
        "print('Label_shape: ', y_train1.shape)\n",
        "pprint(y_train1[:10])"
      ],
      "metadata": {
        "colab": {
          "base_uri": "https://localhost:8080/"
        },
        "id": "O47sjihxm1TM",
        "outputId": "b5b7dbb3-15f3-4bc8-d6ea-a9b2f5f8f2d3"
      },
      "execution_count": null,
      "outputs": [
        {
          "output_type": "stream",
          "name": "stdout",
          "text": [
            "Label_shape:  (32000,)\n",
            "array([0, 1, 1, 2, 3, 4, 1, 4, 1, 1])\n"
          ]
        }
      ]
    },
    {
      "cell_type": "code",
      "source": [
        "x_train1 = tf.keras.preprocessing.sequence.pad_sequences(ind_text1, padding='post')\n",
        "\n",
        "max_inp_len1 = x_train1.shape[1]\n",
        "print('max_input_length: ', max_inp_len1)\n",
        "\n",
        "\n",
        "print('x_train_shape: ', x_train1.shape, ', y_train_shape: ', y_train1.shape)\n"
      ],
      "metadata": {
        "colab": {
          "base_uri": "https://localhost:8080/"
        },
        "id": "O5O7TiO7m3Dv",
        "outputId": "18ac90e4-09b1-4a68-b38a-275db78b3f3b"
      },
      "execution_count": null,
      "outputs": [
        {
          "output_type": "stream",
          "name": "stdout",
          "text": [
            "max_input_length:  33\n",
            "x_train_shape:  (32000, 33) , y_train_shape:  (32000,)\n"
          ]
        }
      ]
    },
    {
      "cell_type": "code",
      "source": [
        "import numpy as np\n",
        "import tensorflow as tf\n",
        "import string\n",
        "\n",
        "def val_preprocess(val_data, token_data, label_index):\n",
        "    content_text = val_data.content.tolist()\n",
        "    ex_char = string.punctuation.replace('~', '')\n",
        "    c_text = '~~~~~~'.join(content_text).translate(str.maketrans('', '', ex_char)).split('~~~~~~')\n",
        "\n",
        "    print('Val_samples: ', len(c_text))\n",
        "\n",
        "    # Tokenize and then pad sequences\n",
        "    ind_text = token_data.texts_to_sequences(c_text)\n",
        "    x_val = tf.keras.preprocessing.sequence.pad_sequences(ind_text, padding='post')\n",
        "\n",
        "    print('All_Val_samples: ', len(ind_text))\n",
        "\n",
        "    # Prepare labels\n",
        "    y_val = np.array([label_index.get(i, -1) for i in val_data.sentiment])\n",
        "    print('Label_shape: ', y_val.shape)\n",
        "\n",
        "    return x_val, y_val\n",
        "\n",
        "\n",
        "def test_preprocess(test_data, token_data, label_index):\n",
        "    content_text = test_data.content.tolist()\n",
        "    # Remove redundant line: all_classes = test_data.sentiment.unique().tolist()\n",
        "    ex_char = string.punctuation.replace('~', '')  # Exclude '~' from being removed\n",
        "    c_text = '~~~~~~'.join(content_text).translate(str.maketrans('', '', ex_char)).split('~~~~~~')\n",
        "\n",
        "    print('Again_Test_samples: ', len(c_text))\n",
        "    ind_text = token_data.texts_to_sequences(c_text)\n",
        "\n",
        "    # Use pad_sequences here, no need to convert to numpy array manually after this\n",
        "    x_test = tf.keras.preprocessing.sequence.pad_sequences(ind_text, padding='post')\n",
        "    print('\\nAll_Test_samples: ', len(ind_text))\n",
        "\n",
        "    y_test = [label_index.get(i, -1) for i in test_data.sentiment]  # Use default value for missing labels\n",
        "    y_test = np.array(y_test)\n",
        "    print('Label_shape: ', y_test.shape)\n",
        "\n",
        "    return x_test, y_test\n",
        "\n",
        "\n",
        "print('Val_Preprocessing:')\n",
        "x_val1, y_val1 = val_preprocess(val_data1, token_data1, label_index1)\n",
        "#print(x_val1.shape, y_val1.shape)\n",
        "print('--------')\n",
        "print('Test_Preprocessing ...')\n",
        "x_test1, y_test1 = test_preprocess(test_data1, token_data1, label_index1)\n",
        "#print(x_test1.shape, y_test1.shape)"
      ],
      "metadata": {
        "colab": {
          "base_uri": "https://localhost:8080/"
        },
        "id": "vjUpqCrIm4oP",
        "outputId": "f07a2a67-2a16-4818-af6b-b417dc0feaa2"
      },
      "execution_count": null,
      "outputs": [
        {
          "output_type": "stream",
          "name": "stdout",
          "text": [
            "Val_Preprocessing:\n",
            "Val_samples:  6398\n",
            "All_Val_samples:  6398\n",
            "Label_shape:  (6398,)\n",
            "--------\n",
            "Test_Preprocessing ...\n",
            "Again_Test_samples:  1598\n",
            "\n",
            "All_Test_samples:  1598\n",
            "Label_shape:  (1598,)\n"
          ]
        }
      ]
    },
    {
      "cell_type": "code",
      "source": [
        "x_val1 = tf.keras.preprocessing.sequence.pad_sequences(x_val1, maxlen = max_inp_len1, padding = 'post')\n",
        "print('x_val_shape: ',x_val1.shape, ', y_val_shape: ', y_val1.shape)\n",
        "x_test1 = tf.keras.preprocessing.sequence.pad_sequences(x_test1, maxlen = max_inp_len1, padding = 'post')\n",
        "print('x_test_shape: ',x_test1.shape, ', y_test_shape: ', y_test1.shape)"
      ],
      "metadata": {
        "colab": {
          "base_uri": "https://localhost:8080/"
        },
        "id": "xiXep3Mem6wl",
        "outputId": "9d2b3c72-356f-4bad-962b-09695b0f50ee"
      },
      "execution_count": null,
      "outputs": [
        {
          "output_type": "stream",
          "name": "stdout",
          "text": [
            "x_val_shape:  (6398, 33) , y_val_shape:  (6398,)\n",
            "x_test_shape:  (1598, 33) , y_test_shape:  (1598,)\n"
          ]
        }
      ]
    },
    {
      "cell_type": "markdown",
      "source": [
        "Model Building and Evaluation"
      ],
      "metadata": {
        "id": "bro0GAUj4N4I"
      }
    },
    {
      "cell_type": "code",
      "source": [
        "from tensorflow.keras.models import Sequential\n",
        "from tensorflow.keras.layers import Bidirectional, SimpleRNN, Dense\n",
        "\n",
        "# Define the maximum length of your input sequences\n",
        "max_input_length = 33\n",
        "\n",
        "# Define the number of unique sentiment values\n",
        "num_sentiment_values = 13\n",
        "\n",
        "# Define the number of RNN layers and the number of units in each layer\n",
        "num_rnn_layers = 2\n",
        "rnn_units = 128\n",
        "\n",
        "# Create the model\n",
        "model1 = Sequential()\n",
        "\n",
        "# Add the first Bidirectional RNN layer with input_shape=(max_input_length, 1) if your input is univariate\n",
        "# If your input has multiple features, use input_shape=(max_input_length, num_features)\n",
        "model1.add(Bidirectional(SimpleRNN(units=rnn_units, return_sequences=True), input_shape=(max_input_length, 1)))\n",
        "\n",
        "# Add additional Bidirectional RNN layers if needed\n",
        "for _ in range(num_rnn_layers - 1):\n",
        "    model1.add(Bidirectional(SimpleRNN(units=rnn_units, return_sequences=True)))\n",
        "\n",
        "# Add a final Bidirectional RNN layer without return_sequences=True if the next layer is not RNN\n",
        "model1.add(Bidirectional(SimpleRNN(units=rnn_units)))\n",
        "\n",
        "# Add a Dense layer with the number of unique sentiment values as the number of units\n",
        "model1.add(Dense(num_sentiment_values, activation='softmax'))\n",
        "\n",
        "# Compile the model\n",
        "model1.compile(optimizer='adam', loss='sparse_categorical_crossentropy', metrics=['accuracy'])\n",
        "\n",
        "# Print the model summary\n",
        "model1.summary()\n"
      ],
      "metadata": {
        "colab": {
          "base_uri": "https://localhost:8080/"
        },
        "id": "CKxcU4uBm8rt",
        "outputId": "a414cd02-db85-4048-cdc4-a1e8d31da2c3"
      },
      "execution_count": null,
      "outputs": [
        {
          "output_type": "stream",
          "name": "stdout",
          "text": [
            "Model: \"sequential_1\"\n",
            "_________________________________________________________________\n",
            " Layer (type)                Output Shape              Param #   \n",
            "=================================================================\n",
            " bidirectional_3 (Bidirecti  (None, 33, 256)           33280     \n",
            " onal)                                                           \n",
            "                                                                 \n",
            " bidirectional_4 (Bidirecti  (None, 33, 256)           98560     \n",
            " onal)                                                           \n",
            "                                                                 \n",
            " bidirectional_5 (Bidirecti  (None, 256)               98560     \n",
            " onal)                                                           \n",
            "                                                                 \n",
            " dense_1 (Dense)             (None, 13)                3341      \n",
            "                                                                 \n",
            "=================================================================\n",
            "Total params: 233741 (913.05 KB)\n",
            "Trainable params: 233741 (913.05 KB)\n",
            "Non-trainable params: 0 (0.00 Byte)\n",
            "_________________________________________________________________\n"
          ]
        }
      ]
    },
    {
      "cell_type": "code",
      "source": [
        "hit1 = model1.fit(x_train1, y_train1, epochs=25, validation_data=(x_val1, y_val1), batch_size=32)\n",
        "print()\n",
        "print('-- Evaluation --')\n",
        "model1.evaluate(x_test1, y_test1)\n",
        "print()\n",
        "hit_1 = hit1.history\n",
        "\n",
        "fig, axs = plt.subplots(1,2, figsize=(16,8))\n",
        "\n",
        "axs[0].set_title('Loss_Curve')\n",
        "ep = range(len(hit_2['loss']))\n",
        "axs[0].plot(ep, hit_2['loss'],'o--r',label = 'Training_loss')\n",
        "axs[0].plot(ep, hit_2['val_loss'],'o--b',label = 'Val_loss')\n",
        "axs[0].set_xlabel('epoch')\n",
        "axs[0].set_ylabel('Loss')\n",
        "axs[0].legend()\n",
        "\n",
        "axs[1].set_title('Acc_Curve')\n",
        "ep = range(len(hit_2['loss']))\n",
        "axs[1].plot(ep, hit_2['accuracy'],'o--r',label = 'Training_acc')\n",
        "axs[1].plot(ep, hit_2['val_accuracy'],'o--b',label = 'Val_acc')\n",
        "axs[1].set_xlabel('epoch')\n",
        "axs[1].set_ylabel('Accuracy')\n",
        "axs[1].legend()\n",
        "\n",
        "plt.show()"
      ],
      "metadata": {
        "colab": {
          "base_uri": "https://localhost:8080/",
          "height": 1000
        },
        "id": "AdT-Frb0m-Uo",
        "outputId": "62507306-7688-44c2-d225-74db35737979"
      },
      "execution_count": null,
      "outputs": [
        {
          "output_type": "stream",
          "name": "stdout",
          "text": [
            "Epoch 1/25\n",
            "1000/1000 [==============================] - 102s 96ms/step - loss: 2.1514 - accuracy: 0.2338 - val_loss: 2.3789 - val_accuracy: 0.1266\n",
            "Epoch 2/25\n",
            "1000/1000 [==============================] - 90s 90ms/step - loss: 2.1447 - accuracy: 0.2348 - val_loss: 2.2558 - val_accuracy: 0.2307\n",
            "Epoch 4/25\n",
            "1000/1000 [==============================] - 91s 91ms/step - loss: 2.1426 - accuracy: 0.2362 - val_loss: 2.2841 - val_accuracy: 0.1400\n",
            "Epoch 5/25\n",
            "1000/1000 [==============================] - 93s 93ms/step - loss: 2.1423 - accuracy: 0.2366 - val_loss: 2.2969 - val_accuracy: 0.2312\n",
            "Epoch 6/25\n",
            "1000/1000 [==============================] - 91s 91ms/step - loss: 2.1453 - accuracy: 0.2362 - val_loss: 2.3638 - val_accuracy: 0.2201\n",
            "Epoch 7/25\n",
            "1000/1000 [==============================] - 92s 92ms/step - loss: 2.1441 - accuracy: 0.2387 - val_loss: 2.3468 - val_accuracy: 0.1369\n",
            "Epoch 8/25\n",
            "1000/1000 [==============================] - 91s 91ms/step - loss: 2.1401 - accuracy: 0.2410 - val_loss: 2.2577 - val_accuracy: 0.1450\n",
            "Epoch 9/25\n",
            "1000/1000 [==============================] - 92s 92ms/step - loss: 2.1412 - accuracy: 0.2419 - val_loss: 2.3192 - val_accuracy: 0.2074\n",
            "Epoch 10/25\n",
            "1000/1000 [==============================] - 92s 92ms/step - loss: 2.1417 - accuracy: 0.2428 - val_loss: 2.3496 - val_accuracy: 0.1402\n",
            "Epoch 11/25\n",
            "1000/1000 [==============================] - 92s 92ms/step - loss: 2.1504 - accuracy: 0.2259 - val_loss: 2.3262 - val_accuracy: 0.2279\n",
            "Epoch 12/25\n",
            "1000/1000 [==============================] - 92s 92ms/step - loss: 2.1496 - accuracy: 0.2273 - val_loss: 2.4274 - val_accuracy: 0.0999\n",
            "Epoch 13/25\n",
            "1000/1000 [==============================] - 92s 92ms/step - loss: 2.1515 - accuracy: 0.2263 - val_loss: 2.3221 - val_accuracy: 0.2291\n",
            "Epoch 14/25\n",
            "1000/1000 [==============================] - 91s 91ms/step - loss: 2.1513 - accuracy: 0.2257 - val_loss: 2.2811 - val_accuracy: 0.2307\n",
            "Epoch 15/25\n",
            "1000/1000 [==============================] - 91s 91ms/step - loss: 2.1497 - accuracy: 0.2276 - val_loss: 2.3149 - val_accuracy: 0.2307\n",
            "Epoch 16/25\n",
            "1000/1000 [==============================] - 90s 90ms/step - loss: 2.1476 - accuracy: 0.2249 - val_loss: 2.3670 - val_accuracy: 0.0999\n",
            "Epoch 17/25\n",
            "1000/1000 [==============================] - 91s 91ms/step - loss: 2.1494 - accuracy: 0.2278 - val_loss: 2.3214 - val_accuracy: 0.0999\n",
            "Epoch 18/25\n",
            "1000/1000 [==============================] - 91s 91ms/step - loss: 2.1490 - accuracy: 0.2284 - val_loss: 2.3569 - val_accuracy: 0.2307\n",
            "Epoch 19/25\n",
            "1000/1000 [==============================] - 91s 91ms/step - loss: 2.1519 - accuracy: 0.2274 - val_loss: 2.3803 - val_accuracy: 0.0914\n",
            "Epoch 20/25\n",
            "1000/1000 [==============================] - 95s 95ms/step - loss: 2.1477 - accuracy: 0.2247 - val_loss: 2.3755 - val_accuracy: 0.0999\n",
            "Epoch 21/25\n",
            "1000/1000 [==============================] - 90s 90ms/step - loss: 2.1512 - accuracy: 0.2233 - val_loss: 2.2422 - val_accuracy: 0.2307\n",
            "Epoch 22/25\n",
            "1000/1000 [==============================] - 92s 92ms/step - loss: 2.1490 - accuracy: 0.2278 - val_loss: 2.3229 - val_accuracy: 0.2307\n",
            "Epoch 23/25\n",
            "1000/1000 [==============================] - 91s 91ms/step - loss: 2.1482 - accuracy: 0.2272 - val_loss: 2.3661 - val_accuracy: 0.0999\n",
            "Epoch 24/25\n",
            "1000/1000 [==============================] - 90s 90ms/step - loss: 2.1496 - accuracy: 0.2248 - val_loss: 2.3615 - val_accuracy: 0.0999\n",
            "Epoch 25/25\n",
            "1000/1000 [==============================] - 90s 90ms/step - loss: 2.1476 - accuracy: 0.2273 - val_loss: 2.3274 - val_accuracy: 0.0999\n",
            "\n",
            "-- Evaluation --\n",
            "50/50 [==============================] - 1s 23ms/step - loss: 2.3116 - accuracy: 0.1120\n",
            "\n"
          ]
        },
        {
          "output_type": "display_data",
          "data": {
            "text/plain": [
              "<Figure size 1600x800 with 2 Axes>"
            ],
            "image/png": "[encoded data removed]"
          },
          "metadata": {}
        }
      ]
    },
    {
      "cell_type": "code",
      "source": [
        "from sklearn.metrics import confusion_matrix, f1_score, precision_score, recall_score, classification_report\n",
        "import numpy as np\n",
        "\n",
        "# Assuming ypred and y_test are already defined as per your previous code\n",
        "ypred1 = model1.predict(x_test1)\n",
        "ypred1 = np.argmax(ypred1, axis=-1)\n",
        "\n",
        "confuse_matrix  = confusion_matrix(y_test1, ypred1)\n",
        "\n",
        "print('--Confusion_Matrix--')\n",
        "print(confuse_matrix)\n",
        "print()\n",
        "\n",
        "print('f1_score: ', f1_score(y_test1, ypred1, average='micro'))\n",
        "print('Precision: ', precision_score(y_test1, ypred1, average='micro'))\n",
        "print('Recall: ', recall_score(y_test1, ypred1, average='micro'))\n",
        "\n",
        "# Getting the classification report\n",
        "print('--Classification Report--')\n",
        "print(classification_report(y_test1, ypred1))"
      ],
      "metadata": {
        "colab": {
          "base_uri": "https://localhost:8080/"
        },
        "id": "Mx-DSJHRn3wQ",
        "outputId": "930a85f9-b57c-470f-ecca-4418e32809bb"
      },
      "execution_count": null,
      "outputs": [
        {
          "output_type": "stream",
          "name": "stdout",
          "text": [
            "50/50 [==============================] - 2s 23ms/step\n",
            "--Confusion_Matrix--\n",
            "[[  0   0   0   0  26   0   0   0   0   0   0   0   0]\n",
            " [  0   0   0   0  52   0   0   0   0   0   0   0   0]\n",
            " [  0   0   0   0  39   0   0   0   0   0   0   0   0]\n",
            " [  0   0   0   0 370   0   0   0   0   0   0   0   0]\n",
            " [  0   0   0   0 179   0   0   0   0   0   0   0   0]\n",
            " [  0   0   0   0  85   0   0   0   0   0   0   0   0]\n",
            " [  0   0   0   0 277   0   0   0   0   0   0   0   0]\n",
            " [  0   0   0   0  90   0   0   0   0   0   0   0   0]\n",
            " [  0   0   0   0  23   0   0   0   0   0   0   0   0]\n",
            " [  0   0   0   0 363   0   0   0   0   0   0   0   0]\n",
            " [  0   0   0   0   5   0   0   0   0   0   0   0   0]\n",
            " [  0   0   0   0  88   0   0   0   0   0   0   0   0]\n",
            " [  0   0   0   0   1   0   0   0   0   0   0   0   0]]\n",
            "\n",
            "f1_score:  0.11201501877346684\n",
            "Precision:  0.11201501877346684\n",
            "Recall:  0.11201501877346684\n",
            "--Classification Report--\n",
            "              precision    recall  f1-score   support\n",
            "\n",
            "           0       0.00      0.00      0.00        26\n",
            "           1       0.00      0.00      0.00        52\n",
            "           2       0.00      0.00      0.00        39\n",
            "           3       0.00      0.00      0.00       370\n",
            "           4       0.11      1.00      0.20       179\n",
            "           5       0.00      0.00      0.00        85\n",
            "           6       0.00      0.00      0.00       277\n",
            "           7       0.00      0.00      0.00        90\n",
            "           8       0.00      0.00      0.00        23\n",
            "           9       0.00      0.00      0.00       363\n",
            "          10       0.00      0.00      0.00         5\n",
            "          11       0.00      0.00      0.00        88\n",
            "          12       0.00      0.00      0.00         1\n",
            "\n",
            "    accuracy                           0.11      1598\n",
            "   macro avg       0.01      0.08      0.02      1598\n",
            "weighted avg       0.01      0.11      0.02      1598\n",
            "\n"
          ]
        }
      ]
    },
    {
      "cell_type": "code",
      "source": [
        "import tensorflow as tf\n",
        "\n",
        "input_sentence1 = \"success his celebrating are They\"\n",
        "\n",
        "sequence1 = token_data1.texts_to_sequences([input_sentence1])\n",
        "\n",
        "padded_sequence1 = tf.keras.preprocessing.sequence.pad_sequences(sequence1, maxlen=33, padding='post')\n",
        "\n",
        "prediction1 = model1.predict(padded_sequence1)\n",
        "predicted_class1 = tf.argmax(prediction1, axis=1).numpy()\n",
        "\n",
        "sentiment_label1 = inv_label_index1[predicted_class1[0]]\n",
        "\n",
        "print(f\"Predicted sentiment: {sentiment_label1}\")"
      ],
      "metadata": {
        "colab": {
          "base_uri": "https://localhost:8080/"
        },
        "id": "tz5rpo-Xn63_",
        "outputId": "c369dccf-d8ab-49cd-fe9a-dab6aa231597"
      },
      "execution_count": null,
      "outputs": [
        {
          "output_type": "stream",
          "name": "stdout",
          "text": [
            "1/1 [==============================] - 0s 28ms/step\n",
            "Predicted sentiment: worry\n"
          ]
        }
      ]
    },
    {
      "cell_type": "code",
      "source": [],
      "metadata": {
        "id": "dfiIfHEVn89y"
      },
      "execution_count": null,
      "outputs": []
    }
  ]
}