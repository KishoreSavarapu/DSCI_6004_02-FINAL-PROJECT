{
  "nbformat": 4,
  "nbformat_minor": 0,
  "metadata": {
    "colab": {
      "provenance": []
    },
    "kernelspec": {
      "name": "python3",
      "display_name": "Python 3"
    },
    "language_info": {
      "name": "python"
    }
  },
  "cells": [
    {
      "cell_type": "markdown",
      "source": [
        "# DSCI_6004_02 NATURAL LANGUAGE PROCESSING\n",
        "###            PROJECT BY\n",
        "## AMANI KAMBHAM AND LAKSHMI SAI KISHORE SAVARAPU"
      ],
      "metadata": {
        "id": "ZUuihWF3Ypg-"
      }
    },
    {
      "cell_type": "markdown",
      "source": [
        "### TITLE:EMOTION CLASSIFICATION OF TWEETS USING NATURAL LANGUAGE PROCESSING"
      ],
      "metadata": {
        "id": "ijSI_-nSpqsu"
      }
    },
    {
      "cell_type": "markdown",
      "source": [
        "Importing necessary Modules and Libraries"
      ],
      "metadata": {
        "id": "uYDNaKlHp5r_"
      }
    },
    {
      "cell_type": "code",
      "execution_count": null,
      "metadata": {
        "id": "EwQqrPk_-BEk"
      },
      "outputs": [],
      "source": [
        "import pandas as pd\n",
        "from pprint import pprint\n",
        "import warnings\n",
        "warnings.filterwarnings('ignore')\n",
        "import gc\n",
        "import seaborn as sns\n",
        "import matplotlib.pyplot as plt\n",
        "from sklearn.utils import resample\n",
        "import string\n",
        "import numpy as np\n",
        "import tensorflow as tf\n",
        "# import tensorflow_addons as tfa\n",
        "#import keras_tuner as kt"
      ]
    },
    {
      "cell_type": "markdown",
      "source": [
        "Importing the Dataset"
      ],
      "metadata": {
        "id": "CN8JuCGRqWkk"
      }
    },
    {
      "cell_type": "code",
      "source": [
        "data = pd.read_csv('tweet_emotions.csv')\n",
        "data.head()"
      ],
      "metadata": {
        "colab": {
          "base_uri": "https://localhost:8080/",
          "height": 206
        },
        "id": "HXDiUdSCAr7M",
        "outputId": "368ba0ea-7fae-404c-f023-c22cf8fe6422"
      },
      "execution_count": null,
      "outputs": [
        {
          "output_type": "execute_result",
          "data": {
            "text/plain": [
              "     tweet_id   sentiment                                            content\n",
              "0  1956967341       empty  @tiffanylue i know  i was listenin to bad habi...\n",
              "1  1956967666     sadness  Layin n bed with a headache  ughhhh...waitin o...\n",
              "2  1956967696     sadness                Funeral ceremony...gloomy friday...\n",
              "3  1956967789  enthusiasm               wants to hang out with friends SOON!\n",
              "4  1956968416     neutral  @dannycastillo We want to trade with someone w..."
            ],
            "text/html": [
              "\n",
              "  <div id=\"df-5c200148-3789-436c-b389-a84a28627e3f\" class=\"colab-df-container\">\n",
              "    <div>\n",
              "<style scoped>\n",
              "    .dataframe tbody tr th:only-of-type {\n",
              "        vertical-align: middle;\n",
              "    }\n",
              "\n",
              "    .dataframe tbody tr th {\n",
              "        vertical-align: top;\n",
              "    }\n",
              "\n",
              "    .dataframe thead th {\n",
              "        text-align: right;\n",
              "    }\n",
              "</style>\n",
              "<table border=\"1\" class=\"dataframe\">\n",
              "  <thead>\n",
              "    <tr style=\"text-align: right;\">\n",
              "      <th></th>\n",
              "      <th>tweet_id</th>\n",
              "      <th>sentiment</th>\n",
              "      <th>content</th>\n",
              "    </tr>\n",
              "  </thead>\n",
              "  <tbody>\n",
              "    <tr>\n",
              "      <th>0</th>\n",
              "      <td>1956967341</td>\n",
              "      <td>empty</td>\n",
              "      <td>@tiffanylue i know  i was listenin to bad habi...</td>\n",
              "    </tr>\n",
              "    <tr>\n",
              "      <th>1</th>\n",
              "      <td>1956967666</td>\n",
              "      <td>sadness</td>\n",
              "      <td>Layin n bed with a headache  ughhhh...waitin o...</td>\n",
              "    </tr>\n",
              "    <tr>\n",
              "      <th>2</th>\n",
              "      <td>1956967696</td>\n",
              "      <td>sadness</td>\n",
              "      <td>Funeral ceremony...gloomy friday...</td>\n",
              "    </tr>\n",
              "    <tr>\n",
              "      <th>3</th>\n",
              "      <td>1956967789</td>\n",
              "      <td>enthusiasm</td>\n",
              "      <td>wants to hang out with friends SOON!</td>\n",
              "    </tr>\n",
              "    <tr>\n",
              "      <th>4</th>\n",
              "      <td>1956968416</td>\n",
              "      <td>neutral</td>\n",
              "      <td>@dannycastillo We want to trade with someone w...</td>\n",
              "    </tr>\n",
              "  </tbody>\n",
              "</table>\n",
              "</div>\n",
              "    <div class=\"colab-df-buttons\">\n",
              "\n",
              "  <div class=\"colab-df-container\">\n",
              "    <button class=\"colab-df-convert\" onclick=\"convertToInteractive('df-5c200148-3789-436c-b389-a84a28627e3f')\"\n",
              "            title=\"Convert this dataframe to an interactive table.\"\n",
              "            style=\"display:none;\">\n",
              "\n",
              "  <svg xmlns=\"http://www.w3.org/2000/svg\" height=\"24px\" viewBox=\"0 -960 960 960\">\n",
              "    <path d=\"M120-120v-720h720v720H120Zm60-500h600v-160H180v160Zm220 220h160v-160H400v160Zm0 220h160v-160H400v160ZM180-400h160v-160H180v160Zm440 0h160v-160H620v160ZM180-180h160v-160H180v160Zm440 0h160v-160H620v160Z\"/>\n",
              "  </svg>\n",
              "    </button>\n",
              "\n",
              "  <style>\n",
              "    .colab-df-container {\n",
              "      display:flex;\n",
              "      gap: 12px;\n",
              "    }\n",
              "\n",
              "    .colab-df-convert {\n",
              "      background-color: #E8F0FE;\n",
              "      border: none;\n",
              "      border-radius: 50%;\n",
              "      cursor: pointer;\n",
              "      display: none;\n",
              "      fill: #1967D2;\n",
              "      height: 32px;\n",
              "      padding: 0 0 0 0;\n",
              "      width: 32px;\n",
              "    }\n",
              "\n",
              "    .colab-df-convert:hover {\n",
              "      background-color: #E2EBFA;\n",
              "      box-shadow: 0px 1px 2px rgba(60, 64, 67, 0.3), 0px 1px 3px 1px rgba(60, 64, 67, 0.15);\n",
              "      fill: #174EA6;\n",
              "    }\n",
              "\n",
              "    .colab-df-buttons div {\n",
              "      margin-bottom: 4px;\n",
              "    }\n",
              "\n",
              "    [theme=dark] .colab-df-convert {\n",
              "      background-color: #3B4455;\n",
              "      fill: #D2E3FC;\n",
              "    }\n",
              "\n",
              "    [theme=dark] .colab-df-convert:hover {\n",
              "      background-color: #434B5C;\n",
              "      box-shadow: 0px 1px 3px 1px rgba(0, 0, 0, 0.15);\n",
              "      filter: drop-shadow(0px 1px 2px rgba(0, 0, 0, 0.3));\n",
              "      fill: #FFFFFF;\n",
              "    }\n",
              "  </style>\n",
              "\n",
              "    <script>\n",
              "      const buttonEl =\n",
              "        document.querySelector('#df-5c200148-3789-436c-b389-a84a28627e3f button.colab-df-convert');\n",
              "      buttonEl.style.display =\n",
              "        google.colab.kernel.accessAllowed ? 'block' : 'none';\n",
              "\n",
              "      async function convertToInteractive(key) {\n",
              "        const element = document.querySelector('#df-5c200148-3789-436c-b389-a84a28627e3f');\n",
              "        const dataTable =\n",
              "          await google.colab.kernel.invokeFunction('convertToInteractive',\n",
              "                                                    [key], {});\n",
              "        if (!dataTable) return;\n",
              "\n",
              "        const docLinkHtml = 'Like what you see? Visit the ' +\n",
              "          '<a target=\"_blank\" href=https://colab.research.google.com/notebooks/data_table.ipynb>data table notebook</a>'\n",
              "          + ' to learn more about interactive tables.';\n",
              "        element.innerHTML = '';\n",
              "        dataTable['output_type'] = 'display_data';\n",
              "        await google.colab.output.renderOutput(dataTable, element);\n",
              "        const docLink = document.createElement('div');\n",
              "        docLink.innerHTML = docLinkHtml;\n",
              "        element.appendChild(docLink);\n",
              "      }\n",
              "    </script>\n",
              "  </div>\n",
              "\n",
              "\n",
              "<div id=\"df-aa778c5a-932c-47db-9d5b-b89411579f7d\">\n",
              "  <button class=\"colab-df-quickchart\" onclick=\"quickchart('df-aa778c5a-932c-47db-9d5b-b89411579f7d')\"\n",
              "            title=\"Suggest charts\"\n",
              "            style=\"display:none;\">\n",
              "\n",
              "<svg xmlns=\"http://www.w3.org/2000/svg\" height=\"24px\"viewBox=\"0 0 24 24\"\n",
              "     width=\"24px\">\n",
              "    <g>\n",
              "        <path d=\"M19 3H5c-1.1 0-2 .9-2 2v14c0 1.1.9 2 2 2h14c1.1 0 2-.9 2-2V5c0-1.1-.9-2-2-2zM9 17H7v-7h2v7zm4 0h-2V7h2v10zm4 0h-2v-4h2v4z\"/>\n",
              "    </g>\n",
              "</svg>\n",
              "  </button>\n",
              "\n",
              "<style>\n",
              "  .colab-df-quickchart {\n",
              "      --bg-color: #E8F0FE;\n",
              "      --fill-color: #1967D2;\n",
              "      --hover-bg-color: #E2EBFA;\n",
              "      --hover-fill-color: #174EA6;\n",
              "      --disabled-fill-color: #AAA;\n",
              "      --disabled-bg-color: #DDD;\n",
              "  }\n",
              "\n",
              "  [theme=dark] .colab-df-quickchart {\n",
              "      --bg-color: #3B4455;\n",
              "      --fill-color: #D2E3FC;\n",
              "      --hover-bg-color: #434B5C;\n",
              "      --hover-fill-color: #FFFFFF;\n",
              "      --disabled-bg-color: #3B4455;\n",
              "      --disabled-fill-color: #666;\n",
              "  }\n",
              "\n",
              "  .colab-df-quickchart {\n",
              "    background-color: var(--bg-color);\n",
              "    border: none;\n",
              "    border-radius: 50%;\n",
              "    cursor: pointer;\n",
              "    display: none;\n",
              "    fill: var(--fill-color);\n",
              "    height: 32px;\n",
              "    padding: 0;\n",
              "    width: 32px;\n",
              "  }\n",
              "\n",
              "  .colab-df-quickchart:hover {\n",
              "    background-color: var(--hover-bg-color);\n",
              "    box-shadow: 0 1px 2px rgba(60, 64, 67, 0.3), 0 1px 3px 1px rgba(60, 64, 67, 0.15);\n",
              "    fill: var(--button-hover-fill-color);\n",
              "  }\n",
              "\n",
              "  .colab-df-quickchart-complete:disabled,\n",
              "  .colab-df-quickchart-complete:disabled:hover {\n",
              "    background-color: var(--disabled-bg-color);\n",
              "    fill: var(--disabled-fill-color);\n",
              "    box-shadow: none;\n",
              "  }\n",
              "\n",
              "  .colab-df-spinner {\n",
              "    border: 2px solid var(--fill-color);\n",
              "    border-color: transparent;\n",
              "    border-bottom-color: var(--fill-color);\n",
              "    animation:\n",
              "      spin 1s steps(1) infinite;\n",
              "  }\n",
              "\n",
              "  @keyframes spin {\n",
              "    0% {\n",
              "      border-color: transparent;\n",
              "      border-bottom-color: var(--fill-color);\n",
              "      border-left-color: var(--fill-color);\n",
              "    }\n",
              "    20% {\n",
              "      border-color: transparent;\n",
              "      border-left-color: var(--fill-color);\n",
              "      border-top-color: var(--fill-color);\n",
              "    }\n",
              "    30% {\n",
              "      border-color: transparent;\n",
              "      border-left-color: var(--fill-color);\n",
              "      border-top-color: var(--fill-color);\n",
              "      border-right-color: var(--fill-color);\n",
              "    }\n",
              "    40% {\n",
              "      border-color: transparent;\n",
              "      border-right-color: var(--fill-color);\n",
              "      border-top-color: var(--fill-color);\n",
              "    }\n",
              "    60% {\n",
              "      border-color: transparent;\n",
              "      border-right-color: var(--fill-color);\n",
              "    }\n",
              "    80% {\n",
              "      border-color: transparent;\n",
              "      border-right-color: var(--fill-color);\n",
              "      border-bottom-color: var(--fill-color);\n",
              "    }\n",
              "    90% {\n",
              "      border-color: transparent;\n",
              "      border-bottom-color: var(--fill-color);\n",
              "    }\n",
              "  }\n",
              "</style>\n",
              "\n",
              "  <script>\n",
              "    async function quickchart(key) {\n",
              "      const quickchartButtonEl =\n",
              "        document.querySelector('#' + key + ' button');\n",
              "      quickchartButtonEl.disabled = true;  // To prevent multiple clicks.\n",
              "      quickchartButtonEl.classList.add('colab-df-spinner');\n",
              "      try {\n",
              "        const charts = await google.colab.kernel.invokeFunction(\n",
              "            'suggestCharts', [key], {});\n",
              "      } catch (error) {\n",
              "        console.error('Error during call to suggestCharts:', error);\n",
              "      }\n",
              "      quickchartButtonEl.classList.remove('colab-df-spinner');\n",
              "      quickchartButtonEl.classList.add('colab-df-quickchart-complete');\n",
              "    }\n",
              "    (() => {\n",
              "      let quickchartButtonEl =\n",
              "        document.querySelector('#df-aa778c5a-932c-47db-9d5b-b89411579f7d button');\n",
              "      quickchartButtonEl.style.display =\n",
              "        google.colab.kernel.accessAllowed ? 'block' : 'none';\n",
              "    })();\n",
              "  </script>\n",
              "</div>\n",
              "\n",
              "    </div>\n",
              "  </div>\n"
            ],
            "application/vnd.google.colaboratory.intrinsic+json": {
              "type": "dataframe",
              "variable_name": "data",
              "summary": "{\n  \"name\": \"data\",\n  \"rows\": 40000,\n  \"fields\": [\n    {\n      \"column\": \"tweet_id\",\n      \"properties\": {\n        \"dtype\": \"number\",\n        \"std\": 118857896,\n        \"min\": 1693956175,\n        \"max\": 1966441171,\n        \"num_unique_values\": 40000,\n        \"samples\": [\n          1752414968,\n          1965295852,\n          1696219218\n        ],\n        \"semantic_type\": \"\",\n        \"description\": \"\"\n      }\n    },\n    {\n      \"column\": \"sentiment\",\n      \"properties\": {\n        \"dtype\": \"category\",\n        \"num_unique_values\": 13,\n        \"samples\": [\n          \"relief\",\n          \"happiness\",\n          \"empty\"\n        ],\n        \"semantic_type\": \"\",\n        \"description\": \"\"\n      }\n    },\n    {\n      \"column\": \"content\",\n      \"properties\": {\n        \"dtype\": \"string\",\n        \"num_unique_values\": 39827,\n        \"samples\": [\n          \"the sun is shinning! im off out!!\",\n          \"wow i must have been tired. i fell asleep @ exactly the start of the 10pm news &amp; now up as if its 8am.\",\n          \"@knobzie their loss\"\n        ],\n        \"semantic_type\": \"\",\n        \"description\": \"\"\n      }\n    }\n  ]\n}"
            }
          },
          "metadata": {},
          "execution_count": 2
        }
      ]
    },
    {
      "cell_type": "markdown",
      "source": [
        "Exploratory Data Analysis"
      ],
      "metadata": {
        "id": "MBfvNKyBqbCB"
      }
    },
    {
      "cell_type": "code",
      "source": [
        "len(data)"
      ],
      "metadata": {
        "colab": {
          "base_uri": "https://localhost:8080/"
        },
        "id": "wYZ2z77xErn3",
        "outputId": "10758d1d-c437-497c-9caf-9d8599890877"
      },
      "execution_count": null,
      "outputs": [
        {
          "output_type": "execute_result",
          "data": {
            "text/plain": [
              "40000"
            ]
          },
          "metadata": {},
          "execution_count": 3
        }
      ]
    },
    {
      "cell_type": "code",
      "source": [
        "max_length = data['content'].str.len().max()\n",
        "\n",
        "print('The maximum lenght tweet is: ', max_length)"
      ],
      "metadata": {
        "colab": {
          "base_uri": "https://localhost:8080/"
        },
        "id": "v7tX7bUuG5O1",
        "outputId": "98f92006-ea9e-4d34-c0ad-9f5ea5f8ec3e"
      },
      "execution_count": null,
      "outputs": [
        {
          "output_type": "stream",
          "name": "stdout",
          "text": [
            "The maximum lenght tweet is:  167\n"
          ]
        }
      ]
    },
    {
      "cell_type": "code",
      "source": [
        "data_count = data.sentiment.value_counts()\n",
        "type(data_count)"
      ],
      "metadata": {
        "colab": {
          "base_uri": "https://localhost:8080/",
          "height": 203
        },
        "id": "HzPiBX0DEt6o",
        "outputId": "b9f3ec4c-1c27-49e6-912c-dd8731e27c1d"
      },
      "execution_count": null,
      "outputs": [
        {
          "output_type": "execute_result",
          "data": {
            "text/plain": [
              "pandas.core.series.Series"
            ],
            "text/html": [
              "<div style=\"max-width:800px; border: 1px solid var(--colab-border-color);\"><style>\n",
              "      pre.function-repr-contents {\n",
              "        overflow-x: auto;\n",
              "        padding: 8px 12px;\n",
              "        max-height: 500px;\n",
              "      }\n",
              "\n",
              "      pre.function-repr-contents.function-repr-contents-collapsed {\n",
              "        cursor: pointer;\n",
              "        max-height: 100px;\n",
              "      }\n",
              "    </style>\n",
              "    <pre style=\"white-space: initial; background:\n",
              "         var(--colab-secondary-surface-color); padding: 8px 12px;\n",
              "         border-bottom: 1px solid var(--colab-border-color);\"><b>pandas.core.series.Series</b><br/>def __init__(data=None, index=None, dtype: Dtype | None=None, name=None, copy: bool | None=None, fastpath: bool=False) -&gt; None</pre><pre class=\"function-repr-contents function-repr-contents-collapsed\" style=\"\"><a class=\"filepath\" style=\"display:none\" href=\"#\">/usr/local/lib/python3.10/dist-packages/pandas/core/series.py</a>One-dimensional ndarray with axis labels (including time series).\n",
              "\n",
              "Labels need not be unique but must be a hashable type. The object\n",
              "supports both integer- and label-based indexing and provides a host of\n",
              "methods for performing operations involving the index. Statistical\n",
              "methods from ndarray have been overridden to automatically exclude\n",
              "missing data (currently represented as NaN).\n",
              "\n",
              "Operations between Series (+, -, /, \\*, \\*\\*) align values based on their\n",
              "associated index values-- they need not be the same length. The result\n",
              "index will be the sorted union of the two indexes.\n",
              "\n",
              "Parameters\n",
              "----------\n",
              "data : array-like, Iterable, dict, or scalar value\n",
              "    Contains data stored in Series. If data is a dict, argument order is\n",
              "    maintained.\n",
              "index : array-like or Index (1d)\n",
              "    Values must be hashable and have the same length as `data`.\n",
              "    Non-unique index values are allowed. Will default to\n",
              "    RangeIndex (0, 1, 2, ..., n) if not provided. If data is dict-like\n",
              "    and index is None, then the keys in the data are used as the index. If the\n",
              "    index is not None, the resulting Series is reindexed with the index values.\n",
              "dtype : str, numpy.dtype, or ExtensionDtype, optional\n",
              "    Data type for the output Series. If not specified, this will be\n",
              "    inferred from `data`.\n",
              "    See the :ref:`user guide &lt;basics.dtypes&gt;` for more usages.\n",
              "name : Hashable, default None\n",
              "    The name to give to the Series.\n",
              "copy : bool, default False\n",
              "    Copy input data. Only affects Series or 1d ndarray input. See examples.\n",
              "\n",
              "Notes\n",
              "-----\n",
              "Please reference the :ref:`User Guide &lt;basics.series&gt;` for more information.\n",
              "\n",
              "Examples\n",
              "--------\n",
              "Constructing Series from a dictionary with an Index specified\n",
              "\n",
              "&gt;&gt;&gt; d = {&#x27;a&#x27;: 1, &#x27;b&#x27;: 2, &#x27;c&#x27;: 3}\n",
              "&gt;&gt;&gt; ser = pd.Series(data=d, index=[&#x27;a&#x27;, &#x27;b&#x27;, &#x27;c&#x27;])\n",
              "&gt;&gt;&gt; ser\n",
              "a   1\n",
              "b   2\n",
              "c   3\n",
              "dtype: int64\n",
              "\n",
              "The keys of the dictionary match with the Index values, hence the Index\n",
              "values have no effect.\n",
              "\n",
              "&gt;&gt;&gt; d = {&#x27;a&#x27;: 1, &#x27;b&#x27;: 2, &#x27;c&#x27;: 3}\n",
              "&gt;&gt;&gt; ser = pd.Series(data=d, index=[&#x27;x&#x27;, &#x27;y&#x27;, &#x27;z&#x27;])\n",
              "&gt;&gt;&gt; ser\n",
              "x   NaN\n",
              "y   NaN\n",
              "z   NaN\n",
              "dtype: float64\n",
              "\n",
              "Note that the Index is first build with the keys from the dictionary.\n",
              "After this the Series is reindexed with the given Index values, hence we\n",
              "get all NaN as a result.\n",
              "\n",
              "Constructing Series from a list with `copy=False`.\n",
              "\n",
              "&gt;&gt;&gt; r = [1, 2]\n",
              "&gt;&gt;&gt; ser = pd.Series(r, copy=False)\n",
              "&gt;&gt;&gt; ser.iloc[0] = 999\n",
              "&gt;&gt;&gt; r\n",
              "[1, 2]\n",
              "&gt;&gt;&gt; ser\n",
              "0    999\n",
              "1      2\n",
              "dtype: int64\n",
              "\n",
              "Due to input data type the Series has a `copy` of\n",
              "the original data even though `copy=False`, so\n",
              "the data is unchanged.\n",
              "\n",
              "Constructing Series from a 1d ndarray with `copy=False`.\n",
              "\n",
              "&gt;&gt;&gt; r = np.array([1, 2])\n",
              "&gt;&gt;&gt; ser = pd.Series(r, copy=False)\n",
              "&gt;&gt;&gt; ser.iloc[0] = 999\n",
              "&gt;&gt;&gt; r\n",
              "array([999,   2])\n",
              "&gt;&gt;&gt; ser\n",
              "0    999\n",
              "1      2\n",
              "dtype: int64\n",
              "\n",
              "Due to input data type the Series has a `view` on\n",
              "the original data, so\n",
              "the data is changed as well.</pre>\n",
              "      <script>\n",
              "      if (google.colab.kernel.accessAllowed && google.colab.files && google.colab.files.view) {\n",
              "        for (const element of document.querySelectorAll('.filepath')) {\n",
              "          element.style.display = 'block'\n",
              "          element.onclick = (event) => {\n",
              "            event.preventDefault();\n",
              "            event.stopPropagation();\n",
              "            google.colab.files.view(element.textContent, 244);\n",
              "          };\n",
              "        }\n",
              "      }\n",
              "      for (const element of document.querySelectorAll('.function-repr-contents')) {\n",
              "        element.onclick = (event) => {\n",
              "          event.preventDefault();\n",
              "          event.stopPropagation();\n",
              "          element.classList.toggle('function-repr-contents-collapsed');\n",
              "        };\n",
              "      }\n",
              "      </script>\n",
              "      </div>"
            ]
          },
          "metadata": {},
          "execution_count": 5
        }
      ]
    },
    {
      "cell_type": "code",
      "source": [
        "data_count"
      ],
      "metadata": {
        "colab": {
          "base_uri": "https://localhost:8080/"
        },
        "id": "CbzNxb3KEt80",
        "outputId": "2e372153-e63d-4304-e925-f1755bfc5fcb"
      },
      "execution_count": null,
      "outputs": [
        {
          "output_type": "execute_result",
          "data": {
            "text/plain": [
              "sentiment\n",
              "neutral       8638\n",
              "worry         8459\n",
              "happiness     5209\n",
              "sadness       5165\n",
              "love          3842\n",
              "surprise      2187\n",
              "fun           1776\n",
              "relief        1526\n",
              "hate          1323\n",
              "empty          827\n",
              "enthusiasm     759\n",
              "boredom        179\n",
              "anger          110\n",
              "Name: count, dtype: int64"
            ]
          },
          "metadata": {},
          "execution_count": 6
        }
      ]
    },
    {
      "cell_type": "code",
      "source": [
        "total_unique_sentiments = data['sentiment'].nunique()\n",
        "\n",
        "print(\"Total unique sentiment values: \",total_unique_sentiments)\n"
      ],
      "metadata": {
        "colab": {
          "base_uri": "https://localhost:8080/"
        },
        "id": "Z--w-QoMEt-8",
        "outputId": "c45dbe9b-ff03-4af9-dc4b-319d2f92b085"
      },
      "execution_count": null,
      "outputs": [
        {
          "output_type": "stream",
          "name": "stdout",
          "text": [
            "Total unique sentiment values:  13\n"
          ]
        }
      ]
    },
    {
      "cell_type": "markdown",
      "source": [
        "Splitting of Dataset"
      ],
      "metadata": {
        "id": "U0_zPyRrqftv"
      }
    },
    {
      "cell_type": "code",
      "source": [
        "m = data.shape[0]\n",
        "train_split = 0.80 * m\n",
        "val_split = (1 - 0.80) * m\n",
        "test_split = 0.20 * val_split\n",
        "val_split = (1 - 0.20) * val_split\n",
        "\n",
        "print('Splitting ratio: ')\n",
        "print()\n",
        "print('train_split: ', train_split, ', val_split: ', val_split, ', test-split: ', test_split)\n",
        "\n",
        "train_data = data.iloc[:int(train_split)]\n",
        "val_data = data.iloc[int(train_split) + 1: int(train_split) + int(val_split)]\n",
        "test_data = data.iloc[int(train_split) + int(val_split) + 1 : int(train_split) + int(val_split) + int(test_split)]\n",
        "print()\n",
        "print('All_Shapes: ')\n",
        "print()\n",
        "print(train_data.shape, val_data.shape, test_data.shape)\n",
        "\n",
        "del val_split\n",
        "del train_split\n",
        "del test_split"
      ],
      "metadata": {
        "colab": {
          "base_uri": "https://localhost:8080/"
        },
        "id": "ryKqfHf2EuBC",
        "outputId": "3e9464e3-7d35-4418-ca64-0af04afe9655"
      },
      "execution_count": null,
      "outputs": [
        {
          "output_type": "stream",
          "name": "stdout",
          "text": [
            "Splitting ratio: \n",
            "\n",
            "train_split:  32000.0 , val_split:  6399.999999999999 , test-split:  1599.9999999999998\n",
            "\n",
            "All_Shapes: \n",
            "\n",
            "(32000, 3) (6398, 3) (1598, 3)\n"
          ]
        }
      ]
    },
    {
      "cell_type": "code",
      "source": [
        "content_text = train_data.content.tolist()\n",
        "all_classes = train_data.sentiment.unique().tolist()\n",
        "content_text = train_data.content.tolist()\n",
        "ex_char = string.punctuation\n",
        "ex_char = ex_char.replace('~', '')\n",
        "c_text = '~~~~~~'.join(content_text)\n",
        "\n",
        "x = c_text.translate(str.maketrans('', '', ex_char))\n",
        "c_text = x.split('~~~~~~')\n",
        "\n",
        "#print('Samples: ',len(c_text))\n",
        "\n",
        "token_data = tf.keras.preprocessing.text.Tokenizer(num_words=None,\n",
        "    filters='!\"#$%&()*+,-./:;<=>?@[\\\\]^_`{|}~\\t\\n',lower=True,split=' ')\n",
        "token_data.fit_on_texts(c_text)\n",
        "ind_text = token_data.texts_to_sequences(c_text)\n",
        "\n",
        "print()\n",
        "\n",
        "print('All_samples: ', len(ind_text))\n",
        "word_index = token_data.word_index\n",
        "print('Diff. words: ', len(list(word_index)))"
      ],
      "metadata": {
        "colab": {
          "base_uri": "https://localhost:8080/"
        },
        "id": "4qUutJjjEuEZ",
        "outputId": "e112c9fb-4b23-43c0-c7bc-173adf530d42"
      },
      "execution_count": null,
      "outputs": [
        {
          "output_type": "stream",
          "name": "stdout",
          "text": [
            "\n",
            "All_samples:  32000\n",
            "Diff. words:  45300\n"
          ]
        }
      ]
    },
    {
      "cell_type": "markdown",
      "source": [
        "Text Cleaning and Pre-processing of Dataset"
      ],
      "metadata": {
        "id": "oMcMJO53qn43"
      }
    },
    {
      "cell_type": "code",
      "source": [
        "label_token = tf.keras.preprocessing.text.Tokenizer(num_words=len(all_classes),\n",
        "    filters='!\"#$%&()*+,-./:;<=>?@[\\\\]^_`{|}~\\t\\n',lower=True,split=' ')\n",
        "classes = ' '.join(all_classes)\n",
        "label_token.fit_on_texts([classes])\n",
        "label_index = label_token.word_index\n",
        "print('No. of Labels: ',len(list(label_index)))\n",
        "print()\n",
        "label_index = {key:value-1 for key, value in label_index.items()}\n",
        "inv_label_index = {value:key for key, value in label_index.items()}\n",
        "print()\n",
        "print(inv_label_index)"
      ],
      "metadata": {
        "colab": {
          "base_uri": "https://localhost:8080/"
        },
        "id": "maWE2fifSmwe",
        "outputId": "8477b977-313c-44ca-95b3-01dddfa487f0"
      },
      "execution_count": null,
      "outputs": [
        {
          "output_type": "stream",
          "name": "stdout",
          "text": [
            "No. of Labels:  13\n",
            "\n",
            "\n",
            "{0: 'empty', 1: 'sadness', 2: 'enthusiasm', 3: 'neutral', 4: 'worry', 5: 'surprise', 6: 'love', 7: 'fun', 8: 'hate', 9: 'happiness', 10: 'boredom', 11: 'relief', 12: 'anger'}\n"
          ]
        }
      ]
    },
    {
      "cell_type": "code",
      "source": [
        "y_train = []\n",
        "for i in train_data.sentiment:\n",
        "    y_train.append(label_index.get(i))\n",
        "y_train = np.array(y_train)\n",
        "print('Label_shape: ', y_train.shape)\n",
        "pprint(y_train[:10])"
      ],
      "metadata": {
        "colab": {
          "base_uri": "https://localhost:8080/"
        },
        "id": "IvpDrAKUSmyy",
        "outputId": "d494b12c-f1c0-4e2e-f97b-3434445ab707"
      },
      "execution_count": null,
      "outputs": [
        {
          "output_type": "stream",
          "name": "stdout",
          "text": [
            "Label_shape:  (32000,)\n",
            "array([0, 1, 1, 2, 3, 4, 1, 4, 1, 1])\n"
          ]
        }
      ]
    },
    {
      "cell_type": "code",
      "source": [
        "x_train = tf.keras.preprocessing.sequence.pad_sequences(ind_text, padding='post')\n",
        "\n",
        "max_inp_len = x_train.shape[1]\n",
        "print('max_input_length: ', max_inp_len)\n",
        "\n",
        "\n",
        "print('x_train_shape: ', x_train.shape, ', y_train_shape: ', y_train.shape)\n"
      ],
      "metadata": {
        "colab": {
          "base_uri": "https://localhost:8080/"
        },
        "id": "3Kr_V-jFSm2N",
        "outputId": "f9851a66-5be4-4a6a-d0c8-9a09ba9d864e"
      },
      "execution_count": null,
      "outputs": [
        {
          "output_type": "stream",
          "name": "stdout",
          "text": [
            "max_input_length:  33\n",
            "x_train_shape:  (32000, 33) , y_train_shape:  (32000,)\n"
          ]
        }
      ]
    },
    {
      "cell_type": "code",
      "source": [
        "import numpy as np\n",
        "import tensorflow as tf\n",
        "import string\n",
        "\n",
        "def val_preprocess(val_data, token_data, label_index):\n",
        "    content_text = val_data.content.tolist()\n",
        "    ex_char = string.punctuation.replace('~', '')\n",
        "    c_text = '~~~~~~'.join(content_text).translate(str.maketrans('', '', ex_char)).split('~~~~~~')\n",
        "\n",
        "    print('Val_samples: ', len(c_text))\n",
        "\n",
        "    # Tokenize and then pad sequences\n",
        "    ind_text = token_data.texts_to_sequences(c_text)\n",
        "    x_val = tf.keras.preprocessing.sequence.pad_sequences(ind_text, padding='post')\n",
        "\n",
        "    print('All_Val_samples: ', len(ind_text))\n",
        "\n",
        "    # Prepare labels\n",
        "    y_val = np.array([label_index.get(i, -1) for i in val_data.sentiment])\n",
        "    print('Label_shape: ', y_val.shape)\n",
        "\n",
        "    return x_val, y_val\n",
        "\n",
        "\n",
        "def test_preprocess(test_data, token_data, label_index):\n",
        "    content_text = test_data.content.tolist()\n",
        "    # Remove redundant line: all_classes = test_data.sentiment.unique().tolist()\n",
        "    ex_char = string.punctuation.replace('~', '')  # Exclude '~' from being removed\n",
        "    c_text = '~~~~~~'.join(content_text).translate(str.maketrans('', '', ex_char)).split('~~~~~~')\n",
        "\n",
        "    print('Again_Test_samples: ', len(c_text))\n",
        "    ind_text = token_data.texts_to_sequences(c_text)\n",
        "\n",
        "    # Use pad_sequences here, no need to convert to numpy array manually after this\n",
        "    x_test = tf.keras.preprocessing.sequence.pad_sequences(ind_text, padding='post')\n",
        "    print('\\nAll_Test_samples: ', len(ind_text))\n",
        "\n",
        "    y_test = [label_index.get(i, -1) for i in test_data.sentiment]  # Use default value for missing labels\n",
        "    y_test = np.array(y_test)\n",
        "    print('Label_shape: ', y_test.shape)\n",
        "\n",
        "    return x_test, y_test\n",
        "\n",
        "\n",
        "print('Val_Preprocessing:')\n",
        "x_val, y_val = val_preprocess(val_data, token_data, label_index)\n",
        "#print(x_val.shape, y_val.shape)\n",
        "print('--------')\n",
        "print('Test_Preprocessing ...')\n",
        "x_test, y_test = test_preprocess(test_data, token_data, label_index)\n",
        "#print(x_test.shape, y_test.shape)"
      ],
      "metadata": {
        "colab": {
          "base_uri": "https://localhost:8080/"
        },
        "id": "NNDZYrBhKmMa",
        "outputId": "da7afcdd-c716-4d29-dccc-74caf51244ce"
      },
      "execution_count": null,
      "outputs": [
        {
          "output_type": "stream",
          "name": "stdout",
          "text": [
            "Val_Preprocessing:\n",
            "Val_samples:  6398\n",
            "All_Val_samples:  6398\n",
            "Label_shape:  (6398,)\n",
            "--------\n",
            "Test_Preprocessing ...\n",
            "Again_Test_samples:  1598\n",
            "\n",
            "All_Test_samples:  1598\n",
            "Label_shape:  (1598,)\n"
          ]
        }
      ]
    },
    {
      "cell_type": "code",
      "source": [
        "x_val = tf.keras.preprocessing.sequence.pad_sequences(x_val, maxlen = max_inp_len, padding = 'post')\n",
        "print('x_val_shape: ',x_val.shape, ', y_val_shape: ', y_val.shape)\n",
        "x_test = tf.keras.preprocessing.sequence.pad_sequences(x_test, maxlen = max_inp_len, padding = 'post')\n",
        "print('x_test_shape: ',x_test.shape, ', y_test_shape: ', y_test.shape)"
      ],
      "metadata": {
        "colab": {
          "base_uri": "https://localhost:8080/"
        },
        "id": "7DBuFlmQWX94",
        "outputId": "56dea105-91b1-437e-c642-ca65634a4bd3"
      },
      "execution_count": null,
      "outputs": [
        {
          "output_type": "stream",
          "name": "stdout",
          "text": [
            "x_val_shape:  (6398, 33) , y_val_shape:  (6398,)\n",
            "x_test_shape:  (1598, 33) , y_test_shape:  (1598,)\n"
          ]
        }
      ]
    },
    {
      "cell_type": "markdown",
      "source": [
        "Model Building and Evaluation"
      ],
      "metadata": {
        "id": "OO1Ghj-irFpa"
      }
    },
    {
      "cell_type": "code",
      "source": [
        "def build_rnn_model(vocabulary_size, embedding_dim, rnn_units, batch_size, num_labels):\n",
        "    model = tf.keras.Sequential([\n",
        "        tf.keras.layers.Embedding(vocabulary_size, embedding_dim, batch_input_shape=[batch_size, None]),\n",
        "        tf.keras.layers.SimpleRNN(rnn_units, return_sequences=False),\n",
        "        tf.keras.layers.Dense(num_labels),\n",
        "        tf.keras.layers.Activation('softmax')\n",
        "    ])\n",
        "    return model\n",
        "\n",
        "\n",
        "# Model parameters\n",
        "VOCABULARY_SIZE = 45301  # Number of unique words in the vocabulary\n",
        "EMBEDDING_DIM = 100     # Size of the embedding vectors\n",
        "RNN_UNITS = 256         # Number of units in the RNN layer\n",
        "BATCH_SIZE = 32         # Training batch size\n",
        "NUM_LABELS = 13         # Number of unique labels\n",
        "\n",
        "# Build the model\n",
        "rnn_model = build_rnn_model(VOCABULARY_SIZE, EMBEDDING_DIM, RNN_UNITS, BATCH_SIZE, NUM_LABELS)\n",
        "\n",
        "# Model summary\n",
        "rnn_model.summary()\n",
        "\n",
        "# Compile the model\n",
        "rnn_model.compile(optimizer='adam', loss='sparse_categorical_crossentropy', metrics=['accuracy'])\n"
      ],
      "metadata": {
        "colab": {
          "base_uri": "https://localhost:8080/"
        },
        "id": "9xtRcj8DXhcM",
        "outputId": "f60e0319-74d9-4c03-d81b-50d5ecac20ec"
      },
      "execution_count": null,
      "outputs": [
        {
          "output_type": "stream",
          "name": "stdout",
          "text": [
            "Model: \"sequential\"\n",
            "_________________________________________________________________\n",
            " Layer (type)                Output Shape              Param #   \n",
            "=================================================================\n",
            " embedding (Embedding)       (32, None, 100)           4530100   \n",
            "                                                                 \n",
            " simple_rnn (SimpleRNN)      (32, 256)                 91392     \n",
            "                                                                 \n",
            " dense (Dense)               (32, 13)                  3341      \n",
            "                                                                 \n",
            " activation (Activation)     (32, 13)                  0         \n",
            "                                                                 \n",
            "=================================================================\n",
            "Total params: 4624833 (17.64 MB)\n",
            "Trainable params: 4624833 (17.64 MB)\n",
            "Non-trainable params: 0 (0.00 Byte)\n",
            "_________________________________________________________________\n"
          ]
        }
      ]
    },
    {
      "cell_type": "code",
      "source": [
        "hit = rnn_model.fit(x_train, y_train, epochs=25, validation_data=(x_val, y_val), batch_size=32)\n",
        "print()\n",
        "print('-- Evaluation --')\n",
        "rnn_model.evaluate(x_test, y_test)\n",
        "print()\n",
        "hit_2 = hit.history\n",
        "\n",
        "fig, axs = plt.subplots(1,2, figsize=(16,8))\n",
        "\n",
        "axs[0].set_title('Loss_Curve')\n",
        "ep = range(len(hit_2['loss']))\n",
        "axs[0].plot(ep, hit_2['loss'],'o--r',label = 'Training_loss')\n",
        "axs[0].plot(ep, hit_2['val_loss'],'o--b',label = 'Val_loss')\n",
        "axs[0].set_xlabel('epoch')\n",
        "axs[0].set_ylabel('Loss')\n",
        "axs[0].legend()\n",
        "\n",
        "axs[1].set_title('Acc_Curve')\n",
        "ep = range(len(hit_2['loss']))\n",
        "axs[1].plot(ep, hit_2['accuracy'],'o--r',label = 'Training_acc')\n",
        "axs[1].plot(ep, hit_2['val_accuracy'],'o--b',label = 'Val_acc')\n",
        "axs[1].set_xlabel('epoch')\n",
        "axs[1].set_ylabel('Accuracy')\n",
        "axs[1].legend()\n",
        "\n",
        "plt.show()"
      ],
      "metadata": {
        "colab": {
          "base_uri": "https://localhost:8080/",
          "height": 1000
        },
        "id": "h-qobD4nbYuT",
        "outputId": "2f4bc0d8-0d86-4ed3-edd4-8abbdd22b16e"
      },
      "execution_count": null,
      "outputs": [
        {
          "output_type": "stream",
          "name": "stdout",
          "text": [
            "Epoch 1/25\n",
            "1000/1000 [==============================] - 97s 96ms/step - loss: 2.1520 - accuracy: 0.2257 - val_loss: 2.2713 - val_accuracy: 0.1032\n",
            "Epoch 2/25\n",
            "1000/1000 [==============================] - 95s 95ms/step - loss: 2.1824 - accuracy: 0.2284 - val_loss: 2.3669 - val_accuracy: 0.1754\n",
            "Epoch 3/25\n",
            "1000/1000 [==============================] - 95s 95ms/step - loss: 2.1624 - accuracy: 0.2372 - val_loss: 2.4508 - val_accuracy: 0.1744\n",
            "Epoch 4/25\n",
            "1000/1000 [==============================] - 96s 96ms/step - loss: 2.1440 - accuracy: 0.2507 - val_loss: 2.3089 - val_accuracy: 0.1663\n",
            "Epoch 5/25\n",
            "1000/1000 [==============================] - 99s 99ms/step - loss: 2.1309 - accuracy: 0.2641 - val_loss: 2.2958 - val_accuracy: 0.1893\n",
            "Epoch 6/25\n",
            "1000/1000 [==============================] - 96s 96ms/step - loss: 2.1226 - accuracy: 0.2620 - val_loss: 2.3331 - val_accuracy: 0.1890\n",
            "Epoch 7/25\n",
            "1000/1000 [==============================] - 95s 95ms/step - loss: 2.1208 - accuracy: 0.2629 - val_loss: 2.3096 - val_accuracy: 0.1888\n",
            "Epoch 8/25\n",
            "1000/1000 [==============================] - 97s 97ms/step - loss: 2.1238 - accuracy: 0.2628 - val_loss: 2.3921 - val_accuracy: 0.1441\n",
            "Epoch 9/25\n",
            "1000/1000 [==============================] - 94s 94ms/step - loss: 2.1233 - accuracy: 0.2612 - val_loss: 2.2773 - val_accuracy: 0.1708\n",
            "Epoch 10/25\n",
            "1000/1000 [==============================] - 95s 95ms/step - loss: 2.1215 - accuracy: 0.2590 - val_loss: 2.3072 - val_accuracy: 0.1972\n",
            "Epoch 11/25\n",
            "1000/1000 [==============================] - 96s 96ms/step - loss: 2.1211 - accuracy: 0.2637 - val_loss: 2.3008 - val_accuracy: 0.1485\n",
            "Epoch 12/25\n",
            "1000/1000 [==============================] - 96s 96ms/step - loss: 2.1238 - accuracy: 0.2552 - val_loss: 2.2890 - val_accuracy: 0.1871\n",
            "Epoch 13/25\n",
            "1000/1000 [==============================] - 96s 96ms/step - loss: 2.1231 - accuracy: 0.2580 - val_loss: 2.3385 - val_accuracy: 0.1446\n",
            "Epoch 14/25\n",
            "1000/1000 [==============================] - 94s 94ms/step - loss: 2.1240 - accuracy: 0.2578 - val_loss: 2.3680 - val_accuracy: 0.1427\n",
            "Epoch 15/25\n",
            "1000/1000 [==============================] - 94s 94ms/step - loss: 2.1249 - accuracy: 0.2559 - val_loss: 2.3254 - val_accuracy: 0.1257\n",
            "Epoch 16/25\n",
            "1000/1000 [==============================] - 95s 95ms/step - loss: 2.1293 - accuracy: 0.2548 - val_loss: 2.2919 - val_accuracy: 0.1833\n",
            "Epoch 17/25\n",
            "1000/1000 [==============================] - 96s 96ms/step - loss: 2.1282 - accuracy: 0.2527 - val_loss: 2.3053 - val_accuracy: 0.1368\n",
            "Epoch 18/25\n",
            "1000/1000 [==============================] - 95s 95ms/step - loss: 2.1318 - accuracy: 0.2525 - val_loss: 2.3082 - val_accuracy: 0.1810\n",
            "Epoch 19/25\n",
            "1000/1000 [==============================] - 95s 95ms/step - loss: 2.1288 - accuracy: 0.2554 - val_loss: 2.3013 - val_accuracy: 0.1812\n",
            "Epoch 20/25\n",
            "1000/1000 [==============================] - 97s 97ms/step - loss: 2.1307 - accuracy: 0.2539 - val_loss: 2.3294 - val_accuracy: 0.1208\n",
            "Epoch 21/25\n",
            "1000/1000 [==============================] - 95s 95ms/step - loss: 2.1317 - accuracy: 0.2540 - val_loss: 2.3014 - val_accuracy: 0.1371\n",
            "Epoch 22/25\n",
            "1000/1000 [==============================] - 95s 95ms/step - loss: 2.1312 - accuracy: 0.2563 - val_loss: 2.3668 - val_accuracy: 0.1194\n",
            "Epoch 23/25\n",
            "1000/1000 [==============================] - 98s 98ms/step - loss: 2.1316 - accuracy: 0.2548 - val_loss: 2.2989 - val_accuracy: 0.1801\n",
            "Epoch 24/25\n",
            "1000/1000 [==============================] - 96s 96ms/step - loss: 2.1313 - accuracy: 0.2569 - val_loss: 2.3098 - val_accuracy: 0.1186\n",
            "Epoch 25/25\n",
            "1000/1000 [==============================] - 97s 97ms/step - loss: 2.1330 - accuracy: 0.2533 - val_loss: 2.3920 - val_accuracy: 0.1794\n",
            "\n",
            "-- Evaluation --\n",
            "50/50 [==============================] - 1s 11ms/step - loss: 2.3831 - accuracy: 0.1840\n",
            "\n"
          ]
        },
        {
          "output_type": "display_data",
          "data": {
            "text/plain": [
              "<Figure size 1600x800 with 2 Axes>"
            ],
            "image/png": "[encoded data removed]"
          },
          "metadata": {}
        }
      ]
    },
    {
      "cell_type": "code",
      "source": [
        "from sklearn.metrics import confusion_matrix, f1_score, precision_score, recall_score, classification_report\n",
        "import numpy as np\n",
        "\n",
        "# Assuming ypred and y_test are already defined as per your previous code\n",
        "ypred = rnn_model.predict(x_test)\n",
        "ypred = np.argmax(ypred, axis=-1)\n",
        "\n",
        "conf_matrix  = confusion_matrix(y_test, ypred)\n",
        "\n",
        "print('--Confusion_Matrix--')\n",
        "print(conf_matrix)\n",
        "print()\n",
        "\n",
        "print('f1_score: ', f1_score(y_test, ypred, average='micro'))\n",
        "print('Precision: ', precision_score(y_test, ypred, average='micro'))\n",
        "print('Recall: ', recall_score(y_test, ypred, average='micro'))\n",
        "\n",
        "# Getting the classification report\n",
        "print('--Classification Report--')\n",
        "print(classification_report(y_test, ypred))\n"
      ],
      "metadata": {
        "colab": {
          "base_uri": "https://localhost:8080/"
        },
        "id": "JACrjxzzpldI",
        "outputId": "9606b4a7-d5f2-4df7-fd92-7c574ce34476"
      },
      "execution_count": null,
      "outputs": [
        {
          "output_type": "stream",
          "name": "stdout",
          "text": [
            "50/50 [==============================] - 1s 10ms/step\n",
            "--Confusion_Matrix--\n",
            "[[  0   1   0   0  25   0   0   0   0   0   0   0   0]\n",
            " [  0   0   0   0  52   0   0   0   0   0   0   0   0]\n",
            " [  0   0   0   0  39   0   0   0   0   0   0   0   0]\n",
            " [  0   7   0   0 363   0   0   0   0   0   0   0   0]\n",
            " [  0   7   0   0 172   0   0   0   0   0   0   0   0]\n",
            " [  0   0   0   0  85   0   0   0   0   0   0   0   0]\n",
            " [  0   1   0   0 276   0   0   0   0   0   0   0   0]\n",
            " [  0   0   0   0  90   0   0   0   0   0   0   0   0]\n",
            " [  0   1   0   0  22   0   0   0   0   0   0   0   0]\n",
            " [  0   3   0   0 360   0   0   0   0   0   0   0   0]\n",
            " [  0   0   0   0   5   0   0   0   0   0   0   0   0]\n",
            " [  0   0   0   0  88   0   0   0   0   0   0   0   0]\n",
            " [  0   0   0   0   1   0   0   0   0   0   0   0   0]]\n",
            "\n",
            "f1_score:  0.10763454317897372\n",
            "Precision:  0.10763454317897372\n",
            "Recall:  0.10763454317897372\n",
            "--Classification Report--\n",
            "              precision    recall  f1-score   support\n",
            "\n",
            "           0       0.00      0.00      0.00        26\n",
            "           1       0.00      0.00      0.00        52\n",
            "           2       0.00      0.00      0.00        39\n",
            "           3       0.00      0.00      0.00       370\n",
            "           4       0.11      0.96      0.20       179\n",
            "           5       0.00      0.00      0.00        85\n",
            "           6       0.00      0.00      0.00       277\n",
            "           7       0.00      0.00      0.00        90\n",
            "           8       0.00      0.00      0.00        23\n",
            "           9       0.00      0.00      0.00       363\n",
            "          10       0.00      0.00      0.00         5\n",
            "          11       0.00      0.00      0.00        88\n",
            "          12       0.00      0.00      0.00         1\n",
            "\n",
            "    accuracy                           0.11      1598\n",
            "   macro avg       0.01      0.07      0.02      1598\n",
            "weighted avg       0.01      0.11      0.02      1598\n",
            "\n"
          ]
        }
      ]
    },
    {
      "cell_type": "code",
      "source": [
        "import tensorflow as tf\n",
        "\n",
        "input_sentence = \"success his celebrating are They\"\n",
        "\n",
        "sequence = token_data.texts_to_sequences([input_sentence])\n",
        "\n",
        "padded_sequence = tf.keras.preprocessing.sequence.pad_sequences(sequence, maxlen=33, padding='post')\n",
        "\n",
        "prediction = rnn_model.predict(padded_sequence)\n",
        "predicted_class = tf.argmax(prediction, axis=1).numpy()\n",
        "\n",
        "sentiment_label = inv_label_index[predicted_class[0]]\n",
        "\n",
        "print(f\"Predicted sentiment: {sentiment_label}\")\n"
      ],
      "metadata": {
        "colab": {
          "base_uri": "https://localhost:8080/"
        },
        "id": "3mOqbaX4fY4x",
        "outputId": "0bcb25ab-f78a-433d-8d18-45eae6d26201"
      },
      "execution_count": null,
      "outputs": [
        {
          "output_type": "stream",
          "name": "stdout",
          "text": [
            "1/1 [==============================] - 1s 552ms/step\n",
            "Predicted sentiment: neutral\n"
          ]
        }
      ]
    },
    {
      "cell_type": "markdown",
      "source": [
        "Importing Dataset"
      ],
      "metadata": {
        "id": "jEjjig9grTPp"
      }
    },
    {
      "cell_type": "code",
      "source": [
        "data1 = pd.read_csv('tweet_emotions.csv')\n",
        "data1.head()"
      ],
      "metadata": {
        "colab": {
          "base_uri": "https://localhost:8080/",
          "height": 206
        },
        "id": "Dk0TiAN-AC_W",
        "outputId": "822b24a6-b98d-48ab-de61-f165e63e2fc8"
      },
      "execution_count": null,
      "outputs": [
        {
          "output_type": "execute_result",
          "data": {
            "text/plain": [
              "     tweet_id   sentiment                                            content\n",
              "0  1956967341       empty  @tiffanylue i know  i was listenin to bad habi...\n",
              "1  1956967666     sadness  Layin n bed with a headache  ughhhh...waitin o...\n",
              "2  1956967696     sadness                Funeral ceremony...gloomy friday...\n",
              "3  1956967789  enthusiasm               wants to hang out with friends SOON!\n",
              "4  1956968416     neutral  @dannycastillo We want to trade with someone w..."
            ],
            "text/html": [
              "\n",
              "  <div id=\"df-f78a2cce-f6c9-47b6-a1cc-a125e9de6e3d\" class=\"colab-df-container\">\n",
              "    <div>\n",
              "<style scoped>\n",
              "    .dataframe tbody tr th:only-of-type {\n",
              "        vertical-align: middle;\n",
              "    }\n",
              "\n",
              "    .dataframe tbody tr th {\n",
              "        vertical-align: top;\n",
              "    }\n",
              "\n",
              "    .dataframe thead th {\n",
              "        text-align: right;\n",
              "    }\n",
              "</style>\n",
              "<table border=\"1\" class=\"dataframe\">\n",
              "  <thead>\n",
              "    <tr style=\"text-align: right;\">\n",
              "      <th></th>\n",
              "      <th>tweet_id</th>\n",
              "      <th>sentiment</th>\n",
              "      <th>content</th>\n",
              "    </tr>\n",
              "  </thead>\n",
              "  <tbody>\n",
              "    <tr>\n",
              "      <th>0</th>\n",
              "      <td>1956967341</td>\n",
              "      <td>empty</td>\n",
              "      <td>@tiffanylue i know  i was listenin to bad habi...</td>\n",
              "    </tr>\n",
              "    <tr>\n",
              "      <th>1</th>\n",
              "      <td>1956967666</td>\n",
              "      <td>sadness</td>\n",
              "      <td>Layin n bed with a headache  ughhhh...waitin o...</td>\n",
              "    </tr>\n",
              "    <tr>\n",
              "      <th>2</th>\n",
              "      <td>1956967696</td>\n",
              "      <td>sadness</td>\n",
              "      <td>Funeral ceremony...gloomy friday...</td>\n",
              "    </tr>\n",
              "    <tr>\n",
              "      <th>3</th>\n",
              "      <td>1956967789</td>\n",
              "      <td>enthusiasm</td>\n",
              "      <td>wants to hang out with friends SOON!</td>\n",
              "    </tr>\n",
              "    <tr>\n",
              "      <th>4</th>\n",
              "      <td>1956968416</td>\n",
              "      <td>neutral</td>\n",
              "      <td>@dannycastillo We want to trade with someone w...</td>\n",
              "    </tr>\n",
              "  </tbody>\n",
              "</table>\n",
              "</div>\n",
              "    <div class=\"colab-df-buttons\">\n",
              "\n",
              "  <div class=\"colab-df-container\">\n",
              "    <button class=\"colab-df-convert\" onclick=\"convertToInteractive('df-f78a2cce-f6c9-47b6-a1cc-a125e9de6e3d')\"\n",
              "            title=\"Convert this dataframe to an interactive table.\"\n",
              "            style=\"display:none;\">\n",
              "\n",
              "  <svg xmlns=\"http://www.w3.org/2000/svg\" height=\"24px\" viewBox=\"0 -960 960 960\">\n",
              "    <path d=\"M120-120v-720h720v720H120Zm60-500h600v-160H180v160Zm220 220h160v-160H400v160Zm0 220h160v-160H400v160ZM180-400h160v-160H180v160Zm440 0h160v-160H620v160ZM180-180h160v-160H180v160Zm440 0h160v-160H620v160Z\"/>\n",
              "  </svg>\n",
              "    </button>\n",
              "\n",
              "  <style>\n",
              "    .colab-df-container {\n",
              "      display:flex;\n",
              "      gap: 12px;\n",
              "    }\n",
              "\n",
              "    .colab-df-convert {\n",
              "      background-color: #E8F0FE;\n",
              "      border: none;\n",
              "      border-radius: 50%;\n",
              "      cursor: pointer;\n",
              "      display: none;\n",
              "      fill: #1967D2;\n",
              "      height: 32px;\n",
              "      padding: 0 0 0 0;\n",
              "      width: 32px;\n",
              "    }\n",
              "\n",
              "    .colab-df-convert:hover {\n",
              "      background-color: #E2EBFA;\n",
              "      box-shadow: 0px 1px 2px rgba(60, 64, 67, 0.3), 0px 1px 3px 1px rgba(60, 64, 67, 0.15);\n",
              "      fill: #174EA6;\n",
              "    }\n",
              "\n",
              "    .colab-df-buttons div {\n",
              "      margin-bottom: 4px;\n",
              "    }\n",
              "\n",
              "    [theme=dark] .colab-df-convert {\n",
              "      background-color: #3B4455;\n",
              "      fill: #D2E3FC;\n",
              "    }\n",
              "\n",
              "    [theme=dark] .colab-df-convert:hover {\n",
              "      background-color: #434B5C;\n",
              "      box-shadow: 0px 1px 3px 1px rgba(0, 0, 0, 0.15);\n",
              "      filter: drop-shadow(0px 1px 2px rgba(0, 0, 0, 0.3));\n",
              "      fill: #FFFFFF;\n",
              "    }\n",
              "  </style>\n",
              "\n",
              "    <script>\n",
              "      const buttonEl =\n",
              "        document.querySelector('#df-f78a2cce-f6c9-47b6-a1cc-a125e9de6e3d button.colab-df-convert');\n",
              "      buttonEl.style.display =\n",
              "        google.colab.kernel.accessAllowed ? 'block' : 'none';\n",
              "\n",
              "      async function convertToInteractive(key) {\n",
              "        const element = document.querySelector('#df-f78a2cce-f6c9-47b6-a1cc-a125e9de6e3d');\n",
              "        const dataTable =\n",
              "          await google.colab.kernel.invokeFunction('convertToInteractive',\n",
              "                                                    [key], {});\n",
              "        if (!dataTable) return;\n",
              "\n",
              "        const docLinkHtml = 'Like what you see? Visit the ' +\n",
              "          '<a target=\"_blank\" href=https://colab.research.google.com/notebooks/data_table.ipynb>data table notebook</a>'\n",
              "          + ' to learn more about interactive tables.';\n",
              "        element.innerHTML = '';\n",
              "        dataTable['output_type'] = 'display_data';\n",
              "        await google.colab.output.renderOutput(dataTable, element);\n",
              "        const docLink = document.createElement('div');\n",
              "        docLink.innerHTML = docLinkHtml;\n",
              "        element.appendChild(docLink);\n",
              "      }\n",
              "    </script>\n",
              "  </div>\n",
              "\n",
              "\n",
              "<div id=\"df-599a9afd-87ab-4328-9a1d-96a1cc21a99c\">\n",
              "  <button class=\"colab-df-quickchart\" onclick=\"quickchart('df-599a9afd-87ab-4328-9a1d-96a1cc21a99c')\"\n",
              "            title=\"Suggest charts\"\n",
              "            style=\"display:none;\">\n",
              "\n",
              "<svg xmlns=\"http://www.w3.org/2000/svg\" height=\"24px\"viewBox=\"0 0 24 24\"\n",
              "     width=\"24px\">\n",
              "    <g>\n",
              "        <path d=\"M19 3H5c-1.1 0-2 .9-2 2v14c0 1.1.9 2 2 2h14c1.1 0 2-.9 2-2V5c0-1.1-.9-2-2-2zM9 17H7v-7h2v7zm4 0h-2V7h2v10zm4 0h-2v-4h2v4z\"/>\n",
              "    </g>\n",
              "</svg>\n",
              "  </button>\n",
              "\n",
              "<style>\n",
              "  .colab-df-quickchart {\n",
              "      --bg-color: #E8F0FE;\n",
              "      --fill-color: #1967D2;\n",
              "      --hover-bg-color: #E2EBFA;\n",
              "      --hover-fill-color: #174EA6;\n",
              "      --disabled-fill-color: #AAA;\n",
              "      --disabled-bg-color: #DDD;\n",
              "  }\n",
              "\n",
              "  [theme=dark] .colab-df-quickchart {\n",
              "      --bg-color: #3B4455;\n",
              "      --fill-color: #D2E3FC;\n",
              "      --hover-bg-color: #434B5C;\n",
              "      --hover-fill-color: #FFFFFF;\n",
              "      --disabled-bg-color: #3B4455;\n",
              "      --disabled-fill-color: #666;\n",
              "  }\n",
              "\n",
              "  .colab-df-quickchart {\n",
              "    background-color: var(--bg-color);\n",
              "    border: none;\n",
              "    border-radius: 50%;\n",
              "    cursor: pointer;\n",
              "    display: none;\n",
              "    fill: var(--fill-color);\n",
              "    height: 32px;\n",
              "    padding: 0;\n",
              "    width: 32px;\n",
              "  }\n",
              "\n",
              "  .colab-df-quickchart:hover {\n",
              "    background-color: var(--hover-bg-color);\n",
              "    box-shadow: 0 1px 2px rgba(60, 64, 67, 0.3), 0 1px 3px 1px rgba(60, 64, 67, 0.15);\n",
              "    fill: var(--button-hover-fill-color);\n",
              "  }\n",
              "\n",
              "  .colab-df-quickchart-complete:disabled,\n",
              "  .colab-df-quickchart-complete:disabled:hover {\n",
              "    background-color: var(--disabled-bg-color);\n",
              "    fill: var(--disabled-fill-color);\n",
              "    box-shadow: none;\n",
              "  }\n",
              "\n",
              "  .colab-df-spinner {\n",
              "    border: 2px solid var(--fill-color);\n",
              "    border-color: transparent;\n",
              "    border-bottom-color: var(--fill-color);\n",
              "    animation:\n",
              "      spin 1s steps(1) infinite;\n",
              "  }\n",
              "\n",
              "  @keyframes spin {\n",
              "    0% {\n",
              "      border-color: transparent;\n",
              "      border-bottom-color: var(--fill-color);\n",
              "      border-left-color: var(--fill-color);\n",
              "    }\n",
              "    20% {\n",
              "      border-color: transparent;\n",
              "      border-left-color: var(--fill-color);\n",
              "      border-top-color: var(--fill-color);\n",
              "    }\n",
              "    30% {\n",
              "      border-color: transparent;\n",
              "      border-left-color: var(--fill-color);\n",
              "      border-top-color: var(--fill-color);\n",
              "      border-right-color: var(--fill-color);\n",
              "    }\n",
              "    40% {\n",
              "      border-color: transparent;\n",
              "      border-right-color: var(--fill-color);\n",
              "      border-top-color: var(--fill-color);\n",
              "    }\n",
              "    60% {\n",
              "      border-color: transparent;\n",
              "      border-right-color: var(--fill-color);\n",
              "    }\n",
              "    80% {\n",
              "      border-color: transparent;\n",
              "      border-right-color: var(--fill-color);\n",
              "      border-bottom-color: var(--fill-color);\n",
              "    }\n",
              "    90% {\n",
              "      border-color: transparent;\n",
              "      border-bottom-color: var(--fill-color);\n",
              "    }\n",
              "  }\n",
              "</style>\n",
              "\n",
              "  <script>\n",
              "    async function quickchart(key) {\n",
              "      const quickchartButtonEl =\n",
              "        document.querySelector('#' + key + ' button');\n",
              "      quickchartButtonEl.disabled = true;  // To prevent multiple clicks.\n",
              "      quickchartButtonEl.classList.add('colab-df-spinner');\n",
              "      try {\n",
              "        const charts = await google.colab.kernel.invokeFunction(\n",
              "            'suggestCharts', [key], {});\n",
              "      } catch (error) {\n",
              "        console.error('Error during call to suggestCharts:', error);\n",
              "      }\n",
              "      quickchartButtonEl.classList.remove('colab-df-spinner');\n",
              "      quickchartButtonEl.classList.add('colab-df-quickchart-complete');\n",
              "    }\n",
              "    (() => {\n",
              "      let quickchartButtonEl =\n",
              "        document.querySelector('#df-599a9afd-87ab-4328-9a1d-96a1cc21a99c button');\n",
              "      quickchartButtonEl.style.display =\n",
              "        google.colab.kernel.accessAllowed ? 'block' : 'none';\n",
              "    })();\n",
              "  </script>\n",
              "</div>\n",
              "\n",
              "    </div>\n",
              "  </div>\n"
            ],
            "application/vnd.google.colaboratory.intrinsic+json": {
              "type": "dataframe",
              "variable_name": "data1",
              "summary": "{\n  \"name\": \"data1\",\n  \"rows\": 40000,\n  \"fields\": [\n    {\n      \"column\": \"tweet_id\",\n      \"properties\": {\n        \"dtype\": \"number\",\n        \"std\": 118857896,\n        \"min\": 1693956175,\n        \"max\": 1966441171,\n        \"num_unique_values\": 40000,\n        \"samples\": [\n          1752414968,\n          1965295852,\n          1696219218\n        ],\n        \"semantic_type\": \"\",\n        \"description\": \"\"\n      }\n    },\n    {\n      \"column\": \"sentiment\",\n      \"properties\": {\n        \"dtype\": \"category\",\n        \"num_unique_values\": 13,\n        \"samples\": [\n          \"relief\",\n          \"happiness\",\n          \"empty\"\n        ],\n        \"semantic_type\": \"\",\n        \"description\": \"\"\n      }\n    },\n    {\n      \"column\": \"content\",\n      \"properties\": {\n        \"dtype\": \"string\",\n        \"num_unique_values\": 39827,\n        \"samples\": [\n          \"the sun is shinning! im off out!!\",\n          \"wow i must have been tired. i fell asleep @ exactly the start of the 10pm news &amp; now up as if its 8am.\",\n          \"@knobzie their loss\"\n        ],\n        \"semantic_type\": \"\",\n        \"description\": \"\"\n      }\n    }\n  ]\n}"
            }
          },
          "metadata": {},
          "execution_count": 18
        }
      ]
    },
    {
      "cell_type": "markdown",
      "source": [
        "Reversing of the Tweet Contents"
      ],
      "metadata": {
        "id": "YfUZ3sqGrdPP"
      }
    },
    {
      "cell_type": "code",
      "source": [
        "import pandas as pd\n",
        "\n",
        "# Function to reverse the sentence\n",
        "def reverse_sentence(sentence):\n",
        "    return ' '.join(sentence.split()[::-1])\n",
        "\n",
        "# Applying the function to the 'content' column and updating the same column with reversed sentences\n",
        "data1['content'] = data1['content'].apply(reverse_sentence)\n",
        "\n",
        "# The 'content' column now contains the reversed sentences\n",
        "data1.head()"
      ],
      "metadata": {
        "colab": {
          "base_uri": "https://localhost:8080/",
          "height": 206
        },
        "id": "045woayp_6Sq",
        "outputId": "9d5910f2-f39b-481b-f66c-860d9083076e"
      },
      "execution_count": null,
      "outputs": [
        {
          "output_type": "execute_result",
          "data": {
            "text/plain": [
              "     tweet_id   sentiment                                            content\n",
              "0  1956967341       empty  =[ part his at freakin started i and earlier h...\n",
              "1  1956967666     sadness  call... your on ughhhh...waitin headache a wit...\n",
              "2  1956967696     sadness                friday... ceremony...gloomy Funeral\n",
              "3  1956967789  enthusiasm               SOON! friends with out hang to wants\n",
              "4  1956968416     neutral  will. one no but tickets, Houston has who some..."
            ],
            "text/html": [
              "\n",
              "  <div id=\"df-5a5c4536-89dd-45ee-9c79-3a8b4b82fcbb\" class=\"colab-df-container\">\n",
              "    <div>\n",
              "<style scoped>\n",
              "    .dataframe tbody tr th:only-of-type {\n",
              "        vertical-align: middle;\n",
              "    }\n",
              "\n",
              "    .dataframe tbody tr th {\n",
              "        vertical-align: top;\n",
              "    }\n",
              "\n",
              "    .dataframe thead th {\n",
              "        text-align: right;\n",
              "    }\n",
              "</style>\n",
              "<table border=\"1\" class=\"dataframe\">\n",
              "  <thead>\n",
              "    <tr style=\"text-align: right;\">\n",
              "      <th></th>\n",
              "      <th>tweet_id</th>\n",
              "      <th>sentiment</th>\n",
              "      <th>content</th>\n",
              "    </tr>\n",
              "  </thead>\n",
              "  <tbody>\n",
              "    <tr>\n",
              "      <th>0</th>\n",
              "      <td>1956967341</td>\n",
              "      <td>empty</td>\n",
              "      <td>=[ part his at freakin started i and earlier h...</td>\n",
              "    </tr>\n",
              "    <tr>\n",
              "      <th>1</th>\n",
              "      <td>1956967666</td>\n",
              "      <td>sadness</td>\n",
              "      <td>call... your on ughhhh...waitin headache a wit...</td>\n",
              "    </tr>\n",
              "    <tr>\n",
              "      <th>2</th>\n",
              "      <td>1956967696</td>\n",
              "      <td>sadness</td>\n",
              "      <td>friday... ceremony...gloomy Funeral</td>\n",
              "    </tr>\n",
              "    <tr>\n",
              "      <th>3</th>\n",
              "      <td>1956967789</td>\n",
              "      <td>enthusiasm</td>\n",
              "      <td>SOON! friends with out hang to wants</td>\n",
              "    </tr>\n",
              "    <tr>\n",
              "      <th>4</th>\n",
              "      <td>1956968416</td>\n",
              "      <td>neutral</td>\n",
              "      <td>will. one no but tickets, Houston has who some...</td>\n",
              "    </tr>\n",
              "  </tbody>\n",
              "</table>\n",
              "</div>\n",
              "    <div class=\"colab-df-buttons\">\n",
              "\n",
              "  <div class=\"colab-df-container\">\n",
              "    <button class=\"colab-df-convert\" onclick=\"convertToInteractive('df-5a5c4536-89dd-45ee-9c79-3a8b4b82fcbb')\"\n",
              "            title=\"Convert this dataframe to an interactive table.\"\n",
              "            style=\"display:none;\">\n",
              "\n",
              "  <svg xmlns=\"http://www.w3.org/2000/svg\" height=\"24px\" viewBox=\"0 -960 960 960\">\n",
              "    <path d=\"M120-120v-720h720v720H120Zm60-500h600v-160H180v160Zm220 220h160v-160H400v160Zm0 220h160v-160H400v160ZM180-400h160v-160H180v160Zm440 0h160v-160H620v160ZM180-180h160v-160H180v160Zm440 0h160v-160H620v160Z\"/>\n",
              "  </svg>\n",
              "    </button>\n",
              "\n",
              "  <style>\n",
              "    .colab-df-container {\n",
              "      display:flex;\n",
              "      gap: 12px;\n",
              "    }\n",
              "\n",
              "    .colab-df-convert {\n",
              "      background-color: #E8F0FE;\n",
              "      border: none;\n",
              "      border-radius: 50%;\n",
              "      cursor: pointer;\n",
              "      display: none;\n",
              "      fill: #1967D2;\n",
              "      height: 32px;\n",
              "      padding: 0 0 0 0;\n",
              "      width: 32px;\n",
              "    }\n",
              "\n",
              "    .colab-df-convert:hover {\n",
              "      background-color: #E2EBFA;\n",
              "      box-shadow: 0px 1px 2px rgba(60, 64, 67, 0.3), 0px 1px 3px 1px rgba(60, 64, 67, 0.15);\n",
              "      fill: #174EA6;\n",
              "    }\n",
              "\n",
              "    .colab-df-buttons div {\n",
              "      margin-bottom: 4px;\n",
              "    }\n",
              "\n",
              "    [theme=dark] .colab-df-convert {\n",
              "      background-color: #3B4455;\n",
              "      fill: #D2E3FC;\n",
              "    }\n",
              "\n",
              "    [theme=dark] .colab-df-convert:hover {\n",
              "      background-color: #434B5C;\n",
              "      box-shadow: 0px 1px 3px 1px rgba(0, 0, 0, 0.15);\n",
              "      filter: drop-shadow(0px 1px 2px rgba(0, 0, 0, 0.3));\n",
              "      fill: #FFFFFF;\n",
              "    }\n",
              "  </style>\n",
              "\n",
              "    <script>\n",
              "      const buttonEl =\n",
              "        document.querySelector('#df-5a5c4536-89dd-45ee-9c79-3a8b4b82fcbb button.colab-df-convert');\n",
              "      buttonEl.style.display =\n",
              "        google.colab.kernel.accessAllowed ? 'block' : 'none';\n",
              "\n",
              "      async function convertToInteractive(key) {\n",
              "        const element = document.querySelector('#df-5a5c4536-89dd-45ee-9c79-3a8b4b82fcbb');\n",
              "        const dataTable =\n",
              "          await google.colab.kernel.invokeFunction('convertToInteractive',\n",
              "                                                    [key], {});\n",
              "        if (!dataTable) return;\n",
              "\n",
              "        const docLinkHtml = 'Like what you see? Visit the ' +\n",
              "          '<a target=\"_blank\" href=https://colab.research.google.com/notebooks/data_table.ipynb>data table notebook</a>'\n",
              "          + ' to learn more about interactive tables.';\n",
              "        element.innerHTML = '';\n",
              "        dataTable['output_type'] = 'display_data';\n",
              "        await google.colab.output.renderOutput(dataTable, element);\n",
              "        const docLink = document.createElement('div');\n",
              "        docLink.innerHTML = docLinkHtml;\n",
              "        element.appendChild(docLink);\n",
              "      }\n",
              "    </script>\n",
              "  </div>\n",
              "\n",
              "\n",
              "<div id=\"df-bb99cfb4-f48a-4c04-8a24-60db76b3f68a\">\n",
              "  <button class=\"colab-df-quickchart\" onclick=\"quickchart('df-bb99cfb4-f48a-4c04-8a24-60db76b3f68a')\"\n",
              "            title=\"Suggest charts\"\n",
              "            style=\"display:none;\">\n",
              "\n",
              "<svg xmlns=\"http://www.w3.org/2000/svg\" height=\"24px\"viewBox=\"0 0 24 24\"\n",
              "     width=\"24px\">\n",
              "    <g>\n",
              "        <path d=\"M19 3H5c-1.1 0-2 .9-2 2v14c0 1.1.9 2 2 2h14c1.1 0 2-.9 2-2V5c0-1.1-.9-2-2-2zM9 17H7v-7h2v7zm4 0h-2V7h2v10zm4 0h-2v-4h2v4z\"/>\n",
              "    </g>\n",
              "</svg>\n",
              "  </button>\n",
              "\n",
              "<style>\n",
              "  .colab-df-quickchart {\n",
              "      --bg-color: #E8F0FE;\n",
              "      --fill-color: #1967D2;\n",
              "      --hover-bg-color: #E2EBFA;\n",
              "      --hover-fill-color: #174EA6;\n",
              "      --disabled-fill-color: #AAA;\n",
              "      --disabled-bg-color: #DDD;\n",
              "  }\n",
              "\n",
              "  [theme=dark] .colab-df-quickchart {\n",
              "      --bg-color: #3B4455;\n",
              "      --fill-color: #D2E3FC;\n",
              "      --hover-bg-color: #434B5C;\n",
              "      --hover-fill-color: #FFFFFF;\n",
              "      --disabled-bg-color: #3B4455;\n",
              "      --disabled-fill-color: #666;\n",
              "  }\n",
              "\n",
              "  .colab-df-quickchart {\n",
              "    background-color: var(--bg-color);\n",
              "    border: none;\n",
              "    border-radius: 50%;\n",
              "    cursor: pointer;\n",
              "    display: none;\n",
              "    fill: var(--fill-color);\n",
              "    height: 32px;\n",
              "    padding: 0;\n",
              "    width: 32px;\n",
              "  }\n",
              "\n",
              "  .colab-df-quickchart:hover {\n",
              "    background-color: var(--hover-bg-color);\n",
              "    box-shadow: 0 1px 2px rgba(60, 64, 67, 0.3), 0 1px 3px 1px rgba(60, 64, 67, 0.15);\n",
              "    fill: var(--button-hover-fill-color);\n",
              "  }\n",
              "\n",
              "  .colab-df-quickchart-complete:disabled,\n",
              "  .colab-df-quickchart-complete:disabled:hover {\n",
              "    background-color: var(--disabled-bg-color);\n",
              "    fill: var(--disabled-fill-color);\n",
              "    box-shadow: none;\n",
              "  }\n",
              "\n",
              "  .colab-df-spinner {\n",
              "    border: 2px solid var(--fill-color);\n",
              "    border-color: transparent;\n",
              "    border-bottom-color: var(--fill-color);\n",
              "    animation:\n",
              "      spin 1s steps(1) infinite;\n",
              "  }\n",
              "\n",
              "  @keyframes spin {\n",
              "    0% {\n",
              "      border-color: transparent;\n",
              "      border-bottom-color: var(--fill-color);\n",
              "      border-left-color: var(--fill-color);\n",
              "    }\n",
              "    20% {\n",
              "      border-color: transparent;\n",
              "      border-left-color: var(--fill-color);\n",
              "      border-top-color: var(--fill-color);\n",
              "    }\n",
              "    30% {\n",
              "      border-color: transparent;\n",
              "      border-left-color: var(--fill-color);\n",
              "      border-top-color: var(--fill-color);\n",
              "      border-right-color: var(--fill-color);\n",
              "    }\n",
              "    40% {\n",
              "      border-color: transparent;\n",
              "      border-right-color: var(--fill-color);\n",
              "      border-top-color: var(--fill-color);\n",
              "    }\n",
              "    60% {\n",
              "      border-color: transparent;\n",
              "      border-right-color: var(--fill-color);\n",
              "    }\n",
              "    80% {\n",
              "      border-color: transparent;\n",
              "      border-right-color: var(--fill-color);\n",
              "      border-bottom-color: var(--fill-color);\n",
              "    }\n",
              "    90% {\n",
              "      border-color: transparent;\n",
              "      border-bottom-color: var(--fill-color);\n",
              "    }\n",
              "  }\n",
              "</style>\n",
              "\n",
              "  <script>\n",
              "    async function quickchart(key) {\n",
              "      const quickchartButtonEl =\n",
              "        document.querySelector('#' + key + ' button');\n",
              "      quickchartButtonEl.disabled = true;  // To prevent multiple clicks.\n",
              "      quickchartButtonEl.classList.add('colab-df-spinner');\n",
              "      try {\n",
              "        const charts = await google.colab.kernel.invokeFunction(\n",
              "            'suggestCharts', [key], {});\n",
              "      } catch (error) {\n",
              "        console.error('Error during call to suggestCharts:', error);\n",
              "      }\n",
              "      quickchartButtonEl.classList.remove('colab-df-spinner');\n",
              "      quickchartButtonEl.classList.add('colab-df-quickchart-complete');\n",
              "    }\n",
              "    (() => {\n",
              "      let quickchartButtonEl =\n",
              "        document.querySelector('#df-bb99cfb4-f48a-4c04-8a24-60db76b3f68a button');\n",
              "      quickchartButtonEl.style.display =\n",
              "        google.colab.kernel.accessAllowed ? 'block' : 'none';\n",
              "    })();\n",
              "  </script>\n",
              "</div>\n",
              "\n",
              "    </div>\n",
              "  </div>\n"
            ],
            "application/vnd.google.colaboratory.intrinsic+json": {
              "type": "dataframe",
              "variable_name": "data1",
              "summary": "{\n  \"name\": \"data1\",\n  \"rows\": 40000,\n  \"fields\": [\n    {\n      \"column\": \"tweet_id\",\n      \"properties\": {\n        \"dtype\": \"number\",\n        \"std\": 118857896,\n        \"min\": 1693956175,\n        \"max\": 1966441171,\n        \"num_unique_values\": 40000,\n        \"samples\": [\n          1752414968,\n          1965295852,\n          1696219218\n        ],\n        \"semantic_type\": \"\",\n        \"description\": \"\"\n      }\n    },\n    {\n      \"column\": \"sentiment\",\n      \"properties\": {\n        \"dtype\": \"category\",\n        \"num_unique_values\": 13,\n        \"samples\": [\n          \"relief\",\n          \"happiness\",\n          \"empty\"\n        ],\n        \"semantic_type\": \"\",\n        \"description\": \"\"\n      }\n    },\n    {\n      \"column\": \"content\",\n      \"properties\": {\n        \"dtype\": \"string\",\n        \"num_unique_values\": 39826,\n        \"samples\": [\n          \"stunned was i voice amazing an have you and songs, your of one heard i @davedays\",\n          \"8am. its if as up now &amp; news 10pm the of start the exactly @ asleep fell i tired. been have must i wow\",\n          \"sad? you are why @misssammibaby\"\n        ],\n        \"semantic_type\": \"\",\n        \"description\": \"\"\n      }\n    }\n  ]\n}"
            }
          },
          "metadata": {},
          "execution_count": 19
        }
      ]
    },
    {
      "cell_type": "markdown",
      "source": [
        "Splitting of the Dataset"
      ],
      "metadata": {
        "id": "x935gZpcrmh3"
      }
    },
    {
      "cell_type": "code",
      "source": [
        "m1 = data1.shape[0]\n",
        "train_split_1 = 0.80 * m1\n",
        "val_split_1 = (1 - 0.80) * m1\n",
        "test_split_1 = 0.20 * val_split_1\n",
        "val_split_1 = (1 - 0.20) * val_split_1\n",
        "\n",
        "print('Splitting ratio: ')\n",
        "print()\n",
        "print('train_split: ', train_split_1, ', val_split: ', val_split_1, ', test-split: ', test_split_1)\n",
        "\n",
        "train_data1 = data1.iloc[:int(train_split_1)]\n",
        "val_data1 = data1.iloc[int(train_split_1) + 1: int(train_split_1) + int(val_split_1)]\n",
        "test_data1 = data1.iloc[int(train_split_1) + int(val_split_1) + 1 : int(train_split_1) + int(val_split_1) + int(test_split_1)]\n",
        "print()\n",
        "print('All_Shapes: ')\n",
        "print()\n",
        "print(train_data1.shape, val_data1.shape, test_data1.shape)\n",
        "\n",
        "del val_split_1\n",
        "del train_split_1\n",
        "del test_split_1"
      ],
      "metadata": {
        "colab": {
          "base_uri": "https://localhost:8080/"
        },
        "id": "gQej4P01ATxR",
        "outputId": "3b7fedaa-a90a-4266-f869-693402cf84a1"
      },
      "execution_count": null,
      "outputs": [
        {
          "output_type": "stream",
          "name": "stdout",
          "text": [
            "Splitting ratio: \n",
            "\n",
            "train_split:  32000.0 , val_split:  6399.999999999999 , test-split:  1599.9999999999998\n",
            "\n",
            "All_Shapes: \n",
            "\n",
            "(32000, 3) (6398, 3) (1598, 3)\n"
          ]
        }
      ]
    },
    {
      "cell_type": "markdown",
      "source": [
        "Text Cleaning and Pre-processing"
      ],
      "metadata": {
        "id": "NmbWyIb9rrtT"
      }
    },
    {
      "cell_type": "code",
      "source": [
        "content_text1 = train_data1.content.tolist()\n",
        "all_classes1 = train_data1.sentiment.unique().tolist()\n",
        "content_text1 = train_data1.content.tolist()\n",
        "ex_char1 = string.punctuation\n",
        "ex_char1 = ex_char1.replace('~', '')\n",
        "c_text1 = '~~~~~~'.join(content_text1)\n",
        "\n",
        "x1 = c_text1.translate(str.maketrans('', '', ex_char1))\n",
        "c_text1 = x1.split('~~~~~~')\n",
        "\n",
        "#print('Samples: ',len(c_text))\n",
        "\n",
        "token_data1 = tf.keras.preprocessing.text.Tokenizer(num_words=None,\n",
        "    filters='!\"#$%&()*+,-./:;<=>?@[\\\\]^_`{|}~\\t\\n',lower=True,split=' ')\n",
        "token_data1.fit_on_texts(c_text1)\n",
        "ind_text1 = token_data1.texts_to_sequences(c_text1)\n",
        "\n",
        "print()\n",
        "\n",
        "print('All_samples: ', len(ind_text1))\n",
        "word_index1 = token_data1.word_index\n",
        "print('Diff. words: ', len(list(word_index1)))"
      ],
      "metadata": {
        "colab": {
          "base_uri": "https://localhost:8080/"
        },
        "id": "YdfpLu_pBcaZ",
        "outputId": "848c0b68-64a8-4ff6-e8bf-b51bfd3a527c"
      },
      "execution_count": null,
      "outputs": [
        {
          "output_type": "stream",
          "name": "stdout",
          "text": [
            "\n",
            "All_samples:  32000\n",
            "Diff. words:  45303\n"
          ]
        }
      ]
    },
    {
      "cell_type": "code",
      "source": [
        "label_token1 = tf.keras.preprocessing.text.Tokenizer(num_words=len(all_classes1),\n",
        "    filters='!\"#$%&()*+,-./:;<=>?@[\\\\]^_`{|}~\\t\\n',lower=True,split=' ')\n",
        "classes1 = ' '.join(all_classes1)\n",
        "label_token1.fit_on_texts([classes1])\n",
        "label_index1 = label_token1.word_index\n",
        "print('No. of Labels: ',len(list(label_index1)))\n",
        "print()\n",
        "label_index1 = {key:value-1 for key, value in label_index1.items()}\n",
        "inv_label_index1 = {value:key for key, value in label_index1.items()}\n",
        "print()\n",
        "print(inv_label_index1)"
      ],
      "metadata": {
        "colab": {
          "base_uri": "https://localhost:8080/"
        },
        "id": "qAs_uZJwCkQu",
        "outputId": "0edc8a15-4459-46bd-da32-eea8a88412f8"
      },
      "execution_count": null,
      "outputs": [
        {
          "output_type": "stream",
          "name": "stdout",
          "text": [
            "No. of Labels:  13\n",
            "\n",
            "\n",
            "{0: 'empty', 1: 'sadness', 2: 'enthusiasm', 3: 'neutral', 4: 'worry', 5: 'surprise', 6: 'love', 7: 'fun', 8: 'hate', 9: 'happiness', 10: 'boredom', 11: 'relief', 12: 'anger'}\n"
          ]
        }
      ]
    },
    {
      "cell_type": "code",
      "source": [
        "y_train1 = []\n",
        "for i in train_data1.sentiment:\n",
        "    y_train1.append(label_index1.get(i))\n",
        "y_train1 = np.array(y_train1)\n",
        "print('Label_shape: ', y_train1.shape)\n",
        "pprint(y_train1[:10])"
      ],
      "metadata": {
        "colab": {
          "base_uri": "https://localhost:8080/"
        },
        "id": "pW9-eZR1DFTq",
        "outputId": "df8d6acc-0d50-464e-9093-40197b354a5e"
      },
      "execution_count": null,
      "outputs": [
        {
          "output_type": "stream",
          "name": "stdout",
          "text": [
            "Label_shape:  (32000,)\n",
            "array([0, 1, 1, 2, 3, 4, 1, 4, 1, 1])\n"
          ]
        }
      ]
    },
    {
      "cell_type": "code",
      "source": [
        "x_train1 = tf.keras.preprocessing.sequence.pad_sequences(ind_text1, padding='post')\n",
        "\n",
        "max_inp_len1 = x_train1.shape[1]\n",
        "print('max_input_length: ', max_inp_len1)\n",
        "\n",
        "\n",
        "print('x_train_shape: ', x_train1.shape, ', y_train_shape: ', y_train1.shape)\n"
      ],
      "metadata": {
        "colab": {
          "base_uri": "https://localhost:8080/"
        },
        "id": "2InKPpfgDee3",
        "outputId": "31407477-98f7-44df-d40f-a2eb6dd90cde"
      },
      "execution_count": null,
      "outputs": [
        {
          "output_type": "stream",
          "name": "stdout",
          "text": [
            "max_input_length:  33\n",
            "x_train_shape:  (32000, 33) , y_train_shape:  (32000,)\n"
          ]
        }
      ]
    },
    {
      "cell_type": "code",
      "source": [
        "import numpy as np\n",
        "import tensorflow as tf\n",
        "import string\n",
        "\n",
        "def val_preprocess(val_data, token_data, label_index):\n",
        "    content_text = val_data.content.tolist()\n",
        "    ex_char = string.punctuation.replace('~', '')\n",
        "    c_text = '~~~~~~'.join(content_text).translate(str.maketrans('', '', ex_char)).split('~~~~~~')\n",
        "\n",
        "    print('Val_samples: ', len(c_text))\n",
        "\n",
        "    # Tokenize and then pad sequences\n",
        "    ind_text = token_data.texts_to_sequences(c_text)\n",
        "    x_val = tf.keras.preprocessing.sequence.pad_sequences(ind_text, padding='post')\n",
        "\n",
        "    print('All_Val_samples: ', len(ind_text))\n",
        "\n",
        "    # Prepare labels\n",
        "    y_val = np.array([label_index.get(i, -1) for i in val_data.sentiment])\n",
        "    print('Label_shape: ', y_val.shape)\n",
        "\n",
        "    return x_val, y_val\n",
        "\n",
        "\n",
        "def test_preprocess(test_data, token_data, label_index):\n",
        "    content_text = test_data.content.tolist()\n",
        "    # Remove redundant line: all_classes = test_data.sentiment.unique().tolist()\n",
        "    ex_char = string.punctuation.replace('~', '')  # Exclude '~' from being removed\n",
        "    c_text = '~~~~~~'.join(content_text).translate(str.maketrans('', '', ex_char)).split('~~~~~~')\n",
        "\n",
        "    print('Again_Test_samples: ', len(c_text))\n",
        "    ind_text = token_data.texts_to_sequences(c_text)\n",
        "\n",
        "    # Use pad_sequences here, no need to convert to numpy array manually after this\n",
        "    x_test = tf.keras.preprocessing.sequence.pad_sequences(ind_text, padding='post')\n",
        "    print('\\nAll_Test_samples: ', len(ind_text))\n",
        "\n",
        "    y_test = [label_index.get(i, -1) for i in test_data.sentiment]  # Use default value for missing labels\n",
        "    y_test = np.array(y_test)\n",
        "    print('Label_shape: ', y_test.shape)\n",
        "\n",
        "    return x_test, y_test\n",
        "\n",
        "\n",
        "print('Val_Preprocessing:')\n",
        "x_val1, y_val1 = val_preprocess(val_data1, token_data1, label_index1)\n",
        "#print(x_val1.shape, y_val1.shape)\n",
        "print('--------')\n",
        "print('Test_Preprocessing ...')\n",
        "x_test1, y_test1 = test_preprocess(test_data1, token_data1, label_index1)\n",
        "#print(x_test1.shape, y_test1.shape)"
      ],
      "metadata": {
        "colab": {
          "base_uri": "https://localhost:8080/"
        },
        "id": "_4KFunTWDvqc",
        "outputId": "fb2c8ec2-b3f3-4e52-f833-d600b0ddac8a"
      },
      "execution_count": null,
      "outputs": [
        {
          "output_type": "stream",
          "name": "stdout",
          "text": [
            "Val_Preprocessing:\n",
            "Val_samples:  6398\n",
            "All_Val_samples:  6398\n",
            "Label_shape:  (6398,)\n",
            "--------\n",
            "Test_Preprocessing ...\n",
            "Again_Test_samples:  1598\n",
            "\n",
            "All_Test_samples:  1598\n",
            "Label_shape:  (1598,)\n"
          ]
        }
      ]
    },
    {
      "cell_type": "code",
      "source": [
        "x_val1 = tf.keras.preprocessing.sequence.pad_sequences(x_val1, maxlen = max_inp_len1, padding = 'post')\n",
        "print('x_val_shape: ',x_val1.shape, ', y_val_shape: ', y_val1.shape)\n",
        "x_test1 = tf.keras.preprocessing.sequence.pad_sequences(x_test1, maxlen = max_inp_len1, padding = 'post')\n",
        "print('x_test_shape: ',x_test1.shape, ', y_test_shape: ', y_test1.shape)"
      ],
      "metadata": {
        "colab": {
          "base_uri": "https://localhost:8080/"
        },
        "id": "Wpz20sJ8EXX2",
        "outputId": "9a5622cd-ff2b-4f92-da24-c459a11da08d"
      },
      "execution_count": null,
      "outputs": [
        {
          "output_type": "stream",
          "name": "stdout",
          "text": [
            "x_val_shape:  (6398, 33) , y_val_shape:  (6398,)\n",
            "x_test_shape:  (1598, 33) , y_test_shape:  (1598,)\n"
          ]
        }
      ]
    },
    {
      "cell_type": "markdown",
      "source": [
        "Model Building and Evaluation"
      ],
      "metadata": {
        "id": "Lv3r2iUzrybg"
      }
    },
    {
      "cell_type": "code",
      "source": [
        "def build_rnn_model1(vocabulary_size, embedding_dim, rnn_units, batch_size, num_labels):\n",
        "    model = tf.keras.Sequential([\n",
        "        tf.keras.layers.Embedding(vocabulary_size, embedding_dim, batch_input_shape=[batch_size, None]),\n",
        "        tf.keras.layers.SimpleRNN(rnn_units, return_sequences=False),\n",
        "        tf.keras.layers.Dense(num_labels),\n",
        "        tf.keras.layers.Activation('softmax')\n",
        "    ])\n",
        "    return model\n",
        "\n",
        "\n",
        "# Model parameters\n",
        "VOCABULARY_SIZE = 45304  # Number of unique words in the vocabulary\n",
        "EMBEDDING_DIM = 100     # Size of the embedding vectors\n",
        "RNN_UNITS = 256         # Number of units in the RNN layer\n",
        "BATCH_SIZE = 32         # Training batch size\n",
        "NUM_LABELS = 13         # Number of unique labels\n",
        "\n",
        "# Build the model\n",
        "rnn_model1 = build_rnn_model1(VOCABULARY_SIZE, EMBEDDING_DIM, RNN_UNITS, BATCH_SIZE, NUM_LABELS)\n",
        "\n",
        "# Model summary\n",
        "rnn_model1.summary()\n",
        "\n",
        "# Compile the model\n",
        "rnn_model1.compile(optimizer='adam', loss='sparse_categorical_crossentropy', metrics=['accuracy'])\n"
      ],
      "metadata": {
        "colab": {
          "base_uri": "https://localhost:8080/"
        },
        "id": "j8s1tqSCFAkQ",
        "outputId": "4cad89e5-d5d8-4862-bbf7-66311278286d"
      },
      "execution_count": null,
      "outputs": [
        {
          "output_type": "stream",
          "name": "stdout",
          "text": [
            "Model: \"sequential_1\"\n",
            "_________________________________________________________________\n",
            " Layer (type)                Output Shape              Param #   \n",
            "=================================================================\n",
            " embedding_1 (Embedding)     (32, None, 100)           4530400   \n",
            "                                                                 \n",
            " simple_rnn_1 (SimpleRNN)    (32, 256)                 91392     \n",
            "                                                                 \n",
            " dense_1 (Dense)             (32, 13)                  3341      \n",
            "                                                                 \n",
            " activation_1 (Activation)   (32, 13)                  0         \n",
            "                                                                 \n",
            "=================================================================\n",
            "Total params: 4625133 (17.64 MB)\n",
            "Trainable params: 4625133 (17.64 MB)\n",
            "Non-trainable params: 0 (0.00 Byte)\n",
            "_________________________________________________________________\n"
          ]
        }
      ]
    },
    {
      "cell_type": "code",
      "source": [
        "hit1 = rnn_model1.fit(x_train1, y_train1, epochs=25, validation_data=(x_val1, y_val1), batch_size=32)\n",
        "print()\n",
        "print('-- Evaluation --')\n",
        "rnn_model1.evaluate(x_test1, y_test1)\n",
        "print()\n",
        "hit_1 = hit1.history\n",
        "\n",
        "fig, axs = plt.subplots(1,2, figsize=(16,8))\n",
        "\n",
        "axs[0].set_title('Loss_Curve')\n",
        "ep = range(len(hit_2['loss']))\n",
        "axs[0].plot(ep, hit_2['loss'],'o--r',label = 'Training_loss')\n",
        "axs[0].plot(ep, hit_2['val_loss'],'o--b',label = 'Val_loss')\n",
        "axs[0].set_xlabel('epoch')\n",
        "axs[0].set_ylabel('Loss')\n",
        "axs[0].legend()\n",
        "\n",
        "axs[1].set_title('Acc_Curve')\n",
        "ep = range(len(hit_2['loss']))\n",
        "axs[1].plot(ep, hit_2['accuracy'],'o--r',label = 'Training_acc')\n",
        "axs[1].plot(ep, hit_2['val_accuracy'],'o--b',label = 'Val_acc')\n",
        "axs[1].set_xlabel('epoch')\n",
        "axs[1].set_ylabel('Accuracy')\n",
        "axs[1].legend()\n",
        "\n",
        "plt.show()"
      ],
      "metadata": {
        "colab": {
          "base_uri": "https://localhost:8080/",
          "height": 1000
        },
        "id": "6PCLZmnrFT0o",
        "outputId": "db71f447-c449-453c-fd8b-c05829605866"
      },
      "execution_count": null,
      "outputs": [
        {
          "output_type": "stream",
          "name": "stdout",
          "text": [
            "Epoch 1/25\n",
            "1000/1000 [==============================] - 100s 98ms/step - loss: 2.1492 - accuracy: 0.2298 - val_loss: 2.3361 - val_accuracy: 0.1572\n",
            "Epoch 2/25\n",
            "1000/1000 [==============================] - 100s 100ms/step - loss: 2.1341 - accuracy: 0.2371 - val_loss: 2.2996 - val_accuracy: 0.1571\n",
            "Epoch 3/25\n",
            "1000/1000 [==============================] - 99s 99ms/step - loss: 2.1800 - accuracy: 0.2283 - val_loss: 2.6134 - val_accuracy: 0.0889\n",
            "Epoch 4/25\n",
            "1000/1000 [==============================] - 97s 97ms/step - loss: 2.1303 - accuracy: 0.2546 - val_loss: 2.4316 - val_accuracy: 0.1713\n",
            "Epoch 5/25\n",
            "1000/1000 [==============================] - 88s 88ms/step - loss: 2.1184 - accuracy: 0.2580 - val_loss: 2.2458 - val_accuracy: 0.1871\n",
            "Epoch 6/25\n",
            "1000/1000 [==============================] - 98s 98ms/step - loss: 2.1305 - accuracy: 0.2469 - val_loss: 2.3698 - val_accuracy: 0.1361\n",
            "Epoch 7/25\n",
            "1000/1000 [==============================] - 99s 99ms/step - loss: 2.1343 - accuracy: 0.2278 - val_loss: 2.3540 - val_accuracy: 0.1357\n",
            "Epoch 8/25\n",
            "1000/1000 [==============================] - 106s 106ms/step - loss: 2.1353 - accuracy: 0.2284 - val_loss: 2.2708 - val_accuracy: 0.1360\n",
            "Epoch 9/25\n",
            "1000/1000 [==============================] - 102s 102ms/step - loss: 2.1352 - accuracy: 0.2326 - val_loss: 2.2908 - val_accuracy: 0.2090\n",
            "Epoch 10/25\n",
            "1000/1000 [==============================] - 103s 103ms/step - loss: 2.1351 - accuracy: 0.2242 - val_loss: 2.3553 - val_accuracy: 0.1399\n",
            "Epoch 11/25\n",
            "1000/1000 [==============================] - 100s 100ms/step - loss: 2.1299 - accuracy: 0.2292 - val_loss: 2.2689 - val_accuracy: 0.1421\n",
            "Epoch 12/25\n",
            "1000/1000 [==============================] - 101s 101ms/step - loss: 2.1347 - accuracy: 0.2340 - val_loss: 2.2995 - val_accuracy: 0.1979\n",
            "Epoch 13/25\n",
            "1000/1000 [==============================] - 103s 103ms/step - loss: 2.1394 - accuracy: 0.2369 - val_loss: 2.3601 - val_accuracy: 0.0553\n",
            "Epoch 14/25\n",
            "1000/1000 [==============================] - 102s 102ms/step - loss: 2.1421 - accuracy: 0.2376 - val_loss: 2.3410 - val_accuracy: 0.1957\n",
            "Epoch 15/25\n",
            "1000/1000 [==============================] - 100s 100ms/step - loss: 2.1260 - accuracy: 0.2476 - val_loss: 2.2998 - val_accuracy: 0.1358\n",
            "Epoch 16/25\n",
            "1000/1000 [==============================] - 98s 98ms/step - loss: 2.1197 - accuracy: 0.2496 - val_loss: 2.3021 - val_accuracy: 0.2307\n",
            "Epoch 17/25\n",
            "1000/1000 [==============================] - 101s 101ms/step - loss: 2.1280 - accuracy: 0.2481 - val_loss: 2.4823 - val_accuracy: 0.1003\n",
            "Epoch 18/25\n",
            "1000/1000 [==============================] - 102s 102ms/step - loss: 2.1398 - accuracy: 0.2477 - val_loss: 2.3556 - val_accuracy: 0.1579\n",
            "Epoch 19/25\n",
            "1000/1000 [==============================] - 104s 104ms/step - loss: 2.1329 - accuracy: 0.2606 - val_loss: 2.3868 - val_accuracy: 0.1518\n",
            "Epoch 20/25\n",
            "1000/1000 [==============================] - 101s 101ms/step - loss: 2.1335 - accuracy: 0.2612 - val_loss: 2.3414 - val_accuracy: 0.1622\n",
            "Epoch 21/25\n",
            "1000/1000 [==============================] - 100s 100ms/step - loss: 2.1336 - accuracy: 0.2615 - val_loss: 2.3760 - val_accuracy: 0.1624\n",
            "Epoch 22/25\n",
            "1000/1000 [==============================] - 101s 101ms/step - loss: 2.1332 - accuracy: 0.2636 - val_loss: 2.3609 - val_accuracy: 0.1622\n",
            "Epoch 23/25\n",
            "1000/1000 [==============================] - 101s 101ms/step - loss: 2.1346 - accuracy: 0.2618 - val_loss: 2.3282 - val_accuracy: 0.1627\n",
            "Epoch 24/25\n",
            "1000/1000 [==============================] - 101s 101ms/step - loss: 2.1337 - accuracy: 0.2624 - val_loss: 2.4153 - val_accuracy: 0.1627\n",
            "Epoch 25/25\n",
            "1000/1000 [==============================] - 102s 102ms/step - loss: 2.1327 - accuracy: 0.2632 - val_loss: 2.3676 - val_accuracy: 0.1311\n",
            "\n",
            "-- Evaluation --\n",
            "50/50 [==============================] - 1s 12ms/step - loss: 2.3541 - accuracy: 0.1258\n",
            "\n"
          ]
        },
        {
          "output_type": "display_data",
          "data": {
            "text/plain": [
              "<Figure size 1600x800 with 2 Axes>"
            ],
            "image/png": "[encoded data removed]"
          },
          "metadata": {}
        }
      ]
    },
    {
      "cell_type": "code",
      "source": [
        "from sklearn.metrics import confusion_matrix, f1_score, precision_score, recall_score, classification_report\n",
        "import numpy as np\n",
        "\n",
        "# Assuming ypred and y_test are already defined as per your previous code\n",
        "ypred1 = rnn_model1.predict(x_test1)\n",
        "ypred1 = np.argmax(ypred1, axis=-1)\n",
        "\n",
        "confuse_matrix  = confusion_matrix(y_test1, ypred1)\n",
        "\n",
        "print('--Confusion_Matrix--')\n",
        "print(confuse_matrix)\n",
        "print()\n",
        "\n",
        "print('f1_score: ', f1_score(y_test1, ypred1, average='micro'))\n",
        "print('Precision: ', precision_score(y_test1, ypred1, average='micro'))\n",
        "print('Recall: ', recall_score(y_test1, ypred1, average='micro'))\n",
        "\n",
        "# Getting the classification report\n",
        "print('--Classification Report--')\n",
        "print(classification_report(y_test1, ypred1))"
      ],
      "metadata": {
        "colab": {
          "base_uri": "https://localhost:8080/"
        },
        "id": "u8QYLjXtFuQd",
        "outputId": "d2c48bb7-e694-4971-8a9a-d6bfd8ce45f9"
      },
      "execution_count": null,
      "outputs": [
        {
          "output_type": "stream",
          "name": "stdout",
          "text": [
            "50/50 [==============================] - 1s 10ms/step\n",
            "--Confusion_Matrix--\n",
            "[[  0  11   0  15   0   0   0   0   0   0   0   0   0]\n",
            " [  0  27   0  25   0   0   0   0   0   0   0   0   0]\n",
            " [  0  15   0  24   0   0   0   0   0   0   0   0   0]\n",
            " [  0 197   0 172   0   0   0   0   0   1   0   0   0]\n",
            " [  0 100   0  79   0   0   0   0   0   0   0   0   0]\n",
            " [  0  42   0  43   0   0   0   0   0   0   0   0   0]\n",
            " [  0 145   0 131   0   0   0   0   0   1   0   0   0]\n",
            " [  0  53   0  37   0   0   0   0   0   0   0   0   0]\n",
            " [  0  15   0   8   0   0   0   0   0   0   0   0   0]\n",
            " [  0 202   0 159   0   0   0   0   0   2   0   0   0]\n",
            " [  0   2   0   3   0   0   0   0   0   0   0   0   0]\n",
            " [  0  50   0  38   0   0   0   0   0   0   0   0   0]\n",
            " [  0   1   0   0   0   0   0   0   0   0   0   0   0]]\n",
            "\n",
            "f1_score:  0.12578222778473092\n",
            "Precision:  0.12578222778473092\n",
            "Recall:  0.12578222778473092\n",
            "--Classification Report--\n",
            "              precision    recall  f1-score   support\n",
            "\n",
            "           0       0.00      0.00      0.00        26\n",
            "           1       0.03      0.52      0.06        52\n",
            "           2       0.00      0.00      0.00        39\n",
            "           3       0.23      0.46      0.31       370\n",
            "           4       0.00      0.00      0.00       179\n",
            "           5       0.00      0.00      0.00        85\n",
            "           6       0.00      0.00      0.00       277\n",
            "           7       0.00      0.00      0.00        90\n",
            "           8       0.00      0.00      0.00        23\n",
            "           9       0.50      0.01      0.01       363\n",
            "          10       0.00      0.00      0.00         5\n",
            "          11       0.00      0.00      0.00        88\n",
            "          12       0.00      0.00      0.00         1\n",
            "\n",
            "    accuracy                           0.13      1598\n",
            "   macro avg       0.06      0.08      0.03      1598\n",
            "weighted avg       0.17      0.13      0.08      1598\n",
            "\n"
          ]
        }
      ]
    },
    {
      "cell_type": "code",
      "source": [
        "import tensorflow as tf\n",
        "\n",
        "input_sentence1 = \"success his celebrating are They\"\n",
        "\n",
        "sequence1 = token_data1.texts_to_sequences([input_sentence1])\n",
        "\n",
        "padded_sequence1 = tf.keras.preprocessing.sequence.pad_sequences(sequence1, maxlen=33, padding='post')\n",
        "\n",
        "prediction1 = rnn_model1.predict(padded_sequence1)\n",
        "predicted_class1 = tf.argmax(prediction1, axis=1).numpy()\n",
        "\n",
        "sentiment_label1 = inv_label_index1[predicted_class1[0]]\n",
        "\n",
        "print(f\"Predicted sentiment: {sentiment_label1}\")"
      ],
      "metadata": {
        "colab": {
          "base_uri": "https://localhost:8080/"
        },
        "id": "X7UX0jr4JQaJ",
        "outputId": "c1a206ab-5069-494a-d216-a760d1434db7"
      },
      "execution_count": null,
      "outputs": [
        {
          "output_type": "stream",
          "name": "stdout",
          "text": [
            "1/1 [==============================] - 0s 29ms/step\n",
            "Predicted sentiment: sadness\n"
          ]
        }
      ]
    },
    {
      "cell_type": "code",
      "source": [],
      "metadata": {
        "id": "9aIBVpDLJx72"
      },
      "execution_count": null,
      "outputs": []
    }
  ]
}